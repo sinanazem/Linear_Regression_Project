{
 "cells": [
  {
   "cell_type": "markdown",
   "id": "ede1df44",
   "metadata": {},
   "source": [
    "### Context\n",
    "> Scraped from CNBC, the Guardian, and Reuters official websites, the headlines in these datasets reflects the overview of the U.S. economy and stock market every day for the past year to 2 years."
   ]
  },
  {
   "cell_type": "markdown",
   "id": "a684aa3f",
   "metadata": {},
   "source": [
    "### Content\n",
    "- Data scraped from CNBC contains the headlines, last updated date, and the preview text of articles from the end of December 2017 to July 19th, 2020.\n",
    "<br><br>\n",
    "- Data scraped from the Guardian Business contains the headlines and last updated date of articles from the end of December 2017 to July 19th, 2020 since the Guardian Business does not offer preview text.\n",
    "<br><br>\n",
    "- Data scraped from Reuters contains the headlines, last updated date, and the preview text of articles from the end of March 2018 to July 19th, 2020."
   ]
  },
  {
   "cell_type": "markdown",
   "id": "14de549b",
   "metadata": {},
   "source": [
    "### Inspiration\n",
    "> I firmly believe that the sentiment of financial news articles reflects and directs the performance of the U.S. stock market. Therefore, by applying Natural Language Processing (NLP) through these headlines, I can see how the positivity/negativity of the score through each day correlate to the stock market's gains/losses."
   ]
  },
  {
   "cell_type": "code",
   "execution_count": 1,
   "id": "dfdbfee9",
   "metadata": {},
   "outputs": [],
   "source": [
    "import pandas as pd\n",
    "import matplotlib.pyplot as plt\n",
    "import seaborn as sns\n",
    "import numpy as np\n",
    "%matplotlib inline"
   ]
  },
  {
   "cell_type": "code",
   "execution_count": 2,
   "id": "5b1f8193",
   "metadata": {},
   "outputs": [],
   "source": [
    "from pandas_profiling import profile_report"
   ]
  },
  {
   "cell_type": "code",
   "execution_count": 3,
   "id": "f228e1d3",
   "metadata": {},
   "outputs": [],
   "source": [
    "sns.set(style='whitegrid')"
   ]
  },
  {
   "cell_type": "code",
   "execution_count": 4,
   "id": "ff47d47c",
   "metadata": {},
   "outputs": [
    {
     "data": {
      "text/html": [
       "<div>\n",
       "<style scoped>\n",
       "    .dataframe tbody tr th:only-of-type {\n",
       "        vertical-align: middle;\n",
       "    }\n",
       "\n",
       "    .dataframe tbody tr th {\n",
       "        vertical-align: top;\n",
       "    }\n",
       "\n",
       "    .dataframe thead th {\n",
       "        text-align: right;\n",
       "    }\n",
       "</style>\n",
       "<table border=\"1\" class=\"dataframe\">\n",
       "  <thead>\n",
       "    <tr style=\"text-align: right;\">\n",
       "      <th></th>\n",
       "      <th>Headlines</th>\n",
       "      <th>Time</th>\n",
       "      <th>Description</th>\n",
       "    </tr>\n",
       "  </thead>\n",
       "  <tbody>\n",
       "    <tr>\n",
       "      <th>0</th>\n",
       "      <td>Jim Cramer: A better way to invest in the Covi...</td>\n",
       "      <td>7:51  PM ET Fri, 17 July 2020</td>\n",
       "      <td>\"Mad Money\" host Jim Cramer recommended buying...</td>\n",
       "    </tr>\n",
       "    <tr>\n",
       "      <th>1</th>\n",
       "      <td>Cramer's lightning round: I would own Teradyne</td>\n",
       "      <td>7:33  PM ET Fri, 17 July 2020</td>\n",
       "      <td>\"Mad Money\" host Jim Cramer rings the lightnin...</td>\n",
       "    </tr>\n",
       "    <tr>\n",
       "      <th>2</th>\n",
       "      <td>NaN</td>\n",
       "      <td>NaN</td>\n",
       "      <td>NaN</td>\n",
       "    </tr>\n",
       "    <tr>\n",
       "      <th>3</th>\n",
       "      <td>Cramer's week ahead: Big week for earnings, ev...</td>\n",
       "      <td>7:25  PM ET Fri, 17 July 2020</td>\n",
       "      <td>\"We'll pay more for the earnings of the non-Co...</td>\n",
       "    </tr>\n",
       "    <tr>\n",
       "      <th>4</th>\n",
       "      <td>IQ Capital CEO Keith Bliss says tech and healt...</td>\n",
       "      <td>4:24  PM ET Fri, 17 July 2020</td>\n",
       "      <td>Keith Bliss, IQ Capital CEO, joins \"Closing Be...</td>\n",
       "    </tr>\n",
       "    <tr>\n",
       "      <th>...</th>\n",
       "      <td>...</td>\n",
       "      <td>...</td>\n",
       "      <td>...</td>\n",
       "    </tr>\n",
       "    <tr>\n",
       "      <th>3075</th>\n",
       "      <td>Markets lack Christmas cheer</td>\n",
       "      <td>10:15  AM ET Tue, 26 Dec 2017</td>\n",
       "      <td>According to Kensho, here's how markets have f...</td>\n",
       "    </tr>\n",
       "    <tr>\n",
       "      <th>3076</th>\n",
       "      <td>Cramer Remix: The biggest mistake you can make...</td>\n",
       "      <td>11:12  AM ET Thu, 20 Sept 2018</td>\n",
       "      <td>Jim Cramer revealed his top rule when it comes...</td>\n",
       "    </tr>\n",
       "    <tr>\n",
       "      <th>3077</th>\n",
       "      <td>Cramer says owning too many stocks and too lit...</td>\n",
       "      <td>7:07  PM ET Fri, 22 Dec 2017</td>\n",
       "      <td>Jim Cramer broke down why owning fewer stocks ...</td>\n",
       "    </tr>\n",
       "    <tr>\n",
       "      <th>3078</th>\n",
       "      <td>Cramer: I helped investors through the 2010 fl...</td>\n",
       "      <td>7:07  PM ET Fri, 22 Dec 2017</td>\n",
       "      <td>Jim Cramer built on his \"nobody ever made a di...</td>\n",
       "    </tr>\n",
       "    <tr>\n",
       "      <th>3079</th>\n",
       "      <td>Cramer: Never buy a stock all at once — you'll...</td>\n",
       "      <td>6:52  PM ET Fri, 22 Dec 2017</td>\n",
       "      <td>Jim Cramer doubled down on his key investing r...</td>\n",
       "    </tr>\n",
       "  </tbody>\n",
       "</table>\n",
       "<p>3080 rows × 3 columns</p>\n",
       "</div>"
      ],
      "text/plain": [
       "                                              Headlines  \\\n",
       "0     Jim Cramer: A better way to invest in the Covi...   \n",
       "1        Cramer's lightning round: I would own Teradyne   \n",
       "2                                                   NaN   \n",
       "3     Cramer's week ahead: Big week for earnings, ev...   \n",
       "4     IQ Capital CEO Keith Bliss says tech and healt...   \n",
       "...                                                 ...   \n",
       "3075                       Markets lack Christmas cheer   \n",
       "3076  Cramer Remix: The biggest mistake you can make...   \n",
       "3077  Cramer says owning too many stocks and too lit...   \n",
       "3078  Cramer: I helped investors through the 2010 fl...   \n",
       "3079  Cramer: Never buy a stock all at once — you'll...   \n",
       "\n",
       "                                Time  \\\n",
       "0      7:51  PM ET Fri, 17 July 2020   \n",
       "1      7:33  PM ET Fri, 17 July 2020   \n",
       "2                                NaN   \n",
       "3      7:25  PM ET Fri, 17 July 2020   \n",
       "4      4:24  PM ET Fri, 17 July 2020   \n",
       "...                              ...   \n",
       "3075   10:15  AM ET Tue, 26 Dec 2017   \n",
       "3076  11:12  AM ET Thu, 20 Sept 2018   \n",
       "3077    7:07  PM ET Fri, 22 Dec 2017   \n",
       "3078    7:07  PM ET Fri, 22 Dec 2017   \n",
       "3079    6:52  PM ET Fri, 22 Dec 2017   \n",
       "\n",
       "                                            Description  \n",
       "0     \"Mad Money\" host Jim Cramer recommended buying...  \n",
       "1     \"Mad Money\" host Jim Cramer rings the lightnin...  \n",
       "2                                                   NaN  \n",
       "3     \"We'll pay more for the earnings of the non-Co...  \n",
       "4     Keith Bliss, IQ Capital CEO, joins \"Closing Be...  \n",
       "...                                                 ...  \n",
       "3075  According to Kensho, here's how markets have f...  \n",
       "3076  Jim Cramer revealed his top rule when it comes...  \n",
       "3077  Jim Cramer broke down why owning fewer stocks ...  \n",
       "3078  Jim Cramer built on his \"nobody ever made a di...  \n",
       "3079  Jim Cramer doubled down on his key investing r...  \n",
       "\n",
       "[3080 rows x 3 columns]"
      ]
     },
     "execution_count": 4,
     "metadata": {},
     "output_type": "execute_result"
    }
   ],
   "source": [
    "cnbc_df = pd.read_csv('../data/cnbc_headlines.csv')\n",
    "cnbc_df"
   ]
  },
  {
   "cell_type": "code",
   "execution_count": 5,
   "id": "0429e6a0",
   "metadata": {},
   "outputs": [],
   "source": [
    "reuters_df = pd.read_csv('../data/reuters_headlines.csv')"
   ]
  },
  {
   "cell_type": "code",
   "execution_count": 6,
   "id": "13b3f5b4",
   "metadata": {},
   "outputs": [],
   "source": [
    "# concatenate cnbc headlines dataset and reuters headline dataset\n",
    "cnbc_reuters = pd.concat([cnbc_df, reuters_df], axis=0, ignore_index=True)\n",
    "cnbc_reuters.dropna(inplace=True)"
   ]
  },
  {
   "cell_type": "markdown",
   "id": "94a3c097",
   "metadata": {},
   "source": [
    "# TextBlob"
   ]
  },
  {
   "cell_type": "markdown",
   "id": "5bb24944",
   "metadata": {},
   "source": [
    "Subjectivity quantifies the amount of personal opinion and factual information contained in the text. The higher subjectivity means that the text contains personal opinion rather than factual information."
   ]
  },
  {
   "cell_type": "code",
   "execution_count": 7,
   "id": "4c55b3b5",
   "metadata": {},
   "outputs": [],
   "source": [
    "cnbc_reuters.drop_duplicates(inplace=True)"
   ]
  },
  {
   "cell_type": "code",
   "execution_count": 8,
   "id": "889a1d63",
   "metadata": {},
   "outputs": [],
   "source": [
    "from textblob import TextBlob"
   ]
  },
  {
   "cell_type": "code",
   "execution_count": 9,
   "id": "05ad7eb1",
   "metadata": {},
   "outputs": [],
   "source": [
    "# pip install -U textblob"
   ]
  },
  {
   "cell_type": "code",
   "execution_count": 10,
   "id": "3deb92d3",
   "metadata": {},
   "outputs": [],
   "source": [
    "cnbc_reuters.dropna(inplace=True)"
   ]
  },
  {
   "cell_type": "code",
   "execution_count": 11,
   "id": "2af4a192",
   "metadata": {},
   "outputs": [],
   "source": [
    "def sentiment_label(text_df):\n",
    "    \n",
    "    def get_subjectivity(text):\n",
    "        return TextBlob(text).sentiment.subjectivity\n",
    "    \n",
    "    def get_polarity(text):\n",
    "        return TextBlob(text).sentiment.polarity\n",
    "    \n",
    "    text_df['subjectivity'] = text_df['Description'].apply(get_subjectivity)\n",
    "    text_df['polarity'] = text_df['Description'].apply(get_polarity)\n",
    "    \n",
    "    def get_opnion(score):\n",
    "        \n",
    "        if score > 0:\n",
    "            return 'Positive'\n",
    "        elif score < 0:\n",
    "            return 'Negetive'\n",
    "        elif score == 0:\n",
    "            return 'Nutural'\n",
    "    \n",
    "    text_df['sentiment_label'] = text_df['polarity'].apply(get_opnion)\n",
    "    \n",
    "    return text_df\n"
   ]
  },
  {
   "cell_type": "code",
   "execution_count": 12,
   "id": "76eef15f",
   "metadata": {},
   "outputs": [
    {
     "data": {
      "text/html": [
       "<div>\n",
       "<style scoped>\n",
       "    .dataframe tbody tr th:only-of-type {\n",
       "        vertical-align: middle;\n",
       "    }\n",
       "\n",
       "    .dataframe tbody tr th {\n",
       "        vertical-align: top;\n",
       "    }\n",
       "\n",
       "    .dataframe thead th {\n",
       "        text-align: right;\n",
       "    }\n",
       "</style>\n",
       "<table border=\"1\" class=\"dataframe\">\n",
       "  <thead>\n",
       "    <tr style=\"text-align: right;\">\n",
       "      <th></th>\n",
       "      <th>Headlines</th>\n",
       "      <th>Time</th>\n",
       "      <th>Description</th>\n",
       "    </tr>\n",
       "  </thead>\n",
       "  <tbody>\n",
       "    <tr>\n",
       "      <th>11113</th>\n",
       "      <td>Goldman in talks with Amazon to offer small bu...</td>\n",
       "      <td>Feb 03 2020</td>\n",
       "      <td>Goldman Sachs Group Inc  is in advanced talks ...</td>\n",
       "    </tr>\n",
       "    <tr>\n",
       "      <th>34802</th>\n",
       "      <td>China vows to fight back if U.S. escalates tra...</td>\n",
       "      <td>Apr 12 2018</td>\n",
       "      <td>China's commerce ministry said on Thursday tra...</td>\n",
       "    </tr>\n",
       "    <tr>\n",
       "      <th>3898</th>\n",
       "      <td>S&amp;P, Nasdaq close higher on vaccine hopes, imp...</td>\n",
       "      <td>Jul 01 2020</td>\n",
       "      <td>The S&amp;P 500 and Nasdaq indexes closed higher o...</td>\n",
       "    </tr>\n",
       "  </tbody>\n",
       "</table>\n",
       "</div>"
      ],
      "text/plain": [
       "                                               Headlines         Time  \\\n",
       "11113  Goldman in talks with Amazon to offer small bu...  Feb 03 2020   \n",
       "34802  China vows to fight back if U.S. escalates tra...  Apr 12 2018   \n",
       "3898   S&P, Nasdaq close higher on vaccine hopes, imp...  Jul 01 2020   \n",
       "\n",
       "                                             Description  \n",
       "11113  Goldman Sachs Group Inc  is in advanced talks ...  \n",
       "34802  China's commerce ministry said on Thursday tra...  \n",
       "3898   The S&P 500 and Nasdaq indexes closed higher o...  "
      ]
     },
     "execution_count": 12,
     "metadata": {},
     "output_type": "execute_result"
    }
   ],
   "source": [
    "cnbc_reuters.sample(3)"
   ]
  },
  {
   "cell_type": "code",
   "execution_count": 13,
   "id": "ffd6da3c",
   "metadata": {},
   "outputs": [],
   "source": [
    "cnbc_reuters = sentiment_label(cnbc_reuters)"
   ]
  },
  {
   "cell_type": "code",
   "execution_count": 14,
   "id": "9b5e8d13",
   "metadata": {},
   "outputs": [
    {
     "data": {
      "text/html": [
       "<div>\n",
       "<style scoped>\n",
       "    .dataframe tbody tr th:only-of-type {\n",
       "        vertical-align: middle;\n",
       "    }\n",
       "\n",
       "    .dataframe tbody tr th {\n",
       "        vertical-align: top;\n",
       "    }\n",
       "\n",
       "    .dataframe thead th {\n",
       "        text-align: right;\n",
       "    }\n",
       "</style>\n",
       "<table border=\"1\" class=\"dataframe\">\n",
       "  <thead>\n",
       "    <tr style=\"text-align: right;\">\n",
       "      <th></th>\n",
       "      <th>Headlines</th>\n",
       "      <th>Time</th>\n",
       "      <th>Description</th>\n",
       "      <th>subjectivity</th>\n",
       "      <th>polarity</th>\n",
       "      <th>sentiment_label</th>\n",
       "    </tr>\n",
       "  </thead>\n",
       "  <tbody>\n",
       "    <tr>\n",
       "      <th>26164</th>\n",
       "      <td>Massages and free fish help east Europe tackle...</td>\n",
       "      <td>Dec 21 2018</td>\n",
       "      <td>What's does a company do when it doesn't have ...</td>\n",
       "      <td>0.650000</td>\n",
       "      <td>0.200000</td>\n",
       "      <td>Positive</td>\n",
       "    </tr>\n",
       "    <tr>\n",
       "      <th>8756</th>\n",
       "      <td>Sri Lanka imposes curfew as South Asia steps u...</td>\n",
       "      <td>Mar 20 2020</td>\n",
       "      <td>Sri Lanka imposed a nationwide weekend curfew ...</td>\n",
       "      <td>0.000000</td>\n",
       "      <td>0.000000</td>\n",
       "      <td>Nutural</td>\n",
       "    </tr>\n",
       "    <tr>\n",
       "      <th>23121</th>\n",
       "      <td>Facebook product chief Cox to exit as focus sh...</td>\n",
       "      <td>Mar 14 2019</td>\n",
       "      <td>Facebook Inc's chief product officer and one o...</td>\n",
       "      <td>0.066667</td>\n",
       "      <td>0.033333</td>\n",
       "      <td>Positive</td>\n",
       "    </tr>\n",
       "  </tbody>\n",
       "</table>\n",
       "</div>"
      ],
      "text/plain": [
       "                                               Headlines         Time  \\\n",
       "26164  Massages and free fish help east Europe tackle...  Dec 21 2018   \n",
       "8756   Sri Lanka imposes curfew as South Asia steps u...  Mar 20 2020   \n",
       "23121  Facebook product chief Cox to exit as focus sh...  Mar 14 2019   \n",
       "\n",
       "                                             Description  subjectivity  \\\n",
       "26164  What's does a company do when it doesn't have ...      0.650000   \n",
       "8756   Sri Lanka imposed a nationwide weekend curfew ...      0.000000   \n",
       "23121  Facebook Inc's chief product officer and one o...      0.066667   \n",
       "\n",
       "       polarity sentiment_label  \n",
       "26164  0.200000        Positive  \n",
       "8756   0.000000         Nutural  \n",
       "23121  0.033333        Positive  "
      ]
     },
     "execution_count": 14,
     "metadata": {},
     "output_type": "execute_result"
    }
   ],
   "source": [
    "cnbc_reuters.sample(3)"
   ]
  },
  {
   "cell_type": "code",
   "execution_count": 15,
   "id": "841e2685",
   "metadata": {},
   "outputs": [
    {
     "data": {
      "image/png": "[encoded data removed]",
      "text/plain": [
       "<Figure size 500x500 with 1 Axes>"
      ]
     },
     "metadata": {},
     "output_type": "display_data"
    }
   ],
   "source": [
    "sns.catplot(data=cnbc_reuters, x='sentiment_label', kind='count')\n",
    "plt.show()"
   ]
  },
  {
   "cell_type": "code",
   "execution_count": 16,
   "id": "74920a1a",
   "metadata": {},
   "outputs": [
    {
     "data": {
      "image/png": "[encoded data removed]",
      "text/plain": [
       "<Figure size 1500x500 with 3 Axes>"
      ]
     },
     "metadata": {},
     "output_type": "display_data"
    }
   ],
   "source": [
    "sns.displot(data=cnbc_reuters, x='subjectivity', col='sentiment_label', kde=True);"
   ]
  },
  {
   "cell_type": "code",
   "execution_count": 17,
   "id": "af3ab433",
   "metadata": {},
   "outputs": [
    {
     "data": {
      "text/plain": [
       "Positive    0.499958\n",
       "Nutural     0.256906\n",
       "Negetive    0.243137\n",
       "Name: sentiment_label, dtype: float64"
      ]
     },
     "execution_count": 17,
     "metadata": {},
     "output_type": "execute_result"
    }
   ],
   "source": [
    "cnbc_reuters['sentiment_label'].value_counts(normalize=True)"
   ]
  },
  {
   "cell_type": "code",
   "execution_count": 18,
   "id": "2c79f8dc",
   "metadata": {},
   "outputs": [],
   "source": [
    "from nltk.tokenize import word_tokenize\n",
    "from nltk.corpus import stopwords\n",
    "from nltk.stem import WordNetLemmatizer\n",
    "\n",
    "def text_preprocessing(text_data):\n",
    "    \n",
    "    # Lowercace\n",
    "    text_data = text_data.lower()\n",
    "    \n",
    "    # Tokenize and Non Alphbatical Character\n",
    "    text_data = [word for word in word_tokenize(text_data) if word.isalpha()]\n",
    "    \n",
    "    # Remove Stopwords\n",
    "    text_data = [word for word in text_data if word not in stopwords.words('english')]\n",
    "    \n",
    "    # Lemmatizing Words\n",
    "    lemmatizer = WordNetLemmatizer()\n",
    "    text_data = [lemmatizer.lemmatize(word) for word in text_data]\n",
    "    \n",
    "    # Join to String\n",
    "    text_data = ' '.join(text_data)\n",
    "    \n",
    "    return text_data\n",
    "    "
   ]
  },
  {
   "cell_type": "code",
   "execution_count": 19,
   "id": "63b842be",
   "metadata": {},
   "outputs": [],
   "source": [
    "cnbc_reuters['Description'] = cnbc_reuters['Description'].apply(text_preprocessing)"
   ]
  },
  {
   "cell_type": "code",
   "execution_count": 20,
   "id": "74e98869",
   "metadata": {},
   "outputs": [],
   "source": [
    "from sklearn.feature_extraction.text import TfidfVectorizer, CountVectorizer\n",
    "from sklearn.naive_bayes import MultinomialNB\n",
    "from sklearn.model_selection import train_test_split\n",
    "from sklearn.metrics import classification_report, confusion_matrix"
   ]
  },
  {
   "cell_type": "code",
   "execution_count": 21,
   "id": "10c35035",
   "metadata": {},
   "outputs": [],
   "source": [
    "vectorizer = TfidfVectorizer()"
   ]
  },
  {
   "cell_type": "code",
   "execution_count": 22,
   "id": "112c13d0",
   "metadata": {},
   "outputs": [],
   "source": [
    "X = vectorizer.fit_transform(cnbc_reuters['Description']).toarray()\n",
    "y = cnbc_reuters['sentiment_label']"
   ]
  },
  {
   "cell_type": "code",
   "execution_count": 23,
   "id": "cb4ea796",
   "metadata": {},
   "outputs": [],
   "source": [
    "X_train, X_test, y_train, y_test = train_test_split(X, y, test_size=0.3, stratify=y, random_state=42)"
   ]
  },
  {
   "cell_type": "code",
   "execution_count": null,
   "id": "cc925498",
   "metadata": {},
   "outputs": [],
   "source": []
  },
  {
   "cell_type": "code",
   "execution_count": 24,
   "id": "0ddd3938",
   "metadata": {},
   "outputs": [],
   "source": [
    "from sklearn.naive_bayes import MultinomialNB\n",
    "from sklearn.model_selection import train_test_split"
   ]
  },
  {
   "cell_type": "code",
   "execution_count": 25,
   "id": "5cb555f4",
   "metadata": {},
   "outputs": [],
   "source": [
    "model = MultinomialNB()"
   ]
  },
  {
   "cell_type": "code",
   "execution_count": 26,
   "id": "a14dce4d",
   "metadata": {},
   "outputs": [
    {
     "data": {
      "text/plain": [
       "MultinomialNB()"
      ]
     },
     "execution_count": 26,
     "metadata": {},
     "output_type": "execute_result"
    }
   ],
   "source": [
    "model.fit(X_train, y_train)"
   ]
  },
  {
   "cell_type": "code",
   "execution_count": 27,
   "id": "6b4fe1be",
   "metadata": {},
   "outputs": [],
   "source": [
    "y_pred = model.predict(X_test)"
   ]
  },
  {
   "cell_type": "code",
   "execution_count": 28,
   "id": "bc187b4c",
   "metadata": {},
   "outputs": [
    {
     "name": "stdout",
     "output_type": "stream",
     "text": [
      "              precision    recall  f1-score   support\n",
      "\n",
      "    Negetive       0.84      0.10      0.18      2591\n",
      "     Nutural       0.82      0.09      0.16      2737\n",
      "    Positive       0.53      0.99      0.69      5327\n",
      "\n",
      "    accuracy                           0.54     10655\n",
      "   macro avg       0.73      0.39      0.34     10655\n",
      "weighted avg       0.68      0.54      0.43     10655\n",
      "\n"
     ]
    }
   ],
   "source": [
    "print(classification_report(y_test, y_pred))"
   ]
  },
  {
   "cell_type": "code",
   "execution_count": 29,
   "id": "1fc41f6c",
   "metadata": {},
   "outputs": [
    {
     "data": {
      "text/plain": [
       "<AxesSubplot:>"
      ]
     },
     "execution_count": 29,
     "metadata": {},
     "output_type": "execute_result"
    },
    {
     "data": {
      "image/png": "[encoded data removed]",
      "text/plain": [
       "<Figure size 640x480 with 2 Axes>"
      ]
     },
     "metadata": {},
     "output_type": "display_data"
    }
   ],
   "source": [
    "sns.heatmap(confusion_matrix(y_test, y_pred), annot=True, cmap='coolwarm')"
   ]
  },
  {
   "cell_type": "code",
   "execution_count": 30,
   "id": "75448964",
   "metadata": {},
   "outputs": [],
   "source": [
    "from sklearn.svm import LinearSVC"
   ]
  },
  {
   "cell_type": "code",
   "execution_count": 31,
   "id": "44ec7750",
   "metadata": {},
   "outputs": [],
   "source": [
    "clf = LinearSVC()"
   ]
  },
  {
   "cell_type": "code",
   "execution_count": 32,
   "id": "e348def5",
   "metadata": {},
   "outputs": [
    {
     "data": {
      "text/plain": [
       "LinearSVC()"
      ]
     },
     "execution_count": 32,
     "metadata": {},
     "output_type": "execute_result"
    }
   ],
   "source": [
    "clf.fit(X_train, y_train)"
   ]
  },
  {
   "cell_type": "code",
   "execution_count": 33,
   "id": "0a39b104",
   "metadata": {},
   "outputs": [],
   "source": [
    "y_pred = clf.predict(X_test)"
   ]
  },
  {
   "cell_type": "code",
   "execution_count": 34,
   "id": "bd049b56",
   "metadata": {},
   "outputs": [
    {
     "name": "stdout",
     "output_type": "stream",
     "text": [
      "              precision    recall  f1-score   support\n",
      "\n",
      "    Negetive       0.79      0.70      0.74      2591\n",
      "     Nutural       0.76      0.83      0.79      2737\n",
      "    Positive       0.85      0.86      0.86      5327\n",
      "\n",
      "    accuracy                           0.81     10655\n",
      "   macro avg       0.80      0.80      0.80     10655\n",
      "weighted avg       0.81      0.81      0.81     10655\n",
      "\n"
     ]
    }
   ],
   "source": [
    "print(classification_report(y_test, y_pred))"
   ]
  },
  {
   "cell_type": "code",
   "execution_count": 35,
   "id": "ddb999ed",
   "metadata": {},
   "outputs": [
    {
     "data": {
      "text/plain": [
       "<AxesSubplot:>"
      ]
     },
     "execution_count": 35,
     "metadata": {},
     "output_type": "execute_result"
    },
    {
     "data": {
      "image/png": "[encoded data removed]",
      "text/plain": [
       "<Figure size 640x480 with 2 Axes>"
      ]
     },
     "metadata": {},
     "output_type": "display_data"
    }
   ],
   "source": [
    "sns.heatmap(confusion_matrix(y_test, y_pred), annot=True, cmap='coolwarm')"
   ]
  },
  {
   "cell_type": "code",
   "execution_count": 36,
   "id": "90e64216",
   "metadata": {},
   "outputs": [],
   "source": [
    "import nltk"
   ]
  },
  {
   "cell_type": "code",
   "execution_count": 37,
   "id": "8a1fac9c",
   "metadata": {},
   "outputs": [],
   "source": [
    "#nltk.download('vader_lexicon')\n",
    "from nltk.sentiment.vader import SentimentIntensityAnalyzer\n",
    "\n",
    "\n",
    "# create sentiment intensity analyzer object\n",
    "SIA = SentimentIntensityAnalyzer()"
   ]
  },
  {
   "cell_type": "code",
   "execution_count": 38,
   "id": "9388cb84",
   "metadata": {},
   "outputs": [],
   "source": [
    "# fuction to  decide sentiment as positive, negative and neutral\n",
    "\n",
    "def mapper(data):\n",
    "    if data > 0:\n",
    "        return \"Positive\"\n",
    "    elif data < 0:\n",
    "        return \"Negative\"\n",
    "    else:\n",
    "        return \"Neutral\"\n",
    "\n",
    "def sentiment_analysis(df, colm_name):\n",
    "    \n",
    "    # assigning polarity scores for description column\n",
    "    df['polarity_scores'] = df[colm_name].apply(lambda w: SIA.polarity_scores(w))\n",
    "    \n",
    "    # picking only compound score(combined score)\n",
    "    df['compound_score'] = df['polarity_scores'].apply(lambda x: x['compound'])\n",
    "    \n",
    "    # mapping the compound score to positive, negative or neutral\n",
    "    df['ds_score'] = df['compound_score'].apply(mapper)\n",
    "    \n",
    "    df.drop(['polarity_scores', 'compound_score'], axis=1, inplace=True)\n",
    "    \n",
    "    return df"
   ]
  },
  {
   "cell_type": "code",
   "execution_count": 39,
   "id": "b25ce2ef",
   "metadata": {},
   "outputs": [],
   "source": [
    "cnbc_df_new = sentiment_analysis(cnbc_reuters, 'Description')"
   ]
  },
  {
   "cell_type": "code",
   "execution_count": 49,
   "id": "d1bc2302",
   "metadata": {},
   "outputs": [],
   "source": [
    "vectorizer2 = TfidfVectorizer(norm='l2')\n",
    "X = cnbc_df_new['Description']\n",
    "y = cnbc_df_new['ds_score']"
   ]
  },
  {
   "cell_type": "code",
   "execution_count": 50,
   "id": "e4fe6096",
   "metadata": {},
   "outputs": [],
   "source": [
    "X_train, X_test, y_train, y_test = train_test_split(X, y, test_size=0.3, stratify=y, random_state=42)"
   ]
  },
  {
   "cell_type": "code",
   "execution_count": 51,
   "id": "c93ddd9a",
   "metadata": {},
   "outputs": [],
   "source": [
    "from sklearn.pipeline import Pipeline"
   ]
  },
  {
   "cell_type": "code",
   "execution_count": 52,
   "id": "54d6550d",
   "metadata": {},
   "outputs": [],
   "source": [
    "pipline_model = Pipeline(steps=[('tfidf', TfidfVectorizer()), ('clf', LinearSVC())])"
   ]
  },
  {
   "cell_type": "code",
   "execution_count": 53,
   "id": "6fe13b58",
   "metadata": {},
   "outputs": [
    {
     "data": {
      "text/plain": [
       "Pipeline(steps=[('tfidf', TfidfVectorizer()), ('clf', LinearSVC())])"
      ]
     },
     "execution_count": 53,
     "metadata": {},
     "output_type": "execute_result"
    }
   ],
   "source": [
    "pipline_model.fit(X_train, y_train)"
   ]
  },
  {
   "cell_type": "code",
   "execution_count": 54,
   "id": "73b026af",
   "metadata": {},
   "outputs": [],
   "source": [
    "y_pred = pipline_model.predict(X_test)"
   ]
  },
  {
   "cell_type": "code",
   "execution_count": 55,
   "id": "8a57b387",
   "metadata": {},
   "outputs": [
    {
     "name": "stdout",
     "output_type": "stream",
     "text": [
      "              precision    recall  f1-score   support\n",
      "\n",
      "    Negative       0.88      0.87      0.87      3916\n",
      "     Neutral       0.79      0.63      0.70      1446\n",
      "    Positive       0.87      0.92      0.89      5293\n",
      "\n",
      "    accuracy                           0.86     10655\n",
      "   macro avg       0.84      0.81      0.82     10655\n",
      "weighted avg       0.86      0.86      0.86     10655\n",
      "\n"
     ]
    }
   ],
   "source": [
    "print(classification_report(y_test, y_pred))"
   ]
  },
  {
   "cell_type": "code",
   "execution_count": 56,
   "id": "9b71aaba",
   "metadata": {},
   "outputs": [
    {
     "data": {
      "text/plain": [
       "<AxesSubplot:>"
      ]
     },
     "execution_count": 56,
     "metadata": {},
     "output_type": "execute_result"
    },
    {
     "data": {
      "image/png": "[encoded data removed]",
      "text/plain": [
       "<Figure size 640x480 with 2 Axes>"
      ]
     },
     "metadata": {},
     "output_type": "display_data"
    }
   ],
   "source": [
    "sns.heatmap(confusion_matrix(y_test, y_pred), annot=True, cmap='coolwarm')"
   ]
  },
  {
   "cell_type": "code",
   "execution_count": 58,
   "id": "ad30132e",
   "metadata": {},
   "outputs": [
    {
     "data": {
      "text/plain": [
       "0.8615673392773345"
      ]
     },
     "execution_count": 58,
     "metadata": {},
     "output_type": "execute_result"
    }
   ],
   "source": [
    "pipline_model.score(X_test, y_test)"
   ]
  },
  {
   "cell_type": "code",
   "execution_count": 59,
   "id": "ba93b799",
   "metadata": {},
   "outputs": [
    {
     "data": {
      "text/plain": [
       "0.9825824617860016"
      ]
     },
     "execution_count": 59,
     "metadata": {},
     "output_type": "execute_result"
    }
   ],
   "source": [
    "pipline_model.score(X_train, y_train)"
   ]
  },
  {
   "cell_type": "code",
   "execution_count": null,
   "id": "684bbdb4",
   "metadata": {},
   "outputs": [],
   "source": []
  }
 ],
 "metadata": {
  "kernelspec": {
   "display_name": "Python 3 (ipykernel)",
   "language": "python",
   "name": "python3"
  },
  "language_info": {
   "codemirror_mode": {
    "name": "ipython",
    "version": 3
   },
   "file_extension": ".py",
   "mimetype": "text/x-python",
   "name": "python",
   "nbconvert_exporter": "python",
   "pygments_lexer": "ipython3",
   "version": "3.9.13"
  }
 },
 "nbformat": 4,
 "nbformat_minor": 5
}
