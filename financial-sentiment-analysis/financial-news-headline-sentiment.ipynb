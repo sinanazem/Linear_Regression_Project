{
 "cells": [
  {
   "cell_type": "markdown",
   "metadata": {
    "id": "lC6R4QaV0Ci0"
   },
   "source": [
    "# Sentiment Analysis of Financial News Using NLTK"
   ]
  },
  {
   "cell_type": "markdown",
   "metadata": {
    "id": "Iq7zwt8VJh1Z"
   },
   "source": [
    "Data is scraped from CNBC, the Guardian, and Reuters official websites, the headlines in these datasets reflects the overview of the U.S. economy and stock market every day for the past year to 2 years.\n",
    "\n",
    "\n",
    "Generally, the sentiment of financial news articles reflects and directs the performance of the U.S. stock market. Therefore, by applying Natural Language Processing (NLP) through these headlines, we can see how the positivity/negativity of the score through each day correlate to the stock market's gains/losses.\n"
   ]
  },
  {
   "cell_type": "markdown",
   "metadata": {
    "id": "Y6-xhkpm0MqU"
   },
   "source": [
    "# About Dataset\n",
    "\n",
    "This dataset contains 3 csv file\n",
    "\n",
    "cnbc headline   (3080, 3)\n",
    "\n",
    "gaurdian headline   (17800, 2)\n",
    "\n",
    "reuters headline   (32770, 3)\n",
    "\n",
    "Dataset is taken from Kaggle - https://www.kaggle.com/datasets/notlucasp/financial-news-headlines"
   ]
  },
  {
   "cell_type": "markdown",
   "metadata": {
    "id": "sZRF0xat134_"
   },
   "source": [
    "# Columns Provided in the Dataset\n",
    "\n",
    "Cnbc headlines\n",
    "1. Time\n",
    "2. Headlines\n",
    "3. Description\n",
    "\n",
    "Guardian headline\n",
    "1. Time\n",
    "2. Headline\n",
    "\n",
    "Reuters headline\n",
    "1. Time\n",
    "2. Headline\n",
    "3. Description\n"
   ]
  },
  {
   "cell_type": "markdown",
   "metadata": {
    "id": "5Q1HBH6RfLoZ"
   },
   "source": [
    "# What is NLTK ?\n",
    "\n",
    "The Natural Language Toolkit (NLTK) is a platform used for building Python programs that work with human language data for applying in statistical natural language processing (NLP).\n",
    "\n",
    "It contains text processing libraries for tokenization, parsing, classification, stemming, tagging and semantic reasoning.\n",
    "\n",
    "\n",
    "https://medium.com/@ODSC/intro-to-language-processing-with-the-nltk-59aa26b9d056\n",
    "\n",
    "\n",
    "\n",
    "# What is sentiment analysis ?\n",
    "\n",
    "Sentiment analysis is the process of detecting positive or negative sentiment in text. It’s often used by businesses to detect sentiment in social data, gauge brand reputation, and understand customers.\n",
    "\n",
    "\n",
    "\n",
    "https://monkeylearn.com/sentiment-analysis/"
   ]
  },
  {
   "cell_type": "code",
   "execution_count": 1,
   "metadata": {
    "execution": {
     "iopub.execute_input": "2022-05-26T10:37:51.604648Z",
     "iopub.status.busy": "2022-05-26T10:37:51.603990Z",
     "iopub.status.idle": "2022-05-26T10:37:53.603160Z",
     "shell.execute_reply": "2022-05-26T10:37:53.601905Z",
     "shell.execute_reply.started": "2022-05-26T10:37:51.604552Z"
    },
    "id": "pE3JktaFgX_s",
    "outputId": "0324e30c-7e6d-47f7-b1e5-2b64046ab02c"
   },
   "outputs": [
    {
     "name": "stderr",
     "output_type": "stream",
     "text": [
      "[nltk_data] Downloading package stopwords to\n",
      "[nltk_data]     C:\\Users\\user\\AppData\\Roaming\\nltk_data...\n",
      "[nltk_data]   Package stopwords is already up-to-date!\n"
     ]
    }
   ],
   "source": [
    "# Import all the required libraries \n",
    "\n",
    "import numpy as np\n",
    "import pandas as pd\n",
    "import nltk\n",
    "import re\n",
    "from nltk.stem import PorterStemmer, WordNetLemmatizer\n",
    "from nltk.tokenize import word_tokenize\n",
    "import matplotlib.pyplot as plt\n",
    "import seaborn as sns\n",
    "%matplotlib inline\n",
    "\n",
    "#import stopwords and text processing libraries\n",
    "nltk.download('stopwords')\n",
    "from nltk.corpus import stopwords\n",
    "stopwords = stopwords.words('english')\n"
   ]
  },
  {
   "cell_type": "code",
   "execution_count": 2,
   "metadata": {
    "execution": {
     "iopub.execute_input": "2022-05-26T10:37:53.605357Z",
     "iopub.status.busy": "2022-05-26T10:37:53.605008Z",
     "iopub.status.idle": "2022-05-26T10:37:53.609355Z",
     "shell.execute_reply": "2022-05-26T10:37:53.608418Z",
     "shell.execute_reply.started": "2022-05-26T10:37:53.605326Z"
    },
    "id": "B1qtW2W7gX67"
   },
   "outputs": [],
   "source": [
    "#import machine learning libraries\n",
    "import sklearn\n",
    "\n"
   ]
  },
  {
   "cell_type": "markdown",
   "metadata": {
    "id": "ijgTOXVu4QvL"
   },
   "source": [
    "# Basic EDA on cnbc_headlines dataset"
   ]
  },
  {
   "cell_type": "code",
   "execution_count": 3,
   "metadata": {
    "execution": {
     "iopub.execute_input": "2022-05-26T10:37:53.611163Z",
     "iopub.status.busy": "2022-05-26T10:37:53.610666Z",
     "iopub.status.idle": "2022-05-26T10:37:53.668433Z",
     "shell.execute_reply": "2022-05-26T10:37:53.667620Z",
     "shell.execute_reply.started": "2022-05-26T10:37:53.611123Z"
    },
    "id": "EkHTI2fsgX1x"
   },
   "outputs": [
    {
     "ename": "FileNotFoundError",
     "evalue": "[Errno 2] No such file or directory: '../input/financial-news-headlines/cnbc_headlines.csv'",
     "output_type": "error",
     "traceback": [
      "\u001b[1;31m---------------------------------------------------------------------------\u001b[0m",
      "\u001b[1;31mFileNotFoundError\u001b[0m                         Traceback (most recent call last)",
      "\u001b[1;32m~\\AppData\\Local\\Temp\\ipykernel_12028\\2828310357.py\u001b[0m in \u001b[0;36m<module>\u001b[1;34m\u001b[0m\n\u001b[0;32m      1\u001b[0m \u001b[1;31m# Read csv file of cnbc headlines using pandas\u001b[0m\u001b[1;33m\u001b[0m\u001b[1;33m\u001b[0m\u001b[0m\n\u001b[0;32m      2\u001b[0m \u001b[1;33m\u001b[0m\u001b[0m\n\u001b[1;32m----> 3\u001b[1;33m \u001b[0mcnbc\u001b[0m \u001b[1;33m=\u001b[0m \u001b[0mpd\u001b[0m\u001b[1;33m.\u001b[0m\u001b[0mread_csv\u001b[0m\u001b[1;33m(\u001b[0m\u001b[1;34m'../input/financial-news-headlines/cnbc_headlines.csv'\u001b[0m\u001b[1;33m)\u001b[0m\u001b[1;33m\u001b[0m\u001b[1;33m\u001b[0m\u001b[0m\n\u001b[0m",
      "\u001b[1;32m~\\anaconda3\\lib\\site-packages\\pandas\\util\\_decorators.py\u001b[0m in \u001b[0;36mwrapper\u001b[1;34m(*args, **kwargs)\u001b[0m\n\u001b[0;32m    309\u001b[0m                     \u001b[0mstacklevel\u001b[0m\u001b[1;33m=\u001b[0m\u001b[0mstacklevel\u001b[0m\u001b[1;33m,\u001b[0m\u001b[1;33m\u001b[0m\u001b[1;33m\u001b[0m\u001b[0m\n\u001b[0;32m    310\u001b[0m                 )\n\u001b[1;32m--> 311\u001b[1;33m             \u001b[1;32mreturn\u001b[0m \u001b[0mfunc\u001b[0m\u001b[1;33m(\u001b[0m\u001b[1;33m*\u001b[0m\u001b[0margs\u001b[0m\u001b[1;33m,\u001b[0m \u001b[1;33m**\u001b[0m\u001b[0mkwargs\u001b[0m\u001b[1;33m)\u001b[0m\u001b[1;33m\u001b[0m\u001b[1;33m\u001b[0m\u001b[0m\n\u001b[0m\u001b[0;32m    312\u001b[0m \u001b[1;33m\u001b[0m\u001b[0m\n\u001b[0;32m    313\u001b[0m         \u001b[1;32mreturn\u001b[0m \u001b[0mwrapper\u001b[0m\u001b[1;33m\u001b[0m\u001b[1;33m\u001b[0m\u001b[0m\n",
      "\u001b[1;32m~\\anaconda3\\lib\\site-packages\\pandas\\io\\parsers\\readers.py\u001b[0m in \u001b[0;36mread_csv\u001b[1;34m(filepath_or_buffer, sep, delimiter, header, names, index_col, usecols, squeeze, prefix, mangle_dupe_cols, dtype, engine, converters, true_values, false_values, skipinitialspace, skiprows, skipfooter, nrows, na_values, keep_default_na, na_filter, verbose, skip_blank_lines, parse_dates, infer_datetime_format, keep_date_col, date_parser, dayfirst, cache_dates, iterator, chunksize, compression, thousands, decimal, lineterminator, quotechar, quoting, doublequote, escapechar, comment, encoding, encoding_errors, dialect, error_bad_lines, warn_bad_lines, on_bad_lines, delim_whitespace, low_memory, memory_map, float_precision, storage_options)\u001b[0m\n\u001b[0;32m    676\u001b[0m     \u001b[0mkwds\u001b[0m\u001b[1;33m.\u001b[0m\u001b[0mupdate\u001b[0m\u001b[1;33m(\u001b[0m\u001b[0mkwds_defaults\u001b[0m\u001b[1;33m)\u001b[0m\u001b[1;33m\u001b[0m\u001b[1;33m\u001b[0m\u001b[0m\n\u001b[0;32m    677\u001b[0m \u001b[1;33m\u001b[0m\u001b[0m\n\u001b[1;32m--> 678\u001b[1;33m     \u001b[1;32mreturn\u001b[0m \u001b[0m_read\u001b[0m\u001b[1;33m(\u001b[0m\u001b[0mfilepath_or_buffer\u001b[0m\u001b[1;33m,\u001b[0m \u001b[0mkwds\u001b[0m\u001b[1;33m)\u001b[0m\u001b[1;33m\u001b[0m\u001b[1;33m\u001b[0m\u001b[0m\n\u001b[0m\u001b[0;32m    679\u001b[0m \u001b[1;33m\u001b[0m\u001b[0m\n\u001b[0;32m    680\u001b[0m \u001b[1;33m\u001b[0m\u001b[0m\n",
      "\u001b[1;32m~\\anaconda3\\lib\\site-packages\\pandas\\io\\parsers\\readers.py\u001b[0m in \u001b[0;36m_read\u001b[1;34m(filepath_or_buffer, kwds)\u001b[0m\n\u001b[0;32m    573\u001b[0m \u001b[1;33m\u001b[0m\u001b[0m\n\u001b[0;32m    574\u001b[0m     \u001b[1;31m# Create the parser.\u001b[0m\u001b[1;33m\u001b[0m\u001b[1;33m\u001b[0m\u001b[0m\n\u001b[1;32m--> 575\u001b[1;33m     \u001b[0mparser\u001b[0m \u001b[1;33m=\u001b[0m \u001b[0mTextFileReader\u001b[0m\u001b[1;33m(\u001b[0m\u001b[0mfilepath_or_buffer\u001b[0m\u001b[1;33m,\u001b[0m \u001b[1;33m**\u001b[0m\u001b[0mkwds\u001b[0m\u001b[1;33m)\u001b[0m\u001b[1;33m\u001b[0m\u001b[1;33m\u001b[0m\u001b[0m\n\u001b[0m\u001b[0;32m    576\u001b[0m \u001b[1;33m\u001b[0m\u001b[0m\n\u001b[0;32m    577\u001b[0m     \u001b[1;32mif\u001b[0m \u001b[0mchunksize\u001b[0m \u001b[1;32mor\u001b[0m \u001b[0miterator\u001b[0m\u001b[1;33m:\u001b[0m\u001b[1;33m\u001b[0m\u001b[1;33m\u001b[0m\u001b[0m\n",
      "\u001b[1;32m~\\anaconda3\\lib\\site-packages\\pandas\\io\\parsers\\readers.py\u001b[0m in \u001b[0;36m__init__\u001b[1;34m(self, f, engine, **kwds)\u001b[0m\n\u001b[0;32m    930\u001b[0m \u001b[1;33m\u001b[0m\u001b[0m\n\u001b[0;32m    931\u001b[0m         \u001b[0mself\u001b[0m\u001b[1;33m.\u001b[0m\u001b[0mhandles\u001b[0m\u001b[1;33m:\u001b[0m \u001b[0mIOHandles\u001b[0m \u001b[1;33m|\u001b[0m \u001b[1;32mNone\u001b[0m \u001b[1;33m=\u001b[0m \u001b[1;32mNone\u001b[0m\u001b[1;33m\u001b[0m\u001b[1;33m\u001b[0m\u001b[0m\n\u001b[1;32m--> 932\u001b[1;33m         \u001b[0mself\u001b[0m\u001b[1;33m.\u001b[0m\u001b[0m_engine\u001b[0m \u001b[1;33m=\u001b[0m \u001b[0mself\u001b[0m\u001b[1;33m.\u001b[0m\u001b[0m_make_engine\u001b[0m\u001b[1;33m(\u001b[0m\u001b[0mf\u001b[0m\u001b[1;33m,\u001b[0m \u001b[0mself\u001b[0m\u001b[1;33m.\u001b[0m\u001b[0mengine\u001b[0m\u001b[1;33m)\u001b[0m\u001b[1;33m\u001b[0m\u001b[1;33m\u001b[0m\u001b[0m\n\u001b[0m\u001b[0;32m    933\u001b[0m \u001b[1;33m\u001b[0m\u001b[0m\n\u001b[0;32m    934\u001b[0m     \u001b[1;32mdef\u001b[0m \u001b[0mclose\u001b[0m\u001b[1;33m(\u001b[0m\u001b[0mself\u001b[0m\u001b[1;33m)\u001b[0m\u001b[1;33m:\u001b[0m\u001b[1;33m\u001b[0m\u001b[1;33m\u001b[0m\u001b[0m\n",
      "\u001b[1;32m~\\anaconda3\\lib\\site-packages\\pandas\\io\\parsers\\readers.py\u001b[0m in \u001b[0;36m_make_engine\u001b[1;34m(self, f, engine)\u001b[0m\n\u001b[0;32m   1214\u001b[0m             \u001b[1;31m# \"Union[str, PathLike[str], ReadCsvBuffer[bytes], ReadCsvBuffer[str]]\"\u001b[0m\u001b[1;33m\u001b[0m\u001b[1;33m\u001b[0m\u001b[0m\n\u001b[0;32m   1215\u001b[0m             \u001b[1;31m# , \"str\", \"bool\", \"Any\", \"Any\", \"Any\", \"Any\", \"Any\"\u001b[0m\u001b[1;33m\u001b[0m\u001b[1;33m\u001b[0m\u001b[0m\n\u001b[1;32m-> 1216\u001b[1;33m             self.handles = get_handle(  # type: ignore[call-overload]\n\u001b[0m\u001b[0;32m   1217\u001b[0m                 \u001b[0mf\u001b[0m\u001b[1;33m,\u001b[0m\u001b[1;33m\u001b[0m\u001b[1;33m\u001b[0m\u001b[0m\n\u001b[0;32m   1218\u001b[0m                 \u001b[0mmode\u001b[0m\u001b[1;33m,\u001b[0m\u001b[1;33m\u001b[0m\u001b[1;33m\u001b[0m\u001b[0m\n",
      "\u001b[1;32m~\\anaconda3\\lib\\site-packages\\pandas\\io\\common.py\u001b[0m in \u001b[0;36mget_handle\u001b[1;34m(path_or_buf, mode, encoding, compression, memory_map, is_text, errors, storage_options)\u001b[0m\n\u001b[0;32m    784\u001b[0m         \u001b[1;32mif\u001b[0m \u001b[0mioargs\u001b[0m\u001b[1;33m.\u001b[0m\u001b[0mencoding\u001b[0m \u001b[1;32mand\u001b[0m \u001b[1;34m\"b\"\u001b[0m \u001b[1;32mnot\u001b[0m \u001b[1;32min\u001b[0m \u001b[0mioargs\u001b[0m\u001b[1;33m.\u001b[0m\u001b[0mmode\u001b[0m\u001b[1;33m:\u001b[0m\u001b[1;33m\u001b[0m\u001b[1;33m\u001b[0m\u001b[0m\n\u001b[0;32m    785\u001b[0m             \u001b[1;31m# Encoding\u001b[0m\u001b[1;33m\u001b[0m\u001b[1;33m\u001b[0m\u001b[0m\n\u001b[1;32m--> 786\u001b[1;33m             handle = open(\n\u001b[0m\u001b[0;32m    787\u001b[0m                 \u001b[0mhandle\u001b[0m\u001b[1;33m,\u001b[0m\u001b[1;33m\u001b[0m\u001b[1;33m\u001b[0m\u001b[0m\n\u001b[0;32m    788\u001b[0m                 \u001b[0mioargs\u001b[0m\u001b[1;33m.\u001b[0m\u001b[0mmode\u001b[0m\u001b[1;33m,\u001b[0m\u001b[1;33m\u001b[0m\u001b[1;33m\u001b[0m\u001b[0m\n",
      "\u001b[1;31mFileNotFoundError\u001b[0m: [Errno 2] No such file or directory: '../input/financial-news-headlines/cnbc_headlines.csv'"
     ]
    }
   ],
   "source": [
    "# Read csv file of cnbc headlines using pandas\n",
    "\n",
    "cnbc = pd.read_csv('../input/financial-news-headlines/cnbc_headlines.csv')"
   ]
  },
  {
   "cell_type": "code",
   "execution_count": null,
   "metadata": {
    "execution": {
     "iopub.execute_input": "2022-05-26T10:37:53.670679Z",
     "iopub.status.busy": "2022-05-26T10:37:53.670127Z",
     "iopub.status.idle": "2022-05-26T10:37:53.689861Z",
     "shell.execute_reply": "2022-05-26T10:37:53.689045Z",
     "shell.execute_reply.started": "2022-05-26T10:37:53.670630Z"
    },
    "id": "Pel3IRW1gX0_",
    "outputId": "22789c43-1702-4ce5-cfc3-7284f5343c72"
   },
   "outputs": [],
   "source": [
    "cnbc.head()"
   ]
  },
  {
   "cell_type": "code",
   "execution_count": 5,
   "metadata": {
    "execution": {
     "iopub.execute_input": "2022-05-26T10:37:53.691852Z",
     "iopub.status.busy": "2022-05-26T10:37:53.691265Z",
     "iopub.status.idle": "2022-05-26T10:37:53.696960Z",
     "shell.execute_reply": "2022-05-26T10:37:53.696222Z",
     "shell.execute_reply.started": "2022-05-26T10:37:53.691818Z"
    },
    "id": "7MY607w2gXxS",
    "outputId": "95607ac5-e89c-4896-e5d1-4268a4d80e25"
   },
   "outputs": [
    {
     "data": {
      "text/plain": [
       "(3080, 3)"
      ]
     },
     "execution_count": 5,
     "metadata": {},
     "output_type": "execute_result"
    }
   ],
   "source": [
    "# check the shape of cnbc headline dataset\n",
    "cnbc.shape"
   ]
  },
  {
   "cell_type": "code",
   "execution_count": 6,
   "metadata": {
    "execution": {
     "iopub.execute_input": "2022-05-26T10:37:53.698685Z",
     "iopub.status.busy": "2022-05-26T10:37:53.698311Z",
     "iopub.status.idle": "2022-05-26T10:37:53.712163Z",
     "shell.execute_reply": "2022-05-26T10:37:53.711076Z",
     "shell.execute_reply.started": "2022-05-26T10:37:53.698653Z"
    },
    "id": "fGyvfk-ZgXwN",
    "outputId": "35c626ac-2781-4549-d4c2-22a9ebf0b2eb"
   },
   "outputs": [
    {
     "data": {
      "text/plain": [
       "Index(['Headlines', 'Time', 'Description'], dtype='object')"
      ]
     },
     "execution_count": 6,
     "metadata": {},
     "output_type": "execute_result"
    }
   ],
   "source": [
    "# Checking all the columns in the cnbc headline dataset\n",
    "\n",
    "cnbc.columns"
   ]
  },
  {
   "cell_type": "code",
   "execution_count": 7,
   "metadata": {
    "execution": {
     "iopub.execute_input": "2022-05-26T10:37:53.714492Z",
     "iopub.status.busy": "2022-05-26T10:37:53.714137Z",
     "iopub.status.idle": "2022-05-26T10:37:53.749030Z",
     "shell.execute_reply": "2022-05-26T10:37:53.748243Z",
     "shell.execute_reply.started": "2022-05-26T10:37:53.714461Z"
    },
    "id": "kFiwMd7BgXr4",
    "outputId": "146f358f-19be-4ddc-dc15-3290beb69f5f"
   },
   "outputs": [
    {
     "name": "stdout",
     "output_type": "stream",
     "text": [
      "<class 'pandas.core.frame.DataFrame'>\n",
      "RangeIndex: 3080 entries, 0 to 3079\n",
      "Data columns (total 3 columns):\n",
      " #   Column       Non-Null Count  Dtype \n",
      "---  ------       --------------  ----- \n",
      " 0   Headlines    2800 non-null   object\n",
      " 1   Time         2800 non-null   object\n",
      " 2   Description  2800 non-null   object\n",
      "dtypes: object(3)\n",
      "memory usage: 72.3+ KB\n"
     ]
    }
   ],
   "source": [
    "# Check which columns are having categorical, numerical or boolean values\n",
    "\n",
    "cnbc.info()"
   ]
  },
  {
   "cell_type": "code",
   "execution_count": 8,
   "metadata": {
    "execution": {
     "iopub.execute_input": "2022-05-26T10:37:53.751137Z",
     "iopub.status.busy": "2022-05-26T10:37:53.750441Z",
     "iopub.status.idle": "2022-05-26T10:37:53.760307Z",
     "shell.execute_reply": "2022-05-26T10:37:53.759356Z",
     "shell.execute_reply.started": "2022-05-26T10:37:53.751100Z"
    },
    "id": "oST2tsU9gXrE",
    "outputId": "6f38baa8-1b58-4779-be42-039a2c4e17fc"
   },
   "outputs": [
    {
     "data": {
      "text/plain": [
       "Headlines      280\n",
       "Time           280\n",
       "Description    280\n",
       "dtype: int64"
      ]
     },
     "execution_count": 8,
     "metadata": {},
     "output_type": "execute_result"
    }
   ],
   "source": [
    "# Check for missing values in all the columnns of cnbc headline dataset\n",
    "\n",
    "cnbc.isnull().sum()"
   ]
  },
  {
   "cell_type": "markdown",
   "metadata": {
    "id": "YRLZs_Jg8T3r"
   },
   "source": [
    "There is 280 missing values in headlines, description and time. As we cannot impute missing values since each headline can be unique and it is not correct to assume ourselves and impute the values"
   ]
  },
  {
   "cell_type": "code",
   "execution_count": 9,
   "metadata": {
    "execution": {
     "iopub.execute_input": "2022-05-26T10:37:53.762458Z",
     "iopub.status.busy": "2022-05-26T10:37:53.762093Z",
     "iopub.status.idle": "2022-05-26T10:37:53.775444Z",
     "shell.execute_reply": "2022-05-26T10:37:53.774320Z",
     "shell.execute_reply.started": "2022-05-26T10:37:53.762425Z"
    },
    "id": "PdlYoGUfgXnE"
   },
   "outputs": [],
   "source": [
    " # drop nan values in cnbc headline dataset\n",
    "cnbc.dropna(inplace=True)"
   ]
  },
  {
   "cell_type": "code",
   "execution_count": 10,
   "metadata": {
    "execution": {
     "iopub.execute_input": "2022-05-26T10:37:53.778838Z",
     "iopub.status.busy": "2022-05-26T10:37:53.778478Z",
     "iopub.status.idle": "2022-05-26T10:37:53.783628Z",
     "shell.execute_reply": "2022-05-26T10:37:53.782492Z",
     "shell.execute_reply.started": "2022-05-26T10:37:53.778808Z"
    }
   },
   "outputs": [],
   "source": [
    "cnbc.reset_index(inplace=True, drop=True)"
   ]
  },
  {
   "cell_type": "code",
   "execution_count": 11,
   "metadata": {
    "execution": {
     "iopub.execute_input": "2022-05-26T10:37:53.785528Z",
     "iopub.status.busy": "2022-05-26T10:37:53.785119Z",
     "iopub.status.idle": "2022-05-26T10:37:53.806206Z",
     "shell.execute_reply": "2022-05-26T10:37:53.805165Z",
     "shell.execute_reply.started": "2022-05-26T10:37:53.785479Z"
    }
   },
   "outputs": [
    {
     "data": {
      "text/html": [
       "<div>\n",
       "<style scoped>\n",
       "    .dataframe tbody tr th:only-of-type {\n",
       "        vertical-align: middle;\n",
       "    }\n",
       "\n",
       "    .dataframe tbody tr th {\n",
       "        vertical-align: top;\n",
       "    }\n",
       "\n",
       "    .dataframe thead th {\n",
       "        text-align: right;\n",
       "    }\n",
       "</style>\n",
       "<table border=\"1\" class=\"dataframe\">\n",
       "  <thead>\n",
       "    <tr style=\"text-align: right;\">\n",
       "      <th></th>\n",
       "      <th>Headlines</th>\n",
       "      <th>Time</th>\n",
       "      <th>Description</th>\n",
       "    </tr>\n",
       "  </thead>\n",
       "  <tbody>\n",
       "    <tr>\n",
       "      <th>0</th>\n",
       "      <td>Jim Cramer: A better way to invest in the Covi...</td>\n",
       "      <td>7:51  PM ET Fri, 17 July 2020</td>\n",
       "      <td>\"Mad Money\" host Jim Cramer recommended buying...</td>\n",
       "    </tr>\n",
       "    <tr>\n",
       "      <th>1</th>\n",
       "      <td>Cramer's lightning round: I would own Teradyne</td>\n",
       "      <td>7:33  PM ET Fri, 17 July 2020</td>\n",
       "      <td>\"Mad Money\" host Jim Cramer rings the lightnin...</td>\n",
       "    </tr>\n",
       "    <tr>\n",
       "      <th>2</th>\n",
       "      <td>Cramer's week ahead: Big week for earnings, ev...</td>\n",
       "      <td>7:25  PM ET Fri, 17 July 2020</td>\n",
       "      <td>\"We'll pay more for the earnings of the non-Co...</td>\n",
       "    </tr>\n",
       "    <tr>\n",
       "      <th>3</th>\n",
       "      <td>IQ Capital CEO Keith Bliss says tech and healt...</td>\n",
       "      <td>4:24  PM ET Fri, 17 July 2020</td>\n",
       "      <td>Keith Bliss, IQ Capital CEO, joins \"Closing Be...</td>\n",
       "    </tr>\n",
       "    <tr>\n",
       "      <th>4</th>\n",
       "      <td>Wall Street delivered the 'kind of pullback I'...</td>\n",
       "      <td>7:36  PM ET Thu, 16 July 2020</td>\n",
       "      <td>\"Look for the stocks of high-quality companies...</td>\n",
       "    </tr>\n",
       "    <tr>\n",
       "      <th>...</th>\n",
       "      <td>...</td>\n",
       "      <td>...</td>\n",
       "      <td>...</td>\n",
       "    </tr>\n",
       "    <tr>\n",
       "      <th>2795</th>\n",
       "      <td>Markets lack Christmas cheer</td>\n",
       "      <td>10:15  AM ET Tue, 26 Dec 2017</td>\n",
       "      <td>According to Kensho, here's how markets have f...</td>\n",
       "    </tr>\n",
       "    <tr>\n",
       "      <th>2796</th>\n",
       "      <td>Cramer Remix: The biggest mistake you can make...</td>\n",
       "      <td>11:12  AM ET Thu, 20 Sept 2018</td>\n",
       "      <td>Jim Cramer revealed his top rule when it comes...</td>\n",
       "    </tr>\n",
       "    <tr>\n",
       "      <th>2797</th>\n",
       "      <td>Cramer says owning too many stocks and too lit...</td>\n",
       "      <td>7:07  PM ET Fri, 22 Dec 2017</td>\n",
       "      <td>Jim Cramer broke down why owning fewer stocks ...</td>\n",
       "    </tr>\n",
       "    <tr>\n",
       "      <th>2798</th>\n",
       "      <td>Cramer: I helped investors through the 2010 fl...</td>\n",
       "      <td>7:07  PM ET Fri, 22 Dec 2017</td>\n",
       "      <td>Jim Cramer built on his \"nobody ever made a di...</td>\n",
       "    </tr>\n",
       "    <tr>\n",
       "      <th>2799</th>\n",
       "      <td>Cramer: Never buy a stock all at once — you'll...</td>\n",
       "      <td>6:52  PM ET Fri, 22 Dec 2017</td>\n",
       "      <td>Jim Cramer doubled down on his key investing r...</td>\n",
       "    </tr>\n",
       "  </tbody>\n",
       "</table>\n",
       "<p>2800 rows × 3 columns</p>\n",
       "</div>"
      ],
      "text/plain": [
       "                                              Headlines  \\\n",
       "0     Jim Cramer: A better way to invest in the Covi...   \n",
       "1        Cramer's lightning round: I would own Teradyne   \n",
       "2     Cramer's week ahead: Big week for earnings, ev...   \n",
       "3     IQ Capital CEO Keith Bliss says tech and healt...   \n",
       "4     Wall Street delivered the 'kind of pullback I'...   \n",
       "...                                                 ...   \n",
       "2795                       Markets lack Christmas cheer   \n",
       "2796  Cramer Remix: The biggest mistake you can make...   \n",
       "2797  Cramer says owning too many stocks and too lit...   \n",
       "2798  Cramer: I helped investors through the 2010 fl...   \n",
       "2799  Cramer: Never buy a stock all at once — you'll...   \n",
       "\n",
       "                                Time  \\\n",
       "0      7:51  PM ET Fri, 17 July 2020   \n",
       "1      7:33  PM ET Fri, 17 July 2020   \n",
       "2      7:25  PM ET Fri, 17 July 2020   \n",
       "3      4:24  PM ET Fri, 17 July 2020   \n",
       "4      7:36  PM ET Thu, 16 July 2020   \n",
       "...                              ...   \n",
       "2795   10:15  AM ET Tue, 26 Dec 2017   \n",
       "2796  11:12  AM ET Thu, 20 Sept 2018   \n",
       "2797    7:07  PM ET Fri, 22 Dec 2017   \n",
       "2798    7:07  PM ET Fri, 22 Dec 2017   \n",
       "2799    6:52  PM ET Fri, 22 Dec 2017   \n",
       "\n",
       "                                            Description  \n",
       "0     \"Mad Money\" host Jim Cramer recommended buying...  \n",
       "1     \"Mad Money\" host Jim Cramer rings the lightnin...  \n",
       "2     \"We'll pay more for the earnings of the non-Co...  \n",
       "3     Keith Bliss, IQ Capital CEO, joins \"Closing Be...  \n",
       "4     \"Look for the stocks of high-quality companies...  \n",
       "...                                                 ...  \n",
       "2795  According to Kensho, here's how markets have f...  \n",
       "2796  Jim Cramer revealed his top rule when it comes...  \n",
       "2797  Jim Cramer broke down why owning fewer stocks ...  \n",
       "2798  Jim Cramer built on his \"nobody ever made a di...  \n",
       "2799  Jim Cramer doubled down on his key investing r...  \n",
       "\n",
       "[2800 rows x 3 columns]"
      ]
     },
     "execution_count": 11,
     "metadata": {},
     "output_type": "execute_result"
    }
   ],
   "source": [
    "cnbc"
   ]
  },
  {
   "cell_type": "code",
   "execution_count": 12,
   "metadata": {
    "execution": {
     "iopub.execute_input": "2022-05-26T10:37:53.807916Z",
     "iopub.status.busy": "2022-05-26T10:37:53.807393Z",
     "iopub.status.idle": "2022-05-26T10:37:53.818313Z",
     "shell.execute_reply": "2022-05-26T10:37:53.817455Z",
     "shell.execute_reply.started": "2022-05-26T10:37:53.807877Z"
    }
   },
   "outputs": [
    {
     "data": {
      "text/plain": [
       "Headlines      0\n",
       "Time           0\n",
       "Description    0\n",
       "dtype: int64"
      ]
     },
     "execution_count": 12,
     "metadata": {},
     "output_type": "execute_result"
    }
   ],
   "source": [
    "cnbc.isnull().sum()"
   ]
  },
  {
   "cell_type": "markdown",
   "metadata": {},
   "source": [
    "> There are no missing values now in the datset"
   ]
  },
  {
   "cell_type": "code",
   "execution_count": 13,
   "metadata": {
    "execution": {
     "iopub.execute_input": "2022-05-26T10:37:53.820121Z",
     "iopub.status.busy": "2022-05-26T10:37:53.819628Z",
     "iopub.status.idle": "2022-05-26T10:37:53.837274Z",
     "shell.execute_reply": "2022-05-26T10:37:53.836576Z",
     "shell.execute_reply.started": "2022-05-26T10:37:53.820088Z"
    }
   },
   "outputs": [
    {
     "data": {
      "text/plain": [
       "0"
      ]
     },
     "execution_count": 13,
     "metadata": {},
     "output_type": "execute_result"
    }
   ],
   "source": [
    "# checking whether duplicate records are present\n",
    "\n",
    "dup_list = list(cnbc.duplicated(keep='first').values)\n",
    "dup_list.count(True)"
   ]
  },
  {
   "cell_type": "markdown",
   "metadata": {},
   "source": [
    "> There are no duplicate records in the dataset"
   ]
  },
  {
   "cell_type": "code",
   "execution_count": 14,
   "metadata": {
    "execution": {
     "iopub.execute_input": "2022-05-26T10:37:53.838589Z",
     "iopub.status.busy": "2022-05-26T10:37:53.838232Z",
     "iopub.status.idle": "2022-05-26T10:37:53.849818Z",
     "shell.execute_reply": "2022-05-26T10:37:53.848361Z",
     "shell.execute_reply.started": "2022-05-26T10:37:53.838548Z"
    },
    "id": "cD2J5VmmgXid",
    "outputId": "f2c61222-e741-4732-a2b4-3267b10f70df"
   },
   "outputs": [],
   "source": [
    "# drop the duplicate rows in the dataset keep the first one\n",
    "cnbc.drop_duplicates(keep='first', inplace=True)"
   ]
  },
  {
   "cell_type": "code",
   "execution_count": 15,
   "metadata": {
    "execution": {
     "iopub.execute_input": "2022-05-26T10:37:53.852635Z",
     "iopub.status.busy": "2022-05-26T10:37:53.851557Z",
     "iopub.status.idle": "2022-05-26T10:37:53.858607Z",
     "shell.execute_reply": "2022-05-26T10:37:53.857567Z",
     "shell.execute_reply.started": "2022-05-26T10:37:53.852585Z"
    },
    "id": "WD5tcCcagXhU",
    "outputId": "2355a67f-5967-4d18-9d33-42f9e78cab9b"
   },
   "outputs": [
    {
     "data": {
      "text/plain": [
       "(2800, 3)"
      ]
     },
     "execution_count": 15,
     "metadata": {},
     "output_type": "execute_result"
    }
   ],
   "source": [
    "# check the shape of cnbc headline dataset\n",
    "cnbc.shape"
   ]
  },
  {
   "cell_type": "markdown",
   "metadata": {
    "id": "JZFVAsUf53Vv"
   },
   "source": [
    "# Basic EDA on Guardian headlines dataset"
   ]
  },
  {
   "cell_type": "code",
   "execution_count": 16,
   "metadata": {
    "execution": {
     "iopub.execute_input": "2022-05-26T10:37:53.861314Z",
     "iopub.status.busy": "2022-05-26T10:37:53.860582Z",
     "iopub.status.idle": "2022-05-26T10:37:53.931760Z",
     "shell.execute_reply": "2022-05-26T10:37:53.930649Z",
     "shell.execute_reply.started": "2022-05-26T10:37:53.861266Z"
    },
    "id": "st0vypi5gXTz"
   },
   "outputs": [],
   "source": [
    "# Read csv file of guardian headlines using pandas\n",
    "\n",
    "guard_data = pd.read_csv('../input/financial-news-headlines/guardian_headlines.csv')"
   ]
  },
  {
   "cell_type": "code",
   "execution_count": 17,
   "metadata": {
    "execution": {
     "iopub.execute_input": "2022-05-26T10:37:53.934291Z",
     "iopub.status.busy": "2022-05-26T10:37:53.933225Z",
     "iopub.status.idle": "2022-05-26T10:37:53.944792Z",
     "shell.execute_reply": "2022-05-26T10:37:53.943630Z",
     "shell.execute_reply.started": "2022-05-26T10:37:53.934253Z"
    },
    "id": "O15tPmH1gXS5",
    "outputId": "565c251d-ef27-4758-8bcd-77f4d73b3ec3"
   },
   "outputs": [
    {
     "data": {
      "text/html": [
       "<div>\n",
       "<style scoped>\n",
       "    .dataframe tbody tr th:only-of-type {\n",
       "        vertical-align: middle;\n",
       "    }\n",
       "\n",
       "    .dataframe tbody tr th {\n",
       "        vertical-align: top;\n",
       "    }\n",
       "\n",
       "    .dataframe thead th {\n",
       "        text-align: right;\n",
       "    }\n",
       "</style>\n",
       "<table border=\"1\" class=\"dataframe\">\n",
       "  <thead>\n",
       "    <tr style=\"text-align: right;\">\n",
       "      <th></th>\n",
       "      <th>Time</th>\n",
       "      <th>Headlines</th>\n",
       "    </tr>\n",
       "  </thead>\n",
       "  <tbody>\n",
       "    <tr>\n",
       "      <th>0</th>\n",
       "      <td>18-Jul-20</td>\n",
       "      <td>Johnson is asking Santa for a Christmas recovery</td>\n",
       "    </tr>\n",
       "    <tr>\n",
       "      <th>1</th>\n",
       "      <td>18-Jul-20</td>\n",
       "      <td>‘I now fear the worst’: four grim tales of wor...</td>\n",
       "    </tr>\n",
       "    <tr>\n",
       "      <th>2</th>\n",
       "      <td>18-Jul-20</td>\n",
       "      <td>Five key areas Sunak must tackle to serve up e...</td>\n",
       "    </tr>\n",
       "    <tr>\n",
       "      <th>3</th>\n",
       "      <td>18-Jul-20</td>\n",
       "      <td>Covid-19 leaves firms ‘fatally ill-prepared’ f...</td>\n",
       "    </tr>\n",
       "    <tr>\n",
       "      <th>4</th>\n",
       "      <td>18-Jul-20</td>\n",
       "      <td>The Week in Patriarchy  \\n\\n\\n  Bacardi's 'lad...</td>\n",
       "    </tr>\n",
       "  </tbody>\n",
       "</table>\n",
       "</div>"
      ],
      "text/plain": [
       "        Time                                          Headlines\n",
       "0  18-Jul-20   Johnson is asking Santa for a Christmas recovery\n",
       "1  18-Jul-20  ‘I now fear the worst’: four grim tales of wor...\n",
       "2  18-Jul-20  Five key areas Sunak must tackle to serve up e...\n",
       "3  18-Jul-20  Covid-19 leaves firms ‘fatally ill-prepared’ f...\n",
       "4  18-Jul-20  The Week in Patriarchy  \\n\\n\\n  Bacardi's 'lad..."
      ]
     },
     "execution_count": 17,
     "metadata": {},
     "output_type": "execute_result"
    }
   ],
   "source": [
    "guard_data.head()"
   ]
  },
  {
   "cell_type": "code",
   "execution_count": 18,
   "metadata": {
    "execution": {
     "iopub.execute_input": "2022-05-26T10:37:53.946727Z",
     "iopub.status.busy": "2022-05-26T10:37:53.946312Z",
     "iopub.status.idle": "2022-05-26T10:37:53.961294Z",
     "shell.execute_reply": "2022-05-26T10:37:53.960281Z",
     "shell.execute_reply.started": "2022-05-26T10:37:53.946692Z"
    },
    "id": "09OSuHhRgXNf",
    "outputId": "a485e842-e80a-4ac1-c9a4-e6ca644c3c6c"
   },
   "outputs": [
    {
     "data": {
      "text/plain": [
       "(17800, 2)"
      ]
     },
     "execution_count": 18,
     "metadata": {},
     "output_type": "execute_result"
    }
   ],
   "source": [
    "#check the shape of gaurdian headline dataset\n",
    "guard_data.shape"
   ]
  },
  {
   "cell_type": "code",
   "execution_count": 19,
   "metadata": {
    "execution": {
     "iopub.execute_input": "2022-05-26T10:37:53.963918Z",
     "iopub.status.busy": "2022-05-26T10:37:53.962643Z",
     "iopub.status.idle": "2022-05-26T10:37:53.972560Z",
     "shell.execute_reply": "2022-05-26T10:37:53.971527Z",
     "shell.execute_reply.started": "2022-05-26T10:37:53.963876Z"
    },
    "id": "7gKFN26whZnD",
    "outputId": "eaf4eede-9485-47d5-b5cb-e451b3113f43"
   },
   "outputs": [
    {
     "data": {
      "text/plain": [
       "Index(['Time', 'Headlines'], dtype='object')"
      ]
     },
     "execution_count": 19,
     "metadata": {},
     "output_type": "execute_result"
    }
   ],
   "source": [
    "#check columns of gaurdian headline\n",
    "guard_data.columns"
   ]
  },
  {
   "cell_type": "code",
   "execution_count": 20,
   "metadata": {
    "execution": {
     "iopub.execute_input": "2022-05-26T10:37:53.974598Z",
     "iopub.status.busy": "2022-05-26T10:37:53.973935Z",
     "iopub.status.idle": "2022-05-26T10:37:53.991726Z",
     "shell.execute_reply": "2022-05-26T10:37:53.990410Z",
     "shell.execute_reply.started": "2022-05-26T10:37:53.974548Z"
    },
    "id": "5fplFio3hZmG",
    "outputId": "203f8075-6c24-4cc0-9c97-64de380ef72d"
   },
   "outputs": [
    {
     "name": "stdout",
     "output_type": "stream",
     "text": [
      "<class 'pandas.core.frame.DataFrame'>\n",
      "RangeIndex: 17800 entries, 0 to 17799\n",
      "Data columns (total 2 columns):\n",
      " #   Column     Non-Null Count  Dtype \n",
      "---  ------     --------------  ----- \n",
      " 0   Time       17800 non-null  object\n",
      " 1   Headlines  17800 non-null  object\n",
      "dtypes: object(2)\n",
      "memory usage: 278.2+ KB\n"
     ]
    }
   ],
   "source": [
    "# Check which columns are having categorical, numerical or boolean values\n",
    "guard_data.info()"
   ]
  },
  {
   "cell_type": "code",
   "execution_count": 21,
   "metadata": {
    "execution": {
     "iopub.execute_input": "2022-05-26T10:37:53.993596Z",
     "iopub.status.busy": "2022-05-26T10:37:53.993181Z",
     "iopub.status.idle": "2022-05-26T10:37:54.004801Z",
     "shell.execute_reply": "2022-05-26T10:37:54.003841Z",
     "shell.execute_reply.started": "2022-05-26T10:37:53.993546Z"
    },
    "id": "qaWAwEazhZh8",
    "outputId": "db5b6254-3aac-4c68-dbfb-d9088d5f6975"
   },
   "outputs": [
    {
     "data": {
      "text/plain": [
       "Time         0\n",
       "Headlines    0\n",
       "dtype: int64"
      ]
     },
     "execution_count": 21,
     "metadata": {},
     "output_type": "execute_result"
    }
   ],
   "source": [
    "# check null values in gaurdian headlines dataset\n",
    "guard_data.isnull().sum()"
   ]
  },
  {
   "cell_type": "code",
   "execution_count": 22,
   "metadata": {
    "execution": {
     "iopub.execute_input": "2022-05-26T10:37:54.007175Z",
     "iopub.status.busy": "2022-05-26T10:37:54.006305Z",
     "iopub.status.idle": "2022-05-26T10:37:54.031306Z",
     "shell.execute_reply": "2022-05-26T10:37:54.030617Z",
     "shell.execute_reply.started": "2022-05-26T10:37:54.007131Z"
    },
    "id": "NBtOooYChZg9",
    "outputId": "64d9aed6-ab1c-46f5-d86d-0d2fcbf757ee"
   },
   "outputs": [
    {
     "data": {
      "text/html": [
       "<div>\n",
       "<style scoped>\n",
       "    .dataframe tbody tr th:only-of-type {\n",
       "        vertical-align: middle;\n",
       "    }\n",
       "\n",
       "    .dataframe tbody tr th {\n",
       "        vertical-align: top;\n",
       "    }\n",
       "\n",
       "    .dataframe thead th {\n",
       "        text-align: right;\n",
       "    }\n",
       "</style>\n",
       "<table border=\"1\" class=\"dataframe\">\n",
       "  <thead>\n",
       "    <tr style=\"text-align: right;\">\n",
       "      <th></th>\n",
       "      <th>Time</th>\n",
       "      <th>Headlines</th>\n",
       "    </tr>\n",
       "  </thead>\n",
       "  <tbody>\n",
       "    <tr>\n",
       "      <th>0</th>\n",
       "      <td>18-Jul-20</td>\n",
       "      <td>Johnson is asking Santa for a Christmas recovery</td>\n",
       "    </tr>\n",
       "    <tr>\n",
       "      <th>1</th>\n",
       "      <td>18-Jul-20</td>\n",
       "      <td>‘I now fear the worst’: four grim tales of wor...</td>\n",
       "    </tr>\n",
       "    <tr>\n",
       "      <th>2</th>\n",
       "      <td>18-Jul-20</td>\n",
       "      <td>Five key areas Sunak must tackle to serve up e...</td>\n",
       "    </tr>\n",
       "    <tr>\n",
       "      <th>3</th>\n",
       "      <td>18-Jul-20</td>\n",
       "      <td>Covid-19 leaves firms ‘fatally ill-prepared’ f...</td>\n",
       "    </tr>\n",
       "    <tr>\n",
       "      <th>4</th>\n",
       "      <td>18-Jul-20</td>\n",
       "      <td>The Week in Patriarchy  \\n\\n\\n  Bacardi's 'lad...</td>\n",
       "    </tr>\n",
       "    <tr>\n",
       "      <th>...</th>\n",
       "      <td>...</td>\n",
       "      <td>...</td>\n",
       "    </tr>\n",
       "    <tr>\n",
       "      <th>17795</th>\n",
       "      <td>17-Dec-17</td>\n",
       "      <td>How investing in solar energy can create a bri...</td>\n",
       "    </tr>\n",
       "    <tr>\n",
       "      <th>17796</th>\n",
       "      <td>17-Dec-17</td>\n",
       "      <td>Poundland suppliers hit by insurance downgrade</td>\n",
       "    </tr>\n",
       "    <tr>\n",
       "      <th>17797</th>\n",
       "      <td>17-Dec-17</td>\n",
       "      <td>Cryptocurrencies: City watchdog to investigate...</td>\n",
       "    </tr>\n",
       "    <tr>\n",
       "      <th>17798</th>\n",
       "      <td>17-Dec-17</td>\n",
       "      <td>Unilever sells household name spreads to KKR f...</td>\n",
       "    </tr>\n",
       "    <tr>\n",
       "      <th>17799</th>\n",
       "      <td>17-Dec-17</td>\n",
       "      <td>The Guardian view on Ryanair’s model: a union-...</td>\n",
       "    </tr>\n",
       "  </tbody>\n",
       "</table>\n",
       "<p>17800 rows × 2 columns</p>\n",
       "</div>"
      ],
      "text/plain": [
       "            Time                                          Headlines\n",
       "0      18-Jul-20   Johnson is asking Santa for a Christmas recovery\n",
       "1      18-Jul-20  ‘I now fear the worst’: four grim tales of wor...\n",
       "2      18-Jul-20  Five key areas Sunak must tackle to serve up e...\n",
       "3      18-Jul-20  Covid-19 leaves firms ‘fatally ill-prepared’ f...\n",
       "4      18-Jul-20  The Week in Patriarchy  \\n\\n\\n  Bacardi's 'lad...\n",
       "...          ...                                                ...\n",
       "17795  17-Dec-17  How investing in solar energy can create a bri...\n",
       "17796  17-Dec-17     Poundland suppliers hit by insurance downgrade\n",
       "17797  17-Dec-17  Cryptocurrencies: City watchdog to investigate...\n",
       "17798  17-Dec-17  Unilever sells household name spreads to KKR f...\n",
       "17799  17-Dec-17  The Guardian view on Ryanair’s model: a union-...\n",
       "\n",
       "[17800 rows x 2 columns]"
      ]
     },
     "execution_count": 22,
     "metadata": {},
     "output_type": "execute_result"
    }
   ],
   "source": [
    "# drop duplicate rows in headlines and keep the first one\n",
    "guard_data.drop_duplicates(keep='first', inplace=True)\n",
    "guard_data"
   ]
  },
  {
   "cell_type": "markdown",
   "metadata": {},
   "source": [
    "> There are no missing records and duplicate records in the dataset"
   ]
  },
  {
   "cell_type": "markdown",
   "metadata": {
    "id": "3iwjVwnv6-v3"
   },
   "source": [
    "# Basic EDA on reuters headlines"
   ]
  },
  {
   "cell_type": "code",
   "execution_count": 23,
   "metadata": {
    "execution": {
     "iopub.execute_input": "2022-05-26T10:37:54.033166Z",
     "iopub.status.busy": "2022-05-26T10:37:54.032348Z",
     "iopub.status.idle": "2022-05-26T10:37:54.319058Z",
     "shell.execute_reply": "2022-05-26T10:37:54.318017Z",
     "shell.execute_reply.started": "2022-05-26T10:37:54.033134Z"
    },
    "id": "asNDch3WhZXh"
   },
   "outputs": [],
   "source": [
    "# Read csv file of reuters headlines using using pandas\n",
    "\n",
    "reuters = pd.read_csv('../input/financial-news-headlines/reuters_headlines.csv')"
   ]
  },
  {
   "cell_type": "code",
   "execution_count": 24,
   "metadata": {
    "execution": {
     "iopub.execute_input": "2022-05-26T10:37:54.320354Z",
     "iopub.status.busy": "2022-05-26T10:37:54.320065Z",
     "iopub.status.idle": "2022-05-26T10:37:54.332971Z",
     "shell.execute_reply": "2022-05-26T10:37:54.332041Z",
     "shell.execute_reply.started": "2022-05-26T10:37:54.320327Z"
    },
    "id": "n-FuGab8hZS0",
    "outputId": "61fbc9af-cc62-4f68-bf99-3d071af01425"
   },
   "outputs": [
    {
     "data": {
      "text/html": [
       "<div>\n",
       "<style scoped>\n",
       "    .dataframe tbody tr th:only-of-type {\n",
       "        vertical-align: middle;\n",
       "    }\n",
       "\n",
       "    .dataframe tbody tr th {\n",
       "        vertical-align: top;\n",
       "    }\n",
       "\n",
       "    .dataframe thead th {\n",
       "        text-align: right;\n",
       "    }\n",
       "</style>\n",
       "<table border=\"1\" class=\"dataframe\">\n",
       "  <thead>\n",
       "    <tr style=\"text-align: right;\">\n",
       "      <th></th>\n",
       "      <th>Headlines</th>\n",
       "      <th>Time</th>\n",
       "      <th>Description</th>\n",
       "    </tr>\n",
       "  </thead>\n",
       "  <tbody>\n",
       "    <tr>\n",
       "      <th>0</th>\n",
       "      <td>TikTok considers London and other locations fo...</td>\n",
       "      <td>Jul 18 2020</td>\n",
       "      <td>TikTok has been in discussions with the UK gov...</td>\n",
       "    </tr>\n",
       "    <tr>\n",
       "      <th>1</th>\n",
       "      <td>Disney cuts ad spending on Facebook amid growi...</td>\n",
       "      <td>Jul 18 2020</td>\n",
       "      <td>Walt Disney  has become the latest company to ...</td>\n",
       "    </tr>\n",
       "    <tr>\n",
       "      <th>2</th>\n",
       "      <td>Trail of missing Wirecard executive leads to B...</td>\n",
       "      <td>Jul 18 2020</td>\n",
       "      <td>Former Wirecard  chief operating officer Jan M...</td>\n",
       "    </tr>\n",
       "    <tr>\n",
       "      <th>3</th>\n",
       "      <td>Twitter says attackers downloaded data from up...</td>\n",
       "      <td>Jul 18 2020</td>\n",
       "      <td>Twitter Inc said on Saturday that hackers were...</td>\n",
       "    </tr>\n",
       "    <tr>\n",
       "      <th>4</th>\n",
       "      <td>U.S. Republicans seek liability protections as...</td>\n",
       "      <td>Jul 17 2020</td>\n",
       "      <td>A battle in the U.S. Congress over a new coron...</td>\n",
       "    </tr>\n",
       "  </tbody>\n",
       "</table>\n",
       "</div>"
      ],
      "text/plain": [
       "                                           Headlines         Time  \\\n",
       "0  TikTok considers London and other locations fo...  Jul 18 2020   \n",
       "1  Disney cuts ad spending on Facebook amid growi...  Jul 18 2020   \n",
       "2  Trail of missing Wirecard executive leads to B...  Jul 18 2020   \n",
       "3  Twitter says attackers downloaded data from up...  Jul 18 2020   \n",
       "4  U.S. Republicans seek liability protections as...  Jul 17 2020   \n",
       "\n",
       "                                         Description  \n",
       "0  TikTok has been in discussions with the UK gov...  \n",
       "1  Walt Disney  has become the latest company to ...  \n",
       "2  Former Wirecard  chief operating officer Jan M...  \n",
       "3  Twitter Inc said on Saturday that hackers were...  \n",
       "4  A battle in the U.S. Congress over a new coron...  "
      ]
     },
     "execution_count": 24,
     "metadata": {},
     "output_type": "execute_result"
    }
   ],
   "source": [
    "reuters.head()"
   ]
  },
  {
   "cell_type": "code",
   "execution_count": 25,
   "metadata": {
    "execution": {
     "iopub.execute_input": "2022-05-26T10:37:54.334483Z",
     "iopub.status.busy": "2022-05-26T10:37:54.334174Z",
     "iopub.status.idle": "2022-05-26T10:37:54.347375Z",
     "shell.execute_reply": "2022-05-26T10:37:54.346471Z",
     "shell.execute_reply.started": "2022-05-26T10:37:54.334454Z"
    },
    "id": "aRIhdEPyhZR3",
    "outputId": "a2592db9-0d2c-45e6-9f36-926a14eb5602"
   },
   "outputs": [
    {
     "data": {
      "text/plain": [
       "(32770, 3)"
      ]
     },
     "execution_count": 25,
     "metadata": {},
     "output_type": "execute_result"
    }
   ],
   "source": [
    "#check the shape of reuters headlines dataset\n",
    "reuters.shape"
   ]
  },
  {
   "cell_type": "code",
   "execution_count": 26,
   "metadata": {
    "execution": {
     "iopub.execute_input": "2022-05-26T10:37:54.349398Z",
     "iopub.status.busy": "2022-05-26T10:37:54.348467Z",
     "iopub.status.idle": "2022-05-26T10:37:54.359590Z",
     "shell.execute_reply": "2022-05-26T10:37:54.358567Z",
     "shell.execute_reply.started": "2022-05-26T10:37:54.349362Z"
    },
    "id": "zn6OnjCwhZN8",
    "outputId": "7965f9fb-0c75-4356-9ad0-4d8fe1727c3d"
   },
   "outputs": [
    {
     "data": {
      "text/plain": [
       "Index(['Headlines', 'Time', 'Description'], dtype='object')"
      ]
     },
     "execution_count": 26,
     "metadata": {},
     "output_type": "execute_result"
    }
   ],
   "source": [
    "#check the columns of reuters headline dataset\n",
    "reuters.columns"
   ]
  },
  {
   "cell_type": "code",
   "execution_count": 27,
   "metadata": {
    "execution": {
     "iopub.execute_input": "2022-05-26T10:37:54.361360Z",
     "iopub.status.busy": "2022-05-26T10:37:54.361039Z",
     "iopub.status.idle": "2022-05-26T10:37:54.381678Z",
     "shell.execute_reply": "2022-05-26T10:37:54.380603Z",
     "shell.execute_reply.started": "2022-05-26T10:37:54.361329Z"
    },
    "id": "go-UtVDjhZM1",
    "outputId": "f423cfcf-3bdf-471c-fb4d-1424787d9c79"
   },
   "outputs": [
    {
     "name": "stdout",
     "output_type": "stream",
     "text": [
      "<class 'pandas.core.frame.DataFrame'>\n",
      "RangeIndex: 32770 entries, 0 to 32769\n",
      "Data columns (total 3 columns):\n",
      " #   Column       Non-Null Count  Dtype \n",
      "---  ------       --------------  ----- \n",
      " 0   Headlines    32770 non-null  object\n",
      " 1   Time         32770 non-null  object\n",
      " 2   Description  32770 non-null  object\n",
      "dtypes: object(3)\n",
      "memory usage: 768.2+ KB\n"
     ]
    }
   ],
   "source": [
    "# Check which columns are having categorical, numerical or boolean values\n",
    "reuters.info()"
   ]
  },
  {
   "cell_type": "code",
   "execution_count": 28,
   "metadata": {
    "execution": {
     "iopub.execute_input": "2022-05-26T10:37:54.387725Z",
     "iopub.status.busy": "2022-05-26T10:37:54.386703Z",
     "iopub.status.idle": "2022-05-26T10:37:54.402700Z",
     "shell.execute_reply": "2022-05-26T10:37:54.401401Z",
     "shell.execute_reply.started": "2022-05-26T10:37:54.387670Z"
    },
    "id": "7d7HOHV7hZJM",
    "outputId": "b60f3758-a698-45ad-ec28-c22e424997f3"
   },
   "outputs": [
    {
     "data": {
      "text/plain": [
       "Headlines      0\n",
       "Time           0\n",
       "Description    0\n",
       "dtype: int64"
      ]
     },
     "execution_count": 28,
     "metadata": {},
     "output_type": "execute_result"
    }
   ],
   "source": [
    "# Check for missing values in all the columnns of reuters headlines dataset\n",
    "\n",
    "reuters.isnull().sum()"
   ]
  },
  {
   "cell_type": "code",
   "execution_count": 29,
   "metadata": {
    "execution": {
     "iopub.execute_input": "2022-05-26T10:37:54.404499Z",
     "iopub.status.busy": "2022-05-26T10:37:54.404082Z",
     "iopub.status.idle": "2022-05-26T10:37:54.461130Z",
     "shell.execute_reply": "2022-05-26T10:37:54.460201Z",
     "shell.execute_reply.started": "2022-05-26T10:37:54.404466Z"
    },
    "id": "Zvbdb747hZHz",
    "outputId": "d9926a4c-1074-4c12-e41e-7607561c38fd"
   },
   "outputs": [
    {
     "data": {
      "text/html": [
       "<div>\n",
       "<style scoped>\n",
       "    .dataframe tbody tr th:only-of-type {\n",
       "        vertical-align: middle;\n",
       "    }\n",
       "\n",
       "    .dataframe tbody tr th {\n",
       "        vertical-align: top;\n",
       "    }\n",
       "\n",
       "    .dataframe thead th {\n",
       "        text-align: right;\n",
       "    }\n",
       "</style>\n",
       "<table border=\"1\" class=\"dataframe\">\n",
       "  <thead>\n",
       "    <tr style=\"text-align: right;\">\n",
       "      <th></th>\n",
       "      <th>Headlines</th>\n",
       "      <th>Time</th>\n",
       "      <th>Description</th>\n",
       "    </tr>\n",
       "  </thead>\n",
       "  <tbody>\n",
       "    <tr>\n",
       "      <th>0</th>\n",
       "      <td>TikTok considers London and other locations fo...</td>\n",
       "      <td>Jul 18 2020</td>\n",
       "      <td>TikTok has been in discussions with the UK gov...</td>\n",
       "    </tr>\n",
       "    <tr>\n",
       "      <th>1</th>\n",
       "      <td>Disney cuts ad spending on Facebook amid growi...</td>\n",
       "      <td>Jul 18 2020</td>\n",
       "      <td>Walt Disney  has become the latest company to ...</td>\n",
       "    </tr>\n",
       "    <tr>\n",
       "      <th>2</th>\n",
       "      <td>Trail of missing Wirecard executive leads to B...</td>\n",
       "      <td>Jul 18 2020</td>\n",
       "      <td>Former Wirecard  chief operating officer Jan M...</td>\n",
       "    </tr>\n",
       "    <tr>\n",
       "      <th>3</th>\n",
       "      <td>Twitter says attackers downloaded data from up...</td>\n",
       "      <td>Jul 18 2020</td>\n",
       "      <td>Twitter Inc said on Saturday that hackers were...</td>\n",
       "    </tr>\n",
       "    <tr>\n",
       "      <th>4</th>\n",
       "      <td>U.S. Republicans seek liability protections as...</td>\n",
       "      <td>Jul 17 2020</td>\n",
       "      <td>A battle in the U.S. Congress over a new coron...</td>\n",
       "    </tr>\n",
       "    <tr>\n",
       "      <th>...</th>\n",
       "      <td>...</td>\n",
       "      <td>...</td>\n",
       "      <td>...</td>\n",
       "    </tr>\n",
       "    <tr>\n",
       "      <th>32765</th>\n",
       "      <td>Malaysia says never hired British data firm at...</td>\n",
       "      <td>Mar 20 2018</td>\n",
       "      <td>The Malaysian government and the ruling party ...</td>\n",
       "    </tr>\n",
       "    <tr>\n",
       "      <th>32766</th>\n",
       "      <td>Prosecutors search Volkswagen headquarters in ...</td>\n",
       "      <td>Mar 20 2018</td>\n",
       "      <td>German prosecutors said on Tuesday they had se...</td>\n",
       "    </tr>\n",
       "    <tr>\n",
       "      <th>32767</th>\n",
       "      <td>McDonald's sets greenhouse gas reduction targets</td>\n",
       "      <td>Mar 20 2018</td>\n",
       "      <td>McDonald's Corp on Tuesday announced an approv...</td>\n",
       "    </tr>\n",
       "    <tr>\n",
       "      <th>32768</th>\n",
       "      <td>Pratt &amp; Whitney to deliver spare A320neo engin...</td>\n",
       "      <td>Mar 20 2018</td>\n",
       "      <td>Pratt &amp; Whitney will soon begin deliveries of ...</td>\n",
       "    </tr>\n",
       "    <tr>\n",
       "      <th>32769</th>\n",
       "      <td>UK will always consider ways to improve data l...</td>\n",
       "      <td>Mar 20 2018</td>\n",
       "      <td>Britain will consider any suggestions to give ...</td>\n",
       "    </tr>\n",
       "  </tbody>\n",
       "</table>\n",
       "<p>32715 rows × 3 columns</p>\n",
       "</div>"
      ],
      "text/plain": [
       "                                               Headlines         Time  \\\n",
       "0      TikTok considers London and other locations fo...  Jul 18 2020   \n",
       "1      Disney cuts ad spending on Facebook amid growi...  Jul 18 2020   \n",
       "2      Trail of missing Wirecard executive leads to B...  Jul 18 2020   \n",
       "3      Twitter says attackers downloaded data from up...  Jul 18 2020   \n",
       "4      U.S. Republicans seek liability protections as...  Jul 17 2020   \n",
       "...                                                  ...          ...   \n",
       "32765  Malaysia says never hired British data firm at...  Mar 20 2018   \n",
       "32766  Prosecutors search Volkswagen headquarters in ...  Mar 20 2018   \n",
       "32767   McDonald's sets greenhouse gas reduction targets  Mar 20 2018   \n",
       "32768  Pratt & Whitney to deliver spare A320neo engin...  Mar 20 2018   \n",
       "32769  UK will always consider ways to improve data l...  Mar 20 2018   \n",
       "\n",
       "                                             Description  \n",
       "0      TikTok has been in discussions with the UK gov...  \n",
       "1      Walt Disney  has become the latest company to ...  \n",
       "2      Former Wirecard  chief operating officer Jan M...  \n",
       "3      Twitter Inc said on Saturday that hackers were...  \n",
       "4      A battle in the U.S. Congress over a new coron...  \n",
       "...                                                  ...  \n",
       "32765  The Malaysian government and the ruling party ...  \n",
       "32766  German prosecutors said on Tuesday they had se...  \n",
       "32767  McDonald's Corp on Tuesday announced an approv...  \n",
       "32768  Pratt & Whitney will soon begin deliveries of ...  \n",
       "32769  Britain will consider any suggestions to give ...  \n",
       "\n",
       "[32715 rows x 3 columns]"
      ]
     },
     "execution_count": 29,
     "metadata": {},
     "output_type": "execute_result"
    }
   ],
   "source": [
    "#drop the duplicate rows in reuters headlines dataset and keep the first one\n",
    "\n",
    "reuters.drop_duplicates(keep='first', inplace=True)\n",
    "reuters"
   ]
  },
  {
   "cell_type": "code",
   "execution_count": 30,
   "metadata": {
    "execution": {
     "iopub.execute_input": "2022-05-26T10:37:54.463348Z",
     "iopub.status.busy": "2022-05-26T10:37:54.462675Z",
     "iopub.status.idle": "2022-05-26T10:37:54.468792Z",
     "shell.execute_reply": "2022-05-26T10:37:54.467841Z",
     "shell.execute_reply.started": "2022-05-26T10:37:54.463305Z"
    }
   },
   "outputs": [],
   "source": [
    "reuters.reset_index(drop=True, inplace=True)"
   ]
  },
  {
   "cell_type": "markdown",
   "metadata": {},
   "source": [
    "1. There are no missing values in the dataset\n",
    "2. There are 55 duplicate records in the dataset, which is removed "
   ]
  },
  {
   "cell_type": "markdown",
   "metadata": {
    "id": "2uvArOVne6jB"
   },
   "source": [
    "## Supporting functions for further data processing and Modelling"
   ]
  },
  {
   "cell_type": "markdown",
   "metadata": {
    "id": "94zINn2npv1V"
   },
   "source": [
    "### Preprocessing "
   ]
  },
  {
   "cell_type": "code",
   "execution_count": 31,
   "metadata": {
    "execution": {
     "iopub.execute_input": "2022-05-26T10:37:54.470396Z",
     "iopub.status.busy": "2022-05-26T10:37:54.469987Z",
     "iopub.status.idle": "2022-05-26T10:37:54.480848Z",
     "shell.execute_reply": "2022-05-26T10:37:54.480148Z",
     "shell.execute_reply.started": "2022-05-26T10:37:54.470365Z"
    },
    "id": "djtZVA_IhY9b"
   },
   "outputs": [],
   "source": [
    "# creating a function for preprocessing \n",
    "\n",
    "def preprocessing_text(data):\n",
    "\n",
    "    #convert all to lowercase\n",
    "    data = data.lower()\n",
    "\n",
    "\n",
    "    #removing puntuations\n",
    "    data = re.sub(r'[^\\w\\s]','', data, flags=re.MULTILINE)\n",
    "\n",
    "\n",
    "    #remove stopwords\n",
    "    tokens = word_tokenize(data)\n",
    "    word_tokens = [w for w in tokens if w not in stopwords]\n",
    "  \n",
    "\n",
    "    #stemming\n",
    "    stemmer = PorterStemmer()\n",
    "    stem_words = [stemmer.stem(w) for w in word_tokens]\n",
    "    \n",
    "\n",
    "    #lemmitizing\n",
    "    lemmer = WordNetLemmatizer()\n",
    "    lem_words = [lemmer.lemmatize(w) for w in stem_words]\n",
    " \n",
    "    return \" \".join(lem_words)\n",
    "  "
   ]
  },
  {
   "cell_type": "markdown",
   "metadata": {
    "id": "pjlDZ7Peu7t1"
   },
   "source": [
    "### SENTIMENT ANAYSIS\n",
    "\n",
    "Our dataset doesn't have a label/target. So to add a label to the dataset, we will use `SentimentIntensityAnalyzer` from NLTK library which assigns polarity intensity scores for given string based on lexical meaning of the text.\n",
    "\n",
    "Refer to article for more info - https://towardsdatascience.com/sentimental-analysis-using-vader-a3415fef7664"
   ]
  },
  {
   "cell_type": "code",
   "execution_count": 32,
   "metadata": {
    "execution": {
     "iopub.execute_input": "2022-05-26T10:37:54.483174Z",
     "iopub.status.busy": "2022-05-26T10:37:54.482125Z",
     "iopub.status.idle": "2022-05-26T10:37:54.521654Z",
     "shell.execute_reply": "2022-05-26T10:37:54.520719Z",
     "shell.execute_reply.started": "2022-05-26T10:37:54.483132Z"
    },
    "id": "HUxqpmosB6vy",
    "outputId": "77151daa-a298-4a80-eaa6-f5dc11a340f1"
   },
   "outputs": [
    {
     "name": "stdout",
     "output_type": "stream",
     "text": [
      "[nltk_data] Downloading package vader_lexicon to\n",
      "[nltk_data]     /usr/share/nltk_data...\n",
      "[nltk_data]   Package vader_lexicon is already up-to-date!\n"
     ]
    },
    {
     "name": "stderr",
     "output_type": "stream",
     "text": [
      "/opt/conda/lib/python3.7/site-packages/nltk/twitter/__init__.py:20: UserWarning: The twython library has not been installed. Some functionality from the twitter package will not be available.\n",
      "  warnings.warn(\"The twython library has not been installed. \"\n"
     ]
    }
   ],
   "source": [
    "# import sentiment intensity analyzer\n",
    "\n",
    "nltk.download('vader_lexicon')\n",
    "from nltk.sentiment.vader import SentimentIntensityAnalyzer\n",
    "\n",
    "\n",
    "# create sentiment intensity analyzer object\n",
    "SIA = SentimentIntensityAnalyzer()\n"
   ]
  },
  {
   "cell_type": "code",
   "execution_count": 33,
   "metadata": {
    "execution": {
     "iopub.execute_input": "2022-05-26T10:37:54.523898Z",
     "iopub.status.busy": "2022-05-26T10:37:54.522910Z",
     "iopub.status.idle": "2022-05-26T10:37:54.530539Z",
     "shell.execute_reply": "2022-05-26T10:37:54.529444Z",
     "shell.execute_reply.started": "2022-05-26T10:37:54.523859Z"
    },
    "id": "GscOEWSjGfa2"
   },
   "outputs": [],
   "source": [
    "# fuction to  decide sentiment as positive, negative and neutral\n",
    "\n",
    "def mapper(data):\n",
    "    if data > 0:\n",
    "        return \"Positive\"\n",
    "    elif data < 0:\n",
    "        return \"Negative\"\n",
    "    else:\n",
    "        return \"Neutral\"\n",
    "\n",
    "def sentiment_analysis(df, colm_name):\n",
    "    \n",
    "    # assigning polarity scores for description column\n",
    "    df['polarity_scores'] = df[colm_name].apply(lambda w: SIA.polarity_scores(w))\n",
    "    \n",
    "    # picking only compound score(combined score)\n",
    "    df['compound_score'] = df['polarity_scores'].apply(lambda x: x['compound'])\n",
    "    \n",
    "    # mapping the compound score to positive, negative or neutral\n",
    "    df['ds_score'] = df['compound_score'].apply(mapper)\n",
    "    \n",
    "    df.drop(['polarity_scores', 'compound_score'], axis=1, inplace=True)\n",
    "    \n",
    "    return df\n"
   ]
  },
  {
   "cell_type": "markdown",
   "metadata": {
    "id": "RVa-zf7xfRjc"
   },
   "source": [
    "# Now working with description on datasets"
   ]
  },
  {
   "cell_type": "code",
   "execution_count": 34,
   "metadata": {
    "execution": {
     "iopub.execute_input": "2022-05-26T10:37:54.532234Z",
     "iopub.status.busy": "2022-05-26T10:37:54.531810Z",
     "iopub.status.idle": "2022-05-26T10:37:54.549127Z",
     "shell.execute_reply": "2022-05-26T10:37:54.548115Z",
     "shell.execute_reply.started": "2022-05-26T10:37:54.532199Z"
    },
    "id": "NFS1pS0Zws6Z"
   },
   "outputs": [],
   "source": [
    "# concatenate cnbc headlines dataset and reuters headline dataset\n",
    "\n",
    "cnbc_reuters = pd.concat([cnbc, reuters], axis=0)"
   ]
  },
  {
   "cell_type": "code",
   "execution_count": 35,
   "metadata": {
    "execution": {
     "iopub.execute_input": "2022-05-26T10:37:54.551902Z",
     "iopub.status.busy": "2022-05-26T10:37:54.551122Z",
     "iopub.status.idle": "2022-05-26T10:37:54.560203Z",
     "shell.execute_reply": "2022-05-26T10:37:54.559497Z",
     "shell.execute_reply.started": "2022-05-26T10:37:54.551846Z"
    },
    "id": "eDgz1y9Cwzfm",
    "outputId": "f5a8a761-7f1b-4997-dee9-f4cb89f98268"
   },
   "outputs": [
    {
     "data": {
      "text/plain": [
       "(35515, 3)"
      ]
     },
     "execution_count": 35,
     "metadata": {},
     "output_type": "execute_result"
    }
   ],
   "source": [
    "#check the shape of this new dataset\n",
    "\n",
    "cnbc_reuters.shape"
   ]
  },
  {
   "cell_type": "code",
   "execution_count": 36,
   "metadata": {
    "execution": {
     "iopub.execute_input": "2022-05-26T10:37:54.562446Z",
     "iopub.status.busy": "2022-05-26T10:37:54.561617Z",
     "iopub.status.idle": "2022-05-26T10:37:54.572595Z",
     "shell.execute_reply": "2022-05-26T10:37:54.571757Z",
     "shell.execute_reply.started": "2022-05-26T10:37:54.562406Z"
    },
    "id": "u0v43468m4d0"
   },
   "outputs": [],
   "source": [
    "#make a copy of new dataset \n",
    "\n",
    "cnbc_reu = cnbc_reuters.copy()"
   ]
  },
  {
   "cell_type": "code",
   "execution_count": 37,
   "metadata": {
    "execution": {
     "iopub.execute_input": "2022-05-26T10:37:54.574751Z",
     "iopub.status.busy": "2022-05-26T10:37:54.574212Z",
     "iopub.status.idle": "2022-05-26T10:38:25.122478Z",
     "shell.execute_reply": "2022-05-26T10:38:25.121557Z",
     "shell.execute_reply.started": "2022-05-26T10:37:54.574708Z"
    },
    "id": "KMejFN4HhY44",
    "outputId": "59c6d813-245a-41f4-e2d9-b30f6921e669"
   },
   "outputs": [
    {
     "data": {
      "text/html": [
       "<div>\n",
       "<style scoped>\n",
       "    .dataframe tbody tr th:only-of-type {\n",
       "        vertical-align: middle;\n",
       "    }\n",
       "\n",
       "    .dataframe tbody tr th {\n",
       "        vertical-align: top;\n",
       "    }\n",
       "\n",
       "    .dataframe thead th {\n",
       "        text-align: right;\n",
       "    }\n",
       "</style>\n",
       "<table border=\"1\" class=\"dataframe\">\n",
       "  <thead>\n",
       "    <tr style=\"text-align: right;\">\n",
       "      <th></th>\n",
       "      <th>Headlines</th>\n",
       "      <th>Time</th>\n",
       "      <th>Description</th>\n",
       "    </tr>\n",
       "  </thead>\n",
       "  <tbody>\n",
       "    <tr>\n",
       "      <th>0</th>\n",
       "      <td>Jim Cramer: A better way to invest in the Covi...</td>\n",
       "      <td>7:51  PM ET Fri, 17 July 2020</td>\n",
       "      <td>mad money host jim cramer recommend buy four c...</td>\n",
       "    </tr>\n",
       "    <tr>\n",
       "      <th>1</th>\n",
       "      <td>Cramer's lightning round: I would own Teradyne</td>\n",
       "      <td>7:33  PM ET Fri, 17 July 2020</td>\n",
       "      <td>mad money host jim cramer ring lightn round be...</td>\n",
       "    </tr>\n",
       "    <tr>\n",
       "      <th>2</th>\n",
       "      <td>Cramer's week ahead: Big week for earnings, ev...</td>\n",
       "      <td>7:25  PM ET Fri, 17 July 2020</td>\n",
       "      <td>well pay earn noncovid compani lancet publish ...</td>\n",
       "    </tr>\n",
       "    <tr>\n",
       "      <th>3</th>\n",
       "      <td>IQ Capital CEO Keith Bliss says tech and healt...</td>\n",
       "      <td>4:24  PM ET Fri, 17 July 2020</td>\n",
       "      <td>keith bliss iq capit ceo join close bell talk ...</td>\n",
       "    </tr>\n",
       "    <tr>\n",
       "      <th>4</th>\n",
       "      <td>Wall Street delivered the 'kind of pullback I'...</td>\n",
       "      <td>7:36  PM ET Thu, 16 July 2020</td>\n",
       "      <td>look stock highqual compani go lower even thou...</td>\n",
       "    </tr>\n",
       "    <tr>\n",
       "      <th>...</th>\n",
       "      <td>...</td>\n",
       "      <td>...</td>\n",
       "      <td>...</td>\n",
       "    </tr>\n",
       "    <tr>\n",
       "      <th>32710</th>\n",
       "      <td>Malaysia says never hired British data firm at...</td>\n",
       "      <td>Mar 20 2018</td>\n",
       "      <td>malaysian govern rule parti tuesday deni ever ...</td>\n",
       "    </tr>\n",
       "    <tr>\n",
       "      <th>32711</th>\n",
       "      <td>Prosecutors search Volkswagen headquarters in ...</td>\n",
       "      <td>Mar 20 2018</td>\n",
       "      <td>german prosecutor said tuesday search volkswag...</td>\n",
       "    </tr>\n",
       "    <tr>\n",
       "      <th>32712</th>\n",
       "      <td>McDonald's sets greenhouse gas reduction targets</td>\n",
       "      <td>Mar 20 2018</td>\n",
       "      <td>mcdonald corp tuesday announc approv scienc ba...</td>\n",
       "    </tr>\n",
       "    <tr>\n",
       "      <th>32713</th>\n",
       "      <td>Pratt &amp; Whitney to deliver spare A320neo engin...</td>\n",
       "      <td>Mar 20 2018</td>\n",
       "      <td>pratt whitney soon begin deliveri spare engin ...</td>\n",
       "    </tr>\n",
       "    <tr>\n",
       "      <th>32714</th>\n",
       "      <td>UK will always consider ways to improve data l...</td>\n",
       "      <td>Mar 20 2018</td>\n",
       "      <td>britain consid suggest give bodi charg uphold ...</td>\n",
       "    </tr>\n",
       "  </tbody>\n",
       "</table>\n",
       "<p>35515 rows × 3 columns</p>\n",
       "</div>"
      ],
      "text/plain": [
       "                                               Headlines  \\\n",
       "0      Jim Cramer: A better way to invest in the Covi...   \n",
       "1         Cramer's lightning round: I would own Teradyne   \n",
       "2      Cramer's week ahead: Big week for earnings, ev...   \n",
       "3      IQ Capital CEO Keith Bliss says tech and healt...   \n",
       "4      Wall Street delivered the 'kind of pullback I'...   \n",
       "...                                                  ...   \n",
       "32710  Malaysia says never hired British data firm at...   \n",
       "32711  Prosecutors search Volkswagen headquarters in ...   \n",
       "32712   McDonald's sets greenhouse gas reduction targets   \n",
       "32713  Pratt & Whitney to deliver spare A320neo engin...   \n",
       "32714  UK will always consider ways to improve data l...   \n",
       "\n",
       "                                 Time  \\\n",
       "0       7:51  PM ET Fri, 17 July 2020   \n",
       "1       7:33  PM ET Fri, 17 July 2020   \n",
       "2       7:25  PM ET Fri, 17 July 2020   \n",
       "3       4:24  PM ET Fri, 17 July 2020   \n",
       "4       7:36  PM ET Thu, 16 July 2020   \n",
       "...                               ...   \n",
       "32710                     Mar 20 2018   \n",
       "32711                     Mar 20 2018   \n",
       "32712                     Mar 20 2018   \n",
       "32713                     Mar 20 2018   \n",
       "32714                     Mar 20 2018   \n",
       "\n",
       "                                             Description  \n",
       "0      mad money host jim cramer recommend buy four c...  \n",
       "1      mad money host jim cramer ring lightn round be...  \n",
       "2      well pay earn noncovid compani lancet publish ...  \n",
       "3      keith bliss iq capit ceo join close bell talk ...  \n",
       "4      look stock highqual compani go lower even thou...  \n",
       "...                                                  ...  \n",
       "32710  malaysian govern rule parti tuesday deni ever ...  \n",
       "32711  german prosecutor said tuesday search volkswag...  \n",
       "32712  mcdonald corp tuesday announc approv scienc ba...  \n",
       "32713  pratt whitney soon begin deliveri spare engin ...  \n",
       "32714  britain consid suggest give bodi charg uphold ...  \n",
       "\n",
       "[35515 rows x 3 columns]"
      ]
     },
     "execution_count": 37,
     "metadata": {},
     "output_type": "execute_result"
    }
   ],
   "source": [
    "# apply preprocessing to the description of new dataset\n",
    "\n",
    "cnbc_reu['Description'] = cnbc_reu['Description'].apply(preprocessing_text)\n",
    "cnbc_reu"
   ]
  },
  {
   "cell_type": "code",
   "execution_count": 38,
   "metadata": {
    "execution": {
     "iopub.execute_input": "2022-05-26T10:38:25.124643Z",
     "iopub.status.busy": "2022-05-26T10:38:25.123933Z",
     "iopub.status.idle": "2022-05-26T10:38:35.053709Z",
     "shell.execute_reply": "2022-05-26T10:38:35.052210Z",
     "shell.execute_reply.started": "2022-05-26T10:38:25.124594Z"
    },
    "id": "c9Aq-sQ7hYu_",
    "outputId": "6f50dd1a-ba4c-4708-82ea-ed7a75459a89"
   },
   "outputs": [
    {
     "data": {
      "text/html": [
       "<div>\n",
       "<style scoped>\n",
       "    .dataframe tbody tr th:only-of-type {\n",
       "        vertical-align: middle;\n",
       "    }\n",
       "\n",
       "    .dataframe tbody tr th {\n",
       "        vertical-align: top;\n",
       "    }\n",
       "\n",
       "    .dataframe thead th {\n",
       "        text-align: right;\n",
       "    }\n",
       "</style>\n",
       "<table border=\"1\" class=\"dataframe\">\n",
       "  <thead>\n",
       "    <tr style=\"text-align: right;\">\n",
       "      <th></th>\n",
       "      <th>Headlines</th>\n",
       "      <th>Time</th>\n",
       "      <th>Description</th>\n",
       "      <th>ds_score</th>\n",
       "    </tr>\n",
       "  </thead>\n",
       "  <tbody>\n",
       "    <tr>\n",
       "      <th>0</th>\n",
       "      <td>Jim Cramer: A better way to invest in the Covi...</td>\n",
       "      <td>7:51  PM ET Fri, 17 July 2020</td>\n",
       "      <td>mad money host jim cramer recommend buy four c...</td>\n",
       "      <td>Positive</td>\n",
       "    </tr>\n",
       "    <tr>\n",
       "      <th>1</th>\n",
       "      <td>Cramer's lightning round: I would own Teradyne</td>\n",
       "      <td>7:33  PM ET Fri, 17 July 2020</td>\n",
       "      <td>mad money host jim cramer ring lightn round be...</td>\n",
       "      <td>Negative</td>\n",
       "    </tr>\n",
       "    <tr>\n",
       "      <th>2</th>\n",
       "      <td>Cramer's week ahead: Big week for earnings, ev...</td>\n",
       "      <td>7:25  PM ET Fri, 17 July 2020</td>\n",
       "      <td>well pay earn noncovid compani lancet publish ...</td>\n",
       "      <td>Positive</td>\n",
       "    </tr>\n",
       "    <tr>\n",
       "      <th>3</th>\n",
       "      <td>IQ Capital CEO Keith Bliss says tech and healt...</td>\n",
       "      <td>4:24  PM ET Fri, 17 July 2020</td>\n",
       "      <td>keith bliss iq capit ceo join close bell talk ...</td>\n",
       "      <td>Positive</td>\n",
       "    </tr>\n",
       "    <tr>\n",
       "      <th>4</th>\n",
       "      <td>Wall Street delivered the 'kind of pullback I'...</td>\n",
       "      <td>7:36  PM ET Thu, 16 July 2020</td>\n",
       "      <td>look stock highqual compani go lower even thou...</td>\n",
       "      <td>Negative</td>\n",
       "    </tr>\n",
       "    <tr>\n",
       "      <th>...</th>\n",
       "      <td>...</td>\n",
       "      <td>...</td>\n",
       "      <td>...</td>\n",
       "      <td>...</td>\n",
       "    </tr>\n",
       "    <tr>\n",
       "      <th>32710</th>\n",
       "      <td>Malaysia says never hired British data firm at...</td>\n",
       "      <td>Mar 20 2018</td>\n",
       "      <td>malaysian govern rule parti tuesday deni ever ...</td>\n",
       "      <td>Neutral</td>\n",
       "    </tr>\n",
       "    <tr>\n",
       "      <th>32711</th>\n",
       "      <td>Prosecutors search Volkswagen headquarters in ...</td>\n",
       "      <td>Mar 20 2018</td>\n",
       "      <td>german prosecutor said tuesday search volkswag...</td>\n",
       "      <td>Neutral</td>\n",
       "    </tr>\n",
       "    <tr>\n",
       "      <th>32712</th>\n",
       "      <td>McDonald's sets greenhouse gas reduction targets</td>\n",
       "      <td>Mar 20 2018</td>\n",
       "      <td>mcdonald corp tuesday announc approv scienc ba...</td>\n",
       "      <td>Negative</td>\n",
       "    </tr>\n",
       "    <tr>\n",
       "      <th>32713</th>\n",
       "      <td>Pratt &amp; Whitney to deliver spare A320neo engin...</td>\n",
       "      <td>Mar 20 2018</td>\n",
       "      <td>pratt whitney soon begin deliveri spare engin ...</td>\n",
       "      <td>Negative</td>\n",
       "    </tr>\n",
       "    <tr>\n",
       "      <th>32714</th>\n",
       "      <td>UK will always consider ways to improve data l...</td>\n",
       "      <td>Mar 20 2018</td>\n",
       "      <td>britain consid suggest give bodi charg uphold ...</td>\n",
       "      <td>Positive</td>\n",
       "    </tr>\n",
       "  </tbody>\n",
       "</table>\n",
       "<p>35515 rows × 4 columns</p>\n",
       "</div>"
      ],
      "text/plain": [
       "                                               Headlines  \\\n",
       "0      Jim Cramer: A better way to invest in the Covi...   \n",
       "1         Cramer's lightning round: I would own Teradyne   \n",
       "2      Cramer's week ahead: Big week for earnings, ev...   \n",
       "3      IQ Capital CEO Keith Bliss says tech and healt...   \n",
       "4      Wall Street delivered the 'kind of pullback I'...   \n",
       "...                                                  ...   \n",
       "32710  Malaysia says never hired British data firm at...   \n",
       "32711  Prosecutors search Volkswagen headquarters in ...   \n",
       "32712   McDonald's sets greenhouse gas reduction targets   \n",
       "32713  Pratt & Whitney to deliver spare A320neo engin...   \n",
       "32714  UK will always consider ways to improve data l...   \n",
       "\n",
       "                                 Time  \\\n",
       "0       7:51  PM ET Fri, 17 July 2020   \n",
       "1       7:33  PM ET Fri, 17 July 2020   \n",
       "2       7:25  PM ET Fri, 17 July 2020   \n",
       "3       4:24  PM ET Fri, 17 July 2020   \n",
       "4       7:36  PM ET Thu, 16 July 2020   \n",
       "...                               ...   \n",
       "32710                     Mar 20 2018   \n",
       "32711                     Mar 20 2018   \n",
       "32712                     Mar 20 2018   \n",
       "32713                     Mar 20 2018   \n",
       "32714                     Mar 20 2018   \n",
       "\n",
       "                                             Description  ds_score  \n",
       "0      mad money host jim cramer recommend buy four c...  Positive  \n",
       "1      mad money host jim cramer ring lightn round be...  Negative  \n",
       "2      well pay earn noncovid compani lancet publish ...  Positive  \n",
       "3      keith bliss iq capit ceo join close bell talk ...  Positive  \n",
       "4      look stock highqual compani go lower even thou...  Negative  \n",
       "...                                                  ...       ...  \n",
       "32710  malaysian govern rule parti tuesday deni ever ...   Neutral  \n",
       "32711  german prosecutor said tuesday search volkswag...   Neutral  \n",
       "32712  mcdonald corp tuesday announc approv scienc ba...  Negative  \n",
       "32713  pratt whitney soon begin deliveri spare engin ...  Negative  \n",
       "32714  britain consid suggest give bodi charg uphold ...  Positive  \n",
       "\n",
       "[35515 rows x 4 columns]"
      ]
     },
     "execution_count": 38,
     "metadata": {},
     "output_type": "execute_result"
    }
   ],
   "source": [
    "# apply the function  which decides sentiment to  polarity score column\n",
    "\n",
    "df = sentiment_analysis(cnbc_reu, 'Description')\n",
    "df"
   ]
  },
  {
   "cell_type": "markdown",
   "metadata": {},
   "source": [
    "**In above we added the target column which has 3 classes (Positive, Negative, Neutral) to the dataset** "
   ]
  },
  {
   "cell_type": "code",
   "execution_count": 39,
   "metadata": {
    "execution": {
     "iopub.execute_input": "2022-05-26T10:38:35.057764Z",
     "iopub.status.busy": "2022-05-26T10:38:35.056953Z",
     "iopub.status.idle": "2022-05-26T10:38:35.284886Z",
     "shell.execute_reply": "2022-05-26T10:38:35.283821Z",
     "shell.execute_reply.started": "2022-05-26T10:38:35.057711Z"
    },
    "id": "BMaNV0ayeBoI",
    "outputId": "34766863-6362-45a5-c27d-a7baf76e6223"
   },
   "outputs": [
    {
     "data": {
      "image/png": "[encoded data removed]",
      "text/plain": [
       "<Figure size 432x288 with 1 Axes>"
      ]
     },
     "metadata": {
      "needs_background": "light"
     },
     "output_type": "display_data"
    }
   ],
   "source": [
    "# plot a count plot on description score column\n",
    "\n",
    "sns.countplot(x='ds_score', data=df);"
   ]
  },
  {
   "cell_type": "markdown",
   "metadata": {
    "id": "r5q_doOjIQu-"
   },
   "source": [
    "In the description \n",
    "\n",
    "there are approximately\n",
    "\n",
    "15000 positive statment\n",
    "\n",
    "12000 negative statment\n",
    "\n",
    "8000 neutral statment"
   ]
  },
  {
   "cell_type": "code",
   "execution_count": 40,
   "metadata": {
    "execution": {
     "iopub.execute_input": "2022-05-26T10:38:35.287933Z",
     "iopub.status.busy": "2022-05-26T10:38:35.287297Z",
     "iopub.status.idle": "2022-05-26T10:38:35.296456Z",
     "shell.execute_reply": "2022-05-26T10:38:35.295804Z",
     "shell.execute_reply.started": "2022-05-26T10:38:35.287895Z"
    }
   },
   "outputs": [
    {
     "data": {
      "text/plain": [
       "Positive    15067\n",
       "Negative    12279\n",
       "Neutral      8169\n",
       "Name: ds_score, dtype: int64"
      ]
     },
     "execution_count": 40,
     "metadata": {},
     "output_type": "execute_result"
    }
   ],
   "source": [
    "df['ds_score'].value_counts()"
   ]
  },
  {
   "cell_type": "code",
   "execution_count": 41,
   "metadata": {
    "execution": {
     "iopub.execute_input": "2022-05-26T10:38:35.297968Z",
     "iopub.status.busy": "2022-05-26T10:38:35.297532Z",
     "iopub.status.idle": "2022-05-26T10:38:35.396665Z",
     "shell.execute_reply": "2022-05-26T10:38:35.395245Z",
     "shell.execute_reply.started": "2022-05-26T10:38:35.297936Z"
    },
    "id": "ptvoU5apeN4N",
    "outputId": "32e707ce-18f6-4fdc-a06d-f20e8322d5b3"
   },
   "outputs": [
    {
     "data": {
      "image/png": "[encoded data removed]",
      "text/plain": [
       "<Figure size 432x288 with 1 Axes>"
      ]
     },
     "metadata": {},
     "output_type": "display_data"
    }
   ],
   "source": [
    "# pie chart on description score column\n",
    "\n",
    "plt.pie([15000, 12000, 8000], explode=[0.1,0,0], labels=['Positive','Negative','Neutral'], autopct='%.1f', startangle=90)\n",
    "plt.show()"
   ]
  },
  {
   "cell_type": "markdown",
   "metadata": {
    "id": "5o3Z-0KhHm2w"
   },
   "source": [
    "In the dataset \n",
    "\n",
    "description contains\n",
    "\n",
    "42.9% positive statments\n",
    "\n",
    "34.3% negtive statements\n",
    "\n",
    "22.9% neutral statments"
   ]
  },
  {
   "cell_type": "markdown",
   "metadata": {
    "id": "wgt0f3fKfakl"
   },
   "source": [
    "# Modelling on description based dataset "
   ]
  },
  {
   "cell_type": "code",
   "execution_count": 42,
   "metadata": {
    "execution": {
     "iopub.execute_input": "2022-05-26T10:38:35.399262Z",
     "iopub.status.busy": "2022-05-26T10:38:35.398612Z",
     "iopub.status.idle": "2022-05-26T10:38:35.420874Z",
     "shell.execute_reply": "2022-05-26T10:38:35.419609Z",
     "shell.execute_reply.started": "2022-05-26T10:38:35.399212Z"
    },
    "id": "pOd6wPeUhYd2"
   },
   "outputs": [
    {
     "name": "stdout",
     "output_type": "stream",
     "text": [
      "(31963,) (3552,) (31963,) (3552,)\n"
     ]
    }
   ],
   "source": [
    "# split the dataset  into test and train \n",
    "\n",
    "from sklearn.model_selection import train_test_split\n",
    "\n",
    "X = df['Description']\n",
    "y = df.ds_score\n",
    "\n",
    "X_train, X_test, y_train, y_test = train_test_split(X, y, test_size=0.1, random_state=212)\n",
    "print(X_train.shape, X_test.shape, y_train.shape, y_test.shape)\n"
   ]
  },
  {
   "cell_type": "markdown",
   "metadata": {},
   "source": [
    "Let's try to apply some of known Machine learning classification algorithms and compare their performances"
   ]
  },
  {
   "cell_type": "markdown",
   "metadata": {
    "id": "hVuDdLFJkFSb"
   },
   "source": [
    "### LINEAR SUPPORT VECTOR MACHINE\n"
   ]
  },
  {
   "cell_type": "code",
   "execution_count": 43,
   "metadata": {
    "execution": {
     "iopub.execute_input": "2022-05-26T10:38:35.423477Z",
     "iopub.status.busy": "2022-05-26T10:38:35.422887Z",
     "iopub.status.idle": "2022-05-26T10:38:37.325034Z",
     "shell.execute_reply": "2022-05-26T10:38:37.323657Z",
     "shell.execute_reply.started": "2022-05-26T10:38:35.423431Z"
    },
    "id": "exk6nRwomgAt",
    "outputId": "5de5fd8f-a60c-4317-9c81-2baf81621a40"
   },
   "outputs": [
    {
     "name": "stdout",
     "output_type": "stream",
     "text": [
      "MODEL: LINEAR SVC\n",
      "accuarcy score:  0.932713963963964\n",
      "Confusion matrix:  [[1123   45   71]\n",
      " [  22  762   20]\n",
      " [  50   31 1428]]\n",
      "              precision    recall  f1-score   support\n",
      "\n",
      "    Negative       0.94      0.91      0.92      1239\n",
      "     Neutral       0.91      0.95      0.93       804\n",
      "    Positive       0.94      0.95      0.94      1509\n",
      "\n",
      "    accuracy                           0.93      3552\n",
      "   macro avg       0.93      0.93      0.93      3552\n",
      "weighted avg       0.93      0.93      0.93      3552\n",
      "\n",
      "CPU times: user 1.9 s, sys: 101 ms, total: 2 s\n",
      "Wall time: 1.89 s\n"
     ]
    }
   ],
   "source": [
    "%%time\n",
    "# pipeline creation\n",
    "# 1. tfidVectorization\n",
    "# 2. linearSVC model\n",
    "\n",
    "from sklearn.feature_extraction.text import TfidfVectorizer\n",
    "from sklearn.svm import LinearSVC\n",
    "from sklearn.pipeline import Pipeline\n",
    "from sklearn.metrics import accuracy_score, precision_score, recall_score, confusion_matrix, classification_report,f1_score\n",
    "\n",
    "\n",
    "# Fit the pipeline to the data\n",
    "lin_svc_ds = Pipeline([('tfidf', TfidfVectorizer()),\n",
    "                      ('lin_svc', LinearSVC())])\n",
    "\n",
    "lin_svc_ds.fit(X_train, y_train)\n",
    "\n",
    "# predict on test dataset\n",
    "pred = lin_svc_ds.predict(X_test)\n",
    "\n",
    "print(\"MODEL: LINEAR SVC\")\n",
    "\n",
    "# print accuracy score\n",
    "print(\"accuarcy score: \", accuracy_score(y_test, pred))\n",
    "\n",
    "#print confusion matrix\n",
    "print(\"Confusion matrix: \", confusion_matrix(y_test, pred))\n",
    "\n",
    "#print classification report\n",
    "print(classification_report(y_test, pred))"
   ]
  },
  {
   "cell_type": "markdown",
   "metadata": {
    "id": "6Qq4dK32kBpM"
   },
   "source": [
    "### LOGISTIC REGRESSION\n"
   ]
  },
  {
   "cell_type": "code",
   "execution_count": 44,
   "metadata": {
    "execution": {
     "iopub.execute_input": "2022-05-26T10:38:37.326608Z",
     "iopub.status.busy": "2022-05-26T10:38:37.326266Z",
     "iopub.status.idle": "2022-05-26T10:38:46.645778Z",
     "shell.execute_reply": "2022-05-26T10:38:46.644693Z",
     "shell.execute_reply.started": "2022-05-26T10:38:37.326577Z"
    },
    "id": "0w0yNn2_mf_s",
    "outputId": "17175fb5-83c7-4204-f358-42007a8f2168"
   },
   "outputs": [
    {
     "name": "stderr",
     "output_type": "stream",
     "text": [
      "/opt/conda/lib/python3.7/site-packages/sklearn/linear_model/_logistic.py:818: ConvergenceWarning: lbfgs failed to converge (status=1):\n",
      "STOP: TOTAL NO. of ITERATIONS REACHED LIMIT.\n",
      "\n",
      "Increase the number of iterations (max_iter) or scale the data as shown in:\n",
      "    https://scikit-learn.org/stable/modules/preprocessing.html\n",
      "Please also refer to the documentation for alternative solver options:\n",
      "    https://scikit-learn.org/stable/modules/linear_model.html#logistic-regression\n",
      "  extra_warning_msg=_LOGISTIC_SOLVER_CONVERGENCE_MSG,\n"
     ]
    },
    {
     "name": "stdout",
     "output_type": "stream",
     "text": [
      "MODEL: LOGISTIC REGRESSION\n",
      "accuarcy score:  0.892454954954955\n",
      "Confusion matrix:  [[1054   78  107]\n",
      " [  39  729   36]\n",
      " [  74   48 1387]]\n",
      "              precision    recall  f1-score   support\n",
      "\n",
      "    Negative       0.90      0.85      0.88      1239\n",
      "     Neutral       0.85      0.91      0.88       804\n",
      "    Positive       0.91      0.92      0.91      1509\n",
      "\n",
      "    accuracy                           0.89      3552\n",
      "   macro avg       0.89      0.89      0.89      3552\n",
      "weighted avg       0.89      0.89      0.89      3552\n",
      "\n",
      "CPU times: user 15.8 s, sys: 17.4 s, total: 33.2 s\n",
      "Wall time: 9.31 s\n"
     ]
    }
   ],
   "source": [
    "%%time\n",
    "# pipeline creation \n",
    "# 1. CountVectorization\n",
    "# 2. TfidTransformer\n",
    "# 3. Logistic Regression\n",
    "\n",
    "from sklearn.feature_extraction.text import CountVectorizer, TfidfTransformer\n",
    "from sklearn.linear_model import LogisticRegression\n",
    "\n",
    "\n",
    "# Fit the pipeline to the data\n",
    "log_reg_ds = Pipeline([('count_vec', CountVectorizer()),\n",
    "                      ('tfidf', TfidfTransformer()),\n",
    "                      ('log_reg', LogisticRegression())])\n",
    "\n",
    "log_reg_ds.fit(X_train, y_train)\n",
    "\n",
    "# predict on test dataset\n",
    "pred = log_reg_ds.predict(X_test)\n",
    "\n",
    "print(\"MODEL: LOGISTIC REGRESSION\")\n",
    "\n",
    "# print accuracy score\n",
    "print(\"accuarcy score: \", accuracy_score(y_test, pred))\n",
    "\n",
    "#print confusion matrix\n",
    "print(\"Confusion matrix: \", confusion_matrix(y_test, pred))\n",
    "\n",
    "#print classification report\n",
    "print(classification_report(y_test, pred))\n",
    " "
   ]
  },
  {
   "cell_type": "markdown",
   "metadata": {
    "id": "XbFrK_pXj-HC"
   },
   "source": [
    "### MULTINOMIAL NAIVE BAYES\n"
   ]
  },
  {
   "cell_type": "code",
   "execution_count": 45,
   "metadata": {
    "execution": {
     "iopub.execute_input": "2022-05-26T10:38:46.647866Z",
     "iopub.status.busy": "2022-05-26T10:38:46.647037Z",
     "iopub.status.idle": "2022-05-26T10:38:47.635271Z",
     "shell.execute_reply": "2022-05-26T10:38:47.634278Z",
     "shell.execute_reply.started": "2022-05-26T10:38:46.647829Z"
    },
    "id": "ag3ceKiEmfxR",
    "outputId": "2d14e551-23eb-4ced-d133-e5fd561f7c72"
   },
   "outputs": [
    {
     "name": "stdout",
     "output_type": "stream",
     "text": [
      "MODEL: Multinomial NB\n",
      "accuarcy score:  0.6396396396396397\n",
      "Confusion matrix:  [[ 808    8  423]\n",
      " [ 150   86  568]\n",
      " [ 128    3 1378]]\n",
      "              precision    recall  f1-score   support\n",
      "\n",
      "    Negative       0.74      0.65      0.70      1239\n",
      "     Neutral       0.89      0.11      0.19       804\n",
      "    Positive       0.58      0.91      0.71      1509\n",
      "\n",
      "    accuracy                           0.64      3552\n",
      "   macro avg       0.74      0.56      0.53      3552\n",
      "weighted avg       0.71      0.64      0.59      3552\n",
      "\n",
      "CPU times: user 972 ms, sys: 8.68 ms, total: 980 ms\n",
      "Wall time: 981 ms\n"
     ]
    }
   ],
   "source": [
    "%%time\n",
    "# pipeline creation \n",
    "# 1. CountVectorizer\n",
    "# 2. TfidTransformer\n",
    "# 3. MultinomialNB\n",
    " \n",
    "from sklearn.naive_bayes import MultinomialNB\n",
    "\n",
    "\n",
    "# Fit the pipeline to the data\n",
    "multi_nb_ds = Pipeline([('count_vec', CountVectorizer()),\n",
    "                      ('tfidf', TfidfTransformer()),\n",
    "                      ('multi_nb', MultinomialNB())])\n",
    "\n",
    "multi_nb_ds.fit(X_train, y_train)\n",
    "\n",
    "# predict on test dataset\n",
    "pred = multi_nb_ds.predict(X_test)\n",
    "\n",
    "print(\"MODEL: Multinomial NB\")\n",
    "\n",
    "# print accuracy score\n",
    "print(\"accuarcy score: \", accuracy_score(y_test, pred))\n",
    "\n",
    "#print confusion matrix\n",
    "print(\"Confusion matrix: \", confusion_matrix(y_test, pred))\n",
    "\n",
    "#print classification report\n",
    "print(classification_report(y_test, pred))\n",
    " "
   ]
  },
  {
   "cell_type": "markdown",
   "metadata": {
    "id": "-79YSosbj7HP"
   },
   "source": [
    "### BERNOULLI NAIVE BAYES\n"
   ]
  },
  {
   "cell_type": "code",
   "execution_count": 46,
   "metadata": {
    "execution": {
     "iopub.execute_input": "2022-05-26T10:38:47.637351Z",
     "iopub.status.busy": "2022-05-26T10:38:47.636906Z",
     "iopub.status.idle": "2022-05-26T10:38:48.615391Z",
     "shell.execute_reply": "2022-05-26T10:38:48.614226Z",
     "shell.execute_reply.started": "2022-05-26T10:38:47.637306Z"
    },
    "id": "N-ftjtoEmfsP",
    "outputId": "fc46a6c1-da3e-46e4-a2f1-37e562cf708c"
   },
   "outputs": [
    {
     "name": "stdout",
     "output_type": "stream",
     "text": [
      "MODEL: Bernoulli's NB\n",
      "accuarcy score:  0.7395833333333334\n",
      "Confusion matrix:  [[ 919   56  264]\n",
      " [ 135  480  189]\n",
      " [ 210   71 1228]]\n",
      "              precision    recall  f1-score   support\n",
      "\n",
      "    Negative       0.73      0.74      0.73      1239\n",
      "     Neutral       0.79      0.60      0.68       804\n",
      "    Positive       0.73      0.81      0.77      1509\n",
      "\n",
      "    accuracy                           0.74      3552\n",
      "   macro avg       0.75      0.72      0.73      3552\n",
      "weighted avg       0.74      0.74      0.74      3552\n",
      "\n",
      "CPU times: user 968 ms, sys: 3.86 ms, total: 972 ms\n",
      "Wall time: 971 ms\n"
     ]
    }
   ],
   "source": [
    "%%time\n",
    "# pipeline creation \n",
    "# 1. CountVectorizer\n",
    "# 2. TfidTransformer\n",
    "# 3. BernoulliNB\n",
    "\n",
    "from sklearn.naive_bayes import BernoulliNB\n",
    "\n",
    "\n",
    "# Fit the pipeline to the data\n",
    "bern_nb_ds = Pipeline([('count_vec', CountVectorizer()),\n",
    "                      ('tfidf', TfidfTransformer()),\n",
    "                      ('bern_nb', BernoulliNB())])\n",
    "\n",
    "bern_nb_ds.fit(X_train, y_train)\n",
    "\n",
    "# predict on test dataset\n",
    "pred = bern_nb_ds.predict(X_test)\n",
    "\n",
    "print(\"MODEL: Bernoulli's NB\")\n",
    "\n",
    "# print accuracy score\n",
    "print(\"accuarcy score: \", accuracy_score(y_test, pred))\n",
    "\n",
    "#print confusion matrix\n",
    "print(\"Confusion matrix: \", confusion_matrix(y_test, pred))\n",
    "\n",
    "#print classification report\n",
    "print(classification_report(y_test, pred))\n"
   ]
  },
  {
   "cell_type": "markdown",
   "metadata": {
    "id": "DDcEnl9uj3yl"
   },
   "source": [
    "### GRADIENT BOOSTING CLASSIFICATION MODEL\n"
   ]
  },
  {
   "cell_type": "code",
   "execution_count": 47,
   "metadata": {
    "execution": {
     "iopub.execute_input": "2022-05-26T10:38:48.617623Z",
     "iopub.status.busy": "2022-05-26T10:38:48.617108Z",
     "iopub.status.idle": "2022-05-26T10:40:02.426379Z",
     "shell.execute_reply": "2022-05-26T10:40:02.425329Z",
     "shell.execute_reply.started": "2022-05-26T10:38:48.617574Z"
    },
    "id": "vTT-HmujmfrR",
    "outputId": "8987cfa9-952f-4c27-cd42-452a26a479bb"
   },
   "outputs": [
    {
     "name": "stdout",
     "output_type": "stream",
     "text": [
      "MODEL: Gradient Boosting\n",
      "accuarcy score:  0.8386824324324325\n",
      "Confusion matrix:  [[ 902  168  169]\n",
      " [  11  784    9]\n",
      " [  69  147 1293]]\n",
      "              precision    recall  f1-score   support\n",
      "\n",
      "    Negative       0.92      0.73      0.81      1239\n",
      "     Neutral       0.71      0.98      0.82       804\n",
      "    Positive       0.88      0.86      0.87      1509\n",
      "\n",
      "    accuracy                           0.84      3552\n",
      "   macro avg       0.84      0.85      0.83      3552\n",
      "weighted avg       0.86      0.84      0.84      3552\n",
      "\n",
      "CPU times: user 1min 13s, sys: 28.4 ms, total: 1min 13s\n",
      "Wall time: 1min 13s\n"
     ]
    }
   ],
   "source": [
    "%%time\n",
    "# pipeline creation \n",
    "# 1. CountVectorizer\n",
    "# 2. TfidTransformer\n",
    "# 3. GradientBoostingClassifier\n",
    "\n",
    "from sklearn.ensemble import GradientBoostingClassifier\n",
    "\n",
    "\n",
    "# Fit the pipeline to the data\n",
    "grad_boost_ds = Pipeline([('count_vec', CountVectorizer()),\n",
    "                      ('tfidf', TfidfTransformer()),\n",
    "                      ('grad_boost', GradientBoostingClassifier())])\n",
    "\n",
    "grad_boost_ds.fit(X_train, y_train)\n",
    "\n",
    "# predict on test dataset\n",
    "pred = grad_boost_ds.predict(X_test)\n",
    "\n",
    "print(\"MODEL: Gradient Boosting\")\n",
    "\n",
    "# print accuracy score\n",
    "print(\"accuarcy score: \", accuracy_score(y_test, pred))\n",
    "\n",
    "#print confusion matrix\n",
    "print(\"Confusion matrix: \", confusion_matrix(y_test, pred))\n",
    "\n",
    "#print classification report\n",
    "print(classification_report(y_test, pred))\n"
   ]
  },
  {
   "cell_type": "markdown",
   "metadata": {
    "id": "hwMk-HFAjzP-"
   },
   "source": [
    "### XGBOOST CLASSIFICATION MODEL\n"
   ]
  },
  {
   "cell_type": "code",
   "execution_count": 48,
   "metadata": {
    "execution": {
     "iopub.execute_input": "2022-05-26T10:40:02.428156Z",
     "iopub.status.busy": "2022-05-26T10:40:02.427743Z",
     "iopub.status.idle": "2022-05-26T10:40:46.322235Z",
     "shell.execute_reply": "2022-05-26T10:40:46.321515Z",
     "shell.execute_reply.started": "2022-05-26T10:40:02.428122Z"
    },
    "id": "1M8E7hmnmfn1",
    "outputId": "739370a5-ba74-4119-8f09-591adaed55f7"
   },
   "outputs": [
    {
     "name": "stdout",
     "output_type": "stream",
     "text": [
      "MODEL: XG Boost\n",
      "accuarcy score:  0.8856981981981982\n",
      "Confusion matrix:  [[ 996  128  115]\n",
      " [  12  785    7]\n",
      " [  53   91 1365]]\n",
      "              precision    recall  f1-score   support\n",
      "\n",
      "           0       0.94      0.80      0.87      1239\n",
      "           1       0.78      0.98      0.87       804\n",
      "           2       0.92      0.90      0.91      1509\n",
      "\n",
      "    accuracy                           0.89      3552\n",
      "   macro avg       0.88      0.89      0.88      3552\n",
      "weighted avg       0.89      0.89      0.89      3552\n",
      "\n",
      "CPU times: user 2min 50s, sys: 113 ms, total: 2min 50s\n",
      "Wall time: 43.9 s\n"
     ]
    }
   ],
   "source": [
    "%%time\n",
    "# pipeline creation \n",
    "# 1. CountVectorizer\n",
    "# 2. TfidTransformer\n",
    "# 3. XGBClassifier\n",
    "\n",
    "from xgboost import XGBClassifier\n",
    "from sklearn.preprocessing import LabelEncoder\n",
    "\n",
    "\n",
    "# Fit the pipeline to the data\n",
    "xg_boost_ds = Pipeline([('count_vec', CountVectorizer()),\n",
    "                      ('tfidf', TfidfTransformer()),\n",
    "                      ('xgb', XGBClassifier())])\n",
    "\n",
    "encoder = LabelEncoder()\n",
    "enc_train = encoder.fit_transform(y_train)\n",
    "enc_test = encoder.fit_transform(y_test)\n",
    "\n",
    "xg_boost_ds.fit(X_train, enc_train)\n",
    "\n",
    "# predict on test dataset\n",
    "pred = xg_boost_ds.predict(X_test)\n",
    "\n",
    "print(\"MODEL: XG Boost\")\n",
    "\n",
    "# print accuracy score\n",
    "print(\"accuarcy score: \", accuracy_score(enc_test, pred))\n",
    "\n",
    "#print confusion matrix\n",
    "print(\"Confusion matrix: \", confusion_matrix(enc_test, pred))\n",
    "\n",
    "#print classification report\n",
    "print(classification_report(enc_test, pred))\n"
   ]
  },
  {
   "cell_type": "markdown",
   "metadata": {},
   "source": [
    "### Metrics comparison for above models (performance measurement)"
   ]
  },
  {
   "cell_type": "code",
   "execution_count": 49,
   "metadata": {
    "execution": {
     "iopub.execute_input": "2022-05-26T10:40:46.323892Z",
     "iopub.status.busy": "2022-05-26T10:40:46.323393Z",
     "iopub.status.idle": "2022-05-26T10:40:46.332540Z",
     "shell.execute_reply": "2022-05-26T10:40:46.331604Z",
     "shell.execute_reply.started": "2022-05-26T10:40:46.323853Z"
    },
    "id": "MlOKo4d2wkm3"
   },
   "outputs": [],
   "source": [
    "# helper function for comparing models matric\n",
    "\n",
    "def metrics_comparison(model_objects, model_names, X_test, y_test, enc_test):\n",
    "    \n",
    "    # create a dataframe with column matric and metric name as value\n",
    "    metrics_df = pd.DataFrame(columns=['model_names','accuracy','precision','recall','f1_score'])\n",
    "    metrics_df['model_names'] = model_names\n",
    "   \n",
    "    # then predict on the test set\n",
    "    metrics_df['accuracy'] = [accuracy_score(y_test, model.predict(X_test)) if model != xg_boost_ds else accuracy_score(enc_test, model.predict(X_test)) for model in model_objects]\n",
    "    metrics_df['precision'] = [precision_score(y_test, model.predict(X_test),average='weighted') if model != xg_boost_ds else precision_score(enc_test, model.predict(X_test), average='weighted') for model in model_objects]\n",
    "    metrics_df['recall'] = [recall_score(y_test, model.predict(X_test),average='weighted') if model != xg_boost_ds else recall_score(enc_test, model.predict(X_test),average='weighted') for model in model_objects]\n",
    "    metrics_df['f1_score'] = [f1_score(y_test, model.predict(X_test),average='weighted') if model != xg_boost_ds else f1_score(enc_test, model.predict(X_test), average='weighted') for model in model_objects]\n",
    "    \n",
    "    return metrics_df"
   ]
  },
  {
   "cell_type": "code",
   "execution_count": 50,
   "metadata": {
    "execution": {
     "iopub.execute_input": "2022-05-26T10:40:46.334680Z",
     "iopub.status.busy": "2022-05-26T10:40:46.334035Z",
     "iopub.status.idle": "2022-05-26T10:40:48.521034Z",
     "shell.execute_reply": "2022-05-26T10:40:48.520350Z",
     "shell.execute_reply.started": "2022-05-26T10:40:46.334634Z"
    },
    "id": "4A6ZI1hQwkhO",
    "outputId": "bd76815b-6c62-4ff0-c201-5ef627257d9e"
   },
   "outputs": [
    {
     "data": {
      "text/html": [
       "<div>\n",
       "<style scoped>\n",
       "    .dataframe tbody tr th:only-of-type {\n",
       "        vertical-align: middle;\n",
       "    }\n",
       "\n",
       "    .dataframe tbody tr th {\n",
       "        vertical-align: top;\n",
       "    }\n",
       "\n",
       "    .dataframe thead th {\n",
       "        text-align: right;\n",
       "    }\n",
       "</style>\n",
       "<table border=\"1\" class=\"dataframe\">\n",
       "  <thead>\n",
       "    <tr style=\"text-align: right;\">\n",
       "      <th></th>\n",
       "      <th>model_names</th>\n",
       "      <th>accuracy</th>\n",
       "      <th>precision</th>\n",
       "      <th>recall</th>\n",
       "      <th>f1_score</th>\n",
       "    </tr>\n",
       "  </thead>\n",
       "  <tbody>\n",
       "    <tr>\n",
       "      <th>0</th>\n",
       "      <td>LinearSVC</td>\n",
       "      <td>0.932714</td>\n",
       "      <td>0.933004</td>\n",
       "      <td>0.932714</td>\n",
       "      <td>0.932659</td>\n",
       "    </tr>\n",
       "    <tr>\n",
       "      <th>1</th>\n",
       "      <td>LogRegression</td>\n",
       "      <td>0.892455</td>\n",
       "      <td>0.893161</td>\n",
       "      <td>0.892455</td>\n",
       "      <td>0.892327</td>\n",
       "    </tr>\n",
       "    <tr>\n",
       "      <th>2</th>\n",
       "      <td>MultinomialNB</td>\n",
       "      <td>0.639640</td>\n",
       "      <td>0.707324</td>\n",
       "      <td>0.639640</td>\n",
       "      <td>0.587574</td>\n",
       "    </tr>\n",
       "    <tr>\n",
       "      <th>3</th>\n",
       "      <td>BernoulliNB</td>\n",
       "      <td>0.739583</td>\n",
       "      <td>0.742950</td>\n",
       "      <td>0.739583</td>\n",
       "      <td>0.737226</td>\n",
       "    </tr>\n",
       "    <tr>\n",
       "      <th>4</th>\n",
       "      <td>GradientBoost</td>\n",
       "      <td>0.838682</td>\n",
       "      <td>0.855298</td>\n",
       "      <td>0.838682</td>\n",
       "      <td>0.838493</td>\n",
       "    </tr>\n",
       "    <tr>\n",
       "      <th>5</th>\n",
       "      <td>XGBoost</td>\n",
       "      <td>0.885698</td>\n",
       "      <td>0.894402</td>\n",
       "      <td>0.885698</td>\n",
       "      <td>0.885774</td>\n",
       "    </tr>\n",
       "  </tbody>\n",
       "</table>\n",
       "</div>"
      ],
      "text/plain": [
       "     model_names  accuracy  precision    recall  f1_score\n",
       "0      LinearSVC  0.932714   0.933004  0.932714  0.932659\n",
       "1  LogRegression  0.892455   0.893161  0.892455  0.892327\n",
       "2  MultinomialNB  0.639640   0.707324  0.639640  0.587574\n",
       "3    BernoulliNB  0.739583   0.742950  0.739583  0.737226\n",
       "4  GradientBoost  0.838682   0.855298  0.838682  0.838493\n",
       "5        XGBoost  0.885698   0.894402  0.885698  0.885774"
      ]
     },
     "execution_count": 50,
     "metadata": {},
     "output_type": "execute_result"
    }
   ],
   "source": [
    "# list of model objects\n",
    "model_objects = [lin_svc_ds, log_reg_ds, multi_nb_ds, bern_nb_ds, grad_boost_ds, xg_boost_ds]\n",
    "\n",
    "# list of model names\n",
    "model_names = ['LinearSVC', 'LogRegression','MultinomialNB','BernoulliNB','GradientBoost','XGBoost']\n",
    "\n",
    "# print the comparison of models\n",
    "met_df = metrics_comparison(model_objects,model_names, X_test, y_test, enc_test)\n",
    "met_df\n"
   ]
  },
  {
   "cell_type": "markdown",
   "metadata": {},
   "source": [
    "> From above metrics comparison, we could confirm that Linear SVC model performs better than all other models"
   ]
  },
  {
   "cell_type": "markdown",
   "metadata": {
    "id": "YxNC09uekdZH"
   },
   "source": [
    "# working with test dataset"
   ]
  },
  {
   "cell_type": "code",
   "execution_count": 51,
   "metadata": {
    "execution": {
     "iopub.execute_input": "2022-05-26T10:40:48.522624Z",
     "iopub.status.busy": "2022-05-26T10:40:48.521948Z",
     "iopub.status.idle": "2022-05-26T10:40:48.603541Z",
     "shell.execute_reply": "2022-05-26T10:40:48.602822Z",
     "shell.execute_reply.started": "2022-05-26T10:40:48.522590Z"
    },
    "id": "P_XD4m1Fkh3i",
    "outputId": "bfaa4a5b-f52a-4064-8e5c-66b939deab41"
   },
   "outputs": [
    {
     "data": {
      "text/plain": [
       "array(['Negative', 'Positive', 'Positive', ..., 'Positive', 'Positive',\n",
       "       'Positive'], dtype=object)"
      ]
     },
     "execution_count": 51,
     "metadata": {},
     "output_type": "execute_result"
    }
   ],
   "source": [
    "# Perforn the prediction on the test dataset\n",
    "pred = lin_svc_ds.predict(X_test)\n",
    "pred"
   ]
  },
  {
   "cell_type": "code",
   "execution_count": 52,
   "metadata": {
    "execution": {
     "iopub.execute_input": "2022-05-26T10:40:48.604927Z",
     "iopub.status.busy": "2022-05-26T10:40:48.604530Z",
     "iopub.status.idle": "2022-05-26T10:40:48.609143Z",
     "shell.execute_reply": "2022-05-26T10:40:48.608182Z",
     "shell.execute_reply.started": "2022-05-26T10:40:48.604898Z"
    },
    "id": "U4cHKaw6khr_"
   },
   "outputs": [],
   "source": [
    "# creating a dataframe of predicted results \n",
    "pred = pd.DataFrame(pred, columns=['predictions'])"
   ]
  },
  {
   "cell_type": "code",
   "execution_count": 53,
   "metadata": {
    "execution": {
     "iopub.execute_input": "2022-05-26T10:40:48.611066Z",
     "iopub.status.busy": "2022-05-26T10:40:48.610644Z",
     "iopub.status.idle": "2022-05-26T10:40:48.627429Z",
     "shell.execute_reply": "2022-05-26T10:40:48.626535Z",
     "shell.execute_reply.started": "2022-05-26T10:40:48.611031Z"
    },
    "id": "91noUUWikhD5",
    "outputId": "f0787fe5-700e-46e6-8f70-b83d36bfa83f"
   },
   "outputs": [
    {
     "data": {
      "text/html": [
       "<div>\n",
       "<style scoped>\n",
       "    .dataframe tbody tr th:only-of-type {\n",
       "        vertical-align: middle;\n",
       "    }\n",
       "\n",
       "    .dataframe tbody tr th {\n",
       "        vertical-align: top;\n",
       "    }\n",
       "\n",
       "    .dataframe thead th {\n",
       "        text-align: right;\n",
       "    }\n",
       "</style>\n",
       "<table border=\"1\" class=\"dataframe\">\n",
       "  <thead>\n",
       "    <tr style=\"text-align: right;\">\n",
       "      <th></th>\n",
       "      <th>predictions</th>\n",
       "    </tr>\n",
       "  </thead>\n",
       "  <tbody>\n",
       "    <tr>\n",
       "      <th>0</th>\n",
       "      <td>Negative</td>\n",
       "    </tr>\n",
       "    <tr>\n",
       "      <th>1</th>\n",
       "      <td>Positive</td>\n",
       "    </tr>\n",
       "    <tr>\n",
       "      <th>2</th>\n",
       "      <td>Positive</td>\n",
       "    </tr>\n",
       "    <tr>\n",
       "      <th>3</th>\n",
       "      <td>Positive</td>\n",
       "    </tr>\n",
       "    <tr>\n",
       "      <th>4</th>\n",
       "      <td>Negative</td>\n",
       "    </tr>\n",
       "    <tr>\n",
       "      <th>...</th>\n",
       "      <td>...</td>\n",
       "    </tr>\n",
       "    <tr>\n",
       "      <th>3547</th>\n",
       "      <td>Negative</td>\n",
       "    </tr>\n",
       "    <tr>\n",
       "      <th>3548</th>\n",
       "      <td>Positive</td>\n",
       "    </tr>\n",
       "    <tr>\n",
       "      <th>3549</th>\n",
       "      <td>Positive</td>\n",
       "    </tr>\n",
       "    <tr>\n",
       "      <th>3550</th>\n",
       "      <td>Positive</td>\n",
       "    </tr>\n",
       "    <tr>\n",
       "      <th>3551</th>\n",
       "      <td>Positive</td>\n",
       "    </tr>\n",
       "  </tbody>\n",
       "</table>\n",
       "<p>3552 rows × 1 columns</p>\n",
       "</div>"
      ],
      "text/plain": [
       "     predictions\n",
       "0       Negative\n",
       "1       Positive\n",
       "2       Positive\n",
       "3       Positive\n",
       "4       Negative\n",
       "...          ...\n",
       "3547    Negative\n",
       "3548    Positive\n",
       "3549    Positive\n",
       "3550    Positive\n",
       "3551    Positive\n",
       "\n",
       "[3552 rows x 1 columns]"
      ]
     },
     "execution_count": 53,
     "metadata": {},
     "output_type": "execute_result"
    }
   ],
   "source": [
    "pred"
   ]
  },
  {
   "cell_type": "markdown",
   "metadata": {},
   "source": [
    "After working alone with description, we could get above performance from the respective alogrithms.\n",
    "\n",
    "Now we will try to increase our text content by concatenating headlines and description column and training the models on the combined data "
   ]
  },
  {
   "cell_type": "markdown",
   "metadata": {
    "id": "LcDOjy2MfkG2"
   },
   "source": [
    "# Now working with headlines + description"
   ]
  },
  {
   "cell_type": "code",
   "execution_count": 54,
   "metadata": {
    "execution": {
     "iopub.execute_input": "2022-05-26T10:40:48.629016Z",
     "iopub.status.busy": "2022-05-26T10:40:48.628566Z",
     "iopub.status.idle": "2022-05-26T10:40:48.659338Z",
     "shell.execute_reply": "2022-05-26T10:40:48.658452Z",
     "shell.execute_reply.started": "2022-05-26T10:40:48.628979Z"
    },
    "id": "HOSweU4mzTgq",
    "outputId": "ad66fc23-e9f7-473c-d7bb-5520937d7698"
   },
   "outputs": [
    {
     "data": {
      "text/html": [
       "<div>\n",
       "<style scoped>\n",
       "    .dataframe tbody tr th:only-of-type {\n",
       "        vertical-align: middle;\n",
       "    }\n",
       "\n",
       "    .dataframe tbody tr th {\n",
       "        vertical-align: top;\n",
       "    }\n",
       "\n",
       "    .dataframe thead th {\n",
       "        text-align: right;\n",
       "    }\n",
       "</style>\n",
       "<table border=\"1\" class=\"dataframe\">\n",
       "  <thead>\n",
       "    <tr style=\"text-align: right;\">\n",
       "      <th></th>\n",
       "      <th>Headlines</th>\n",
       "      <th>Time</th>\n",
       "      <th>Description</th>\n",
       "      <th>ds_score</th>\n",
       "      <th>info</th>\n",
       "    </tr>\n",
       "  </thead>\n",
       "  <tbody>\n",
       "    <tr>\n",
       "      <th>0</th>\n",
       "      <td>Jim Cramer: A better way to invest in the Covi...</td>\n",
       "      <td>7:51  PM ET Fri, 17 July 2020</td>\n",
       "      <td>mad money host jim cramer recommend buy four c...</td>\n",
       "      <td>Positive</td>\n",
       "      <td>Jim Cramer: A better way to invest in the Covi...</td>\n",
       "    </tr>\n",
       "    <tr>\n",
       "      <th>1</th>\n",
       "      <td>Cramer's lightning round: I would own Teradyne</td>\n",
       "      <td>7:33  PM ET Fri, 17 July 2020</td>\n",
       "      <td>mad money host jim cramer ring lightn round be...</td>\n",
       "      <td>Negative</td>\n",
       "      <td>Cramer's lightning round: I would own Teradyne...</td>\n",
       "    </tr>\n",
       "    <tr>\n",
       "      <th>2</th>\n",
       "      <td>Cramer's week ahead: Big week for earnings, ev...</td>\n",
       "      <td>7:25  PM ET Fri, 17 July 2020</td>\n",
       "      <td>well pay earn noncovid compani lancet publish ...</td>\n",
       "      <td>Positive</td>\n",
       "      <td>Cramer's week ahead: Big week for earnings, ev...</td>\n",
       "    </tr>\n",
       "    <tr>\n",
       "      <th>3</th>\n",
       "      <td>IQ Capital CEO Keith Bliss says tech and healt...</td>\n",
       "      <td>4:24  PM ET Fri, 17 July 2020</td>\n",
       "      <td>keith bliss iq capit ceo join close bell talk ...</td>\n",
       "      <td>Positive</td>\n",
       "      <td>IQ Capital CEO Keith Bliss says tech and healt...</td>\n",
       "    </tr>\n",
       "    <tr>\n",
       "      <th>4</th>\n",
       "      <td>Wall Street delivered the 'kind of pullback I'...</td>\n",
       "      <td>7:36  PM ET Thu, 16 July 2020</td>\n",
       "      <td>look stock highqual compani go lower even thou...</td>\n",
       "      <td>Negative</td>\n",
       "      <td>Wall Street delivered the 'kind of pullback I'...</td>\n",
       "    </tr>\n",
       "  </tbody>\n",
       "</table>\n",
       "</div>"
      ],
      "text/plain": [
       "                                           Headlines  \\\n",
       "0  Jim Cramer: A better way to invest in the Covi...   \n",
       "1     Cramer's lightning round: I would own Teradyne   \n",
       "2  Cramer's week ahead: Big week for earnings, ev...   \n",
       "3  IQ Capital CEO Keith Bliss says tech and healt...   \n",
       "4  Wall Street delivered the 'kind of pullback I'...   \n",
       "\n",
       "                             Time  \\\n",
       "0   7:51  PM ET Fri, 17 July 2020   \n",
       "1   7:33  PM ET Fri, 17 July 2020   \n",
       "2   7:25  PM ET Fri, 17 July 2020   \n",
       "3   4:24  PM ET Fri, 17 July 2020   \n",
       "4   7:36  PM ET Thu, 16 July 2020   \n",
       "\n",
       "                                         Description  ds_score  \\\n",
       "0  mad money host jim cramer recommend buy four c...  Positive   \n",
       "1  mad money host jim cramer ring lightn round be...  Negative   \n",
       "2  well pay earn noncovid compani lancet publish ...  Positive   \n",
       "3  keith bliss iq capit ceo join close bell talk ...  Positive   \n",
       "4  look stock highqual compani go lower even thou...  Negative   \n",
       "\n",
       "                                                info  \n",
       "0  Jim Cramer: A better way to invest in the Covi...  \n",
       "1  Cramer's lightning round: I would own Teradyne...  \n",
       "2  Cramer's week ahead: Big week for earnings, ev...  \n",
       "3  IQ Capital CEO Keith Bliss says tech and healt...  \n",
       "4  Wall Street delivered the 'kind of pullback I'...  "
      ]
     },
     "execution_count": 54,
     "metadata": {},
     "output_type": "execute_result"
    }
   ],
   "source": [
    "# merge headlines and description of new dataset and name it info\n",
    "\n",
    "cnbc_reu['info'] = cnbc_reu['Headlines'] + ' ' + cnbc_reu['Description']\n",
    "cnbc_reu.head()"
   ]
  },
  {
   "cell_type": "code",
   "execution_count": 55,
   "metadata": {
    "execution": {
     "iopub.execute_input": "2022-05-26T10:40:48.660929Z",
     "iopub.status.busy": "2022-05-26T10:40:48.660521Z",
     "iopub.status.idle": "2022-05-26T10:40:48.677204Z",
     "shell.execute_reply": "2022-05-26T10:40:48.676245Z",
     "shell.execute_reply.started": "2022-05-26T10:40:48.660895Z"
    },
    "id": "_ZTFzLcGzTb3",
    "outputId": "afd1bcb2-1616-46f3-9099-e3c48f246d50"
   },
   "outputs": [
    {
     "data": {
      "text/html": [
       "<div>\n",
       "<style scoped>\n",
       "    .dataframe tbody tr th:only-of-type {\n",
       "        vertical-align: middle;\n",
       "    }\n",
       "\n",
       "    .dataframe tbody tr th {\n",
       "        vertical-align: top;\n",
       "    }\n",
       "\n",
       "    .dataframe thead th {\n",
       "        text-align: right;\n",
       "    }\n",
       "</style>\n",
       "<table border=\"1\" class=\"dataframe\">\n",
       "  <thead>\n",
       "    <tr style=\"text-align: right;\">\n",
       "      <th></th>\n",
       "      <th>Time</th>\n",
       "      <th>info</th>\n",
       "    </tr>\n",
       "  </thead>\n",
       "  <tbody>\n",
       "    <tr>\n",
       "      <th>0</th>\n",
       "      <td>7:51  PM ET Fri, 17 July 2020</td>\n",
       "      <td>Jim Cramer: A better way to invest in the Covi...</td>\n",
       "    </tr>\n",
       "    <tr>\n",
       "      <th>1</th>\n",
       "      <td>7:33  PM ET Fri, 17 July 2020</td>\n",
       "      <td>Cramer's lightning round: I would own Teradyne...</td>\n",
       "    </tr>\n",
       "    <tr>\n",
       "      <th>2</th>\n",
       "      <td>7:25  PM ET Fri, 17 July 2020</td>\n",
       "      <td>Cramer's week ahead: Big week for earnings, ev...</td>\n",
       "    </tr>\n",
       "    <tr>\n",
       "      <th>3</th>\n",
       "      <td>4:24  PM ET Fri, 17 July 2020</td>\n",
       "      <td>IQ Capital CEO Keith Bliss says tech and healt...</td>\n",
       "    </tr>\n",
       "    <tr>\n",
       "      <th>4</th>\n",
       "      <td>7:36  PM ET Thu, 16 July 2020</td>\n",
       "      <td>Wall Street delivered the 'kind of pullback I'...</td>\n",
       "    </tr>\n",
       "  </tbody>\n",
       "</table>\n",
       "</div>"
      ],
      "text/plain": [
       "                             Time  \\\n",
       "0   7:51  PM ET Fri, 17 July 2020   \n",
       "1   7:33  PM ET Fri, 17 July 2020   \n",
       "2   7:25  PM ET Fri, 17 July 2020   \n",
       "3   4:24  PM ET Fri, 17 July 2020   \n",
       "4   7:36  PM ET Thu, 16 July 2020   \n",
       "\n",
       "                                                info  \n",
       "0  Jim Cramer: A better way to invest in the Covi...  \n",
       "1  Cramer's lightning round: I would own Teradyne...  \n",
       "2  Cramer's week ahead: Big week for earnings, ev...  \n",
       "3  IQ Capital CEO Keith Bliss says tech and healt...  \n",
       "4  Wall Street delivered the 'kind of pullback I'...  "
      ]
     },
     "execution_count": 55,
     "metadata": {},
     "output_type": "execute_result"
    }
   ],
   "source": [
    "# keeping info and time column, drop all remaining columns\n",
    "\n",
    "cnbc_new = cnbc_reu.drop(['Headlines', 'Description', 'ds_score'], axis=1)\n",
    "cnbc_new.head()"
   ]
  },
  {
   "cell_type": "code",
   "execution_count": 56,
   "metadata": {
    "execution": {
     "iopub.execute_input": "2022-05-26T10:40:48.680111Z",
     "iopub.status.busy": "2022-05-26T10:40:48.679573Z",
     "iopub.status.idle": "2022-05-26T10:41:22.852667Z",
     "shell.execute_reply": "2022-05-26T10:41:22.851918Z",
     "shell.execute_reply.started": "2022-05-26T10:40:48.680065Z"
    },
    "id": "iMOW0ljOzTaN",
    "outputId": "751af887-0be3-45e1-d2cf-8e503b6a9783"
   },
   "outputs": [
    {
     "data": {
      "text/html": [
       "<div>\n",
       "<style scoped>\n",
       "    .dataframe tbody tr th:only-of-type {\n",
       "        vertical-align: middle;\n",
       "    }\n",
       "\n",
       "    .dataframe tbody tr th {\n",
       "        vertical-align: top;\n",
       "    }\n",
       "\n",
       "    .dataframe thead th {\n",
       "        text-align: right;\n",
       "    }\n",
       "</style>\n",
       "<table border=\"1\" class=\"dataframe\">\n",
       "  <thead>\n",
       "    <tr style=\"text-align: right;\">\n",
       "      <th></th>\n",
       "      <th>Time</th>\n",
       "      <th>info</th>\n",
       "    </tr>\n",
       "  </thead>\n",
       "  <tbody>\n",
       "    <tr>\n",
       "      <th>0</th>\n",
       "      <td>7:51  PM ET Fri, 17 July 2020</td>\n",
       "      <td>jim cramer better way invest covid19 vaccin go...</td>\n",
       "    </tr>\n",
       "    <tr>\n",
       "      <th>1</th>\n",
       "      <td>7:33  PM ET Fri, 17 July 2020</td>\n",
       "      <td>cramer lightn round would teradyn mad money ho...</td>\n",
       "    </tr>\n",
       "    <tr>\n",
       "      <th>2</th>\n",
       "      <td>7:25  PM ET Fri, 17 July 2020</td>\n",
       "      <td>cramer week ahead big week earn even bigger we...</td>\n",
       "    </tr>\n",
       "    <tr>\n",
       "      <th>3</th>\n",
       "      <td>4:24  PM ET Fri, 17 July 2020</td>\n",
       "      <td>iq capit ceo keith bliss say tech healthcar ra...</td>\n",
       "    </tr>\n",
       "    <tr>\n",
       "      <th>4</th>\n",
       "      <td>7:36  PM ET Thu, 16 July 2020</td>\n",
       "      <td>wall street deliv kind pullback ive wait jim c...</td>\n",
       "    </tr>\n",
       "    <tr>\n",
       "      <th>...</th>\n",
       "      <td>...</td>\n",
       "      <td>...</td>\n",
       "    </tr>\n",
       "    <tr>\n",
       "      <th>32710</th>\n",
       "      <td>Mar 20 2018</td>\n",
       "      <td>malaysia say never hire british data firm cent...</td>\n",
       "    </tr>\n",
       "    <tr>\n",
       "      <th>32711</th>\n",
       "      <td>Mar 20 2018</td>\n",
       "      <td>prosecutor search volkswagen headquart new emi...</td>\n",
       "    </tr>\n",
       "    <tr>\n",
       "      <th>32712</th>\n",
       "      <td>Mar 20 2018</td>\n",
       "      <td>mcdonald set greenhous ga reduct target mcdona...</td>\n",
       "    </tr>\n",
       "    <tr>\n",
       "      <th>32713</th>\n",
       "      <td>Mar 20 2018</td>\n",
       "      <td>pratt whitney deliv spare a320neo engin soon i...</td>\n",
       "    </tr>\n",
       "    <tr>\n",
       "      <th>32714</th>\n",
       "      <td>Mar 20 2018</td>\n",
       "      <td>uk alway consid way improv data law pm may spo...</td>\n",
       "    </tr>\n",
       "  </tbody>\n",
       "</table>\n",
       "<p>35515 rows × 2 columns</p>\n",
       "</div>"
      ],
      "text/plain": [
       "                                 Time  \\\n",
       "0       7:51  PM ET Fri, 17 July 2020   \n",
       "1       7:33  PM ET Fri, 17 July 2020   \n",
       "2       7:25  PM ET Fri, 17 July 2020   \n",
       "3       4:24  PM ET Fri, 17 July 2020   \n",
       "4       7:36  PM ET Thu, 16 July 2020   \n",
       "...                               ...   \n",
       "32710                     Mar 20 2018   \n",
       "32711                     Mar 20 2018   \n",
       "32712                     Mar 20 2018   \n",
       "32713                     Mar 20 2018   \n",
       "32714                     Mar 20 2018   \n",
       "\n",
       "                                                    info  \n",
       "0      jim cramer better way invest covid19 vaccin go...  \n",
       "1      cramer lightn round would teradyn mad money ho...  \n",
       "2      cramer week ahead big week earn even bigger we...  \n",
       "3      iq capit ceo keith bliss say tech healthcar ra...  \n",
       "4      wall street deliv kind pullback ive wait jim c...  \n",
       "...                                                  ...  \n",
       "32710  malaysia say never hire british data firm cent...  \n",
       "32711  prosecutor search volkswagen headquart new emi...  \n",
       "32712  mcdonald set greenhous ga reduct target mcdona...  \n",
       "32713  pratt whitney deliv spare a320neo engin soon i...  \n",
       "32714  uk alway consid way improv data law pm may spo...  \n",
       "\n",
       "[35515 rows x 2 columns]"
      ]
     },
     "execution_count": 56,
     "metadata": {},
     "output_type": "execute_result"
    }
   ],
   "source": [
    "# apply preprocessing on info column\n",
    " \n",
    "cnbc_new['info'] = cnbc_new['info'].apply(preprocessing_text)\n",
    "cnbc_new"
   ]
  },
  {
   "cell_type": "code",
   "execution_count": 57,
   "metadata": {
    "execution": {
     "iopub.execute_input": "2022-05-26T10:41:22.854298Z",
     "iopub.status.busy": "2022-05-26T10:41:22.853560Z",
     "iopub.status.idle": "2022-05-26T10:41:34.746640Z",
     "shell.execute_reply": "2022-05-26T10:41:34.745714Z",
     "shell.execute_reply.started": "2022-05-26T10:41:22.854263Z"
    },
    "id": "duwvemaLzTWh",
    "outputId": "f771aff0-a319-4c10-ce87-0f1088063d82"
   },
   "outputs": [
    {
     "data": {
      "text/html": [
       "<div>\n",
       "<style scoped>\n",
       "    .dataframe tbody tr th:only-of-type {\n",
       "        vertical-align: middle;\n",
       "    }\n",
       "\n",
       "    .dataframe tbody tr th {\n",
       "        vertical-align: top;\n",
       "    }\n",
       "\n",
       "    .dataframe thead th {\n",
       "        text-align: right;\n",
       "    }\n",
       "</style>\n",
       "<table border=\"1\" class=\"dataframe\">\n",
       "  <thead>\n",
       "    <tr style=\"text-align: right;\">\n",
       "      <th></th>\n",
       "      <th>Time</th>\n",
       "      <th>info</th>\n",
       "      <th>ds_score</th>\n",
       "    </tr>\n",
       "  </thead>\n",
       "  <tbody>\n",
       "    <tr>\n",
       "      <th>0</th>\n",
       "      <td>7:51  PM ET Fri, 17 July 2020</td>\n",
       "      <td>jim cramer better way invest covid19 vaccin go...</td>\n",
       "      <td>Positive</td>\n",
       "    </tr>\n",
       "    <tr>\n",
       "      <th>1</th>\n",
       "      <td>7:33  PM ET Fri, 17 July 2020</td>\n",
       "      <td>cramer lightn round would teradyn mad money ho...</td>\n",
       "      <td>Negative</td>\n",
       "    </tr>\n",
       "    <tr>\n",
       "      <th>2</th>\n",
       "      <td>7:25  PM ET Fri, 17 July 2020</td>\n",
       "      <td>cramer week ahead big week earn even bigger we...</td>\n",
       "      <td>Positive</td>\n",
       "    </tr>\n",
       "    <tr>\n",
       "      <th>3</th>\n",
       "      <td>4:24  PM ET Fri, 17 July 2020</td>\n",
       "      <td>iq capit ceo keith bliss say tech healthcar ra...</td>\n",
       "      <td>Positive</td>\n",
       "    </tr>\n",
       "    <tr>\n",
       "      <th>4</th>\n",
       "      <td>7:36  PM ET Thu, 16 July 2020</td>\n",
       "      <td>wall street deliv kind pullback ive wait jim c...</td>\n",
       "      <td>Negative</td>\n",
       "    </tr>\n",
       "    <tr>\n",
       "      <th>...</th>\n",
       "      <td>...</td>\n",
       "      <td>...</td>\n",
       "      <td>...</td>\n",
       "    </tr>\n",
       "    <tr>\n",
       "      <th>32710</th>\n",
       "      <td>Mar 20 2018</td>\n",
       "      <td>malaysia say never hire british data firm cent...</td>\n",
       "      <td>Neutral</td>\n",
       "    </tr>\n",
       "    <tr>\n",
       "      <th>32711</th>\n",
       "      <td>Mar 20 2018</td>\n",
       "      <td>prosecutor search volkswagen headquart new emi...</td>\n",
       "      <td>Neutral</td>\n",
       "    </tr>\n",
       "    <tr>\n",
       "      <th>32712</th>\n",
       "      <td>Mar 20 2018</td>\n",
       "      <td>mcdonald set greenhous ga reduct target mcdona...</td>\n",
       "      <td>Negative</td>\n",
       "    </tr>\n",
       "    <tr>\n",
       "      <th>32713</th>\n",
       "      <td>Mar 20 2018</td>\n",
       "      <td>pratt whitney deliv spare a320neo engin soon i...</td>\n",
       "      <td>Negative</td>\n",
       "    </tr>\n",
       "    <tr>\n",
       "      <th>32714</th>\n",
       "      <td>Mar 20 2018</td>\n",
       "      <td>uk alway consid way improv data law pm may spo...</td>\n",
       "      <td>Positive</td>\n",
       "    </tr>\n",
       "  </tbody>\n",
       "</table>\n",
       "<p>35515 rows × 3 columns</p>\n",
       "</div>"
      ],
      "text/plain": [
       "                                 Time  \\\n",
       "0       7:51  PM ET Fri, 17 July 2020   \n",
       "1       7:33  PM ET Fri, 17 July 2020   \n",
       "2       7:25  PM ET Fri, 17 July 2020   \n",
       "3       4:24  PM ET Fri, 17 July 2020   \n",
       "4       7:36  PM ET Thu, 16 July 2020   \n",
       "...                               ...   \n",
       "32710                     Mar 20 2018   \n",
       "32711                     Mar 20 2018   \n",
       "32712                     Mar 20 2018   \n",
       "32713                     Mar 20 2018   \n",
       "32714                     Mar 20 2018   \n",
       "\n",
       "                                                    info  ds_score  \n",
       "0      jim cramer better way invest covid19 vaccin go...  Positive  \n",
       "1      cramer lightn round would teradyn mad money ho...  Negative  \n",
       "2      cramer week ahead big week earn even bigger we...  Positive  \n",
       "3      iq capit ceo keith bliss say tech healthcar ra...  Positive  \n",
       "4      wall street deliv kind pullback ive wait jim c...  Negative  \n",
       "...                                                  ...       ...  \n",
       "32710  malaysia say never hire british data firm cent...   Neutral  \n",
       "32711  prosecutor search volkswagen headquart new emi...   Neutral  \n",
       "32712  mcdonald set greenhous ga reduct target mcdona...  Negative  \n",
       "32713  pratt whitney deliv spare a320neo engin soon i...  Negative  \n",
       "32714  uk alway consid way improv data law pm may spo...  Positive  \n",
       "\n",
       "[35515 rows x 3 columns]"
      ]
     },
     "execution_count": 57,
     "metadata": {},
     "output_type": "execute_result"
    }
   ],
   "source": [
    "# apply the function  which decides sentiment to  polarity score column\n",
    "\n",
    "cnbc_new = sentiment_analysis(cnbc_new, 'info')\n",
    "cnbc_new"
   ]
  },
  {
   "cell_type": "code",
   "execution_count": 58,
   "metadata": {
    "execution": {
     "iopub.execute_input": "2022-05-26T10:41:34.748166Z",
     "iopub.status.busy": "2022-05-26T10:41:34.747655Z",
     "iopub.status.idle": "2022-05-26T10:41:34.940559Z",
     "shell.execute_reply": "2022-05-26T10:41:34.939616Z",
     "shell.execute_reply.started": "2022-05-26T10:41:34.748132Z"
    },
    "id": "ohPDx_0glaeM",
    "outputId": "74fba960-52d3-4a2c-e952-8e5498b7fb61"
   },
   "outputs": [
    {
     "data": {
      "image/png": "[encoded data removed]",
      "text/plain": [
       "<Figure size 432x288 with 1 Axes>"
      ]
     },
     "metadata": {
      "needs_background": "light"
     },
     "output_type": "display_data"
    }
   ],
   "source": [
    "# perform count plot on info_score column\n",
    "\n",
    "sns.countplot(x='ds_score', data=cnbc_new);"
   ]
  },
  {
   "cell_type": "markdown",
   "metadata": {
    "id": "svGQaSfhl6_5"
   },
   "source": [
    "In the info\n",
    "\n",
    "there are approx\n",
    "\n",
    "15900 positive statment\n",
    "\n",
    "13500 negative statment\n",
    "\n",
    "6000 neutral statment"
   ]
  },
  {
   "cell_type": "code",
   "execution_count": 59,
   "metadata": {
    "execution": {
     "iopub.execute_input": "2022-05-26T10:41:34.942347Z",
     "iopub.status.busy": "2022-05-26T10:41:34.941581Z",
     "iopub.status.idle": "2022-05-26T10:41:35.037163Z",
     "shell.execute_reply": "2022-05-26T10:41:35.036068Z",
     "shell.execute_reply.started": "2022-05-26T10:41:34.942309Z"
    },
    "id": "BNaH0yfFll7Z",
    "outputId": "25db852a-077a-486a-d810-b8d97fab4adc"
   },
   "outputs": [
    {
     "data": {
      "image/png": "[encoded data removed]",
      "text/plain": [
       "<Figure size 432x288 with 1 Axes>"
      ]
     },
     "metadata": {},
     "output_type": "display_data"
    }
   ],
   "source": [
    "# perform pie chart on info_score column\n",
    "\n",
    "plt.pie([15000, 13500, 6000], explode=[0.1,0,0], labels=['Positive','Negative','Neutral'], autopct='%.1f', startangle=90)\n",
    "plt.show()"
   ]
  },
  {
   "cell_type": "markdown",
   "metadata": {
    "id": "e0JsgArfmgi-"
   },
   "source": [
    "In the dataset\n",
    "\n",
    "info contains\n",
    "\n",
    "43.5% positive statments\n",
    "\n",
    "39.1% negtive statements\n",
    "\n",
    "17.4% neutral statments"
   ]
  },
  {
   "cell_type": "markdown",
   "metadata": {
    "id": "FDaguQJMfrML"
   },
   "source": [
    "# modeling on headlines + description"
   ]
  },
  {
   "cell_type": "code",
   "execution_count": 60,
   "metadata": {
    "execution": {
     "iopub.execute_input": "2022-05-26T10:41:35.040094Z",
     "iopub.status.busy": "2022-05-26T10:41:35.039191Z",
     "iopub.status.idle": "2022-05-26T10:41:35.063867Z",
     "shell.execute_reply": "2022-05-26T10:41:35.062701Z",
     "shell.execute_reply.started": "2022-05-26T10:41:35.040026Z"
    },
    "id": "U-sjg3NEzTRd"
   },
   "outputs": [
    {
     "name": "stdout",
     "output_type": "stream",
     "text": [
      "(31963,) (3552,) (31963,) (3552,)\n"
     ]
    }
   ],
   "source": [
    "# split the dataset  into test and train \n",
    "\n",
    "\n",
    "X = cnbc_new['info']\n",
    "y = cnbc_new.ds_score\n",
    "\n",
    "X_train, X_test, y_train, y_test = train_test_split(X, y, test_size=0.1, random_state=212)\n",
    "print(X_train.shape, X_test.shape, y_train.shape, y_test.shape)"
   ]
  },
  {
   "cell_type": "markdown",
   "metadata": {
    "id": "h469Z39Zjjvn"
   },
   "source": [
    "### LINEAR SUPPORT VECTOR MACHINE\n"
   ]
  },
  {
   "cell_type": "code",
   "execution_count": 61,
   "metadata": {
    "execution": {
     "iopub.execute_input": "2022-05-26T10:41:35.066902Z",
     "iopub.status.busy": "2022-05-26T10:41:35.065930Z",
     "iopub.status.idle": "2022-05-26T10:41:37.305568Z",
     "shell.execute_reply": "2022-05-26T10:41:37.304573Z",
     "shell.execute_reply.started": "2022-05-26T10:41:35.066845Z"
    },
    "id": "atnWirUQzTQI",
    "outputId": "bc1c5870-4985-4879-80f1-dc8928f98b4a"
   },
   "outputs": [
    {
     "name": "stdout",
     "output_type": "stream",
     "text": [
      "MODEL: LINEAR SVC\n",
      "accuarcy score:  0.901463963963964\n",
      "Confusion matrix:  [[1212   45   91]\n",
      " [  40  502   52]\n",
      " [  73   49 1488]]\n",
      "              precision    recall  f1-score   support\n",
      "\n",
      "    Negative       0.91      0.90      0.91      1348\n",
      "     Neutral       0.84      0.85      0.84       594\n",
      "    Positive       0.91      0.92      0.92      1610\n",
      "\n",
      "    accuracy                           0.90      3552\n",
      "   macro avg       0.89      0.89      0.89      3552\n",
      "weighted avg       0.90      0.90      0.90      3552\n",
      "\n",
      "CPU times: user 2.24 s, sys: 83.9 ms, total: 2.32 s\n",
      "Wall time: 2.23 s\n"
     ]
    }
   ],
   "source": [
    "\n",
    "%%time\n",
    "# pipeline creation\n",
    "# 1. tfidVectorization\n",
    "# 2. linearSVC model\n",
    "\n",
    "\n",
    "# Fit the pipeline to the data\n",
    "lin_svc_info = Pipeline([('tfidf', TfidfVectorizer()),\n",
    "                      ('lin_svc', LinearSVC())])\n",
    "\n",
    "lin_svc_info.fit(X_train, y_train)\n",
    "\n",
    "# predict on test dataset\n",
    "pred = lin_svc_info.predict(X_test)\n",
    "\n",
    "print(\"MODEL: LINEAR SVC\")\n",
    "\n",
    "# print accuracy score\n",
    "print(\"accuarcy score: \", accuracy_score(y_test, pred))\n",
    "\n",
    "#print confusion matrix\n",
    "print(\"Confusion matrix: \", confusion_matrix(y_test, pred))\n",
    "\n",
    "#print classification report\n",
    "print(classification_report(y_test, pred))\n"
   ]
  },
  {
   "cell_type": "markdown",
   "metadata": {
    "id": "ucmhtCoTjf7H"
   },
   "source": [
    "### LOGISTIC REGRESSION\n"
   ]
  },
  {
   "cell_type": "code",
   "execution_count": 62,
   "metadata": {
    "execution": {
     "iopub.execute_input": "2022-05-26T10:41:37.307229Z",
     "iopub.status.busy": "2022-05-26T10:41:37.306881Z",
     "iopub.status.idle": "2022-05-26T10:41:48.423795Z",
     "shell.execute_reply": "2022-05-26T10:41:48.422747Z",
     "shell.execute_reply.started": "2022-05-26T10:41:37.307194Z"
    },
    "id": "UXsbyfc22sXR",
    "outputId": "8c47b13d-6bf9-4cf6-cbc6-4f6712f72db7"
   },
   "outputs": [
    {
     "name": "stderr",
     "output_type": "stream",
     "text": [
      "/opt/conda/lib/python3.7/site-packages/sklearn/linear_model/_logistic.py:818: ConvergenceWarning: lbfgs failed to converge (status=1):\n",
      "STOP: TOTAL NO. of ITERATIONS REACHED LIMIT.\n",
      "\n",
      "Increase the number of iterations (max_iter) or scale the data as shown in:\n",
      "    https://scikit-learn.org/stable/modules/preprocessing.html\n",
      "Please also refer to the documentation for alternative solver options:\n",
      "    https://scikit-learn.org/stable/modules/linear_model.html#logistic-regression\n",
      "  extra_warning_msg=_LOGISTIC_SOLVER_CONVERGENCE_MSG,\n"
     ]
    },
    {
     "name": "stdout",
     "output_type": "stream",
     "text": [
      "MODEL: LOGISTIC REGRESSION\n",
      "accuarcy score:  0.8693693693693694\n",
      "Confusion matrix:  [[1187   48  113]\n",
      " [  78  432   84]\n",
      " [  92   49 1469]]\n",
      "              precision    recall  f1-score   support\n",
      "\n",
      "    Negative       0.87      0.88      0.88      1348\n",
      "     Neutral       0.82      0.73      0.77       594\n",
      "    Positive       0.88      0.91      0.90      1610\n",
      "\n",
      "    accuracy                           0.87      3552\n",
      "   macro avg       0.86      0.84      0.85      3552\n",
      "weighted avg       0.87      0.87      0.87      3552\n",
      "\n",
      "CPU times: user 18.3 s, sys: 22 s, total: 40.3 s\n",
      "Wall time: 11.1 s\n"
     ]
    }
   ],
   "source": [
    "%%time\n",
    "# pipeline creation \n",
    "# 1. CountVectorization\n",
    "# 2. TfidTransformer\n",
    "# 3. Logistic Regression\n",
    "\n",
    "\n",
    "# Fit the pipeline to the data\n",
    "log_reg_info = Pipeline([('count_vec', CountVectorizer()),\n",
    "                      ('tfidf', TfidfTransformer()),\n",
    "                      ('log_reg', LogisticRegression())])\n",
    "\n",
    "log_reg_info.fit(X_train, y_train)\n",
    "\n",
    "# predict on test dataset\n",
    "pred = log_reg_info.predict(X_test)\n",
    "\n",
    "print(\"MODEL: LOGISTIC REGRESSION\")\n",
    "\n",
    "# print accuracy score\n",
    "print(\"accuarcy score: \", accuracy_score(y_test, pred))\n",
    "\n",
    "#print confusion matrix\n",
    "print(\"Confusion matrix: \", confusion_matrix(y_test, pred))\n",
    "\n",
    "#print classification report\n",
    "print(classification_report(y_test, pred))\n",
    " "
   ]
  },
  {
   "cell_type": "markdown",
   "metadata": {
    "id": "ozLeBo9qjdNR"
   },
   "source": [
    "### MULTINOMIAL NAIVE BAYES\n"
   ]
  },
  {
   "cell_type": "code",
   "execution_count": 63,
   "metadata": {
    "execution": {
     "iopub.execute_input": "2022-05-26T10:41:48.425304Z",
     "iopub.status.busy": "2022-05-26T10:41:48.424969Z",
     "iopub.status.idle": "2022-05-26T10:41:49.588206Z",
     "shell.execute_reply": "2022-05-26T10:41:49.587195Z",
     "shell.execute_reply.started": "2022-05-26T10:41:48.425273Z"
    },
    "id": "kxTsmokz2sVw",
    "outputId": "87aedc65-0edf-4775-a543-29617044ca95"
   },
   "outputs": [
    {
     "name": "stdout",
     "output_type": "stream",
     "text": [
      "MODEL: Multinomial NB\n",
      "accuarcy score:  0.6697635135135135\n",
      "Confusion matrix:  [[ 958    0  390]\n",
      " [ 160   13  421]\n",
      " [ 202    0 1408]]\n",
      "              precision    recall  f1-score   support\n",
      "\n",
      "    Negative       0.73      0.71      0.72      1348\n",
      "     Neutral       1.00      0.02      0.04       594\n",
      "    Positive       0.63      0.87      0.74      1610\n",
      "\n",
      "    accuracy                           0.67      3552\n",
      "   macro avg       0.79      0.54      0.50      3552\n",
      "weighted avg       0.73      0.67      0.61      3552\n",
      "\n",
      "CPU times: user 1.15 s, sys: 9.1 ms, total: 1.16 s\n",
      "Wall time: 1.16 s\n"
     ]
    }
   ],
   "source": [
    "%%time\n",
    "# pipeline creation \n",
    "# 1. CountVectorizer\n",
    "# 2. TfidTransformer\n",
    "# 3. MultinomialNB\n",
    "\n",
    "\n",
    "# Fit the pipeline to the data\n",
    "multi_nb_info = Pipeline([('count_vec', CountVectorizer()),\n",
    "                      ('tfidf', TfidfTransformer()),\n",
    "                      ('multi_nb', MultinomialNB())])\n",
    "\n",
    "multi_nb_info.fit(X_train, y_train)\n",
    "\n",
    "# predict on test dataset\n",
    "pred = multi_nb_info.predict(X_test)\n",
    "\n",
    "print(\"MODEL: Multinomial NB\")\n",
    "\n",
    "# print accuracy score\n",
    "print(\"accuarcy score: \", accuracy_score(y_test, pred))\n",
    "\n",
    "#print confusion matrix\n",
    "print(\"Confusion matrix: \", confusion_matrix(y_test, pred))\n",
    "\n",
    "#print classification report\n",
    "print(classification_report(y_test, pred))\n",
    " "
   ]
  },
  {
   "cell_type": "markdown",
   "metadata": {
    "id": "91Ms-94_jaKm"
   },
   "source": [
    "### BERNOULLI NAIVE BAYES\n"
   ]
  },
  {
   "cell_type": "code",
   "execution_count": 64,
   "metadata": {
    "execution": {
     "iopub.execute_input": "2022-05-26T10:41:49.590021Z",
     "iopub.status.busy": "2022-05-26T10:41:49.589585Z",
     "iopub.status.idle": "2022-05-26T10:41:50.762951Z",
     "shell.execute_reply": "2022-05-26T10:41:50.761008Z",
     "shell.execute_reply.started": "2022-05-26T10:41:49.589978Z"
    },
    "id": "Tx_-8y_x2sSO",
    "outputId": "131fa1a0-1fdc-46e0-8b22-9d6f77a01758"
   },
   "outputs": [
    {
     "name": "stdout",
     "output_type": "stream",
     "text": [
      "MODEL: Bernoulli's NB\n",
      "accuarcy score:  0.7212837837837838\n",
      "Confusion matrix:  [[1007   47  294]\n",
      " [ 137  285  172]\n",
      " [ 269   71 1270]]\n",
      "              precision    recall  f1-score   support\n",
      "\n",
      "    Negative       0.71      0.75      0.73      1348\n",
      "     Neutral       0.71      0.48      0.57       594\n",
      "    Positive       0.73      0.79      0.76      1610\n",
      "\n",
      "    accuracy                           0.72      3552\n",
      "   macro avg       0.72      0.67      0.69      3552\n",
      "weighted avg       0.72      0.72      0.72      3552\n",
      "\n",
      "CPU times: user 1.16 s, sys: 5.4 ms, total: 1.17 s\n",
      "Wall time: 1.17 s\n"
     ]
    }
   ],
   "source": [
    "%%time\n",
    "# pipeline creation \n",
    "# 1. CountVectorizer\n",
    "# 2. TfidTransformer\n",
    "# 3. BernoulliNB\n",
    "\n",
    "# Fit the pipeline to the data\n",
    "bern_nb_info = Pipeline([('count_vec', CountVectorizer()),\n",
    "                      ('tfidf', TfidfTransformer()),\n",
    "                      ('bern_nb', BernoulliNB())])\n",
    "\n",
    "bern_nb_info.fit(X_train, y_train)\n",
    "\n",
    "# predict on test dataset\n",
    "pred = bern_nb_info.predict(X_test)\n",
    "\n",
    "print(\"MODEL: Bernoulli's NB\")\n",
    "\n",
    "# print accuracy score\n",
    "print(\"accuarcy score: \", accuracy_score(y_test, pred))\n",
    "\n",
    "#print confusion matrix\n",
    "print(\"Confusion matrix: \", confusion_matrix(y_test, pred))\n",
    "\n",
    "#print classification report\n",
    "print(classification_report(y_test, pred))\n",
    " "
   ]
  },
  {
   "cell_type": "markdown",
   "metadata": {
    "id": "N1OOQeVmjWjx"
   },
   "source": [
    "#### GRADIENT BOOSTING CLASSIFICATION MODEL\n"
   ]
  },
  {
   "cell_type": "code",
   "execution_count": 65,
   "metadata": {
    "execution": {
     "iopub.execute_input": "2022-05-26T10:41:50.764833Z",
     "iopub.status.busy": "2022-05-26T10:41:50.764348Z",
     "iopub.status.idle": "2022-05-26T10:43:13.601652Z",
     "shell.execute_reply": "2022-05-26T10:43:13.600732Z",
     "shell.execute_reply.started": "2022-05-26T10:41:50.764798Z"
    },
    "id": "K_5dgcgS2sQj",
    "outputId": "962b1d1d-6623-4ba7-aa74-4efb47f9bac1"
   },
   "outputs": [
    {
     "name": "stdout",
     "output_type": "stream",
     "text": [
      "MODEL: Gradient Boosting\n",
      "accuarcy score:  0.7218468468468469\n",
      "Confusion matrix:  [[ 987   26  335]\n",
      " [   4  106  484]\n",
      " [ 117   22 1471]]\n",
      "              precision    recall  f1-score   support\n",
      "\n",
      "    Negative       0.89      0.73      0.80      1348\n",
      "     Neutral       0.69      0.18      0.28       594\n",
      "    Positive       0.64      0.91      0.75      1610\n",
      "\n",
      "    accuracy                           0.72      3552\n",
      "   macro avg       0.74      0.61      0.61      3552\n",
      "weighted avg       0.74      0.72      0.69      3552\n",
      "\n",
      "CPU times: user 1min 22s, sys: 15.7 ms, total: 1min 22s\n",
      "Wall time: 1min 22s\n"
     ]
    }
   ],
   "source": [
    "%%time\n",
    "# pipeline creation \n",
    "# 1. CountVectorizer\n",
    "# 2. TfidTransformer\n",
    "# 3. GradientBoostingClassifier\n",
    "\n",
    "# Fit the pipeline to the data\n",
    "grad_boost_info = Pipeline([('count_vec', CountVectorizer()),\n",
    "                      ('tfidf', TfidfTransformer()),\n",
    "                      ('grad_boost', GradientBoostingClassifier())])\n",
    "\n",
    "grad_boost_info.fit(X_train, y_train)\n",
    "\n",
    "# predict on test dataset\n",
    "pred = grad_boost_info.predict(X_test)\n",
    "\n",
    "print(\"MODEL: Gradient Boosting\")\n",
    "\n",
    "# print accuracy score\n",
    "print(\"accuarcy score: \", accuracy_score(y_test, pred))\n",
    "\n",
    "#print confusion matrix\n",
    "print(\"Confusion matrix: \", confusion_matrix(y_test, pred))\n",
    "\n",
    "#print classification report\n",
    "print(classification_report(y_test, pred))\n",
    "\n",
    " "
   ]
  },
  {
   "cell_type": "markdown",
   "metadata": {
    "id": "z7l-VmXKjTJP"
   },
   "source": [
    "### XGBOOST CLASSIFICATION MODEL\n"
   ]
  },
  {
   "cell_type": "code",
   "execution_count": 66,
   "metadata": {
    "execution": {
     "iopub.execute_input": "2022-05-26T10:43:13.603559Z",
     "iopub.status.busy": "2022-05-26T10:43:13.603073Z",
     "iopub.status.idle": "2022-05-26T10:44:02.955478Z",
     "shell.execute_reply": "2022-05-26T10:44:02.954425Z",
     "shell.execute_reply.started": "2022-05-26T10:43:13.603517Z"
    },
    "id": "6koZzsSv2sM7",
    "outputId": "cb7b1e22-5edd-4dc2-a7df-ddb511ef749c",
    "scrolled": true
   },
   "outputs": [
    {
     "name": "stdout",
     "output_type": "stream",
     "text": [
      "MODEL: XG Boost\n",
      "accuarcy score:  0.8848536036036037\n",
      "Confusion matrix:  [[1117  106  125]\n",
      " [   3  585    6]\n",
      " [  96   73 1441]]\n",
      "              precision    recall  f1-score   support\n",
      "\n",
      "           0       0.92      0.83      0.87      1348\n",
      "           1       0.77      0.98      0.86       594\n",
      "           2       0.92      0.90      0.91      1610\n",
      "\n",
      "    accuracy                           0.88      3552\n",
      "   macro avg       0.87      0.90      0.88      3552\n",
      "weighted avg       0.89      0.88      0.89      3552\n",
      "\n",
      "CPU times: user 3min 11s, sys: 212 ms, total: 3min 11s\n",
      "Wall time: 49.3 s\n"
     ]
    }
   ],
   "source": [
    "%%time\n",
    "# pipeline creation \n",
    "# 1. CountVectorizer\n",
    "# 2. TfidTransformer\n",
    "# 3. XGBClassifier\n",
    "\n",
    "\n",
    "# Fit the pipeline to the data\n",
    "xg_boost_ds = Pipeline([('count_vec', CountVectorizer()),\n",
    "                      ('tfidf', TfidfTransformer()),\n",
    "                      ('xgb', XGBClassifier())])\n",
    "\n",
    "encoder = LabelEncoder()\n",
    "enc_train = encoder.fit_transform(y_train)\n",
    "enc_test = encoder.fit_transform(y_test)\n",
    "\n",
    "xg_boost_ds.fit(X_train, enc_train)\n",
    "\n",
    "# predict on test dataset\n",
    "pred = xg_boost_ds.predict(X_test)\n",
    "\n",
    "print(\"MODEL: XG Boost\")\n",
    "\n",
    "# print accuracy score\n",
    "print(\"accuarcy score: \", accuracy_score(enc_test, pred))\n",
    "\n",
    "#print confusion matrix\n",
    "print(\"Confusion matrix: \", confusion_matrix(enc_test, pred))\n",
    "\n",
    "#print classification report\n",
    "print(classification_report(enc_test, pred))\n"
   ]
  },
  {
   "cell_type": "code",
   "execution_count": 67,
   "metadata": {
    "execution": {
     "iopub.execute_input": "2022-05-26T10:44:02.957216Z",
     "iopub.status.busy": "2022-05-26T10:44:02.956815Z",
     "iopub.status.idle": "2022-05-26T10:44:05.633396Z",
     "shell.execute_reply": "2022-05-26T10:44:05.632369Z",
     "shell.execute_reply.started": "2022-05-26T10:44:02.957180Z"
    },
    "id": "CQyOqutpyFYS",
    "outputId": "058cbc3e-15de-491b-ba9a-85009051eae3"
   },
   "outputs": [
    {
     "data": {
      "text/html": [
       "<div>\n",
       "<style scoped>\n",
       "    .dataframe tbody tr th:only-of-type {\n",
       "        vertical-align: middle;\n",
       "    }\n",
       "\n",
       "    .dataframe tbody tr th {\n",
       "        vertical-align: top;\n",
       "    }\n",
       "\n",
       "    .dataframe thead th {\n",
       "        text-align: right;\n",
       "    }\n",
       "</style>\n",
       "<table border=\"1\" class=\"dataframe\">\n",
       "  <thead>\n",
       "    <tr style=\"text-align: right;\">\n",
       "      <th></th>\n",
       "      <th>model_names</th>\n",
       "      <th>accuracy</th>\n",
       "      <th>precision</th>\n",
       "      <th>recall</th>\n",
       "      <th>f1_score</th>\n",
       "    </tr>\n",
       "  </thead>\n",
       "  <tbody>\n",
       "    <tr>\n",
       "      <th>0</th>\n",
       "      <td>LinearSVC</td>\n",
       "      <td>0.901464</td>\n",
       "      <td>0.901519</td>\n",
       "      <td>0.901464</td>\n",
       "      <td>0.901448</td>\n",
       "    </tr>\n",
       "    <tr>\n",
       "      <th>1</th>\n",
       "      <td>LogRegression</td>\n",
       "      <td>0.869369</td>\n",
       "      <td>0.868196</td>\n",
       "      <td>0.869369</td>\n",
       "      <td>0.868227</td>\n",
       "    </tr>\n",
       "    <tr>\n",
       "      <th>2</th>\n",
       "      <td>MultinomialNB</td>\n",
       "      <td>0.669764</td>\n",
       "      <td>0.730264</td>\n",
       "      <td>0.669764</td>\n",
       "      <td>0.613051</td>\n",
       "    </tr>\n",
       "    <tr>\n",
       "      <th>3</th>\n",
       "      <td>BernoulliNB</td>\n",
       "      <td>0.721284</td>\n",
       "      <td>0.720319</td>\n",
       "      <td>0.721284</td>\n",
       "      <td>0.716517</td>\n",
       "    </tr>\n",
       "    <tr>\n",
       "      <th>4</th>\n",
       "      <td>GradientBoost</td>\n",
       "      <td>0.721847</td>\n",
       "      <td>0.744326</td>\n",
       "      <td>0.721847</td>\n",
       "      <td>0.694347</td>\n",
       "    </tr>\n",
       "    <tr>\n",
       "      <th>5</th>\n",
       "      <td>XGBoost</td>\n",
       "      <td>0.884854</td>\n",
       "      <td>0.892150</td>\n",
       "      <td>0.884854</td>\n",
       "      <td>0.885271</td>\n",
       "    </tr>\n",
       "  </tbody>\n",
       "</table>\n",
       "</div>"
      ],
      "text/plain": [
       "     model_names  accuracy  precision    recall  f1_score\n",
       "0      LinearSVC  0.901464   0.901519  0.901464  0.901448\n",
       "1  LogRegression  0.869369   0.868196  0.869369  0.868227\n",
       "2  MultinomialNB  0.669764   0.730264  0.669764  0.613051\n",
       "3    BernoulliNB  0.721284   0.720319  0.721284  0.716517\n",
       "4  GradientBoost  0.721847   0.744326  0.721847  0.694347\n",
       "5        XGBoost  0.884854   0.892150  0.884854  0.885271"
      ]
     },
     "execution_count": 67,
     "metadata": {},
     "output_type": "execute_result"
    }
   ],
   "source": [
    "# Metrics comparison as we done before\n",
    "\n",
    "model_objects = [lin_svc_info, log_reg_info, multi_nb_info, bern_nb_info, grad_boost_info, xg_boost_ds]\n",
    "\n",
    "# list of model names\n",
    "model_names = ['LinearSVC', 'LogRegression','MultinomialNB','BernoulliNB','GradientBoost','XGBoost']\n",
    "\n",
    "# print the comparison of models\n",
    "met_info_df = metrics_comparison(model_objects,model_names, X_test, y_test, enc_test)\n",
    "met_info_df"
   ]
  },
  {
   "cell_type": "markdown",
   "metadata": {},
   "source": [
    "### Observations\n",
    "\n",
    "* Compared to description, model trained on both headlines and description has metrics/perfromance little lower than former one in case of Linear SVC model\n",
    "* XG boost model performs well on both training set "
   ]
  },
  {
   "cell_type": "markdown",
   "metadata": {
    "id": "urk4DVzslAXB"
   },
   "source": [
    "# working with test data"
   ]
  },
  {
   "cell_type": "code",
   "execution_count": 68,
   "metadata": {
    "execution": {
     "iopub.execute_input": "2022-05-26T10:44:05.635193Z",
     "iopub.status.busy": "2022-05-26T10:44:05.634759Z",
     "iopub.status.idle": "2022-05-26T10:44:05.739435Z",
     "shell.execute_reply": "2022-05-26T10:44:05.738512Z",
     "shell.execute_reply.started": "2022-05-26T10:44:05.635150Z"
    },
    "id": "T7HvvBOW2sGj",
    "outputId": "44b79c1b-84ea-4b00-9200-d75f8d514603"
   },
   "outputs": [
    {
     "data": {
      "text/plain": [
       "array(['Negative', 'Negative', 'Positive', ..., 'Neutral', 'Positive',\n",
       "       'Positive'], dtype=object)"
      ]
     },
     "execution_count": 68,
     "metadata": {},
     "output_type": "execute_result"
    }
   ],
   "source": [
    "# Perforn the prediction on the test dataset\n",
    "\n",
    "prediction = lin_svc_info.predict(X_test)\n",
    "prediction"
   ]
  },
  {
   "cell_type": "code",
   "execution_count": 69,
   "metadata": {
    "execution": {
     "iopub.execute_input": "2022-05-26T10:44:05.740948Z",
     "iopub.status.busy": "2022-05-26T10:44:05.740568Z",
     "iopub.status.idle": "2022-05-26T10:44:05.745735Z",
     "shell.execute_reply": "2022-05-26T10:44:05.744826Z",
     "shell.execute_reply.started": "2022-05-26T10:44:05.740918Z"
    },
    "id": "pOKTBCnPlD5J"
   },
   "outputs": [],
   "source": [
    "# creating a dataframe of predicted results \n",
    "\n",
    "preds = pd.DataFrame(prediction, columns=['predictions'])"
   ]
  },
  {
   "cell_type": "code",
   "execution_count": 70,
   "metadata": {
    "execution": {
     "iopub.execute_input": "2022-05-26T10:44:05.748010Z",
     "iopub.status.busy": "2022-05-26T10:44:05.746948Z",
     "iopub.status.idle": "2022-05-26T10:44:05.767332Z",
     "shell.execute_reply": "2022-05-26T10:44:05.766286Z",
     "shell.execute_reply.started": "2022-05-26T10:44:05.747956Z"
    },
    "id": "XhfTaQoflEwZ",
    "outputId": "9a84c83e-77a2-4bc5-c829-de61e6a7ff3c"
   },
   "outputs": [
    {
     "data": {
      "text/html": [
       "<div>\n",
       "<style scoped>\n",
       "    .dataframe tbody tr th:only-of-type {\n",
       "        vertical-align: middle;\n",
       "    }\n",
       "\n",
       "    .dataframe tbody tr th {\n",
       "        vertical-align: top;\n",
       "    }\n",
       "\n",
       "    .dataframe thead th {\n",
       "        text-align: right;\n",
       "    }\n",
       "</style>\n",
       "<table border=\"1\" class=\"dataframe\">\n",
       "  <thead>\n",
       "    <tr style=\"text-align: right;\">\n",
       "      <th></th>\n",
       "      <th>predictions</th>\n",
       "    </tr>\n",
       "  </thead>\n",
       "  <tbody>\n",
       "    <tr>\n",
       "      <th>0</th>\n",
       "      <td>Negative</td>\n",
       "    </tr>\n",
       "    <tr>\n",
       "      <th>1</th>\n",
       "      <td>Negative</td>\n",
       "    </tr>\n",
       "    <tr>\n",
       "      <th>2</th>\n",
       "      <td>Positive</td>\n",
       "    </tr>\n",
       "    <tr>\n",
       "      <th>3</th>\n",
       "      <td>Positive</td>\n",
       "    </tr>\n",
       "    <tr>\n",
       "      <th>4</th>\n",
       "      <td>Negative</td>\n",
       "    </tr>\n",
       "    <tr>\n",
       "      <th>...</th>\n",
       "      <td>...</td>\n",
       "    </tr>\n",
       "    <tr>\n",
       "      <th>3547</th>\n",
       "      <td>Negative</td>\n",
       "    </tr>\n",
       "    <tr>\n",
       "      <th>3548</th>\n",
       "      <td>Positive</td>\n",
       "    </tr>\n",
       "    <tr>\n",
       "      <th>3549</th>\n",
       "      <td>Neutral</td>\n",
       "    </tr>\n",
       "    <tr>\n",
       "      <th>3550</th>\n",
       "      <td>Positive</td>\n",
       "    </tr>\n",
       "    <tr>\n",
       "      <th>3551</th>\n",
       "      <td>Positive</td>\n",
       "    </tr>\n",
       "  </tbody>\n",
       "</table>\n",
       "<p>3552 rows × 1 columns</p>\n",
       "</div>"
      ],
      "text/plain": [
       "     predictions\n",
       "0       Negative\n",
       "1       Negative\n",
       "2       Positive\n",
       "3       Positive\n",
       "4       Negative\n",
       "...          ...\n",
       "3547    Negative\n",
       "3548    Positive\n",
       "3549     Neutral\n",
       "3550    Positive\n",
       "3551    Positive\n",
       "\n",
       "[3552 rows x 1 columns]"
      ]
     },
     "execution_count": 70,
     "metadata": {},
     "output_type": "execute_result"
    }
   ],
   "source": [
    "preds"
   ]
  },
  {
   "cell_type": "markdown",
   "metadata": {
    "id": "6ffMQY_00ufo"
   },
   "source": [
    "# Prediction"
   ]
  },
  {
   "cell_type": "markdown",
   "metadata": {
    "id": "BrQATukn0x2u"
   },
   "source": [
    "we can check the result on any real time news headlines or descriptions\n",
    "\n",
    "Here I have used two fiancial news headlines and predicted its sentiment\n",
    "\n"
   ]
  },
  {
   "cell_type": "code",
   "execution_count": 71,
   "metadata": {
    "execution": {
     "iopub.execute_input": "2022-05-26T10:44:05.769496Z",
     "iopub.status.busy": "2022-05-26T10:44:05.768908Z",
     "iopub.status.idle": "2022-05-26T10:44:05.782200Z",
     "shell.execute_reply": "2022-05-26T10:44:05.781469Z",
     "shell.execute_reply.started": "2022-05-26T10:44:05.769452Z"
    },
    "id": "uRUtaAhZ0wwU",
    "outputId": "946e8f9c-6fdc-4d7f-b2a4-72ed559a470c"
   },
   "outputs": [
    {
     "data": {
      "text/plain": [
       "array(['Negative'], dtype=object)"
      ]
     },
     "execution_count": 71,
     "metadata": {},
     "output_type": "execute_result"
    }
   ],
   "source": [
    "sent1 = ['GST officers detect Rs 4,000 crore of ITC fraud in April-June']\n",
    "y_predict = lin_svc_ds.predict(sent1)\n",
    "y_predict"
   ]
  },
  {
   "cell_type": "code",
   "execution_count": 72,
   "metadata": {
    "execution": {
     "iopub.execute_input": "2022-05-26T10:44:05.783725Z",
     "iopub.status.busy": "2022-05-26T10:44:05.783131Z",
     "iopub.status.idle": "2022-05-26T10:44:05.797752Z",
     "shell.execute_reply": "2022-05-26T10:44:05.796982Z",
     "shell.execute_reply.started": "2022-05-26T10:44:05.783692Z"
    },
    "id": "_YJqDGt71DGn",
    "outputId": "8265f9b2-4c84-4ada-876e-4b2f3eb1989a"
   },
   "outputs": [
    {
     "data": {
      "text/plain": [
       "array(['Positive'], dtype=object)"
      ]
     },
     "execution_count": 72,
     "metadata": {},
     "output_type": "execute_result"
    }
   ],
   "source": [
    "sent2 = [\"Finance Ministry releases Rs 9,871 crore to 17 states as grant\"]\n",
    "y_predict = lin_svc_ds.predict(sent2)\n",
    "y_predict"
   ]
  },
  {
   "cell_type": "markdown",
   "metadata": {
    "id": "No7lHSthFvmj"
   },
   "source": [
    "# Conclusion & Next steps"
   ]
  },
  {
   "cell_type": "markdown",
   "metadata": {
    "id": "4FRWlgXRFywD"
   },
   "source": [
    "* we conclude that using nltk it is easy to classify financial news and with more appropiate training data, we can improve the accuracy of model and also can improve by tuning the hyperparamters.\n",
    "* Deploying model on web page and testing the model\n"
   ]
  }
 ],
 "metadata": {
  "kernelspec": {
   "display_name": "Python 3",
   "language": "python",
   "name": "python3"
  },
  "language_info": {
   "codemirror_mode": {
    "name": "ipython",
    "version": 3
   },
   "file_extension": ".py",
   "mimetype": "text/x-python",
   "name": "python",
   "nbconvert_exporter": "python",
   "pygments_lexer": "ipython3",
   "version": "3.9.13 (tags/v3.9.13:6de2ca5, May 17 2022, 16:36:42) [MSC v.1929 64 bit (AMD64)]"
  },
  "vscode": {
   "interpreter": {
    "hash": "497338f01161d141240caa60efca5087225791fadc9b7c964beb65d863e046f0"
   }
  }
 },
 "nbformat": 4,
 "nbformat_minor": 4
}
