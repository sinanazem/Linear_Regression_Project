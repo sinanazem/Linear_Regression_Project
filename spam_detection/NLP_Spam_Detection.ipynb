{
 "cells": [
  {
   "cell_type": "code",
   "execution_count": 113,
   "id": "f6c48d2e",
   "metadata": {},
   "outputs": [],
   "source": [
    "import numpy as np\n",
    "import pandas as pd\n",
    "import matplotlib.pyplot as plt\n",
    "import seaborn as sns"
   ]
  },
  {
   "cell_type": "code",
   "execution_count": 114,
   "id": "23f8b76c",
   "metadata": {},
   "outputs": [],
   "source": [
    "df = pd.read_csv('SPAM text message 20170820 - Data.csv')"
   ]
  },
  {
   "cell_type": "code",
   "execution_count": 115,
   "id": "afdfa3ec",
   "metadata": {},
   "outputs": [
    {
     "data": {
      "text/html": [
       "<div>\n",
       "<style scoped>\n",
       "    .dataframe tbody tr th:only-of-type {\n",
       "        vertical-align: middle;\n",
       "    }\n",
       "\n",
       "    .dataframe tbody tr th {\n",
       "        vertical-align: top;\n",
       "    }\n",
       "\n",
       "    .dataframe thead th {\n",
       "        text-align: right;\n",
       "    }\n",
       "</style>\n",
       "<table border=\"1\" class=\"dataframe\">\n",
       "  <thead>\n",
       "    <tr style=\"text-align: right;\">\n",
       "      <th></th>\n",
       "      <th>Category</th>\n",
       "      <th>Message</th>\n",
       "    </tr>\n",
       "  </thead>\n",
       "  <tbody>\n",
       "    <tr>\n",
       "      <th>0</th>\n",
       "      <td>ham</td>\n",
       "      <td>Go until jurong point, crazy.. Available only ...</td>\n",
       "    </tr>\n",
       "    <tr>\n",
       "      <th>1</th>\n",
       "      <td>ham</td>\n",
       "      <td>Ok lar... Joking wif u oni...</td>\n",
       "    </tr>\n",
       "    <tr>\n",
       "      <th>2</th>\n",
       "      <td>spam</td>\n",
       "      <td>Free entry in 2 a wkly comp to win FA Cup fina...</td>\n",
       "    </tr>\n",
       "    <tr>\n",
       "      <th>3</th>\n",
       "      <td>ham</td>\n",
       "      <td>U dun say so early hor... U c already then say...</td>\n",
       "    </tr>\n",
       "    <tr>\n",
       "      <th>4</th>\n",
       "      <td>ham</td>\n",
       "      <td>Nah I don't think he goes to usf, he lives aro...</td>\n",
       "    </tr>\n",
       "  </tbody>\n",
       "</table>\n",
       "</div>"
      ],
      "text/plain": [
       "  Category                                            Message\n",
       "0      ham  Go until jurong point, crazy.. Available only ...\n",
       "1      ham                      Ok lar... Joking wif u oni...\n",
       "2     spam  Free entry in 2 a wkly comp to win FA Cup fina...\n",
       "3      ham  U dun say so early hor... U c already then say...\n",
       "4      ham  Nah I don't think he goes to usf, he lives aro..."
      ]
     },
     "execution_count": 115,
     "metadata": {},
     "output_type": "execute_result"
    }
   ],
   "source": [
    "df.head()"
   ]
  },
  {
   "cell_type": "code",
   "execution_count": 116,
   "id": "abed8881",
   "metadata": {},
   "outputs": [
    {
     "data": {
      "text/plain": [
       "(5572, 2)"
      ]
     },
     "execution_count": 116,
     "metadata": {},
     "output_type": "execute_result"
    }
   ],
   "source": [
    "df.shape"
   ]
  },
  {
   "cell_type": "code",
   "execution_count": 131,
   "id": "ca7e7c47",
   "metadata": {},
   "outputs": [],
   "source": [
    "df = pd.get_dummies(df, columns=['Category'], drop_first=True, prefix='is')"
   ]
  },
  {
   "cell_type": "code",
   "execution_count": 132,
   "id": "19953e1c",
   "metadata": {},
   "outputs": [
    {
     "data": {
      "image/png": "[encoded data removed]",
      "text/plain": [
       "<Figure size 432x288 with 1 Axes>"
      ]
     },
     "metadata": {},
     "output_type": "display_data"
    }
   ],
   "source": [
    "# Imbalance dataset\n",
    "sns.set(style='darkgrid')\n",
    "sns.countplot(data=df, x='is_spam');"
   ]
  },
  {
   "cell_type": "code",
   "execution_count": 133,
   "id": "039c4cc8",
   "metadata": {},
   "outputs": [],
   "source": [
    "import nltk\n",
    "import spacy\n",
    "from nltk.tokenize import word_tokenize, sent_tokenize\n",
    "from sklearn.feature_extraction.text import CountVectorizer, TfidfVectorizer\n",
    "from nltk.stem import WordNetLemmatizer\n",
    "from nltk.corpus import stopwords"
   ]
  },
  {
   "cell_type": "code",
   "execution_count": 134,
   "id": "37d1fa04",
   "metadata": {},
   "outputs": [],
   "source": [
    "# df['clean_message'] = df['Message'].str.replace(r'[^A-Za-z]', ' ', regex=True)\n",
    "# df['clean_message'] = df['clean_message'].str.lower()"
   ]
  },
  {
   "cell_type": "code",
   "execution_count": 135,
   "id": "e0325c1b",
   "metadata": {},
   "outputs": [],
   "source": [
    "def text_preprocessor(text):\n",
    "    \n",
    "    lemmatizer = WordNetLemmatizer()\n",
    "    text = text.lower()\n",
    "    word_list = word_tokenize(text)\n",
    "    word_list = [token for token in word_list if token.isalpha() and token not in stopwords.words('english')]\n",
    "    word_list = [lemmatizer.lemmatize(word) for word in word_list]\n",
    "    final_text = ' '.join(word_list)\n",
    "    return final_text"
   ]
  },
  {
   "cell_type": "code",
   "execution_count": 136,
   "id": "b52ef6f3",
   "metadata": {},
   "outputs": [],
   "source": [
    "df['clean_message'] = df['Message'].apply(text_preprocessor)"
   ]
  },
  {
   "cell_type": "code",
   "execution_count": 137,
   "id": "b9b585cb",
   "metadata": {},
   "outputs": [],
   "source": [
    "df['char_count'] = df['clean_message'].str.len()\n",
    "df['word_count'] = df['clean_message'].str.split().str.len()\n",
    "df['average_word_count'] = df['char_count'] / df['word_count']"
   ]
  },
  {
   "cell_type": "code",
   "execution_count": 138,
   "id": "ce657b0e",
   "metadata": {},
   "outputs": [
    {
     "data": {
      "text/html": [
       "<div>\n",
       "<style scoped>\n",
       "    .dataframe tbody tr th:only-of-type {\n",
       "        vertical-align: middle;\n",
       "    }\n",
       "\n",
       "    .dataframe tbody tr th {\n",
       "        vertical-align: top;\n",
       "    }\n",
       "\n",
       "    .dataframe thead th {\n",
       "        text-align: right;\n",
       "    }\n",
       "</style>\n",
       "<table border=\"1\" class=\"dataframe\">\n",
       "  <thead>\n",
       "    <tr style=\"text-align: right;\">\n",
       "      <th></th>\n",
       "      <th>Message</th>\n",
       "      <th>clean_message</th>\n",
       "      <th>char_count</th>\n",
       "      <th>word_count</th>\n",
       "      <th>average_word_count</th>\n",
       "      <th>is_spam</th>\n",
       "    </tr>\n",
       "  </thead>\n",
       "  <tbody>\n",
       "    <tr>\n",
       "      <th>0</th>\n",
       "      <td>Go until jurong point, crazy.. Available only ...</td>\n",
       "      <td>go jurong point crazy available bugis n great ...</td>\n",
       "      <td>82</td>\n",
       "      <td>16</td>\n",
       "      <td>5.125000</td>\n",
       "      <td>0</td>\n",
       "    </tr>\n",
       "    <tr>\n",
       "      <th>1</th>\n",
       "      <td>Ok lar... Joking wif u oni...</td>\n",
       "      <td>ok lar joking wif u oni</td>\n",
       "      <td>23</td>\n",
       "      <td>6</td>\n",
       "      <td>3.833333</td>\n",
       "      <td>0</td>\n",
       "    </tr>\n",
       "    <tr>\n",
       "      <th>2</th>\n",
       "      <td>Free entry in 2 a wkly comp to win FA Cup fina...</td>\n",
       "      <td>free entry wkly comp win fa cup final tkts may...</td>\n",
       "      <td>98</td>\n",
       "      <td>20</td>\n",
       "      <td>4.900000</td>\n",
       "      <td>1</td>\n",
       "    </tr>\n",
       "    <tr>\n",
       "      <th>3</th>\n",
       "      <td>U dun say so early hor... U c already then say...</td>\n",
       "      <td>u dun say early hor u c already say</td>\n",
       "      <td>35</td>\n",
       "      <td>9</td>\n",
       "      <td>3.888889</td>\n",
       "      <td>0</td>\n",
       "    </tr>\n",
       "    <tr>\n",
       "      <th>4</th>\n",
       "      <td>Nah I don't think he goes to usf, he lives aro...</td>\n",
       "      <td>nah think go usf life around though</td>\n",
       "      <td>35</td>\n",
       "      <td>7</td>\n",
       "      <td>5.000000</td>\n",
       "      <td>0</td>\n",
       "    </tr>\n",
       "  </tbody>\n",
       "</table>\n",
       "</div>"
      ],
      "text/plain": [
       "                                             Message  \\\n",
       "0  Go until jurong point, crazy.. Available only ...   \n",
       "1                      Ok lar... Joking wif u oni...   \n",
       "2  Free entry in 2 a wkly comp to win FA Cup fina...   \n",
       "3  U dun say so early hor... U c already then say...   \n",
       "4  Nah I don't think he goes to usf, he lives aro...   \n",
       "\n",
       "                                       clean_message  char_count  word_count  \\\n",
       "0  go jurong point crazy available bugis n great ...          82          16   \n",
       "1                            ok lar joking wif u oni          23           6   \n",
       "2  free entry wkly comp win fa cup final tkts may...          98          20   \n",
       "3                u dun say early hor u c already say          35           9   \n",
       "4                nah think go usf life around though          35           7   \n",
       "\n",
       "   average_word_count  is_spam  \n",
       "0            5.125000        0  \n",
       "1            3.833333        0  \n",
       "2            4.900000        1  \n",
       "3            3.888889        0  \n",
       "4            5.000000        0  "
      ]
     },
     "execution_count": 138,
     "metadata": {},
     "output_type": "execute_result"
    }
   ],
   "source": [
    "df.head()"
   ]
  },
  {
   "cell_type": "markdown",
   "id": "db8a3ddf",
   "metadata": {},
   "source": [
    "# Bag of Words"
   ]
  },
  {
   "cell_type": "code",
   "execution_count": 139,
   "id": "c9efc326",
   "metadata": {},
   "outputs": [],
   "source": [
    "vectorizer = CountVectorizer()\n",
    "bow_message = vectorizer.fit_transform(df['clean_message'])"
   ]
  },
  {
   "cell_type": "code",
   "execution_count": 140,
   "id": "6f5a7642",
   "metadata": {},
   "outputs": [],
   "source": [
    "df_new_bof = pd.DataFrame(bow_message.toarray(),\n",
    "                      columns=vectorizer.get_feature_names_out()).add_prefix('count_')"
   ]
  },
  {
   "cell_type": "code",
   "execution_count": 141,
   "id": "2f56308f",
   "metadata": {},
   "outputs": [
    {
     "data": {
      "text/html": [
       "<div>\n",
       "<style scoped>\n",
       "    .dataframe tbody tr th:only-of-type {\n",
       "        vertical-align: middle;\n",
       "    }\n",
       "\n",
       "    .dataframe tbody tr th {\n",
       "        vertical-align: top;\n",
       "    }\n",
       "\n",
       "    .dataframe thead th {\n",
       "        text-align: right;\n",
       "    }\n",
       "</style>\n",
       "<table border=\"1\" class=\"dataframe\">\n",
       "  <thead>\n",
       "    <tr style=\"text-align: right;\">\n",
       "      <th></th>\n",
       "      <th>count_aa</th>\n",
       "      <th>count_aah</th>\n",
       "      <th>count_aaniye</th>\n",
       "      <th>count_aaooooright</th>\n",
       "      <th>count_aathi</th>\n",
       "      <th>count_ab</th>\n",
       "      <th>count_abbey</th>\n",
       "      <th>count_abdomen</th>\n",
       "      <th>count_abeg</th>\n",
       "      <th>count_abel</th>\n",
       "      <th>...</th>\n",
       "      <th>count_zebra</th>\n",
       "      <th>count_zed</th>\n",
       "      <th>count_zero</th>\n",
       "      <th>count_zhong</th>\n",
       "      <th>count_zindgi</th>\n",
       "      <th>count_zoe</th>\n",
       "      <th>count_zogtorius</th>\n",
       "      <th>count_zoom</th>\n",
       "      <th>count_zouk</th>\n",
       "      <th>count_zyada</th>\n",
       "    </tr>\n",
       "  </thead>\n",
       "  <tbody>\n",
       "    <tr>\n",
       "      <th>0</th>\n",
       "      <td>0</td>\n",
       "      <td>0</td>\n",
       "      <td>0</td>\n",
       "      <td>0</td>\n",
       "      <td>0</td>\n",
       "      <td>0</td>\n",
       "      <td>0</td>\n",
       "      <td>0</td>\n",
       "      <td>0</td>\n",
       "      <td>0</td>\n",
       "      <td>...</td>\n",
       "      <td>0</td>\n",
       "      <td>0</td>\n",
       "      <td>0</td>\n",
       "      <td>0</td>\n",
       "      <td>0</td>\n",
       "      <td>0</td>\n",
       "      <td>0</td>\n",
       "      <td>0</td>\n",
       "      <td>0</td>\n",
       "      <td>0</td>\n",
       "    </tr>\n",
       "    <tr>\n",
       "      <th>1</th>\n",
       "      <td>0</td>\n",
       "      <td>0</td>\n",
       "      <td>0</td>\n",
       "      <td>0</td>\n",
       "      <td>0</td>\n",
       "      <td>0</td>\n",
       "      <td>0</td>\n",
       "      <td>0</td>\n",
       "      <td>0</td>\n",
       "      <td>0</td>\n",
       "      <td>...</td>\n",
       "      <td>0</td>\n",
       "      <td>0</td>\n",
       "      <td>0</td>\n",
       "      <td>0</td>\n",
       "      <td>0</td>\n",
       "      <td>0</td>\n",
       "      <td>0</td>\n",
       "      <td>0</td>\n",
       "      <td>0</td>\n",
       "      <td>0</td>\n",
       "    </tr>\n",
       "    <tr>\n",
       "      <th>2</th>\n",
       "      <td>0</td>\n",
       "      <td>0</td>\n",
       "      <td>0</td>\n",
       "      <td>0</td>\n",
       "      <td>0</td>\n",
       "      <td>0</td>\n",
       "      <td>0</td>\n",
       "      <td>0</td>\n",
       "      <td>0</td>\n",
       "      <td>0</td>\n",
       "      <td>...</td>\n",
       "      <td>0</td>\n",
       "      <td>0</td>\n",
       "      <td>0</td>\n",
       "      <td>0</td>\n",
       "      <td>0</td>\n",
       "      <td>0</td>\n",
       "      <td>0</td>\n",
       "      <td>0</td>\n",
       "      <td>0</td>\n",
       "      <td>0</td>\n",
       "    </tr>\n",
       "    <tr>\n",
       "      <th>3</th>\n",
       "      <td>0</td>\n",
       "      <td>0</td>\n",
       "      <td>0</td>\n",
       "      <td>0</td>\n",
       "      <td>0</td>\n",
       "      <td>0</td>\n",
       "      <td>0</td>\n",
       "      <td>0</td>\n",
       "      <td>0</td>\n",
       "      <td>0</td>\n",
       "      <td>...</td>\n",
       "      <td>0</td>\n",
       "      <td>0</td>\n",
       "      <td>0</td>\n",
       "      <td>0</td>\n",
       "      <td>0</td>\n",
       "      <td>0</td>\n",
       "      <td>0</td>\n",
       "      <td>0</td>\n",
       "      <td>0</td>\n",
       "      <td>0</td>\n",
       "    </tr>\n",
       "    <tr>\n",
       "      <th>4</th>\n",
       "      <td>0</td>\n",
       "      <td>0</td>\n",
       "      <td>0</td>\n",
       "      <td>0</td>\n",
       "      <td>0</td>\n",
       "      <td>0</td>\n",
       "      <td>0</td>\n",
       "      <td>0</td>\n",
       "      <td>0</td>\n",
       "      <td>0</td>\n",
       "      <td>...</td>\n",
       "      <td>0</td>\n",
       "      <td>0</td>\n",
       "      <td>0</td>\n",
       "      <td>0</td>\n",
       "      <td>0</td>\n",
       "      <td>0</td>\n",
       "      <td>0</td>\n",
       "      <td>0</td>\n",
       "      <td>0</td>\n",
       "      <td>0</td>\n",
       "    </tr>\n",
       "  </tbody>\n",
       "</table>\n",
       "<p>5 rows × 6688 columns</p>\n",
       "</div>"
      ],
      "text/plain": [
       "   count_aa  count_aah  count_aaniye  count_aaooooright  count_aathi  \\\n",
       "0         0          0             0                  0            0   \n",
       "1         0          0             0                  0            0   \n",
       "2         0          0             0                  0            0   \n",
       "3         0          0             0                  0            0   \n",
       "4         0          0             0                  0            0   \n",
       "\n",
       "   count_ab  count_abbey  count_abdomen  count_abeg  count_abel  ...  \\\n",
       "0         0            0              0           0           0  ...   \n",
       "1         0            0              0           0           0  ...   \n",
       "2         0            0              0           0           0  ...   \n",
       "3         0            0              0           0           0  ...   \n",
       "4         0            0              0           0           0  ...   \n",
       "\n",
       "   count_zebra  count_zed  count_zero  count_zhong  count_zindgi  count_zoe  \\\n",
       "0            0          0           0            0             0          0   \n",
       "1            0          0           0            0             0          0   \n",
       "2            0          0           0            0             0          0   \n",
       "3            0          0           0            0             0          0   \n",
       "4            0          0           0            0             0          0   \n",
       "\n",
       "   count_zogtorius  count_zoom  count_zouk  count_zyada  \n",
       "0                0           0           0            0  \n",
       "1                0           0           0            0  \n",
       "2                0           0           0            0  \n",
       "3                0           0           0            0  \n",
       "4                0           0           0            0  \n",
       "\n",
       "[5 rows x 6688 columns]"
      ]
     },
     "execution_count": 141,
     "metadata": {},
     "output_type": "execute_result"
    }
   ],
   "source": [
    "df_new_bof.head()"
   ]
  },
  {
   "cell_type": "markdown",
   "id": "f439d3fd",
   "metadata": {},
   "source": [
    "# spacy"
   ]
  },
  {
   "cell_type": "markdown",
   "id": "ebed8d98",
   "metadata": {},
   "source": [
    "# TfIdf"
   ]
  },
  {
   "cell_type": "code",
   "execution_count": 142,
   "id": "aa6f0f3a",
   "metadata": {},
   "outputs": [],
   "source": []
  },
  {
   "cell_type": "code",
   "execution_count": 143,
   "id": "ace0c524",
   "metadata": {},
   "outputs": [],
   "source": [
    "df_new_tfidf = pd.DataFrame(tfidf_message.toarray(),\n",
    "                      columns=tfidfvectorizer.get_feature_names_out()).add_prefix('count_')"
   ]
  },
  {
   "cell_type": "code",
   "execution_count": 144,
   "id": "ab050cd5",
   "metadata": {},
   "outputs": [
    {
     "data": {
      "text/html": [
       "<div>\n",
       "<style scoped>\n",
       "    .dataframe tbody tr th:only-of-type {\n",
       "        vertical-align: middle;\n",
       "    }\n",
       "\n",
       "    .dataframe tbody tr th {\n",
       "        vertical-align: top;\n",
       "    }\n",
       "\n",
       "    .dataframe thead th {\n",
       "        text-align: right;\n",
       "    }\n",
       "</style>\n",
       "<table border=\"1\" class=\"dataframe\">\n",
       "  <thead>\n",
       "    <tr style=\"text-align: right;\">\n",
       "      <th></th>\n",
       "      <th>count_aa</th>\n",
       "      <th>count_aah</th>\n",
       "      <th>count_aaniye</th>\n",
       "      <th>count_aaooooright</th>\n",
       "      <th>count_aathi</th>\n",
       "      <th>count_ab</th>\n",
       "      <th>count_abbey</th>\n",
       "      <th>count_abdomen</th>\n",
       "      <th>count_abeg</th>\n",
       "      <th>count_abel</th>\n",
       "      <th>...</th>\n",
       "      <th>count_zebra</th>\n",
       "      <th>count_zed</th>\n",
       "      <th>count_zero</th>\n",
       "      <th>count_zhong</th>\n",
       "      <th>count_zindgi</th>\n",
       "      <th>count_zoe</th>\n",
       "      <th>count_zogtorius</th>\n",
       "      <th>count_zoom</th>\n",
       "      <th>count_zouk</th>\n",
       "      <th>count_zyada</th>\n",
       "    </tr>\n",
       "  </thead>\n",
       "  <tbody>\n",
       "    <tr>\n",
       "      <th>0</th>\n",
       "      <td>0.0</td>\n",
       "      <td>0.0</td>\n",
       "      <td>0.0</td>\n",
       "      <td>0.0</td>\n",
       "      <td>0.0</td>\n",
       "      <td>0.0</td>\n",
       "      <td>0.0</td>\n",
       "      <td>0.0</td>\n",
       "      <td>0.0</td>\n",
       "      <td>0.0</td>\n",
       "      <td>...</td>\n",
       "      <td>0.0</td>\n",
       "      <td>0.0</td>\n",
       "      <td>0.0</td>\n",
       "      <td>0.0</td>\n",
       "      <td>0.0</td>\n",
       "      <td>0.0</td>\n",
       "      <td>0.0</td>\n",
       "      <td>0.0</td>\n",
       "      <td>0.0</td>\n",
       "      <td>0.0</td>\n",
       "    </tr>\n",
       "    <tr>\n",
       "      <th>1</th>\n",
       "      <td>0.0</td>\n",
       "      <td>0.0</td>\n",
       "      <td>0.0</td>\n",
       "      <td>0.0</td>\n",
       "      <td>0.0</td>\n",
       "      <td>0.0</td>\n",
       "      <td>0.0</td>\n",
       "      <td>0.0</td>\n",
       "      <td>0.0</td>\n",
       "      <td>0.0</td>\n",
       "      <td>...</td>\n",
       "      <td>0.0</td>\n",
       "      <td>0.0</td>\n",
       "      <td>0.0</td>\n",
       "      <td>0.0</td>\n",
       "      <td>0.0</td>\n",
       "      <td>0.0</td>\n",
       "      <td>0.0</td>\n",
       "      <td>0.0</td>\n",
       "      <td>0.0</td>\n",
       "      <td>0.0</td>\n",
       "    </tr>\n",
       "    <tr>\n",
       "      <th>2</th>\n",
       "      <td>0.0</td>\n",
       "      <td>0.0</td>\n",
       "      <td>0.0</td>\n",
       "      <td>0.0</td>\n",
       "      <td>0.0</td>\n",
       "      <td>0.0</td>\n",
       "      <td>0.0</td>\n",
       "      <td>0.0</td>\n",
       "      <td>0.0</td>\n",
       "      <td>0.0</td>\n",
       "      <td>...</td>\n",
       "      <td>0.0</td>\n",
       "      <td>0.0</td>\n",
       "      <td>0.0</td>\n",
       "      <td>0.0</td>\n",
       "      <td>0.0</td>\n",
       "      <td>0.0</td>\n",
       "      <td>0.0</td>\n",
       "      <td>0.0</td>\n",
       "      <td>0.0</td>\n",
       "      <td>0.0</td>\n",
       "    </tr>\n",
       "    <tr>\n",
       "      <th>3</th>\n",
       "      <td>0.0</td>\n",
       "      <td>0.0</td>\n",
       "      <td>0.0</td>\n",
       "      <td>0.0</td>\n",
       "      <td>0.0</td>\n",
       "      <td>0.0</td>\n",
       "      <td>0.0</td>\n",
       "      <td>0.0</td>\n",
       "      <td>0.0</td>\n",
       "      <td>0.0</td>\n",
       "      <td>...</td>\n",
       "      <td>0.0</td>\n",
       "      <td>0.0</td>\n",
       "      <td>0.0</td>\n",
       "      <td>0.0</td>\n",
       "      <td>0.0</td>\n",
       "      <td>0.0</td>\n",
       "      <td>0.0</td>\n",
       "      <td>0.0</td>\n",
       "      <td>0.0</td>\n",
       "      <td>0.0</td>\n",
       "    </tr>\n",
       "    <tr>\n",
       "      <th>4</th>\n",
       "      <td>0.0</td>\n",
       "      <td>0.0</td>\n",
       "      <td>0.0</td>\n",
       "      <td>0.0</td>\n",
       "      <td>0.0</td>\n",
       "      <td>0.0</td>\n",
       "      <td>0.0</td>\n",
       "      <td>0.0</td>\n",
       "      <td>0.0</td>\n",
       "      <td>0.0</td>\n",
       "      <td>...</td>\n",
       "      <td>0.0</td>\n",
       "      <td>0.0</td>\n",
       "      <td>0.0</td>\n",
       "      <td>0.0</td>\n",
       "      <td>0.0</td>\n",
       "      <td>0.0</td>\n",
       "      <td>0.0</td>\n",
       "      <td>0.0</td>\n",
       "      <td>0.0</td>\n",
       "      <td>0.0</td>\n",
       "    </tr>\n",
       "  </tbody>\n",
       "</table>\n",
       "<p>5 rows × 6688 columns</p>\n",
       "</div>"
      ],
      "text/plain": [
       "   count_aa  count_aah  count_aaniye  count_aaooooright  count_aathi  \\\n",
       "0       0.0        0.0           0.0                0.0          0.0   \n",
       "1       0.0        0.0           0.0                0.0          0.0   \n",
       "2       0.0        0.0           0.0                0.0          0.0   \n",
       "3       0.0        0.0           0.0                0.0          0.0   \n",
       "4       0.0        0.0           0.0                0.0          0.0   \n",
       "\n",
       "   count_ab  count_abbey  count_abdomen  count_abeg  count_abel  ...  \\\n",
       "0       0.0          0.0            0.0         0.0         0.0  ...   \n",
       "1       0.0          0.0            0.0         0.0         0.0  ...   \n",
       "2       0.0          0.0            0.0         0.0         0.0  ...   \n",
       "3       0.0          0.0            0.0         0.0         0.0  ...   \n",
       "4       0.0          0.0            0.0         0.0         0.0  ...   \n",
       "\n",
       "   count_zebra  count_zed  count_zero  count_zhong  count_zindgi  count_zoe  \\\n",
       "0          0.0        0.0         0.0          0.0           0.0        0.0   \n",
       "1          0.0        0.0         0.0          0.0           0.0        0.0   \n",
       "2          0.0        0.0         0.0          0.0           0.0        0.0   \n",
       "3          0.0        0.0         0.0          0.0           0.0        0.0   \n",
       "4          0.0        0.0         0.0          0.0           0.0        0.0   \n",
       "\n",
       "   count_zogtorius  count_zoom  count_zouk  count_zyada  \n",
       "0              0.0         0.0         0.0          0.0  \n",
       "1              0.0         0.0         0.0          0.0  \n",
       "2              0.0         0.0         0.0          0.0  \n",
       "3              0.0         0.0         0.0          0.0  \n",
       "4              0.0         0.0         0.0          0.0  \n",
       "\n",
       "[5 rows x 6688 columns]"
      ]
     },
     "execution_count": 144,
     "metadata": {},
     "output_type": "execute_result"
    }
   ],
   "source": [
    "df_new_tfidf.head()"
   ]
  },
  {
   "cell_type": "markdown",
   "id": "0e232a0c",
   "metadata": {},
   "source": [
    "# Build Model"
   ]
  },
  {
   "cell_type": "code",
   "execution_count": 156,
   "id": "76c9d23a",
   "metadata": {},
   "outputs": [],
   "source": [
    "from sklearn.model_selection import train_test_split\n",
    "from sklearn.naive_bayes import MultinomialNB\n",
    "from sklearn.metrics import confusion_matrix, classification_report"
   ]
  },
  {
   "cell_type": "code",
   "execution_count": 145,
   "id": "5c296f44",
   "metadata": {},
   "outputs": [],
   "source": [
    "X = df['clean_message'].values\n",
    "y = df['is_spam'].values"
   ]
  },
  {
   "cell_type": "code",
   "execution_count": 146,
   "id": "60d1adac",
   "metadata": {},
   "outputs": [],
   "source": [
    "X_train, X_test, y_train, y_test = train_test_split(X, y, random_state=42, test_size=0.2, stratify=y)"
   ]
  },
  {
   "cell_type": "code",
   "execution_count": 175,
   "id": "f9b099f7",
   "metadata": {},
   "outputs": [],
   "source": [
    "tfidfvectorizer = TfidfVectorizer()\n",
    "X_train_tfidf = tfidfvectorizer.fit_transform(X_train)\n",
    "X_test_tfidf = tfidfvectorizer.transform(X_test)"
   ]
  },
  {
   "cell_type": "code",
   "execution_count": 176,
   "id": "cbf60094",
   "metadata": {},
   "outputs": [],
   "source": [
    "nb = MultinomialNB()\n",
    "nb.fit(X_train_tfidf, y_train)\n",
    "y_pred = nb.predict(X_test_tfidf)"
   ]
  },
  {
   "cell_type": "markdown",
   "id": "ec5b303c",
   "metadata": {},
   "source": [
    "# Validation"
   ]
  },
  {
   "cell_type": "code",
   "execution_count": 177,
   "id": "da1856dd",
   "metadata": {},
   "outputs": [
    {
     "data": {
      "text/plain": [
       "<AxesSubplot:>"
      ]
     },
     "execution_count": 177,
     "metadata": {},
     "output_type": "execute_result"
    },
    {
     "data": {
      "image/png": "[encoded data removed]",
      "text/plain": [
       "<Figure size 432x288 with 2 Axes>"
      ]
     },
     "metadata": {},
     "output_type": "display_data"
    }
   ],
   "source": [
    "sns.heatmap(confusion_matrix(y_test, y_pred), annot=True)"
   ]
  },
  {
   "cell_type": "code",
   "execution_count": 178,
   "id": "b0ad2973",
   "metadata": {},
   "outputs": [
    {
     "name": "stdout",
     "output_type": "stream",
     "text": [
      "              precision    recall  f1-score   support\n",
      "\n",
      "           0       0.96      1.00      0.98       966\n",
      "           1       1.00      0.74      0.85       149\n",
      "\n",
      "    accuracy                           0.97      1115\n",
      "   macro avg       0.98      0.87      0.91      1115\n",
      "weighted avg       0.97      0.97      0.96      1115\n",
      "\n"
     ]
    }
   ],
   "source": [
    "print(classification_report(y_test, y_pred))"
   ]
  },
  {
   "cell_type": "markdown",
   "id": "aa18193b",
   "metadata": {},
   "source": [
    "# ROC Curve"
   ]
  },
  {
   "cell_type": "code",
   "execution_count": 179,
   "id": "ea9c156f",
   "metadata": {},
   "outputs": [],
   "source": [
    "from sklearn.metrics import roc_curve"
   ]
  },
  {
   "cell_type": "code",
   "execution_count": 182,
   "id": "5b11c1c9",
   "metadata": {},
   "outputs": [
    {
     "data": {
      "text/plain": [
       "array([[9.95656110e-01, 4.34388968e-03],\n",
       "       [9.99522107e-01, 4.77893414e-04],\n",
       "       [9.98364474e-01, 1.63552578e-03],\n",
       "       ...,\n",
       "       [8.52857312e-01, 1.47142688e-01],\n",
       "       [9.63727061e-01, 3.62729387e-02],\n",
       "       [9.53133309e-01, 4.68666910e-02]])"
      ]
     },
     "execution_count": 182,
     "metadata": {},
     "output_type": "execute_result"
    }
   ],
   "source": [
    "nb.predict_proba(X_test_tfidf)"
   ]
  },
  {
   "cell_type": "code",
   "execution_count": 184,
   "id": "7eb8dc62",
   "metadata": {},
   "outputs": [],
   "source": [
    "y_pred_proba = nb.predict_proba(X_test_tfidf)[:,1]"
   ]
  },
  {
   "cell_type": "code",
   "execution_count": 186,
   "id": "dfeeb947",
   "metadata": {},
   "outputs": [],
   "source": [
    "fpr, tpr, threshold = roc_curve(y_test, y_pred_proba)"
   ]
  },
  {
   "cell_type": "code",
   "execution_count": 187,
   "id": "bdf16606",
   "metadata": {},
   "outputs": [
    {
     "data": {
      "image/png": "[encoded data removed]",
      "text/plain": [
       "<Figure size 432x288 with 1 Axes>"
      ]
     },
     "metadata": {},
     "output_type": "display_data"
    }
   ],
   "source": [
    "plt.plot(fpr, tpr)\n",
    "plt.plot([0, 1], [0, 1],'r--')\n",
    "plt.xlim([0.0, 1.0])\n",
    "plt.ylim([0.0, 1.05])\n",
    "plt.xlabel('FP Rate')\n",
    "plt.ylabel('TP Rate')\n",
    "plt.title('ROC')\n",
    "plt.show()"
   ]
  },
  {
   "cell_type": "code",
   "execution_count": null,
   "id": "c43ae10b",
   "metadata": {},
   "outputs": [],
   "source": []
  }
 ],
 "metadata": {
  "kernelspec": {
   "display_name": "Python 3 (ipykernel)",
   "language": "python",
   "name": "python3"
  },
  "language_info": {
   "codemirror_mode": {
    "name": "ipython",
    "version": 3
   },
   "file_extension": ".py",
   "mimetype": "text/x-python",
   "name": "python",
   "nbconvert_exporter": "python",
   "pygments_lexer": "ipython3",
   "version": "3.9.7"
  }
 },
 "nbformat": 4,
 "nbformat_minor": 5
}
