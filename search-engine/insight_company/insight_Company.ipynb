{
 "cells": [
  {
   "cell_type": "code",
   "execution_count": 1,
   "id": "8c49a5ce",
   "metadata": {},
   "outputs": [],
   "source": [
    "import requests\n",
    "from bs4 import BeautifulSoup\n",
    "\n",
    "from selenium.webdriver.common.action_chains import ActionChains\n",
    "from time import sleep\n",
    "import selenium\n",
    "from selenium import webdriver\n",
    "from selenium.webdriver.common.by import By\n",
    "from selenium.webdriver.common.keys import Keys\n",
    "from selenium.webdriver.support.ui import WebDriverWait\n",
    "from selenium.webdriver.common.by import By\n",
    "from selenium.webdriver.support import expected_conditions as EC\n",
    "import json\n",
    "import re\n",
    "from pprint import pprint\n",
    "from tqdm import tqdm\n",
    "import pandas as pd\n",
    "import seaborn as sns\n",
    "import matplotlib.pyplot as plt"
   ]
  },
  {
   "cell_type": "markdown",
   "id": "fd2bc69a",
   "metadata": {},
   "source": [
    "<img src='https://1000logos.net/wp-content/uploads/2021/05/Vanguard-logo.png' width=350>"
   ]
  },
  {
   "cell_type": "code",
   "execution_count": 7,
   "id": "a0feb585",
   "metadata": {},
   "outputs": [],
   "source": [
    "from webdriver_manager.chrome import ChromeDriverManager\n",
    "from selenium.webdriver.chrome.service import Service"
   ]
  },
  {
   "cell_type": "code",
   "execution_count": 8,
   "id": "d156e92b",
   "metadata": {},
   "outputs": [],
   "source": [
    "class VanguardInsights:\n",
    "    \n",
    "    def __init__(self, all_insight_link):\n",
    "        self.all_insight_link = all_insight_link\n",
    "        service = Service(executable_path=ChromeDriverManager().install())\n",
    "        self.driver = webdriver.Chrome(service=service)\n",
    "            \n",
    "    @staticmethod\n",
    "    def extract_content_with_id(link):\n",
    "        response = requests.get(link)\n",
    "        soup = BeautifulSoup(response.text)\n",
    "        content = ' '.join([i.text for i in soup.find_all(\"div\", {\"id\": \"iw_placeholder1585759247342\"})]).strip()\n",
    "        return content\n",
    "            \n",
    "    def get_article_insight(self):\n",
    "        \n",
    "        self.driver.get(self.all_insight_link)\n",
    "        sleep(10)\n",
    "\n",
    "        all_pages = []\n",
    "\n",
    "        for i in range(18):\n",
    "\n",
    "            title_tags = self.driver.find_elements(By.XPATH,'//*[(@id = \"insights-archive-section\")]//h3')\n",
    "            title_contents = self.driver.find_elements(By.XPATH, '//*[(@id = \"insights-archive-section\")]//*[contains(concat( \" \", @class, \" \" ), concat( \" \", \"p2\", \" \" ))]')\n",
    "            date_perspectives = self.driver.find_elements(By.XPATH,'//*[contains(concat( \" \", @class, \" \" ), concat( \" \", \"eyebrow\", \" \" ))]')\n",
    "            perspectives = self.driver.find_elements(By.XPATH, '//*[contains(concat( \" \", @class, \" \" ), concat( \" \", \"type\", \" \" ))]')\n",
    "            # dates = browser.find_elements(By.CSS_SELECTOR, '.content-eyebrow .eyebrow')\n",
    "            tags = self.driver.find_elements(By.CSS_SELECTOR, \"[id='insights-archive'] [class='tags']\")\n",
    "            tags = [i.find_elements(By.CSS_SELECTOR, \"[id='insights-archive'] [class='tags'] [class='pill tag']\") for i in tags]\n",
    "            links = self.driver.find_elements(By.CSS_SELECTOR, '.detail-link')\n",
    "\n",
    "\n",
    "\n",
    "            title_tag = [i.text for i in title_tags] \n",
    "            title_content = [i.text for i in title_contents]\n",
    "            date_perspective = [i.text for i in date_perspectives]\n",
    "            date = [''.join(re.findall(r'[A-Z]+\\s\\d+,\\s\\d+', i)) for i in date_perspective[1:]]\n",
    "            perspective = [i.text for i in perspectives]\n",
    "            #date = [i.text for i in dates]\n",
    "            tag = [[j.text for j in i]for i in tags]\n",
    "            links_list = [link.get_attribute('href') for link in links]\n",
    "\n",
    "            list_of_dict = []\n",
    "            for tg,tc,d,p,t,l in zip(title_tag, title_content, date, perspective, tag, links_list):\n",
    "                economy_market_dict = {\n",
    "                                    'company': 'Vanguard', \n",
    "                                    'topic': 'Insight', \n",
    "                                    'articel_title': tg, \n",
    "                                    'abstract' : tc,\n",
    "                                    'date' : d,\n",
    "                                    'perspective' : p,\n",
    "                                    'tag': ','.join(t),\n",
    "                                    'link':l,\n",
    "                                    'content':self.extract_content_with_id(l),\n",
    "                }\n",
    "                list_of_dict.append(economy_market_dict)\n",
    "\n",
    "\n",
    "            all_pages.append(list_of_dict)\n",
    "            next_page = self.driver.find_element(By.CSS_SELECTOR,'#insights-archive-section > div.pagination > div.pagination__arrows > span.icon.icon-right')\n",
    "            next_page.click()\n",
    "\n",
    "        self.driver.quit()\n",
    "        vanguard_insight_list = []\n",
    "        for p_8 in all_pages:\n",
    "            for p in p_8:\n",
    "                vanguard_insight_list.append(p)\n",
    "                \n",
    "        return vanguard_insight_list\n",
    "\n",
    "\n",
    "    @staticmethod\n",
    "    def save_to_json(file_path, list_of_dict):\n",
    "        with open(file_path, 'a') as f:\n",
    "            for dict_ in list_of_dict:\n",
    "                json.dump(dict_,f,indent=4)\n",
    "\n"
   ]
  },
  {
   "cell_type": "code",
   "execution_count": 9,
   "id": "a59127fc",
   "metadata": {},
   "outputs": [],
   "source": [
    "vanguard_insight_obj = VanguardInsights('https://advisors.vanguard.com/insights/all')\n",
    "vanguard_insight_list = vanguard_insight_obj.get_article_insight()"
   ]
  },
  {
   "cell_type": "code",
   "execution_count": 10,
   "id": "0cd2b920",
   "metadata": {},
   "outputs": [],
   "source": [
    "df = pd.DataFrame(vanguard_insight_list)"
   ]
  },
  {
   "cell_type": "code",
   "execution_count": 11,
   "id": "59d2b9b8",
   "metadata": {},
   "outputs": [
    {
     "data": {
      "text/plain": [
       "array(['Fixed Income', 'U.S.,International', 'ETF Investing',\n",
       "       'Fixed Income,U.S.', 'Portfolio Construction',\n",
       "       \"Model Portfolios,Portfolio Construction,Advisor's Alpha®,Behavioral Coaching\",\n",
       "       \"Portfolio Construction,Advisor's Alpha®,Wealth Management\",\n",
       "       'ESG Strategies,Equities', 'Personalized Indexing',\n",
       "       'U.S.,ETF Investing,Fixed Income', 'U.S.',\n",
       "       'Model Portfolios,Fixed Income', 'U.S.,Behavioral Coaching',\n",
       "       'U.S.,Fixed Income', 'Fixed Income,Portfolio Construction',\n",
       "       'Wealth Management', \"Advisor's Alpha®\",\n",
       "       'Fixed Income,Equities,Portfolio Construction', 'International',\n",
       "       'Fixed Income,U.S.,Bear Markets',\n",
       "       \"Advisor's Alpha®,Behavioral Coaching,Portfolio Construction\",\n",
       "       'Equities', \"Advisor's Alpha®,Behavioral Coaching,Bear Markets\",\n",
       "       \"Advisor's Alpha®,Behavioral Coaching\",\n",
       "       \"Advisor's Alpha®,Behavioral Coaching,U.S.\", '',\n",
       "       'Equities,Personalized Indexing',\n",
       "       'Equities,Portfolio Construction,Personalized Indexing',\n",
       "       'ESG Strategies', 'Behavioral Coaching', 'Fixed Income,Equities',\n",
       "       'Fixed Income,Bear Markets', 'Fixed Income,Equities,International',\n",
       "       'International,Bear Markets,Fixed Income',\n",
       "       'ETF Investing,Fixed Income', 'ETF Investing,Equities',\n",
       "       'ETF Investing,Equities,Bear Markets', 'Alternatives',\n",
       "       'Factor-based Strategies,ETF Investing',\n",
       "       'U.S.,International,Fixed Income',\n",
       "       \"Advisor's Alpha®,Wealth Management\", 'U.S.,Equities,Alternatives',\n",
       "       \"Advisor's Alpha®,U.S.\", 'Bear Markets,Behavioral Coaching'],\n",
       "      dtype=object)"
      ]
     },
     "execution_count": 11,
     "metadata": {},
     "output_type": "execute_result"
    }
   ],
   "source": [
    "df['tag'].unique()"
   ]
  },
  {
   "cell_type": "code",
   "execution_count": 12,
   "id": "6ba616a7",
   "metadata": {},
   "outputs": [],
   "source": [
    "df['tag2'] = df['tag'].apply(lambda x: x.split(',')[0])"
   ]
  },
  {
   "cell_type": "code",
   "execution_count": 1,
   "id": "dfe40ac5",
   "metadata": {},
   "outputs": [
    {
     "ename": "NameError",
     "evalue": "name 'df' is not defined",
     "output_type": "error",
     "traceback": [
      "\u001b[0;31m---------------------------------------------------------------------------\u001b[0m",
      "\u001b[0;31mNameError\u001b[0m                                 Traceback (most recent call last)",
      "Input \u001b[0;32mIn [1]\u001b[0m, in \u001b[0;36m<cell line: 1>\u001b[0;34m()\u001b[0m\n\u001b[0;32m----> 1\u001b[0m \u001b[43mdf\u001b[49m\n",
      "\u001b[0;31mNameError\u001b[0m: name 'df' is not defined"
     ]
    }
   ],
   "source": [
    "df"
   ]
  },
  {
   "cell_type": "markdown",
   "id": "6179b8ea",
   "metadata": {},
   "source": [
    "# Create Search Engine"
   ]
  },
  {
   "cell_type": "markdown",
   "id": "9b8df0c7",
   "metadata": {},
   "source": [
    "### Application of tf-idf for Searching Text\n",
    "\n",
    "In order to understand how to use tf-idf, I am going to make use of this technique in a text searching application. I will use a dataset of Vanguard Insight which I have scrape it from Vanguard website.  "
   ]
  },
  {
   "cell_type": "markdown",
   "id": "a26d7a96",
   "metadata": {},
   "source": [
    "### Implementation"
   ]
  },
  {
   "cell_type": "code",
   "execution_count": 22,
   "id": "e9e2a124",
   "metadata": {},
   "outputs": [],
   "source": [
    "import pandas as pd\n",
    "import numpy as np\n",
    "import time\n",
    "from sklearn.feature_extraction.text import TfidfVectorizer\n",
    "from sklearn.metrics.pairwise import cosine_similarity "
   ]
  },
  {
   "cell_type": "code",
   "execution_count": 15,
   "id": "b20aceb1",
   "metadata": {},
   "outputs": [],
   "source": [
    "#export\n",
    "def preprocess(title, body=None):\n",
    "    \"\"\" Preprocess the input, i.e. lowercase, remove html tags, special character and digits.\"\"\"\n",
    "    text = ''\n",
    "    if body is None:\n",
    "        text = title\n",
    "    else:\n",
    "        text = title + body\n",
    "    # to lower case\n",
    "    text = text.lower()\n",
    "\n",
    "    # remove tags\n",
    "    text = re.sub(\"</?.*?>\",\" <> \", text)\n",
    "    \n",
    "    # remove special characters and digits\n",
    "    text = re.sub(\"(\\\\d|\\\\W)+\",\" \", text).strip()\n",
    "    return text\n",
    "    \n",
    "def create_tfidf_features(corpus, max_features=5000, max_df=0.95, min_df=2):\n",
    "    \"\"\" Creates a tf-idf matrix for the `corpus` using sklearn. \"\"\"\n",
    "    tfidf_vectorizor = TfidfVectorizer(decode_error='replace', strip_accents='unicode', analyzer='word', \n",
    "                                       stop_words='english', ngram_range=(1, 1), max_features=max_features, \n",
    "                                       norm='l2', use_idf=True, smooth_idf=True, sublinear_tf=True,\n",
    "                                       max_df=max_df, min_df=min_df)\n",
    "    X = tfidf_vectorizor.fit_transform(corpus)\n",
    "    print('tfidf matrix successfully created.')\n",
    "    return X, tfidf_vectorizor\n",
    "\n",
    "def calculate_similarity(X, vectorizor, query, top_k=5):\n",
    "    \"\"\" Vectorizes the `query` via `vectorizor` and calculates the cosine similarity of \n",
    "    the `query` and `X` (all the documents) and returns the `top_k` similar documents.\"\"\"\n",
    "    \n",
    "    # Vectorize the query to the same length as documents\n",
    "    query_vec = vectorizor.transform(query)\n",
    "    # Compute the cosine similarity between query_vec and all the documents\n",
    "    cosine_similarities = cosine_similarity(X,query_vec).flatten()\n",
    "    # Sort the similar documents from the most similar to less similar and return the indices\n",
    "    most_similar_doc_indices = np.argsort(cosine_similarities, axis=0)[:-top_k-1:-1]\n",
    "    return (most_similar_doc_indices, cosine_similarities)\n",
    "\n",
    "def show_similar_documents(df, cosine_similarities, similar_doc_indices):\n",
    "    \"\"\" Prints the most similar documents using indices in the `similar_doc_indices` vector.\"\"\"\n",
    "    counter = 1\n",
    "    for index in similar_doc_indices:\n",
    "        print('Top-{}, Similarity = {}'.format(counter, cosine_similarities[index]))\n",
    "        print('body: {}, '.format(df[index]))\n",
    "        print()\n",
    "        counter += 1"
   ]
  },
  {
   "cell_type": "code",
   "execution_count": 16,
   "id": "f4ad66bc",
   "metadata": {},
   "outputs": [
    {
     "name": "stdout",
     "output_type": "stream",
     "text": [
      "title: Fragile—handle with care, \n",
      "content: Updated April 29, 2022\n",
      "Investors with bond-centric portfolios are likely feeling fragile after unusually poor first-quarter returns. Here are a few tips for handling them with care.\n",
      "\n",
      "The first-quarter 2022 market downturn squeezed equity and fixed income asset classes alike. This less common market event of both negative stock and bond returns likely affected all investors, but its impact may have gained special notice from conservative, bond-centric investors because they also have the highest loss aversion.\n",
      "You might find it beneficial to reach out proactively to your most conservatively invested clients, as they may be less accustomed to simultaneous stock and bond drawdowns of the magnitude we just witnessed.\n",
      "As their advisor, you've spent a great deal of time building a strong relationship with your clients to gain their trust and develop a thoughtful financial plan. One unfavorable quarter should not trigger a change to that plan if it was appropriate going into the year. Educating your clients on the frequency and magnitude of these types of events—and keeping their long-term objectives in focus—can help them maintain perspective and stay committed to their plan.\n",
      "\n",
      "Perhaps you remember as a kid trying to play the piano, throw a ball, or some other activity that required more developed motor skills. If so, you likely also remember how one side or muscle became much stronger and more adept than the other. Similarly, as an investment behavioral coach, you've possibly grown quite proficient in helping your more aggressively allocated, equity-centric clients \"stay the course\" in equity bear markets.\n",
      "But like a right-footed soccer player who has the chance to score the winning goal—with his left foot—advisors are now being confronted with the need to conduct unfamiliar conversations with their most conservatively invested, bond-centric clients.\n",
      "That's because, generally speaking, bonds have experienced a 40-year bull market—there's seldom been bad news to communicate, but the first quarter of 2022 delivered some of history's worst bond returns, in addition to negative stock returns. This year's first-quarter drawdown of –5.9% ranks as the third-worst quarter for bonds in the last 50 years.1 As a result, for the first time in a long time, you will likely need to place greater emphasis on coaching your more conservatively invested clients.\n",
      "These more loss-averse investors may feel an elevated state of anxiety and unease—and will need to be approached with care and empathy. Following, we provide some context on how this unusual quarter shaped up, along with a few pointers to help guide your conversations with clients.\n",
      "Buckle up—conservative investors likely to find the quarter unsettling\n",
      "Typically, the greatest pain in a portfolio comes to those investors more heavily weighted toward equities and other risky assets. However, in the first quarter of 2022 both stocks and bonds had negative returns—so, conservative investors have experienced a drawdown that is much less common for them. In fact, bond returns for the quarter were worse than stocks. In the past 50 years, an investor with a 30/70 stock/bond mix has only experienced three worse quarters.1\n",
      "This differs markedly from the experience of a more aggressive 70/30 investor.  They've experienced similar or worse quarterly performance 23 times, or, on average, every two to three years. Said a different way, the conservative 30/70 investor just experienced a return of –5.7% that would rank near the bottom percentile over the last 50 years.1  To put that in context, the same percentile loss for a more aggressive 70/30 investor would be a much larger –13.0%;2  instead, the first quarter of 2022 saw the 70/30 investor \"only\" experience a –5.5% drawdown (see chart below).\n",
      "For your conservatively invested clients, it's a matter of helping them put things into perspective. Historically speaking—yes, bonds saw one of their worst quarters. But comparatively speaking, when equities are in a bear market, they tend to fare much worse. Also, you can point out that this type of performance from bonds has, so far, proven exceedingly rare.\n",
      "A tale of two return profiles—mostly bonds versus mostly stocks\n",
      "Past performance is no guarantee of future returns. The performance of an index is not an exact representation of any particular investment, as you cannot invest directly in an index.\n",
      "Notes: The 30% stock/70% bond and 70% stock/30% bond portfolios comprise the Spliced US Bond and Spliced US Equity return series, weighted according to their respective stock and bond allocations. Bond portion of portfolios is composed of Spliced US Bonds, as represented by IA SBBI U.S. Intermediate-Term Government Bond Index from April 1 to December 31, 1972; Bloomberg U.S. Government/Credit Intermediate-Term Index from January 1, 1973, to December 31, 1975; and Bloomberg U.S. Aggregate Bond Index thereafter. Stock portion of portfolios is composed of Spliced US Equity as represented by the FT Willshire 5000 Index from April 1, 1972, to June 30, 1994; MSCI USA Investable Market Index from July 1, 1994, to June 30, 2001; and CRSP US Total Market Index thereafter.\n",
      "Sources: Vanguard analysis of Morningstar Direct data, as of March 31, 2022.\n",
      "\n",
      "Bond yields have risen in the past two years\n",
      "As shown below, during 2020, the 2-year and 10-year U.S. Treasury yields were as low as 0.12% and 0.62% respectively, and at the end of the first quarter sat at 2.28% and 2.32%, respectively.  Most of history has shown that remaining committed to one’s investment plan is likely a much better alternative to additional de-risking (such as moving further into bonds or money markets). This especially applies in real purchasing power terms. So, in addition to managing drawdown risk from the markets, the advisor and client should together balance and manage purchasing power risk—that is, the risk the investment portfolio does not keep up with inflation over a long time horizon.\n",
      "Increase in interest rates has led to higher current yields on fixed income\n",
      "U.S. Treasury securities yields since mid-2019\n",
      "Notes: Chart depicts the 3-month U.S. Treasury security yield, as represented by the market yield on U.S. Treasury securities at 3-month constant maturity; the 2-year U.S. Treasury security yield, as represented by the market yield on U.S. Treasury securities at 2-year constant maturity; and the 10-year U.S. Treasury security yield, as represented by the market yield on U.S. Treasury securities at 10-year constant maturity.\n",
      "Sources: Vanguard analysis of Federal Reserve Bank of St. Louis data, as of March 31, 2022.\n",
      "\n",
      "As we know, when the financial markets are volatile, investors can feel strongly compelled to change their financial plan and their stated portfolio asset allocations to stem any perceived continued losses. Yet, it is often the case that staying the course is the better path in the long term. Often this doesn't mean standing still, but taking the action of rebalancing into the underperforming asset class. It's most often best to stick to the long-term plan that you and your client have built together, with changes being made because of changes in their goals, objectives, risk appetite, and other aspects of their life, not because of changes in the markets.\n",
      "Getting the message across\n",
      "For some clients, the dynamics contributing to 2022's disappointing first-quarter performance will seem evident and understandable. For others, especially those who viewed fixed income investments as drama-free safe havens, their quarterly statements may come as a shock.\n",
      "We recommend taking a proactive approach and reaching out to clients, if possible, before they call you. Here we offer a few guiding principles to help you structure your conversations:\n",
      "\n",
      "Communicate from a place of empathy. Putting yourself in their shoes, you understand that investing in bonds has historically provided their capital with shelter from much of the volatility more common to riskier equities. You have an opportunity to put this atypical bond-market event into context for them—before conversations with their friends and family or reading news headlines prompts them to question their long-term investing plan.\n",
      "Take care to avoid promissory statements. While your goal is to provide comfort and understanding, you also want to give clients a realistic picture about the future. And the truth is, none of us knows for certain what the future holds for the markets (thus, you'd do well to avoid statements such as, \"No need to worry, because the bond market has bottomed\"). You can think of every interaction with your clients as the opportunity to build or lose trust, credibility, and authenticity; it's like a bank where you are depositing or withdrawing trust. Candor is a net contributor to your trust balance with clients.\n",
      "Focus on the relationship between long-term risk and return premiums. Historically, stocks have provided higher returns than bonds or cash but have carried a higher degree of risk. If investors were not compensated for the additional risk they took over longer time periods, no one would buy the higher-risk assets. Such market pressure pushes down the price of these assets to a level where risk is eventually adequately priced into the market. Bonds, in turn, should also over longer periods provide higher returns and carry greater risk than cash. Again, you can remind clients that portfolio asset allocation balances principal risk and purchasing power risk—the risk that their balances lose value to inflation.\n",
      "\n",
      "Proactively sharing how unique the quarter has been, while providing your empathy, care, and counseling, can go a long way toward helping your clients stick to their financial plans and keep their long-term goals on track.\n",
      " \n",
      "1 Vanguard calculations using data from Morningstar, Inc., as of March 31, 2022.\n",
      "2 Given recent concerns about rising inflation, we performed the same analysis using quarterly real returns (inflation adjusted) and found that results were largely consistent.\n",
      " \n",
      "Notes:\n",
      "\n",
      "All investing is subject to risk, including the possible loss of the money you invest. Be aware that fluctuations in the financial markets and other factors may cause declines in the value of your account. There is no guarantee that any particular asset allocation or mix of funds will meet your investment objectives or provide you with a given level of income.\n",
      "Bond funds are subject to the risk that an issuer will fail to make payments on time, and that bond prices will decline because of rising interest rates or negative perceptions of an issuer's ability to make payments. Investments in bonds are subject to interest rate, credit, and inflation risk.\n",
      "Diversification does not ensure a profit or protect against a loss.\n"
     ]
    }
   ],
   "source": [
    "sample_index = np.random.randint(len(df))\n",
    "sample = df.loc[sample_index,['articel_title', 'content']]\n",
    "print('title: {}, \\ncontent: {}'.format(sample['articel_title'],sample['content']))"
   ]
  },
  {
   "cell_type": "code",
   "execution_count": 17,
   "id": "d3350a69",
   "metadata": {},
   "outputs": [],
   "source": [
    "# Preprocess the corpus\n",
    "data = [preprocess(title, body) for title, body in zip(df['articel_title'], df['content'])]"
   ]
  },
  {
   "cell_type": "code",
   "execution_count": 20,
   "id": "5aa896e4",
   "metadata": {},
   "outputs": [
    {
     "name": "stdout",
     "output_type": "stream",
     "text": [
      "creating tfidf matrix...\n",
      "tfidf matrix successfully created.\n"
     ]
    },
    {
     "data": {
      "text/plain": [
       "4031"
      ]
     },
     "execution_count": 20,
     "metadata": {},
     "output_type": "execute_result"
    }
   ],
   "source": [
    "print('creating tfidf matrix...')\n",
    "# Learn vocabulary and idf, return term-document matrix\n",
    "X,v = create_tfidf_features(data)\n",
    "features = v.get_feature_names_out()\n",
    "len(features)"
   ]
  },
  {
   "cell_type": "code",
   "execution_count": 23,
   "id": "8e3e322e",
   "metadata": {},
   "outputs": [
    {
     "name": "stdout",
     "output_type": "stream",
     "text": [
      "search time: 6.47 ms\n",
      "\n",
      "Top-1, Similarity = 0.14142986846146868\n",
      "body: vanguard economic and market outlook, \n",
      "\n",
      "Top-2, Similarity = 0.0838665262702267\n",
      "body: opportunities in emerging market bondspatient investors are likely to be rewarded as we expect yields to rally that is decline in emerging markets em that s the key finding of higher inflation is creating an opportunity in emerging markets an analysis produced by vanguard fixed income group s fig nishan pradhan liza ermolenko zoe odenwalder nick eisinger and daniel shaykevich reasons for optimism the authors cite two major reasons why they think the peak in em inflation is near and why the resulting disinflation will create attractive buying opportunities differences in goods and services consumption patterns have contributed to higher em inflation recent inflation in emerging markets has been more supply driven than in developed markets this makes em inflation more likely to fall when supply side pressures abate in general central banks in emerging markets have been proactively hiking and market prices anticipate a good deal of rates hikes over and above what central banks have delivered some ems have done more of the heavy lifting on interest rates than others hikes made in the last two years and hikes priced in by the market for the next months both in basis points notes data are as of august priced in hikes reflect the difference between current policy rate and year forward implied policy rate a basis point equals of a percentage point sources vanguard and bloomberg while the authors do not attempt to pinpoint the peak in inflation they believe that local emerging markets rates are starting to look attractive we are excited to have a strong process in place to play long duration em local rates when the trend decisively turns said shaykevich senior emerging markets portfolio manager in fig we believe we are close to this point, \n",
      "\n",
      "Top-3, Similarity = 0.07982098098438212\n",
      "body: a timetable for overcoming covid the end of brought a surge of hope about humanity s ability to assert control over the covid pandemic the first vaccines to emerge from clinical trials proved more effective than even the most optimistic assessments raising the confidence of public health experts and investors alike as i wrote late last year now even as infections and hospitalizations remain elevated and new disease variants appear to spread more quickly we remain confident that the developed world will begin to show meaningful progress against the pandemic in the months ahead the essential variable vaccine distribution despite a slow start the pace of vaccinations in the united states now exceeds one million per day we re early in the rollout and we believe that initial distribution bottlenecks attributable in no small part to stockpiling scarce supply to ensure second doses are surmountable a change in strategy that prioritizes first doses and increased vaccine production should ensure that the pace of vaccinations accelerates the path to herd immunity depends on the pace of vaccinations notes this analysis as of january discounts people who achieve immunity through infection the gray buffers around the vaccination trend lines reflect the impossibility of precisely predicting when herd immunity may be achieved source vanguard as a result our analysis suggests the united states can approach herd immunity in the second half of the year consistent with our view in our vanguard economic and market outlook for as our forecast further notes the timing of when herd immunity is achieved relates directly to our outlook for the global economy the path of economic recovery hinges critically on health outcomes we expect to see business and social activity normalize as we approach herd immunity the more quickly this occurs the more quickly we re likely to see unemployment rates trend downward inflation move toward central bank targets and output reach pre pandemic levels our analysis makes several assumptions and we acknowledge that covid continues to present many unknowns our analysis assumes herd immunity thresholds the percentage of a population that needs to be immune for herd immunity to kick in of and the is a widely discussed covid threshold if new strains in the united kingdom south africa and elsewhere prove more infectious a more conservative threshold such as may be more appropriate finally our analysis assumes that the vaccines now in use will prove effective against covid mutations we know that the virus has mutated several times since its inception yet vaccines based on its initial genetic sequencing have still proved remarkably effective the pandemic has upended the lives of nearly everyone despite some challenges still ahead it s gratifying to see increasingly clearly that a positive end is in sight i d like to thank vanguard economist max wieland for his invaluable contributions to this commentary source bloomberg covid vaccine tracker showing an average of million vaccinations per day over the week ended january, \n",
      "\n",
      "Top-4, Similarity = 0.07432988163380105\n",
      "body: factor etfs driving outcomes after a wild year rideour factor etfs recently celebrated their three year anniversary crossing this threshold provided a great opportunity to check in with antonio picca head of vanguard factor based strategies about the current state of our lineup the market environment and strategies to implement factor based investing in your portfolio construction approach vanguard factor etfs recently hit their three year mark now that they have achieved this milestone can you provide some thoughts and insights into the first three years for vanguard s first actively managed etfs it has been a wild ride who could have predicted a pandemic fueled rally happening at the top of the longest bull run in the history of the u s stock market in this environment our factor etfs experienced some of the largest movements ever observed in years of historical data this is partly the result of our design choices when designing the funds we made the deliberate choice of targeting factors across the capitalization spectrum each portfolio is split evenly across large mid and small cap stocks because we believe that gives them the best potential for outperformance over the long term factor premiums can show up at different times and in different parts of the market cap spectrum so it s important to be diversified across the whole spectrum in order to capture the premium when it s there this decision turned out to be a major headwind in the first couple of years with the market driven exclusively by a small group of mega cap growth stocks we were forced to face tough questions such as are factors broken and does your approach make sense in a winner takes all economy there was no simple answer to these tough questions however what kept us optimistic was the observation that similar dynamics happened in the late s and early s coinciding with the second and third longest bull runs in the u s market s history our optimism was finally validated last year when the covid shock changed the market narrative and factors started delivering stronger performance across the capitalization spectrum as you can see from the chart below the early days of our factor products saw a handful of large cap growth stocks driving market performance while the covid shock made this trend even more pronounced we are beginning to see a strong comeback in value and small cap stocks as the country emerges from the pandemic a changing market narrative leads to stronger factor performance across the capitalization spectrum source factset based on data from february through may for standardized performance for vfva click here the performance data shown represent past performance which is not a guarantee of future results investment returns and principal value will fluctuate so investors shares when sold may be worth more or less than their original cost current performance may be lower or higher than the performance data cited for performance data current to the most recent month end visit our website at vanguard com performance the performance of an index is not an exact representation of any particular investment as you cannot invest directly in an index we ve recently seen a market environment that has been more favorable to small cap and value stocks why are our factor etfs uniquely positioned to take advantage of this current market trend so far value stocks have been the protagonists of the economic recovery their performance really shined once there was positive news about the efficacy of the covid vaccines and a strong economic stimulus this fell perfectly in line with our expectations since value stocks are pro cyclical and tend to do their best during periods of economic recovery the small cap performance reflects the broadening market leadership of stocks that were previously ignored by investors but are getting a second chance this is key when evaluating how our factors may perform going forward the dichotomy between growth and value is so ingrained into the common narrative that most people tend to think that we are going from a lopsided market obsessed with a small group of high flying technology and media companies to one dominated by small cap energy and financial companies as this obsession for growth wanes it creates opportunities for other companies across the capitalization spectrum and across factors all of our factors value quality momentum liquidity multifactor and minimum volatility are well positioned to benefit from this not just our value product even our momentum strategy is positioned to take advantage as our active implementation approach has allowed us to quickly transition from a growth play through most of to a value broader play in early if you don t believe me just look at their valuations despite the recent performance rebound our factors are still trading at historically low valuations compared with the broad equity market this means that there is still the potential to outperform over the next and years value for example would need to outperform the russell index by to get back in line with its average historical valuation relative to the market market factors trading at historically low valuations versus the broad market source refinitiv financial solutions based on data through may methodology relative valuations are computed as the price to forward earnings of the factor portfolios divided by the price to forward earnings of the russell index the price to forward earnings ratio is computed as the weighted average of the stocks market capitalization divided by the weighted average of their month forward earnings from i b e s institutional brokers estimate system the weights used in the average correspond to the factor portfolios and russell weights respectively the month forward earnings from i b e s are weighted at and of the russell universe past performance is no guarantee of future returns the performance of an index is not an exact representation of any particular investment as you cannot invest directly in an index relative valuations versus the russell index source refinitiv financial solutions based on data through may methodology relative valuations are computed as the price to forward earnings of the factor portfolios divided by the price to forward earnings of the russell index the price to forward earnings ratio is computed as the weighted average of the stocks market capitalization divided by the weighted average of their month forward earnings from i b e s institutional brokers estimate system the weights used in the average correspond to the factor portfolios and russell weights respectively the month forward earnings from i b e s are weighted at and of the russell universe past performance is no guarantee of future returns the performance of an index is not an exact representation of any particular investment as you cannot invest directly in an index what is your outlook for factor based products going forward despite some challenges for value which is the poster child for factor investing factors have proved that they can deliver strong outcomes for investors and i believe they will continue to do so in the future if you think about where the investment landscape is going with greater focus on technology and customization it is hard to see a future where factors don t play an important role in an investor s portfolio it is easy to lose focus of that long term trend if you follow the markets these days with flashy hedge funds meme stocks and cryptocurrencies capturing all of the headlines but i think that factor based etfs will continue to garner assets from traditional forms of active management and even from broad market investing going forward can you provide some examples of how you ve seen advisors implementing our factor etfs into their portfolio construction approach over the last three years we ve worked with many advisors helping them incorporate factors into their clients portfolios we re still seeing a large dispersion in factor knowledge across the investor spectrum those who are further along their factor journey have generally a strong idea about which factors they wish to target and how they can be used strategically as a large percentage of their allocation intended to be held for a long time horizon or tactically leaning into a factor more aggressively based on its valuation or momentum with perhaps a shorter term horizon our portfolio and analytics team has also worked with investors who aren t as familiar with factors yet want to substitute current active manager allocations with a lower cost factor portfolio many fall somewhere in between these folks generally combine many factors together and use a multifactor approach as the satellite of their allocation check out our factor etf lineup customize clients tilts toward the factors that influence portfolio performance u s value factor etf vfva u s quality factor etf vfqy u s liquidity factor etf vflq u s momentum factor etf vfmo u s multifactor etf vfmf u s minimum volatility etf vfmv notes for more information about vanguard funds or vanguard etfs obtain a prospectus or a summary prospectus if available or call to request one investment objectives risks charges expenses and other important information are contained in the prospectus read and consider it carefully before investing vanguard etf shares are not redeemable with the issuing fund other than in very large aggregations worth millions of dollars instead investors must buy and sell vanguard etf shares in the secondary market and hold those shares in a brokerage account in doing so the investor may incur brokerage commissions and may pay more than net asset value when buying and receive less than net asset value when selling all investing is subject to risk including the possible loss of principal be aware that fluctuations in the financial markets and other factors may cause declines in the value of your account there is no guarantee that any particular asset allocation or mix of funds will meet your investment objectives or provide you with a given level of income prices of mid and small cap stocks often fluctuate more than those of large company stocks the factor funds are subject to investment style risk which is the chance that returns from the types of stocks in which a factor fund invests will trail returns from u s stock markets the factor funds are also subject to manager risk which is the chance that poor security selection will cause a factor fund to underperform its relevant benchmark or other funds with a similar investment objective and sector risk which is the chance that significant problems will affect a particular sector in which a factor fund invests or that returns from that sector will trail returns from the overall stock market, \n",
      "\n",
      "Top-5, Similarity = 0.07369386656660666\n",
      "body: market perspectives april key highlights our u s growth outlook remains unchanged at even as russia s invasion of ukraine has injected substantial uncertainty into the economy and markets in the euro area higher energy prices are expected to shave up to a percentage point from our previously anticipated growth outlook for the fed signaled additional rate hikes ahead higher oil prices have increased upside risks to inflation and downside risks to growth asset class return outlooks our year annualized nominal return projections are shown below the shaded asterisked figures reflect a february running of the vanguard capital markets model vcmm for broad equity and fixed income asset classes only outlooks for the remaining sub asset classes reflect a december running of the vcmm please note that the figures are based on a point range around the rounded th percentile of the distribution of return outcomes for equities and a point range around the rounded th percentile for fixed income equities return projection median volatility u s equities global equities ex u s unhedged u s value u s growth u s large cap u s small cap u s real estate investment trusts global ex u s developed markets equities unhedged emerging markets equities unhedged fixed income return projection median volatility u s aggregate bonds u s treasury bonds u s credit bonds u s cash global bonds ex u s hedged u s high yield corporate bonds u s treasury inflation protected securities emerging markets sovereign u s inflation these probabilistic return assumptions depend on current market conditions and as such may change over time important the projections or other information generated by the vanguard capital markets model regarding the likelihood of various investment outcomes are hypothetical in nature do not reflect actual investment results and are not guarantees of future results distribution of return outcomes from the vcmm are derived from simulations for each modeled asset class simulations are as of february and december results from the model may vary with each use and over time for more information see the notes section source vanguard investment strategy group region by region outlook russia s invasion of ukraine has injected substantial uncertainty into the economy and markets united states vanguard continues to foresee gdp growth around in the united states in though oil prices and geopolitical risks from the ukraine crisis bear watching we currently see less risk from events in ukraine to the u s economy than to that of the euro area though the risk of recession would increase if financial conditions tightened significantly and oil prices settled into a to range gdp increased at an annual rate of in the fourth quarter up from third quarter growth according to the second estimate from the bureau of economic analysis for all of real gdp grew by compared with a contraction of in when the pandemic set in euro area we have updated our outlook for economic growth in the euro area vanguard expects factors led primarily by higher energy prices to shave up to a percentage point from our previously anticipated growth outlook other factors include diminished consumer and business confidence and tighter financial conditions energy price impacts are likely to be greater in the euro area which derives of its natural gas and of its crude oil from russia than in the united kingdom and the united states the further downgrade to our growth view comes even as the covid situation improves with daily cases hospitalizations and deaths declining for the fourth quarter gdp grew by on a seasonally adjusted basis compared with the third quarter china the national bureau of statistics in china released stronger than expected economic data on march but the numbers don t capture significant headwinds that have since developed in what was always going to be a challenging year the increase in covid cases has led to shutdowns beginning the week of march china set an official growth target around at the early march national people s congress its lowest growth target ever vanguard maintains its forecast for growth around which in our view is the minimum that policymakers will accept we believe economic spillovers from the war in ukraine will shave basis points off china s growth in our base case scenario and that stimulus will be introduced as necessary emerging markets direct economic spillovers from the war in ukraine are largely limited to central europe and eastern europe and are not a major threat to emerging markets broadly persistently higher prices for both energy and non energy commodities add to inflation leading to more restrictive monetary policy and slowing growth we continue to foresee growth around for all of for emerging markets though we emphasize now that risks are clearly skewed to the downside unemployment expected to fall even further the united states added jobs at a strong pace in february and the unemployment rate fell to its lowest since before the covid pandemic the bureau of labor statistics reported that jobs were created in february more than above the consensus expectation vanguard expects the unemployment rate to fall to its prepandemic level in the second quarter and even further by year end inflation scenarios provide a glimpse of what may come next the consumer price index in the united states climbed by in february compared with a year earlier the highest increase in the gauge since january vanguard expects core personal consumption expenditures price index pce which excludes volatile food and energy prices to fall back toward by the end of our upside scenario of core pce remaining above at year s end would become more likely with continued geopolitical tensions and elevated oil prices at a time when much remains in flux the table below puts forth our views for a range of oil price and financial conditions scenarios as oil prices and conditions tighten global growth slows and inflation accelerates baseline scenario scenario scenario crude oil price per barrel financial conditions accommodative limited tightening moderate tightening significant tightening gdp growth well above trend above trend below trend recession average consumer price inflation vanguard assessment of scenario likelihood notes the table presents just two of the most important factors vanguard considers related to the war in ukraine oil prices and financial conditions and illustrates their expected impact on growth and inflation under four distinct scenarios other variables not depicted also factor into the analysis the probabilities shown are as of the date of the analysis and are subject to change sources vanguard analysis as of march the fed signals additional rate hikes ahead the federal reserve raised the target range for its federal funds rate by basis points to a range of to on march higher oil prices stemming from russia s invasion of ukraine have increased upside risks to inflation and downside risks to growth the fed sent a clear signal that controlling inflation means a of regular rate hikes the fed is poised to announce the start of a reduction in its bond holdings as soon as its may policy setting meeting, \n",
      "\n"
     ]
    }
   ],
   "source": [
    "user_question = ['What is the Market trend?']\n",
    "search_start = time.time()\n",
    "sim_vecs, cosine_similarities = calculate_similarity(X, v, user_question)\n",
    "search_time = time.time() - search_start\n",
    "print(\"search time: {:.2f} ms\".format(search_time * 1000))\n",
    "print()\n",
    "show_similar_documents(data, cosine_similarities, sim_vecs)"
   ]
  },
  {
   "cell_type": "markdown",
   "id": "bb4d569d",
   "metadata": {},
   "source": [
    "# Connect to Data Base"
   ]
  },
  {
   "cell_type": "code",
   "execution_count": 3,
   "id": "5a2709ec",
   "metadata": {},
   "outputs": [],
   "source": [
    "import psycopg2 "
   ]
  },
  {
   "cell_type": "code",
   "execution_count": 4,
   "id": "2b35e2e1",
   "metadata": {},
   "outputs": [],
   "source": [
    "def db_query(username, password, host, port, db_name, command, read_query=None):\n",
    "        \"\"\" run query in PostgreSQL data \"\"\"\n",
    "\n",
    "        try:\n",
    "\n",
    "            with psycopg2.connect(database=db_name,\n",
    "                                  user=username,\n",
    "                                  password=password,\n",
    "                                  host=host,\n",
    "                                  port=port) as conn:\n",
    "\n",
    "                with conn.cursor() as curs:\n",
    "                    conn.autocommit = True\n",
    "                    curs.execute(command)\n",
    "                    if read_query:\n",
    "                        data = curs.fetchall()\n",
    "\n",
    "            if read_query:\n",
    "                return data\n",
    "\n",
    "        except (Exception, psycopg2.DatabaseError) as error:\n",
    "            print(error)\n",
    "            \n",
    "# obj_data_base_class = DataBaseClass('guest', 'Aa12345', 'localhost', 5432, 'insights_db')"
   ]
  },
  {
   "cell_type": "code",
   "execution_count": 5,
   "id": "e67bc385",
   "metadata": {},
   "outputs": [],
   "source": [
    "vanguard_command = \"\"\"select * from insights_data\"\"\"\n",
    "\n",
    "vanguard_data = db_query(\n",
    "    username='guest',\n",
    "    password='Aa12345',\n",
    "    host='localhost',\n",
    "    port=5432,\n",
    "    db_name='insights_db',\n",
    "    command=vanguard_command,\n",
    "    read_query=True\n",
    ")"
   ]
  },
  {
   "cell_type": "code",
   "execution_count": 16,
   "id": "a0224ddf",
   "metadata": {},
   "outputs": [],
   "source": [
    "vanguard_col_command = \"\"\"select column_name from information_schema.columns where table_name='insights_data'\"\"\"\n",
    "\n",
    "vanguard_col = db_query(\n",
    "    username='guest',\n",
    "    password='Aa12345',\n",
    "    host='localhost',\n",
    "    port=5432,\n",
    "    db_name='insights_db',\n",
    "    command=vanguard_col_command,\n",
    "    read_query=True\n",
    ")"
   ]
  },
  {
   "cell_type": "code",
   "execution_count": 17,
   "id": "449de9fc",
   "metadata": {},
   "outputs": [],
   "source": [
    "vanguard_col = [tup[0] for tup in vanguard_col]"
   ]
  },
  {
   "cell_type": "code",
   "execution_count": 18,
   "id": "b8558e26",
   "metadata": {},
   "outputs": [
    {
     "data": {
      "text/plain": [
       "['company',\n",
       " 'topic',\n",
       " 'article_title',\n",
       " 'abstract',\n",
       " 'date',\n",
       " 'perspective',\n",
       " 'tag',\n",
       " 'link',\n",
       " 'content']"
      ]
     },
     "execution_count": 18,
     "metadata": {},
     "output_type": "execute_result"
    }
   ],
   "source": [
    "vanguard_col"
   ]
  },
  {
   "cell_type": "code",
   "execution_count": 19,
   "id": "1f04cfdb",
   "metadata": {},
   "outputs": [],
   "source": [
    "vanguard_df = pd.DataFrame(vanguard_data, columns=vanguard_col)"
   ]
  },
  {
   "cell_type": "code",
   "execution_count": 20,
   "id": "0785fb4f",
   "metadata": {},
   "outputs": [
    {
     "data": {
      "text/html": [
       "<div>\n",
       "<style scoped>\n",
       "    .dataframe tbody tr th:only-of-type {\n",
       "        vertical-align: middle;\n",
       "    }\n",
       "\n",
       "    .dataframe tbody tr th {\n",
       "        vertical-align: top;\n",
       "    }\n",
       "\n",
       "    .dataframe thead th {\n",
       "        text-align: right;\n",
       "    }\n",
       "</style>\n",
       "<table border=\"1\" class=\"dataframe\">\n",
       "  <thead>\n",
       "    <tr style=\"text-align: right;\">\n",
       "      <th></th>\n",
       "      <th>company</th>\n",
       "      <th>topic</th>\n",
       "      <th>article_title</th>\n",
       "      <th>abstract</th>\n",
       "      <th>date</th>\n",
       "      <th>perspective</th>\n",
       "      <th>tag</th>\n",
       "      <th>link</th>\n",
       "      <th>content</th>\n",
       "    </tr>\n",
       "  </thead>\n",
       "  <tbody>\n",
       "    <tr>\n",
       "      <th>0</th>\n",
       "      <td>Vanguard</td>\n",
       "      <td>Insight</td>\n",
       "      <td>Vanguard Expands Tax-Exempt Bond Lineup with n...</td>\n",
       "      <td>Vanguard announces Vanguard Short-Term Tax-Exe...</td>\n",
       "      <td>DECEMBER 21, 2022</td>\n",
       "      <td>PRODUCT NEWS</td>\n",
       "      <td>Fixed Income</td>\n",
       "      <td>https://advisors.vanguard.com/insights/article...</td>\n",
       "      <td>Vanguard today filed an initial registration s...</td>\n",
       "    </tr>\n",
       "    <tr>\n",
       "      <th>1</th>\n",
       "      <td>Vanguard</td>\n",
       "      <td>Insight</td>\n",
       "      <td>Vanguard Economic and Market Outlook 2023</td>\n",
       "      <td>Key takeaways from the 2023 Vanguard Economic ...</td>\n",
       "      <td>DECEMBER 11, 2022</td>\n",
       "      <td>VANGUARD PERSPECTIVE</td>\n",
       "      <td>U.S.,International</td>\n",
       "      <td>https://advisors.vanguard.com/insights/article...</td>\n",
       "      <td>Vanguard Economic and Market Outlook for 2023:...</td>\n",
       "    </tr>\n",
       "    <tr>\n",
       "      <th>2</th>\n",
       "      <td>Vanguard</td>\n",
       "      <td>Insight</td>\n",
       "      <td>Tallying the total cost of owning an ETF</td>\n",
       "      <td>With the rise of commission-free ETF trading, ...</td>\n",
       "      <td>DECEMBER 08, 2022</td>\n",
       "      <td>EXPERT PERSPECTIVE</td>\n",
       "      <td>ETF Investing</td>\n",
       "      <td>https://advisors.vanguard.com/insights/article...</td>\n",
       "      <td>With the rise of commission-free ETF trading a...</td>\n",
       "    </tr>\n",
       "    <tr>\n",
       "      <th>3</th>\n",
       "      <td>Vanguard</td>\n",
       "      <td>Insight</td>\n",
       "      <td>Muni yields haven't been this strong for 10 years</td>\n",
       "      <td>Many of your clients can benefit from the high...</td>\n",
       "      <td>DECEMBER 07, 2022</td>\n",
       "      <td>VANGUARD PERSPECTIVE</td>\n",
       "      <td>Fixed Income,U.S.</td>\n",
       "      <td>https://advisors.vanguard.com/insights/article...</td>\n",
       "      <td>Looking for more yield? Munis are at a decade-...</td>\n",
       "    </tr>\n",
       "    <tr>\n",
       "      <th>4</th>\n",
       "      <td>Vanguard</td>\n",
       "      <td>Insight</td>\n",
       "      <td>Ahead of the curve: Munis prepare for economic...</td>\n",
       "      <td>Vanguard municipal bond portfolio managers tal...</td>\n",
       "      <td>DECEMBER 07, 2022</td>\n",
       "      <td>EXPERT PERSPECTIVE</td>\n",
       "      <td>Fixed Income</td>\n",
       "      <td>https://advisors.vanguard.com/insights/article...</td>\n",
       "      <td>In this wide-ranging Q&amp;A discussion, Vanguard ...</td>\n",
       "    </tr>\n",
       "  </tbody>\n",
       "</table>\n",
       "</div>"
      ],
      "text/plain": [
       "    company    topic                                      article_title  \\\n",
       "0  Vanguard  Insight  Vanguard Expands Tax-Exempt Bond Lineup with n...   \n",
       "1  Vanguard  Insight          Vanguard Economic and Market Outlook 2023   \n",
       "2  Vanguard  Insight           Tallying the total cost of owning an ETF   \n",
       "3  Vanguard  Insight  Muni yields haven't been this strong for 10 years   \n",
       "4  Vanguard  Insight  Ahead of the curve: Munis prepare for economic...   \n",
       "\n",
       "                                            abstract               date  \\\n",
       "0  Vanguard announces Vanguard Short-Term Tax-Exe...  DECEMBER 21, 2022   \n",
       "1  Key takeaways from the 2023 Vanguard Economic ...  DECEMBER 11, 2022   \n",
       "2  With the rise of commission-free ETF trading, ...  DECEMBER 08, 2022   \n",
       "3  Many of your clients can benefit from the high...  DECEMBER 07, 2022   \n",
       "4  Vanguard municipal bond portfolio managers tal...  DECEMBER 07, 2022   \n",
       "\n",
       "            perspective                 tag  \\\n",
       "0          PRODUCT NEWS        Fixed Income   \n",
       "1  VANGUARD PERSPECTIVE  U.S.,International   \n",
       "2    EXPERT PERSPECTIVE       ETF Investing   \n",
       "3  VANGUARD PERSPECTIVE   Fixed Income,U.S.   \n",
       "4    EXPERT PERSPECTIVE        Fixed Income   \n",
       "\n",
       "                                                link  \\\n",
       "0  https://advisors.vanguard.com/insights/article...   \n",
       "1  https://advisors.vanguard.com/insights/article...   \n",
       "2  https://advisors.vanguard.com/insights/article...   \n",
       "3  https://advisors.vanguard.com/insights/article...   \n",
       "4  https://advisors.vanguard.com/insights/article...   \n",
       "\n",
       "                                             content  \n",
       "0  Vanguard today filed an initial registration s...  \n",
       "1  Vanguard Economic and Market Outlook for 2023:...  \n",
       "2  With the rise of commission-free ETF trading a...  \n",
       "3  Looking for more yield? Munis are at a decade-...  \n",
       "4  In this wide-ranging Q&A discussion, Vanguard ...  "
      ]
     },
     "execution_count": 20,
     "metadata": {},
     "output_type": "execute_result"
    }
   ],
   "source": [
    "vanguard_df.head()"
   ]
  },
  {
   "cell_type": "markdown",
   "id": "69a5c29e",
   "metadata": {},
   "source": [
    "# Creat Text Summarization Approaches"
   ]
  },
  {
   "cell_type": "markdown",
   "id": "f8efc74c",
   "metadata": {},
   "source": [
    "### with gensim"
   ]
  },
  {
   "cell_type": "code",
   "execution_count": 21,
   "id": "d12e2a2b",
   "metadata": {},
   "outputs": [],
   "source": [
    "from gensim.summarization import summarize"
   ]
  },
  {
   "cell_type": "code",
   "execution_count": 22,
   "id": "e3e5916e",
   "metadata": {},
   "outputs": [],
   "source": [
    "short_content = summarize(vanguard_df.content[0])"
   ]
  },
  {
   "cell_type": "code",
   "execution_count": 26,
   "id": "d5ce20f0",
   "metadata": {},
   "outputs": [
    {
     "data": {
      "text/plain": [
       "1220"
      ]
     },
     "execution_count": 26,
     "metadata": {},
     "output_type": "execute_result"
    }
   ],
   "source": [
    "len(short_content)"
   ]
  },
  {
   "cell_type": "code",
   "execution_count": 25,
   "id": "d7ae6d76",
   "metadata": {},
   "outputs": [
    {
     "data": {
      "text/plain": [
       "4449"
      ]
     },
     "execution_count": 25,
     "metadata": {},
     "output_type": "execute_result"
    }
   ],
   "source": [
    "len(vanguard_df.content[0])"
   ]
  },
  {
   "cell_type": "markdown",
   "id": "e0e29aa3",
   "metadata": {},
   "source": [
    "### with sumy"
   ]
  },
  {
   "cell_type": "code",
   "execution_count": 30,
   "id": "c6e10962",
   "metadata": {},
   "outputs": [],
   "source": [
    "import sumy\n",
    "from sumy import summarizers"
   ]
  },
  {
   "cell_type": "code",
   "execution_count": 31,
   "id": "e523bee6",
   "metadata": {},
   "outputs": [
    {
     "data": {
      "text/plain": [
       "['AbstractSummarizer',\n",
       " '__builtins__',\n",
       " '__cached__',\n",
       " '__doc__',\n",
       " '__file__',\n",
       " '__loader__',\n",
       " '__name__',\n",
       " '__package__',\n",
       " '__path__',\n",
       " '__spec__',\n",
       " '_summarizer',\n",
       " 'absolute_import',\n",
       " 'division',\n",
       " 'print_function',\n",
       " 'unicode_literals']"
      ]
     },
     "execution_count": 31,
     "metadata": {},
     "output_type": "execute_result"
    }
   ],
   "source": [
    "dir(summarizers)"
   ]
  },
  {
   "cell_type": "markdown",
   "id": "ae950d01",
   "metadata": {},
   "source": [
    "### LexRank"
   ]
  },
  {
   "cell_type": "code",
   "execution_count": null,
   "id": "b07c5c49",
   "metadata": {},
   "outputs": [],
   "source": [
    "from sumy.summarizers.lex_rank import LexRankSummarizer\n",
    "summarizer_lex = LexRankSummarizer()\n",
    "\n",
    "# Summarize using sumy LexRank\n",
    "summary= summarizer_lex(parser.document, 2)\n",
    "lex_summary=\"\"\n",
    "for sentence in summary:\n",
    "lex_summary+=str(sentence)\n",
    "print(lex_summary)\n",
    "\n",
    "print(text_summary)\n",
    "\n"
   ]
  }
 ],
 "metadata": {
  "kernelspec": {
   "display_name": "Python 3 (ipykernel)",
   "language": "python",
   "name": "python3"
  },
  "language_info": {
   "codemirror_mode": {
    "name": "ipython",
    "version": 3
   },
   "file_extension": ".py",
   "mimetype": "text/x-python",
   "name": "python",
   "nbconvert_exporter": "python",
   "pygments_lexer": "ipython3",
   "version": "3.9.7"
  }
 },
 "nbformat": 4,
 "nbformat_minor": 5
}
