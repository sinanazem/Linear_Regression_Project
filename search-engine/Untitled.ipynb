{
 "cells": [
  {
   "cell_type": "code",
   "execution_count": 1,
   "id": "9005f794-5e12-43ea-af61-4b6681b727b4",
   "metadata": {},
   "outputs": [
    {
     "name": "stdout",
     "output_type": "stream",
     "text": [
      "Collecting en-core-web-sm==3.4.1\n",
      "  Downloading https://github.com/explosion/spacy-models/releases/download/en_core_web_sm-3.4.1/en_core_web_sm-3.4.1-py3-none-any.whl (12.8 MB)\n",
      "\u001b[2K     \u001b[90m━━━━━━━━━━━━━━━━━━━━━━━━━━━━━━━━━━━━━━━━\u001b[0m \u001b[32m12.8/12.8 MB\u001b[0m \u001b[31m11.6 MB/s\u001b[0m eta \u001b[36m0:00:00\u001b[0m00:01\u001b[0m00:01\u001b[0m\n",
      "\u001b[?25hRequirement already satisfied: spacy<3.5.0,>=3.4.0 in /Users/andishetavakkoli/opt/anaconda3/envs/crawlenv/lib/python3.10/site-packages (from en-core-web-sm==3.4.1) (3.4.4)\n",
      "Requirement already satisfied: spacy-loggers<2.0.0,>=1.0.0 in /Users/andishetavakkoli/opt/anaconda3/envs/crawlenv/lib/python3.10/site-packages (from spacy<3.5.0,>=3.4.0->en-core-web-sm==3.4.1) (1.0.4)\n",
      "Requirement already satisfied: wasabi<1.1.0,>=0.9.1 in /Users/andishetavakkoli/opt/anaconda3/envs/crawlenv/lib/python3.10/site-packages (from spacy<3.5.0,>=3.4.0->en-core-web-sm==3.4.1) (0.10.1)\n",
      "Requirement already satisfied: cymem<2.1.0,>=2.0.2 in /Users/andishetavakkoli/opt/anaconda3/envs/crawlenv/lib/python3.10/site-packages (from spacy<3.5.0,>=3.4.0->en-core-web-sm==3.4.1) (2.0.7)\n",
      "Requirement already satisfied: numpy>=1.15.0 in /Users/andishetavakkoli/opt/anaconda3/envs/crawlenv/lib/python3.10/site-packages (from spacy<3.5.0,>=3.4.0->en-core-web-sm==3.4.1) (1.24.1)\n",
      "Requirement already satisfied: catalogue<2.1.0,>=2.0.6 in /Users/andishetavakkoli/opt/anaconda3/envs/crawlenv/lib/python3.10/site-packages (from spacy<3.5.0,>=3.4.0->en-core-web-sm==3.4.1) (2.0.8)\n",
      "Requirement already satisfied: pathy>=0.3.5 in /Users/andishetavakkoli/opt/anaconda3/envs/crawlenv/lib/python3.10/site-packages (from spacy<3.5.0,>=3.4.0->en-core-web-sm==3.4.1) (0.10.1)\n",
      "Requirement already satisfied: tqdm<5.0.0,>=4.38.0 in /Users/andishetavakkoli/opt/anaconda3/envs/crawlenv/lib/python3.10/site-packages (from spacy<3.5.0,>=3.4.0->en-core-web-sm==3.4.1) (4.64.1)\n",
      "Requirement already satisfied: murmurhash<1.1.0,>=0.28.0 in /Users/andishetavakkoli/opt/anaconda3/envs/crawlenv/lib/python3.10/site-packages (from spacy<3.5.0,>=3.4.0->en-core-web-sm==3.4.1) (1.0.9)\n",
      "Requirement already satisfied: setuptools in /Users/andishetavakkoli/opt/anaconda3/envs/crawlenv/lib/python3.10/site-packages (from spacy<3.5.0,>=3.4.0->en-core-web-sm==3.4.1) (65.7.0)\n",
      "Requirement already satisfied: requests<3.0.0,>=2.13.0 in /Users/andishetavakkoli/opt/anaconda3/envs/crawlenv/lib/python3.10/site-packages (from spacy<3.5.0,>=3.4.0->en-core-web-sm==3.4.1) (2.28.1)\n",
      "Requirement already satisfied: typer<0.8.0,>=0.3.0 in /Users/andishetavakkoli/opt/anaconda3/envs/crawlenv/lib/python3.10/site-packages (from spacy<3.5.0,>=3.4.0->en-core-web-sm==3.4.1) (0.7.0)\n",
      "Requirement already satisfied: thinc<8.2.0,>=8.1.0 in /Users/andishetavakkoli/opt/anaconda3/envs/crawlenv/lib/python3.10/site-packages (from spacy<3.5.0,>=3.4.0->en-core-web-sm==3.4.1) (8.1.6)\n",
      "Requirement already satisfied: packaging>=20.0 in /Users/andishetavakkoli/opt/anaconda3/envs/crawlenv/lib/python3.10/site-packages (from spacy<3.5.0,>=3.4.0->en-core-web-sm==3.4.1) (23.0)\n",
      "Requirement already satisfied: spacy-legacy<3.1.0,>=3.0.10 in /Users/andishetavakkoli/opt/anaconda3/envs/crawlenv/lib/python3.10/site-packages (from spacy<3.5.0,>=3.4.0->en-core-web-sm==3.4.1) (3.0.11)\n",
      "Requirement already satisfied: pydantic!=1.8,!=1.8.1,<1.11.0,>=1.7.4 in /Users/andishetavakkoli/opt/anaconda3/envs/crawlenv/lib/python3.10/site-packages (from spacy<3.5.0,>=3.4.0->en-core-web-sm==3.4.1) (1.10.4)\n",
      "Requirement already satisfied: jinja2 in /Users/andishetavakkoli/opt/anaconda3/envs/crawlenv/lib/python3.10/site-packages (from spacy<3.5.0,>=3.4.0->en-core-web-sm==3.4.1) (3.1.2)\n",
      "Requirement already satisfied: srsly<3.0.0,>=2.4.3 in /Users/andishetavakkoli/opt/anaconda3/envs/crawlenv/lib/python3.10/site-packages (from spacy<3.5.0,>=3.4.0->en-core-web-sm==3.4.1) (2.4.5)\n",
      "Requirement already satisfied: langcodes<4.0.0,>=3.2.0 in /Users/andishetavakkoli/opt/anaconda3/envs/crawlenv/lib/python3.10/site-packages (from spacy<3.5.0,>=3.4.0->en-core-web-sm==3.4.1) (3.3.0)\n",
      "Requirement already satisfied: smart-open<7.0.0,>=5.2.1 in /Users/andishetavakkoli/opt/anaconda3/envs/crawlenv/lib/python3.10/site-packages (from spacy<3.5.0,>=3.4.0->en-core-web-sm==3.4.1) (6.3.0)\n",
      "Requirement already satisfied: preshed<3.1.0,>=3.0.2 in /Users/andishetavakkoli/opt/anaconda3/envs/crawlenv/lib/python3.10/site-packages (from spacy<3.5.0,>=3.4.0->en-core-web-sm==3.4.1) (3.0.8)\n",
      "Requirement already satisfied: typing-extensions>=4.2.0 in /Users/andishetavakkoli/opt/anaconda3/envs/crawlenv/lib/python3.10/site-packages (from pydantic!=1.8,!=1.8.1,<1.11.0,>=1.7.4->spacy<3.5.0,>=3.4.0->en-core-web-sm==3.4.1) (4.4.0)\n",
      "Requirement already satisfied: certifi>=2017.4.17 in /Users/andishetavakkoli/opt/anaconda3/envs/crawlenv/lib/python3.10/site-packages (from requests<3.0.0,>=2.13.0->spacy<3.5.0,>=3.4.0->en-core-web-sm==3.4.1) (2022.12.7)\n",
      "Requirement already satisfied: urllib3<1.27,>=1.21.1 in /Users/andishetavakkoli/opt/anaconda3/envs/crawlenv/lib/python3.10/site-packages (from requests<3.0.0,>=2.13.0->spacy<3.5.0,>=3.4.0->en-core-web-sm==3.4.1) (1.26.14)\n",
      "Requirement already satisfied: charset-normalizer<3,>=2 in /Users/andishetavakkoli/opt/anaconda3/envs/crawlenv/lib/python3.10/site-packages (from requests<3.0.0,>=2.13.0->spacy<3.5.0,>=3.4.0->en-core-web-sm==3.4.1) (2.1.1)\n",
      "Requirement already satisfied: idna<4,>=2.5 in /Users/andishetavakkoli/opt/anaconda3/envs/crawlenv/lib/python3.10/site-packages (from requests<3.0.0,>=2.13.0->spacy<3.5.0,>=3.4.0->en-core-web-sm==3.4.1) (3.4)\n",
      "Requirement already satisfied: confection<1.0.0,>=0.0.1 in /Users/andishetavakkoli/opt/anaconda3/envs/crawlenv/lib/python3.10/site-packages (from thinc<8.2.0,>=8.1.0->spacy<3.5.0,>=3.4.0->en-core-web-sm==3.4.1) (0.0.4)\n",
      "Requirement already satisfied: blis<0.8.0,>=0.7.8 in /Users/andishetavakkoli/opt/anaconda3/envs/crawlenv/lib/python3.10/site-packages (from thinc<8.2.0,>=8.1.0->spacy<3.5.0,>=3.4.0->en-core-web-sm==3.4.1) (0.7.9)\n",
      "Requirement already satisfied: click<9.0.0,>=7.1.1 in /Users/andishetavakkoli/opt/anaconda3/envs/crawlenv/lib/python3.10/site-packages (from typer<0.8.0,>=0.3.0->spacy<3.5.0,>=3.4.0->en-core-web-sm==3.4.1) (8.1.3)\n",
      "Requirement already satisfied: MarkupSafe>=2.0 in /Users/andishetavakkoli/opt/anaconda3/envs/crawlenv/lib/python3.10/site-packages (from jinja2->spacy<3.5.0,>=3.4.0->en-core-web-sm==3.4.1) (2.1.1)\n",
      "Installing collected packages: en-core-web-sm\n",
      "Successfully installed en-core-web-sm-3.4.1\n",
      "\u001b[38;5;2m✔ Download and installation successful\u001b[0m\n",
      "You can now load the package via spacy.load('en_core_web_sm')\n"
     ]
    }
   ],
   "source": [
    "!python -m spacy download en_core_web_sm"
   ]
  },
  {
   "cell_type": "code",
   "execution_count": 3,
   "id": "b89dca85-fc85-4da8-a6c3-30b1f1020a22",
   "metadata": {},
   "outputs": [
    {
     "name": "stdout",
     "output_type": "stream",
     "text": [
      "asttokens @ file:///home/conda/feedstock_root/build_artifacts/asttokens_1670263926556/work\n",
      "async-generator==1.10\n",
      "en-core-web-sm @ https://github.com/explosion/spacy-models/releases/download/en_core_web_sm-3.4.1/en_core_web_sm-3.4.1-py3-none-any.whl\n",
      "entrypoints @ file:///home/conda/feedstock_root/build_artifacts/entrypoints_1643888246732/work\n",
      "greenlet==2.0.1\n",
      "ipython-genutils==0.2.0\n",
      "jupyter-events @ file:///home/conda/feedstock_root/build_artifacts/jupyter_events_1673446687366/work\n",
      "jupyter_client @ file:///home/conda/feedstock_root/build_artifacts/jupyter_client_1670253809910/work\n",
      "jupyterlab-pygments @ file:///home/conda/feedstock_root/build_artifacts/jupyterlab_pygments_1649936611996/work\n",
      "nbclient @ file:///home/conda/feedstock_root/build_artifacts/nbclient_1669795076334/work\n",
      "prometheus-client @ file:///home/conda/feedstock_root/build_artifacts/prometheus_client_1665692535292/work\n",
      "Pygments @ file:///home/conda/feedstock_root/build_artifacts/pygments_1672682006896/work\n",
      "pyOpenSSL @ file:///home/conda/feedstock_root/build_artifacts/pyopenssl_1672659226110/work\n",
      "pyrsistent @ file:///Users/runner/miniforge3/conda-bld/pyrsistent_1672681536809/work\n",
      "python-dotenv==0.21.0\n",
      "selenium==4.7.2\n",
      "Send2Trash @ file:///home/conda/feedstock_root/build_artifacts/send2trash_1628511208346/work\n",
      "smart-open==6.3.0\n",
      "typing_extensions @ file:///home/conda/feedstock_root/build_artifacts/typing_extensions_1665144421445/work\n",
      "webencodings==0.5.1\n",
      "websocket-client @ file:///home/conda/feedstock_root/build_artifacts/websocket-client_1667568040382/work\n"
     ]
    }
   ],
   "source": [
    "!pip freeze | grep -i en\n"
   ]
  },
  {
   "cell_type": "code",
   "execution_count": null,
   "id": "2fc42c73-4a05-487b-a3b4-2de2180e6b63",
   "metadata": {},
   "outputs": [],
   "source": []
  }
 ],
 "metadata": {
  "kernelspec": {
   "display_name": "Python 3 (ipykernel)",
   "language": "python",
   "name": "python3"
  },
  "language_info": {
   "codemirror_mode": {
    "name": "ipython",
    "version": 3
   },
   "file_extension": ".py",
   "mimetype": "text/x-python",
   "name": "python",
   "nbconvert_exporter": "python",
   "pygments_lexer": "ipython3",
   "version": "3.10.8"
  }
 },
 "nbformat": 4,
 "nbformat_minor": 5
}
