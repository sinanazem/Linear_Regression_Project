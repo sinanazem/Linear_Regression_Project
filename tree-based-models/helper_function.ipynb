{
 "cells": [
  {
   "cell_type": "code",
   "execution_count": null,
   "id": "1e3908cc",
   "metadata": {},
   "outputs": [],
   "source": [
    "# Classification And Regression Tree (CART)"
   ]
  },
  {
   "cell_type": "markdown",
   "id": "24a7ce64",
   "metadata": {},
   "source": [
    "### gini vs entropy:\n",
    "    \n",
    "Computationally, entropy is more complex since it makes use of logarithms and consequently, the calculation of the Gini Index will be faster."
   ]
  },
  {
   "cell_type": "code",
   "execution_count": null,
   "id": "d1eb76ea",
   "metadata": {},
   "outputs": [],
   "source": [
    "# Define the list classifiers\n",
    "classifiers = [('Logistic Regression', lr), ('K Nearest Neighbours', knn), \n",
    "               ('Classification Tree', dt)]\n",
    "# Import VotingClassifier from sklearn.ensemble\n",
    "from sklearn.ensemble import VotingClassifier\n",
    "\n",
    "# Instantiate a VotingClassifier vc\n",
    "vc = VotingClassifier(estimators=classifiers)     \n",
    "\n",
    "# Fit vc to the training set\n",
    "vc.fit(X_train, y_train)   \n",
    "\n",
    "# Evaluate the test set predictions\n",
    "y_pred = vc.predict(X_test)\n",
    "\n",
    "# Calculate accuracy score\n",
    "accuracy = accuracy_score(y_test, y_pred)\n",
    "print('Voting Classifier: {:.3f}'.format(accuracy))"
   ]
  },
  {
   "cell_type": "markdown",
   "id": "8a6bdd18",
   "metadata": {},
   "source": [
    "## Random Forest  Hyper parameter Tuning"
   ]
  },
  {
   "cell_type": "code",
   "execution_count": null,
   "id": "f8f15c45",
   "metadata": {},
   "outputs": [],
   "source": [
    "params_rf = {\n",
    "    \n",
    "        'n_estimators': [100, 350, 500],\n",
    "        'max_features': ['log2', 'auto', 'sqrt'],\n",
    "        'min_samples_leaf': [2, 10, 30]\n",
    "\n",
    "\n",
    "}\n",
    "# Import GridSearchCV\n",
    "from sklearn.model_selection import GridSearchCV\n",
    "\n",
    "# Instantiate grid_rf\n",
    "grid_rf = GridSearchCV(estimator=rf,\n",
    "                       param_grid=params_rf,\n",
    "                       scoring='neg_mean_squared_error',\n",
    "                       cv=3,\n",
    "                       verbose=1,\n",
    "                       n_jobs=-1)\n",
    "\n",
    "# Import mean_squared_error from sklearn.metrics as MSE \n",
    "from sklearn.metrics import mean_squared_error\n",
    "\n",
    "# Extract the best estimator\n",
    "best_model = grid_rf.best_estimator_\n",
    "\n",
    "# Predict test set labels\n",
    "y_pred = best_model.predict(X_test)\n",
    "\n",
    "# Compute rmse_test\n",
    "rmse_test = mean_squared_error(y_test, y_pred) ** 0.5\n",
    "\n",
    "# Print rmse_test\n",
    "print('Test RMSE of best model: {:.3f}'.format(rmse_test)) a"
   ]
  },
  {
   "cell_type": "markdown",
   "id": "5647eaf6",
   "metadata": {},
   "source": [
    "# Define Bias and variance "
   ]
  },
  {
   "cell_type": "code",
   "execution_count": null,
   "id": "92379df8",
   "metadata": {},
   "outputs": [],
   "source": [
    "dt = DecisionTreeClassifier(random_state=1)\n",
    "score_CV = cross_val_score(dt, X_resample, y_resample, cv=10, scoring='f1')\n",
    "\n",
    "dt.fit(X_resample, y_resample)\n",
    "y_pred_train = dt.predict(X_resample)\n",
    "y_pred_test = dt.predict(X_test)"
   ]
  },
  {
   "cell_type": "markdown",
   "id": "bda04a06",
   "metadata": {},
   "source": [
    "# Feature Importance in sklearn _ Create Plot"
   ]
  },
  {
   "cell_type": "code",
   "execution_count": null,
   "id": "0b021b17",
   "metadata": {},
   "outputs": [],
   "source": [
    "# Create a pd.Series of features importances\n",
    "importances_rf = pd.Series(rf.feature_importances_, index = X.columns)\n",
    "# Sort importances_rf\n",
    "sorted_importances_rf = importances_rf.sort_values()\n",
    "# Make a horizontal bar plot\n",
    "sorted_importances_rf.plot(kind='barh', color='lightgreen'); \n",
    "plt.show()"
   ]
  },
  {
   "cell_type": "code",
   "execution_count": null,
   "id": "35a00fe5",
   "metadata": {},
   "outputs": [],
   "source": []
  },
  {
   "cell_type": "code",
   "execution_count": null,
   "id": "8491ba88",
   "metadata": {},
   "outputs": [],
   "source": []
  }
 ],
 "metadata": {
  "kernelspec": {
   "display_name": "Python 3 (ipykernel)",
   "language": "python",
   "name": "python3"
  },
  "language_info": {
   "codemirror_mode": {
    "name": "ipython",
    "version": 3
   },
   "file_extension": ".py",
   "mimetype": "text/x-python",
   "name": "python",
   "nbconvert_exporter": "python",
   "pygments_lexer": "ipython3",
   "version": "3.9.7"
  }
 },
 "nbformat": 4,
 "nbformat_minor": 5
}
