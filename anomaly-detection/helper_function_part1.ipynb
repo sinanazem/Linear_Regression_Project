{
 "cells": [
  {
   "cell_type": "markdown",
   "id": "e50524ad",
   "metadata": {},
   "source": [
    "# Anomaly Detection code"
   ]
  },
  {
   "cell_type": "code",
   "execution_count": 1,
   "id": "9dbb6128",
   "metadata": {},
   "outputs": [],
   "source": [
    "import numpy as np\n",
    "\n",
    "def detect_anomalies_z_score(data, threshold=3):\n",
    "    '''\n",
    "    Detects anomalies in a 1D array of data using the Z-score method.\n",
    "    Returns a boolean array indicating which values are anomalies.\n",
    "    \n",
    "    Parameters:\n",
    "        data (array-like): The input data to be analyzed.\n",
    "        threshold (float): The number of standard deviations from the mean\n",
    "            above which a value is considered an anomaly. Default is 3.\n",
    "    \n",
    "    Returns:\n",
    "        A boolean array indicating which values are anomalies.\n",
    "    '''\n",
    "    mean = np.mean(data)\n",
    "    std = np.std(data)\n",
    "    z_scores = (data - mean) / std\n",
    "    return np.abs(z_scores) > threshold"
   ]
  },
  {
   "cell_type": "code",
   "execution_count": 3,
   "id": "4b7c40ed",
   "metadata": {},
   "outputs": [
    {
     "data": {
      "text/plain": [
       "array([False, False, False, False, False, False, False, False, False,\n",
       "       False,  True])"
      ]
     },
     "execution_count": 3,
     "metadata": {},
     "output_type": "execute_result"
    }
   ],
   "source": [
    "data = [1, 2, 3, 4, 5, 6, 7, 8, 9, 10, 100]\n",
    "anomalies = detect_anomalies_z_score(data)\n",
    "anomalies"
   ]
  },
  {
   "cell_type": "markdown",
   "id": "f254324c",
   "metadata": {},
   "source": [
    "n this advanced class, we have defined an AnomalyDetector class with three methods:\n",
    "\n",
    "__init__: This is the constructor method that initializes the class with a given random state for the Isolation Forest algorithm.\n",
    "\n",
    "fit: This method fits the Isolation Forest model to the input data.\n",
    "\n",
    "predict: This method predicts the anomaly score for each point in the input data.\n",
    "\n",
    "detect: This method detects anomalies in the input data based on a given threshold.\n",
    "\n",
    "The detect method returns a boolean mask indicating the presence of anomalies in the data. This allows the user to easily visualize and interpret the results of the anomaly detection algorithm. The user can also specify a threshold value for the anomaly score to customize the sensitivity of the detector."
   ]
  },
  {
   "cell_type": "code",
   "execution_count": null,
   "id": "2e338855",
   "metadata": {},
   "outputs": [],
   "source": [
    "from sklearn.ensemble import IsolationForest\n",
    "import numpy as np\n",
    "\n",
    "# Generate some example data\n",
    "data = np.random.randn(100, 2)\n",
    "\n",
    "# Initialize the Isolation Forest algorithm\n",
    "clf = IsolationForest(random_state=0)\n",
    "\n",
    "# Fit the model to the data\n",
    "clf.fit(data)\n",
    "\n",
    "# Predict the anomaly score for each point\n",
    "scores = clf.decision_function(data)\n",
    "\n",
    "# Print the scores and corresponding data points\n",
    "for i, score in enumerate(scores):\n",
    "    print(f\"Data point {i}: anomaly score = {score}\")"
   ]
  },
  {
   "cell_type": "code",
   "execution_count": null,
   "id": "06755636",
   "metadata": {},
   "outputs": [],
   "source": [
    "from sklearn.ensemble import IsolationForest\n",
    "import numpy as np\n",
    "\n",
    "class AnomalyDetector:\n",
    "    def __init__(self, random_state=0):\n",
    "        \"\"\"\n",
    "        Initialize the AnomalyDetector class with a given random state.\n",
    "\n",
    "        Parameters:\n",
    "        random_state (int): Random seed for the Isolation Forest algorithm.\n",
    "        \"\"\"\n",
    "        self.clf = IsolationForest(random_state=random_state)\n",
    "\n",
    "    def fit(self, data):\n",
    "        \"\"\"\n",
    "        Fit the Isolation Forest model to the given data.\n",
    "\n",
    "        Parameters:\n",
    "        data (np.ndarray): Input data as a numpy array.\n",
    "        \"\"\"\n",
    "        self.clf.fit(data)\n",
    "\n",
    "    def predict(self, data):\n",
    "        \"\"\"\n",
    "        Predict the anomaly score for each point in the given data.\n",
    "\n",
    "        Parameters:\n",
    "        data (np.ndarray): Input data as a numpy array.\n",
    "\n",
    "        Returns:\n",
    "        scores (np.ndarray): Anomaly scores for each data point as a numpy array.\n",
    "        \"\"\"\n",
    "        scores = self.clf.decision_function(data)\n",
    "        return scores\n",
    "\n",
    "    def detect(self, data, threshold=0):\n",
    "        \"\"\"\n",
    "        Detect anomalies in the given data based on a threshold.\n",
    "\n",
    "        Parameters:\n",
    "        data (np.ndarray): Input data as a numpy array.\n",
    "        threshold (float): Anomaly score threshold for determining outliers. Defaults to 0.\n",
    "\n",
    "        Returns:\n",
    "        mask (np.ndarray): Boolean mask indicating the presence of anomalies in the data.\n",
    "        \"\"\"\n",
    "        scores = self.predict(data)\n",
    "        mask = scores < threshold\n",
    "        return mask"
   ]
  },
  {
   "cell_type": "code",
   "execution_count": null,
   "id": "0b36540b",
   "metadata": {},
   "outputs": [],
   "source": [
    "import numpy as np\n",
    "\n",
    "class AnomalyDetector:\n",
    "    '''\n",
    "    A class for detecting anomalies in a 1D array of data using the Z-score and IQR methods.\n",
    "    '''\n",
    "    def __init__(self, z_threshold=3, iqr_multiplier=1.5):\n",
    "        '''\n",
    "        Initializes the AnomalyDetector object with the specified parameters.\n",
    "        \n",
    "        Parameters:\n",
    "            z_threshold (float): The number of standard deviations from the mean\n",
    "                above which a value is considered an anomaly using the Z-score method.\n",
    "                Default is 3.\n",
    "            iqr_multiplier (float): The multiplier for the IQR above which a value is\n",
    "                considered an anomaly using the IQR method. Default is 1.5.\n",
    "        '''\n",
    "        self.z_threshold = z_threshold\n",
    "        self.iqr_multiplier = iqr_multiplier\n",
    "    \n",
    "    def detect_anomalies(self, data):\n",
    "        '''\n",
    "        Detects anomalies in a 1D array of data using the Z-score and IQR methods.\n",
    "        Returns a boolean array indicating which values are anomalies.\n",
    "        \n",
    "        Parameters:\n",
    "            data (array-like): The input data to be analyzed.\n",
    "        \n",
    "        Returns:\n",
    "            A boolean array indicating which values are anomalies.\n",
    "        '''\n",
    "        z_scores = self.calculate_z_scores(data)\n",
    "        iqr_bounds = self.calculate_iqr_bounds(data)\n",
    "        return (np.abs(z_scores) > self.z_threshold) | ((data < iqr_bounds[0]) | (data > iqr_bounds[1]))\n",
    "    \n",
    "    def calculate_z_scores(self, data):\n",
    "        '''\n",
    "        Calculates the Z-scores of each value in the data.\n",
    "        \n",
    "        Parameters:\n",
    "            data (array-like): The input data to be analyzed.\n",
    "        \n",
    "        Returns:\n",
    "            An array of Z-scores for each value in the data.\n",
    "        '''\n",
    "        mean = np.mean(data)\n",
    "        std = np.std(data)\n",
    "        return (data - mean) / std\n",
    "    \n",
    "    def calculate_iqr_bounds(self, data):\n",
    "        '''\n",
    "        Calculates the lower and upper bounds for identifying anomalies using the IQR method.\n",
    "        \n",
    "        Parameters:\n",
    "            data (array-like): The input data to be analyzed.\n",
    "        \n",
    "        Returns:\n",
    "            A tuple containing the lower and upper bounds for identifying anomalies.\n",
    "        '''\n",
    "        quartile1, quartile3 = np.percentile(data, [25, 75])\n",
    "        iqr = quartile3 - quartile1\n",
    "        lower_bound = quartile1 - self.iqr_multiplier * iqr\n",
    "        upper_bound = quartile3 + self.iqr_multiplier * iqr\n",
    "        return (lower_bound, upper_bound)"
   ]
  },
  {
   "cell_type": "code",
   "execution_count": null,
   "id": "48fc1e66",
   "metadata": {},
   "outputs": [],
   "source": [
    "import numpy as np\n",
    "\n",
    "def detect_anomalies_iqr(data, k=1.5):\n",
    "    '''\n",
    "    Detects anomalies in a 1D array of data using the IQR method.\n",
    "    Returns a boolean array indicating which values are anomalies.\n",
    "    \n",
    "    Parameters:\n",
    "        data (array-like): The input data to be analyzed.\n",
    "        k (float): The multiplier for the IQR above which a value is\n",
    "            considered an anomaly. Default is 1.5.\n",
    "    \n",
    "    Returns:\n",
    "        A boolean array indicating which values are anomalies.\n",
    "    '''\n",
    "    quartile1, quartile3 = np.percentile(data, [25, 75])\n",
    "    iqr = quartile3 - quartile1\n",
    "    lower_bound = quartile1 - k * iqr\n",
    "    upper_bound = quartile3 + k * iqr\n",
    "    return (data < lower_bound) | (data > upper_bound)\n"
   ]
  },
  {
   "cell_type": "markdown",
   "id": "f07b7a5b",
   "metadata": {},
   "source": [
    "# MAD"
   ]
  },
  {
   "cell_type": "code",
   "execution_count": null,
   "id": "18375993",
   "metadata": {},
   "outputs": [],
   "source": [
    "import numpy as np\n",
    "from scipy.stats import norm\n",
    "\n",
    "def detect_anomalies_mad(data, threshold=3.5):\n",
    "    '''\n",
    "    Detects anomalies in a 1D array of data using the MAD method.\n",
    "    Returns a boolean array indicating which values are anomalies.\n",
    "    \n",
    "    Parameters:\n",
    "        data (array-like): The input data to be analyzed.\n",
    "        threshold (float): The number of MADs from the median above which a value is\n",
    "            considered an anomaly. Default is 3.5.\n",
    "    \n",
    "    Returns:\n",
    "        A boolean array indicating which values are anomalies.\n",
    "    '''\n",
    "    median = np.median(data)\n",
    "    mad = np.median(np.abs(data - median))\n",
    "    z_scores = norm.ppf(1 - 0.5 / len(data))\n",
    "    threshold_mad = mad * threshold / z_scores\n",
    "    return np.abs(data - median) > threshold_mad"
   ]
  },
  {
   "cell_type": "markdown",
   "id": "2296e90b",
   "metadata": {},
   "source": [
    "# Anti Money Laundering\n",
    "Anti-Money Laundering (AML) is a complex topic and requires a variety of techniques and technologies to detect and prevent financial crimes. Here is a basic Python code for implementing AML measures:"
   ]
  },
  {
   "cell_type": "code",
   "execution_count": 70,
   "id": "73f506c5",
   "metadata": {},
   "outputs": [
    {
     "name": "stderr",
     "output_type": "stream",
     "text": [
      "/Users/andishetavakkoli/opt/anaconda3/lib/python3.9/site-packages/sklearn/base.py:450: UserWarning: X does not have valid feature names, but IsolationForest was fitted with feature names\n",
      "  warnings.warn(\n"
     ]
    }
   ],
   "source": [
    "import pandas as pd\n",
    "import numpy as np\n",
    "from sklearn.preprocessing import StandardScaler\n",
    "from sklearn.cluster import KMeans\n",
    "from sklearn.ensemble import IsolationForest\n",
    "from datetime import datetime\n",
    "\n",
    "# Read in transaction data\n",
    "df = pd.read_csv('transaction.csv')\n",
    "df = pd.DataFrame(df['account,transaction_date,amount'].str.split(',').to_list(), columns= df.columns[0].split(','))\n",
    "\n",
    "\n",
    "# Convert transaction date to datetime format\n",
    "df['transaction_date'] = pd.to_datetime(df['transaction_date'])\n",
    "\n",
    "# Sort by transaction date\n",
    "df = df.sort_values('transaction_date')\n",
    "\n",
    "# Calculate time since last transaction for each account\n",
    "df['time_since_last_transaction'] = df.groupby('account')['transaction_date'].diff().dt.days\n",
    "df = df.dropna()\n",
    "\n",
    "# Calculate rolling 7-day transaction volume for each account\n",
    "df['7_day_transaction_volume'] = df.groupby('account')['amount'].rolling(7).sum().values\n",
    "\n",
    "# Calculate z-score for 7-day transaction volume for each account\n",
    "scaler = StandardScaler()\n",
    "df['7_day_transaction_volume_zscore'] = scaler.fit_transform(df['7_day_transaction_volume'].values.reshape(-1, 1))\n",
    "\n",
    "# Use KMeans clustering to identify transaction clusters\n",
    "kmeans = KMeans(n_clusters=3)\n",
    "df = df.dropna()\n",
    "df['transaction_cluster'] = kmeans.fit_predict(df[['amount', '7_day_transaction_volume_zscore']].values)\n",
    "\n",
    "# Use Isolation Forest to detect outliers in transaction clusters\n",
    "outliers_fraction = 0.01\n",
    "model = IsolationForest(contamination=outliers_fraction)\n",
    "df['is_outlier'] = model.fit_predict(df[['amount', '7_day_transaction_volume_zscore']])\n",
    "\n",
    "# Flag suspicious transactions\n",
    "df['is_suspicious'] = np.where((df['time_since_last_transaction'] > 7) &\n",
    "                               (df['7_day_transaction_volume_zscore'] > 3) &\n",
    "                               (df['is_outlier'] == -1), 1, 0)\n",
    "\n",
    "# Export suspicious transactions to a CSV file\n",
    "df[df['is_suspicious'] == 1].to_csv('suspicious_transactions.csv', index=False)\n"
   ]
  },
  {
   "cell_type": "markdown",
   "id": "3ac48f98",
   "metadata": {},
   "source": [
    "This code reads in transaction data from a CSV file and performs the following AML measures:\n",
    "\n",
    "1. Converts the transaction date to a datetime format and sorts the data by date.\n",
    "\n",
    "2. Calculates the time since the last transaction for each account.\n",
    "3. Calculates the rolling 7-day transaction volume for each account.\n",
    "4. Calculates the z-score for the 7-day transaction volume for each account using standard scaling.\n",
    "5. Uses KMeans clustering to identify transaction clusters based on amount and 7-day transaction volume.\n",
    "6. Uses Isolation Forest to detect outliers in each transaction cluster.\n",
    "7. Flags suspicious transactions that meet the following criteria:\n",
    "\n",
    "   7.1.Time since last transaction is greater than 7 days.\n",
    "   \n",
    "   7.2.7-day transaction volume z-score is greater than 3.\n",
    "   \n",
    "   7.3. Transaction is identified as an outlier by the Isolation Forest model.\n",
    "   \n",
    "8. Exports suspicious transactions to a CSV file.\n",
    "\n",
    "Note that this code is just a basic implementation and may need to be customized and adjusted for specific AML requirements and regulations."
   ]
  },
  {
   "cell_type": "code",
   "execution_count": 71,
   "id": "551c74f0",
   "metadata": {},
   "outputs": [
    {
     "data": {
      "text/plain": [
       "(18, 9)"
      ]
     },
     "execution_count": 71,
     "metadata": {},
     "output_type": "execute_result"
    }
   ],
   "source": [
    "df.shape"
   ]
  },
  {
   "cell_type": "code",
   "execution_count": 55,
   "id": "1d578d12",
   "metadata": {},
   "outputs": [
    {
     "data": {
      "text/plain": [
       "['account',\n",
       " 'transaction_date',\n",
       " 'amount',\n",
       " 'time_since_last_transaction',\n",
       " '7_day_transaction_volume',\n",
       " '7_day_transaction_volume_zscore',\n",
       " 'transaction_cluster',\n",
       " 'is_outlier',\n",
       " 'is_suspicious']"
      ]
     },
     "execution_count": 55,
     "metadata": {},
     "output_type": "execute_result"
    }
   ],
   "source": [
    "df.columns.to_list()"
   ]
  },
  {
   "cell_type": "code",
   "execution_count": 53,
   "id": "95e15ab0",
   "metadata": {},
   "outputs": [],
   "source": [
    "import seaborn as sns\n",
    "from sklearn.manifold import TSNE"
   ]
  },
  {
   "cell_type": "code",
   "execution_count": 72,
   "id": "a519942f",
   "metadata": {},
   "outputs": [
    {
     "data": {
      "text/plain": [
       "(18, 9)"
      ]
     },
     "execution_count": 72,
     "metadata": {},
     "output_type": "execute_result"
    }
   ],
   "source": [
    "df.shape"
   ]
  },
  {
   "cell_type": "code",
   "execution_count": 73,
   "id": "eefae7a5",
   "metadata": {},
   "outputs": [],
   "source": [
    "df_tsne = df.drop(columns = ['account','transaction_date','is_outlier','is_suspicious'])\n"
   ]
  },
  {
   "cell_type": "code",
   "execution_count": 74,
   "id": "e3247f61",
   "metadata": {},
   "outputs": [
    {
     "data": {
      "text/plain": [
       "(18, 5)"
      ]
     },
     "execution_count": 74,
     "metadata": {},
     "output_type": "execute_result"
    }
   ],
   "source": [
    "df_tsne.shape"
   ]
  },
  {
   "cell_type": "code",
   "execution_count": 75,
   "id": "bdcb3b55",
   "metadata": {},
   "outputs": [],
   "source": [
    "tsne = TSNE(n_components=2, learning_rate='auto', init='random', perplexity=3)\n",
    "X_embedded = tsne.fit_transform(df_tsne)"
   ]
  },
  {
   "cell_type": "code",
   "execution_count": 76,
   "id": "bd6b0bed",
   "metadata": {},
   "outputs": [
    {
     "data": {
      "text/plain": [
       "(18, 2)"
      ]
     },
     "execution_count": 76,
     "metadata": {},
     "output_type": "execute_result"
    }
   ],
   "source": [
    "X_embedded.shape"
   ]
  },
  {
   "cell_type": "code",
   "execution_count": 78,
   "id": "6e6585cc",
   "metadata": {},
   "outputs": [
    {
     "data": {
      "image/png": "[encoded data removed]",
      "text/plain": [
       "<Figure size 432x288 with 1 Axes>"
      ]
     },
     "metadata": {
      "needs_background": "light"
     },
     "output_type": "display_data"
    }
   ],
   "source": [
    "sns.scatterplot(x=X_embedded[:, 0], y=X_embedded[:, 1]);"
   ]
  },
  {
   "cell_type": "code",
   "execution_count": 88,
   "id": "919ccd79",
   "metadata": {},
   "outputs": [
    {
     "name": "stdout",
     "output_type": "stream",
     "text": [
      "IForest ROC:0.5, precision @ rank n:0.0\n"
     ]
    },
    {
     "name": "stderr",
     "output_type": "stream",
     "text": [
      "/Users/andishetavakkoli/opt/anaconda3/lib/python3.9/site-packages/sklearn/metrics/_classification.py:1318: UndefinedMetricWarning: Precision is ill-defined and being set to 0.0 due to no predicted samples. Use `zero_division` parameter to control this behavior.\n",
      "  _warn_prf(average, modifier, msg_start, len(result))\n"
     ]
    }
   ],
   "source": [
    "# Pyod_Isolation Forest(unsupervised)\n",
    "# Import necessary libraries\n",
    "# Generate sample data\n",
    "n_samples = 300\n",
    "X_train, y_train, X_test, y_test = generate_data(n_train=n_samples, n_test=n_samples, n_features=1, contamination=0.1)\n",
    "\n",
    "# Reshape the input data to 2D array\n",
    "X_train = np.reshape(X_train, (-1, 1))\n",
    "X_test = np.reshape(X_test, (-1, 1))\n",
    "\n",
    "# Initialize and fit the model\n",
    "iforest = IForest(n_estimators=100, contamination=0.1)\n",
    "iforest.fit(X_train)\n",
    "\n",
    "# Predict on the test data\n",
    "y_pred = iforest.predict(X_test)\n",
    "\n",
    "# Evaluate the model\n",
    "evaluate_print('IForest', y_test, y_pred)"
   ]
  },
  {
   "cell_type": "markdown",
   "id": "c6c548bd",
   "metadata": {},
   "source": [
    "## Tuning contamination _Isolation Forest\n",
    "\n",
    "Finally, it is time to tune the notorious contamination parameter. The evaluate_outlier_classifier and evaluate_regressor functions from the video are already loaded for you. You can inspect them below."
   ]
  },
  {
   "cell_type": "code",
   "execution_count": null,
   "id": "46a7808b",
   "metadata": {},
   "outputs": [],
   "source": [
    "def evaluate_outlier_classifier(model, data):\n",
    "    # Get labels\n",
    "    labels = model.fit_predict(data)\n",
    "\n",
    "    # Return inliers\n",
    "    return data[labels == 0]\n",
    "\n",
    "def evaluate_regressor(inliers):\n",
    "    X = inliers.drop(\"price\", axis=1)\n",
    "    y = inliers[['price']]\n",
    "    X_train, X_test, y_train, y_test = train_test_split(X, y, random_state=10)\n",
    "\n",
    "    lr = LinearRegression()\n",
    "    lr.fit(X_train, y_train)\n",
    "\n",
    "    preds = lr.predict(X_test)\n",
    "    rmse = mean_squared_error(y_test, preds, squared=False)\n",
    "\n",
    "    return round(rmse, 3)\n",
    "\n",
    "contaminations = [0.07, 0.1, 0.15, 0.25]\n",
    "scores = dict()\n",
    "\n",
    "for c in contaminations:\n",
    "    # Instantiate IForest with the current c\n",
    "    iforest = IForest(contamination=c, random_state=10)\n",
    "    \n",
    "    # Get inliers with the current IForest\n",
    "    inliers = evaluate_outlier_classifier(iforest, airbnb_df)\n",
    "    \n",
    "    # Calculate and store RMSE into scores\n",
    "    scores[c] = evaluate_regressor(inliers)\n",
    "print(scores)"
   ]
  },
  {
   "attachments": {
    "IMAGE%202023-04-22%2016:47:37.jpg": {
     "image/jpeg": "[encoded data removed]"
    }
   },
   "cell_type": "markdown",
   "id": "20cbb28c",
   "metadata": {},
   "source": [
    "![IMAGE%202023-04-22%2016:47:37.jpg](attachment:IMAGE%202023-04-22%2016:47:37.jpg)"
   ]
  },
  {
   "cell_type": "code",
   "execution_count": null,
   "id": "d1b6314a",
   "metadata": {},
   "outputs": [],
   "source": []
  }
 ],
 "metadata": {
  "kernelspec": {
   "display_name": "Python 3 (ipykernel)",
   "language": "python",
   "name": "python3"
  },
  "language_info": {
   "codemirror_mode": {
    "name": "ipython",
    "version": 3
   },
   "file_extension": ".py",
   "mimetype": "text/x-python",
   "name": "python",
   "nbconvert_exporter": "python",
   "pygments_lexer": "ipython3",
   "version": "3.9.7"
  }
 },
 "nbformat": 4,
 "nbformat_minor": 5
}
