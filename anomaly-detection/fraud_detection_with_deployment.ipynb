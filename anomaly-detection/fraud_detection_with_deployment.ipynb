{
 "cells": [
  {
   "cell_type": "code",
   "execution_count": 108,
   "id": "e1a98912",
   "metadata": {},
   "outputs": [],
   "source": [
    "import pandas as pd\n",
    "import numpy as np\n",
    "import seaborn as sns\n",
    "%matplotlib inline\n",
    "import matplotlib.pyplot as plt\n",
    "from sklearn.model_selection import cross_val_score, train_test_split, GridSearchCV, RandomizedSearchCV\n",
    "from sklearn.linear_model import LogisticRegression\n",
    "from sklearn.ensemble import RandomForestClassifier\n",
    "from imblearn.over_sampling import SMOTE\n",
    "import xgboost as xg\n",
    "from sklearn.metrics import confusion_matrix, classification_report\n",
    "from sklearn.preprocessing import StandardScaler\n",
    "from imblearn.pipeline import Pipeline\n",
    "from sklearn.feature_selection import RFE, VarianceThreshold\n",
    "sns.set_theme(style='darkgrid')\n",
    "\n",
    "\n",
    "\n",
    "import missingno as msno"
   ]
  },
  {
   "cell_type": "code",
   "execution_count": 2,
   "id": "4c60bfb0",
   "metadata": {},
   "outputs": [],
   "source": [
    "DATA_DIR = '/Users/andishetavakkoli/Documents/notebook/github_project/machine-learning-projects-data/anomaly_detection/'"
   ]
  },
  {
   "cell_type": "code",
   "execution_count": 3,
   "id": "436855d3",
   "metadata": {},
   "outputs": [],
   "source": [
    "df = pd.read_csv(DATA_DIR +'creditcard.csv')"
   ]
  },
  {
   "cell_type": "code",
   "execution_count": 4,
   "id": "5f1bfff7",
   "metadata": {},
   "outputs": [
    {
     "data": {
      "text/html": [
       "<div>\n",
       "<style scoped>\n",
       "    .dataframe tbody tr th:only-of-type {\n",
       "        vertical-align: middle;\n",
       "    }\n",
       "\n",
       "    .dataframe tbody tr th {\n",
       "        vertical-align: top;\n",
       "    }\n",
       "\n",
       "    .dataframe thead th {\n",
       "        text-align: right;\n",
       "    }\n",
       "</style>\n",
       "<table border=\"1\" class=\"dataframe\">\n",
       "  <thead>\n",
       "    <tr style=\"text-align: right;\">\n",
       "      <th></th>\n",
       "      <th>Time</th>\n",
       "      <th>V1</th>\n",
       "      <th>V2</th>\n",
       "      <th>V3</th>\n",
       "      <th>V4</th>\n",
       "      <th>V5</th>\n",
       "      <th>V6</th>\n",
       "      <th>V7</th>\n",
       "      <th>V8</th>\n",
       "      <th>V9</th>\n",
       "      <th>...</th>\n",
       "      <th>V21</th>\n",
       "      <th>V22</th>\n",
       "      <th>V23</th>\n",
       "      <th>V24</th>\n",
       "      <th>V25</th>\n",
       "      <th>V26</th>\n",
       "      <th>V27</th>\n",
       "      <th>V28</th>\n",
       "      <th>Amount</th>\n",
       "      <th>Class</th>\n",
       "    </tr>\n",
       "  </thead>\n",
       "  <tbody>\n",
       "    <tr>\n",
       "      <th>0</th>\n",
       "      <td>0.0</td>\n",
       "      <td>-1.359807</td>\n",
       "      <td>-0.072781</td>\n",
       "      <td>2.536347</td>\n",
       "      <td>1.378155</td>\n",
       "      <td>-0.338321</td>\n",
       "      <td>0.462388</td>\n",
       "      <td>0.239599</td>\n",
       "      <td>0.098698</td>\n",
       "      <td>0.363787</td>\n",
       "      <td>...</td>\n",
       "      <td>-0.018307</td>\n",
       "      <td>0.277838</td>\n",
       "      <td>-0.110474</td>\n",
       "      <td>0.066928</td>\n",
       "      <td>0.128539</td>\n",
       "      <td>-0.189115</td>\n",
       "      <td>0.133558</td>\n",
       "      <td>-0.021053</td>\n",
       "      <td>149.62</td>\n",
       "      <td>0</td>\n",
       "    </tr>\n",
       "    <tr>\n",
       "      <th>1</th>\n",
       "      <td>0.0</td>\n",
       "      <td>1.191857</td>\n",
       "      <td>0.266151</td>\n",
       "      <td>0.166480</td>\n",
       "      <td>0.448154</td>\n",
       "      <td>0.060018</td>\n",
       "      <td>-0.082361</td>\n",
       "      <td>-0.078803</td>\n",
       "      <td>0.085102</td>\n",
       "      <td>-0.255425</td>\n",
       "      <td>...</td>\n",
       "      <td>-0.225775</td>\n",
       "      <td>-0.638672</td>\n",
       "      <td>0.101288</td>\n",
       "      <td>-0.339846</td>\n",
       "      <td>0.167170</td>\n",
       "      <td>0.125895</td>\n",
       "      <td>-0.008983</td>\n",
       "      <td>0.014724</td>\n",
       "      <td>2.69</td>\n",
       "      <td>0</td>\n",
       "    </tr>\n",
       "  </tbody>\n",
       "</table>\n",
       "<p>2 rows × 31 columns</p>\n",
       "</div>"
      ],
      "text/plain": [
       "   Time        V1        V2        V3        V4        V5        V6        V7   \n",
       "0   0.0 -1.359807 -0.072781  2.536347  1.378155 -0.338321  0.462388  0.239599  \\\n",
       "1   0.0  1.191857  0.266151  0.166480  0.448154  0.060018 -0.082361 -0.078803   \n",
       "\n",
       "         V8        V9  ...       V21       V22       V23       V24       V25   \n",
       "0  0.098698  0.363787  ... -0.018307  0.277838 -0.110474  0.066928  0.128539  \\\n",
       "1  0.085102 -0.255425  ... -0.225775 -0.638672  0.101288 -0.339846  0.167170   \n",
       "\n",
       "        V26       V27       V28  Amount  Class  \n",
       "0 -0.189115  0.133558 -0.021053  149.62      0  \n",
       "1  0.125895 -0.008983  0.014724    2.69      0  \n",
       "\n",
       "[2 rows x 31 columns]"
      ]
     },
     "execution_count": 4,
     "metadata": {},
     "output_type": "execute_result"
    }
   ],
   "source": [
    "df.head(2)"
   ]
  },
  {
   "cell_type": "markdown",
   "id": "01f08479",
   "metadata": {},
   "source": [
    "## Missingno function"
   ]
  },
  {
   "cell_type": "code",
   "execution_count": 5,
   "id": "74d78d39",
   "metadata": {},
   "outputs": [],
   "source": [
    "def missing_plot(df):\n",
    "    return msno.matrix(df, fontsize=8, figsize=(15, 7))"
   ]
  },
  {
   "cell_type": "code",
   "execution_count": null,
   "id": "ba5dec3c",
   "metadata": {},
   "outputs": [],
   "source": []
  },
  {
   "cell_type": "markdown",
   "id": "24fecc4b",
   "metadata": {},
   "source": [
    "# Helper Function"
   ]
  },
  {
   "cell_type": "code",
   "execution_count": 12,
   "id": "0c0a178e",
   "metadata": {},
   "outputs": [],
   "source": [
    "def summary_statistic(df) -> pd.DataFrame:\n",
    "    \"\"\"\n",
    "    Calculate summary statistics for the given pandas DataFrame.\n",
    "    \n",
    "    Args:\n",
    "        df (pandas.DataFrame): Input DataFrame, assumed to be in CSV format.\n",
    "        \n",
    "    Returns:\n",
    "        pandas.DataFrame: DataFrame containing information about the columns.\n",
    "    \n",
    "    \"\"\"\n",
    "    feature_describe = df.describe().T.reset_index().rename(\n",
    "                           columns={'index':'feature'}).drop(columns='count')\n",
    "\n",
    "    feature_info = pd.concat([df.dtypes,\n",
    "                               df.nunique(),\n",
    "                               df.isna().sum(),\n",
    "                               df.count()], axis=1,\n",
    "                keys=['type', 'count_unique', 'count_nan', 'count']).reset_index().rename(columns={'index':'feature'})\n",
    "\n",
    "    summary_statistic_result = feature_info.merge(feature_describe, how='left', on='feature')\n",
    "\n",
    "    return summary_statistic_result\n"
   ]
  },
  {
   "cell_type": "code",
   "execution_count": 15,
   "id": "687f56d9",
   "metadata": {},
   "outputs": [
    {
     "data": {
      "text/html": [
       "<div>\n",
       "<style scoped>\n",
       "    .dataframe tbody tr th:only-of-type {\n",
       "        vertical-align: middle;\n",
       "    }\n",
       "\n",
       "    .dataframe tbody tr th {\n",
       "        vertical-align: top;\n",
       "    }\n",
       "\n",
       "    .dataframe thead th {\n",
       "        text-align: right;\n",
       "    }\n",
       "</style>\n",
       "<table border=\"1\" class=\"dataframe\">\n",
       "  <thead>\n",
       "    <tr style=\"text-align: right;\">\n",
       "      <th></th>\n",
       "      <th>feature</th>\n",
       "      <th>type</th>\n",
       "      <th>count_unique</th>\n",
       "      <th>count_nan</th>\n",
       "      <th>count</th>\n",
       "      <th>mean</th>\n",
       "      <th>std</th>\n",
       "      <th>min</th>\n",
       "      <th>25%</th>\n",
       "      <th>50%</th>\n",
       "      <th>75%</th>\n",
       "      <th>max</th>\n",
       "    </tr>\n",
       "  </thead>\n",
       "  <tbody>\n",
       "    <tr>\n",
       "      <th>0</th>\n",
       "      <td>sepal_length</td>\n",
       "      <td>float64</td>\n",
       "      <td>35</td>\n",
       "      <td>0</td>\n",
       "      <td>150</td>\n",
       "      <td>5.843333</td>\n",
       "      <td>0.828066</td>\n",
       "      <td>4.3</td>\n",
       "      <td>5.1</td>\n",
       "      <td>5.80</td>\n",
       "      <td>6.4</td>\n",
       "      <td>7.9</td>\n",
       "    </tr>\n",
       "    <tr>\n",
       "      <th>1</th>\n",
       "      <td>sepal_width</td>\n",
       "      <td>float64</td>\n",
       "      <td>23</td>\n",
       "      <td>0</td>\n",
       "      <td>150</td>\n",
       "      <td>3.057333</td>\n",
       "      <td>0.435866</td>\n",
       "      <td>2.0</td>\n",
       "      <td>2.8</td>\n",
       "      <td>3.00</td>\n",
       "      <td>3.3</td>\n",
       "      <td>4.4</td>\n",
       "    </tr>\n",
       "    <tr>\n",
       "      <th>2</th>\n",
       "      <td>petal_length</td>\n",
       "      <td>float64</td>\n",
       "      <td>43</td>\n",
       "      <td>0</td>\n",
       "      <td>150</td>\n",
       "      <td>3.758000</td>\n",
       "      <td>1.765298</td>\n",
       "      <td>1.0</td>\n",
       "      <td>1.6</td>\n",
       "      <td>4.35</td>\n",
       "      <td>5.1</td>\n",
       "      <td>6.9</td>\n",
       "    </tr>\n",
       "    <tr>\n",
       "      <th>3</th>\n",
       "      <td>petal_width</td>\n",
       "      <td>float64</td>\n",
       "      <td>22</td>\n",
       "      <td>0</td>\n",
       "      <td>150</td>\n",
       "      <td>1.199333</td>\n",
       "      <td>0.762238</td>\n",
       "      <td>0.1</td>\n",
       "      <td>0.3</td>\n",
       "      <td>1.30</td>\n",
       "      <td>1.8</td>\n",
       "      <td>2.5</td>\n",
       "    </tr>\n",
       "    <tr>\n",
       "      <th>4</th>\n",
       "      <td>species</td>\n",
       "      <td>object</td>\n",
       "      <td>3</td>\n",
       "      <td>0</td>\n",
       "      <td>150</td>\n",
       "      <td>NaN</td>\n",
       "      <td>NaN</td>\n",
       "      <td>NaN</td>\n",
       "      <td>NaN</td>\n",
       "      <td>NaN</td>\n",
       "      <td>NaN</td>\n",
       "      <td>NaN</td>\n",
       "    </tr>\n",
       "  </tbody>\n",
       "</table>\n",
       "</div>"
      ],
      "text/plain": [
       "        feature     type  count_unique  count_nan  count      mean       std  \\\n",
       "0  sepal_length  float64            35          0    150  5.843333  0.828066   \n",
       "1   sepal_width  float64            23          0    150  3.057333  0.435866   \n",
       "2  petal_length  float64            43          0    150  3.758000  1.765298   \n",
       "3   petal_width  float64            22          0    150  1.199333  0.762238   \n",
       "4       species   object             3          0    150       NaN       NaN   \n",
       "\n",
       "   min  25%   50%  75%  max  \n",
       "0  4.3  5.1  5.80  6.4  7.9  \n",
       "1  2.0  2.8  3.00  3.3  4.4  \n",
       "2  1.0  1.6  4.35  5.1  6.9  \n",
       "3  0.1  0.3  1.30  1.8  2.5  \n",
       "4  NaN  NaN   NaN  NaN  NaN  "
      ]
     },
     "execution_count": 15,
     "metadata": {},
     "output_type": "execute_result"
    }
   ],
   "source": [
    "summary_statistic(df_iris)"
   ]
  },
  {
   "cell_type": "markdown",
   "id": "bb96436f",
   "metadata": {},
   "source": [
    "# Calculate missing values"
   ]
  },
  {
   "cell_type": "code",
   "execution_count": null,
   "id": "8cfe0cc1",
   "metadata": {},
   "outputs": [],
   "source": [
    "def calculate_missing_values(dataframe):\n",
    "    missing_values_count = dataframe.isnull().sum()\n",
    "    missing_values_percentage = (missing_values_count / len(dataframe)) * 100\n",
    "    missing_values_summary = pd.concat([missing_values_count, missing_values_percentage], axis=1)\n",
    "    missing_values_summary.columns = ['Missing Count', 'Missing Percentage']\n",
    "    missing_values_summary.sort_values(by='Missing Count', ascending=False, inplace=True)\n",
    "    return missing_values_summary\n"
   ]
  },
  {
   "cell_type": "code",
   "execution_count": null,
   "id": "1dc037dc",
   "metadata": {},
   "outputs": [],
   "source": [
    "def eval(model, X_train, X_test):\n",
    "    y_pred = model.predict(X_test)\n",
    "    y_pred_train = model.predict(X_train)\n",
    "    \n",
    "    print(confusion_matrix(y_test, y_pred))\n",
    "    print(\"Test_Set\")\n",
    "    print(classification_report(y_test,y_pred))\n",
    "    print(\"Train_Set\")\n",
    "    print(classification_report(y_train,y_pred_train))\n",
    "    print(\"---\"*20)\n",
    "    plot_confusion_matrix(model, X_test, y_test, cmap=\"plasma\")"
   ]
  },
  {
   "cell_type": "code",
   "execution_count": null,
   "id": "7068fcab",
   "metadata": {},
   "outputs": [],
   "source": [
    "def train_val(y_train, y_train_pred, y_test, y_pred):\n",
    "    \n",
    "    scores = {\"train_set\": {\"Accuracy\" : accuracy_score(y_train, y_train_pred),\n",
    "                            \"Precision\" : precision_score(y_train, y_train_pred),\n",
    "                            \"Recall\" : recall_score(y_train, y_train_pred),                          \n",
    "                            \"f1\" : f1_score(y_train, y_train_pred),\n",
    "                            \"roc_auc\" : roc_auc_score(y_train, y_train_pred),\n",
    "                            \"recall_auc\" : auc(recall, precision)},\n",
    "    \n",
    "              \"test_set\": {\"Accuracy\" : accuracy_score(y_test, y_pred),\n",
    "                           \"Precision\" : precision_score(y_test, y_pred),\n",
    "                           \"Recall\" : recall_score(y_test, y_pred),                          \n",
    "                           \"f1\" : f1_score(y_test, y_pred),\n",
    "                           \"roc_auc\" : roc_auc_score(y_test, y_pred),\n",
    "                           \"recall_auc\" : auc(recall, precision)}}\n",
    "    \n",
    "    return pd.DataFrame(scores)"
   ]
  },
  {
   "cell_type": "markdown",
   "id": "029b33cb",
   "metadata": {},
   "source": [
    "# Corrolation Visualization"
   ]
  },
  {
   "cell_type": "code",
   "execution_count": null,
   "id": "f436dc21",
   "metadata": {},
   "outputs": [],
   "source": [
    "df_out.corr()['class'].sort_values().drop('class').iplot(kind = 'barh', title = 'Correlation Between the Columns');"
   ]
  },
  {
   "cell_type": "code",
   "execution_count": null,
   "id": "b8f23b64",
   "metadata": {},
   "outputs": [],
   "source": [
    "RFSmote_feature_imp = pd.DataFrame(index=X.columns, data = RF_smote_model.feature_importances_, columns = ['Importance']).sort_values(\"Importance\", ascending = False)\n",
    "\n",
    "fig = px.bar(RFSmote_feature_imp.sort_values('Importance', ascending = False), x = RFSmote_feature_imp.sort_values('Importance', \n",
    "             ascending = False).index, y = 'Importance', title = \"RFSmote Feature_Importance\", \n",
    "             labels = dict(x = \"Features\", y =\"Importance\"))\n",
    "fig.show()"
   ]
  },
  {
   "cell_type": "markdown",
   "id": "42906d5b",
   "metadata": {},
   "source": [
    "# Save and Export the Model as .pkl"
   ]
  },
  {
   "cell_type": "code",
   "execution_count": null,
   "id": "6b54e9c2",
   "metadata": {},
   "outputs": [],
   "source": [
    "logistic_regression = pickle.dump(LogReg_Deploy, open('logistic_regression_model', 'wb'))"
   ]
  },
  {
   "cell_type": "markdown",
   "id": "83bde092",
   "metadata": {},
   "source": [
    "# Feature Selection"
   ]
  },
  {
   "cell_type": "code",
   "execution_count": 110,
   "id": "61169db0",
   "metadata": {},
   "outputs": [],
   "source": [
    "X = df.drop(columns=['Class'])\n",
    "y = df['Class']\n",
    "\n",
    "## Train, test split\n",
    "X_train, X_test, y_train, y_test = train_test_split(X_scaled, y, stratify=y, random_state=42, test_size=0.3)\n",
    "\n",
    "## Scaling\n",
    "scaler = StandardScaler()\n",
    "X_train_scaled = scaler.fit_transform(X_train)\n",
    "X_test_scaled = scaler.transform(X_test)\n",
    "\n",
    "## SMOTE\n",
    "\n",
    "sm = SMOTE()\n",
    "X_train_resample, y_train_resample = sm.fit_resample(X_train_scaled, y_train)\n",
    "\n",
    "## Model\n",
    "lr = LogisticRegression()"
   ]
  },
  {
   "cell_type": "code",
   "execution_count": 114,
   "id": "ea9d0e54",
   "metadata": {},
   "outputs": [
    {
     "name": "stdout",
     "output_type": "stream",
     "text": [
      "Fitting estimator with 30 features.\n",
      "Fitting estimator with 25 features.\n",
      "Fitting estimator with 20 features.\n",
      "Fitting estimator with 15 features.\n",
      "Fitting estimator with 10 features.\n"
     ]
    },
    {
     "data": {
      "text/html": [
       "<style>#sk-container-id-5 {color: black;background-color: white;}#sk-container-id-5 pre{padding: 0;}#sk-container-id-5 div.sk-toggleable {background-color: white;}#sk-container-id-5 label.sk-toggleable__label {cursor: pointer;display: block;width: 100%;margin-bottom: 0;padding: 0.3em;box-sizing: border-box;text-align: center;}#sk-container-id-5 label.sk-toggleable__label-arrow:before {content: \"▸\";float: left;margin-right: 0.25em;color: #696969;}#sk-container-id-5 label.sk-toggleable__label-arrow:hover:before {color: black;}#sk-container-id-5 div.sk-estimator:hover label.sk-toggleable__label-arrow:before {color: black;}#sk-container-id-5 div.sk-toggleable__content {max-height: 0;max-width: 0;overflow: hidden;text-align: left;background-color: #f0f8ff;}#sk-container-id-5 div.sk-toggleable__content pre {margin: 0.2em;color: black;border-radius: 0.25em;background-color: #f0f8ff;}#sk-container-id-5 input.sk-toggleable__control:checked~div.sk-toggleable__content {max-height: 200px;max-width: 100%;overflow: auto;}#sk-container-id-5 input.sk-toggleable__control:checked~label.sk-toggleable__label-arrow:before {content: \"▾\";}#sk-container-id-5 div.sk-estimator input.sk-toggleable__control:checked~label.sk-toggleable__label {background-color: #d4ebff;}#sk-container-id-5 div.sk-label input.sk-toggleable__control:checked~label.sk-toggleable__label {background-color: #d4ebff;}#sk-container-id-5 input.sk-hidden--visually {border: 0;clip: rect(1px 1px 1px 1px);clip: rect(1px, 1px, 1px, 1px);height: 1px;margin: -1px;overflow: hidden;padding: 0;position: absolute;width: 1px;}#sk-container-id-5 div.sk-estimator {font-family: monospace;background-color: #f0f8ff;border: 1px dotted black;border-radius: 0.25em;box-sizing: border-box;margin-bottom: 0.5em;}#sk-container-id-5 div.sk-estimator:hover {background-color: #d4ebff;}#sk-container-id-5 div.sk-parallel-item::after {content: \"\";width: 100%;border-bottom: 1px solid gray;flex-grow: 1;}#sk-container-id-5 div.sk-label:hover label.sk-toggleable__label {background-color: #d4ebff;}#sk-container-id-5 div.sk-serial::before {content: \"\";position: absolute;border-left: 1px solid gray;box-sizing: border-box;top: 0;bottom: 0;left: 50%;z-index: 0;}#sk-container-id-5 div.sk-serial {display: flex;flex-direction: column;align-items: center;background-color: white;padding-right: 0.2em;padding-left: 0.2em;position: relative;}#sk-container-id-5 div.sk-item {position: relative;z-index: 1;}#sk-container-id-5 div.sk-parallel {display: flex;align-items: stretch;justify-content: center;background-color: white;position: relative;}#sk-container-id-5 div.sk-item::before, #sk-container-id-5 div.sk-parallel-item::before {content: \"\";position: absolute;border-left: 1px solid gray;box-sizing: border-box;top: 0;bottom: 0;left: 50%;z-index: -1;}#sk-container-id-5 div.sk-parallel-item {display: flex;flex-direction: column;z-index: 1;position: relative;background-color: white;}#sk-container-id-5 div.sk-parallel-item:first-child::after {align-self: flex-end;width: 50%;}#sk-container-id-5 div.sk-parallel-item:last-child::after {align-self: flex-start;width: 50%;}#sk-container-id-5 div.sk-parallel-item:only-child::after {width: 0;}#sk-container-id-5 div.sk-dashed-wrapped {border: 1px dashed gray;margin: 0 0.4em 0.5em 0.4em;box-sizing: border-box;padding-bottom: 0.4em;background-color: white;}#sk-container-id-5 div.sk-label label {font-family: monospace;font-weight: bold;display: inline-block;line-height: 1.2em;}#sk-container-id-5 div.sk-label-container {text-align: center;}#sk-container-id-5 div.sk-container {/* jupyter's `normalize.less` sets `[hidden] { display: none; }` but bootstrap.min.css set `[hidden] { display: none !important; }` so we also need the `!important` here to be able to override the default hidden behavior on the sphinx rendered scikit-learn.org. See: https://github.com/scikit-learn/scikit-learn/issues/21755 */display: inline-block !important;position: relative;}#sk-container-id-5 div.sk-text-repr-fallback {display: none;}</style><div id=\"sk-container-id-5\" class=\"sk-top-container\"><div class=\"sk-text-repr-fallback\"><pre>RFE(estimator=LogisticRegression(), n_features_to_select=7, step=5, verbose=2)</pre><b>In a Jupyter environment, please rerun this cell to show the HTML representation or trust the notebook. <br />On GitHub, the HTML representation is unable to render, please try loading this page with nbviewer.org.</b></div><div class=\"sk-container\" hidden><div class=\"sk-item sk-dashed-wrapped\"><div class=\"sk-label-container\"><div class=\"sk-label sk-toggleable\"><input class=\"sk-toggleable__control sk-hidden--visually\" id=\"sk-estimator-id-13\" type=\"checkbox\" ><label for=\"sk-estimator-id-13\" class=\"sk-toggleable__label sk-toggleable__label-arrow\">RFE</label><div class=\"sk-toggleable__content\"><pre>RFE(estimator=LogisticRegression(), n_features_to_select=7, step=5, verbose=2)</pre></div></div></div><div class=\"sk-parallel\"><div class=\"sk-parallel-item\"><div class=\"sk-item\"><div class=\"sk-label-container\"><div class=\"sk-label sk-toggleable\"><input class=\"sk-toggleable__control sk-hidden--visually\" id=\"sk-estimator-id-14\" type=\"checkbox\" ><label for=\"sk-estimator-id-14\" class=\"sk-toggleable__label sk-toggleable__label-arrow\">estimator: LogisticRegression</label><div class=\"sk-toggleable__content\"><pre>LogisticRegression()</pre></div></div></div><div class=\"sk-serial\"><div class=\"sk-item\"><div class=\"sk-estimator sk-toggleable\"><input class=\"sk-toggleable__control sk-hidden--visually\" id=\"sk-estimator-id-15\" type=\"checkbox\" ><label for=\"sk-estimator-id-15\" class=\"sk-toggleable__label sk-toggleable__label-arrow\">LogisticRegression</label><div class=\"sk-toggleable__content\"><pre>LogisticRegression()</pre></div></div></div></div></div></div></div></div></div></div>"
      ],
      "text/plain": [
       "RFE(estimator=LogisticRegression(), n_features_to_select=7, step=5, verbose=2)"
      ]
     },
     "execution_count": 114,
     "metadata": {},
     "output_type": "execute_result"
    }
   ],
   "source": [
    "rf = RFE(lr, n_features_to_select=7, verbose=2, step=5)\n",
    "rf.fit(X_train_resample, y_train_resample)"
   ]
  },
  {
   "cell_type": "code",
   "execution_count": 115,
   "id": "82517488",
   "metadata": {},
   "outputs": [
    {
     "data": {
      "text/plain": [
       "Index(['Time', 'V4', 'V5', 'V10', 'V12', 'V13', 'V14'], dtype='object')"
      ]
     },
     "execution_count": 115,
     "metadata": {},
     "output_type": "execute_result"
    }
   ],
   "source": [
    "X.columns[rf.support_]"
   ]
  },
  {
   "cell_type": "code",
   "execution_count": 118,
   "id": "578e0fef",
   "metadata": {},
   "outputs": [
    {
     "data": {
      "text/plain": [
       "array([[-7.60288661e-01,  1.97250693e+00,  1.20956179e-01,\n",
       "         3.69023003e-01,  1.76871153e+00,  1.03157703e+00,\n",
       "        -4.42576566e-01, -8.39272194e-01, -6.87119914e-01,\n",
       "        -1.07306539e+00, -2.09645956e+00,  5.62600367e-01,\n",
       "        -1.15854044e+00, -4.80953989e-01, -1.50914854e+00,\n",
       "        -5.86512805e-04, -8.24930617e-01, -9.68276082e-01,\n",
       "        -2.38710819e-01,  3.72008908e-01, -9.77052913e-01,\n",
       "         2.96104910e-01,  6.46086690e-01,  1.68485674e-01,\n",
       "        -2.23857719e-02, -1.67106045e-02, -2.01093253e-01,\n",
       "        -4.19959475e-01,  1.27680511e-01,  1.51788276e+00]])"
      ]
     },
     "execution_count": 118,
     "metadata": {},
     "output_type": "execute_result"
    }
   ],
   "source": [
    "lr.fit(X_train_resample, y_train_resample)\n",
    "lr.coef_"
   ]
  },
  {
   "cell_type": "code",
   "execution_count": 132,
   "id": "400a66e7",
   "metadata": {},
   "outputs": [
    {
     "data": {
      "text/plain": [
       "{'Time': 1, 'V4': 1, 'V5': 1, 'V10': 1, 'V12': 1, 'V13': 1, 'V14': 1}"
      ]
     },
     "execution_count": 132,
     "metadata": {},
     "output_type": "execute_result"
    }
   ],
   "source": [
    "{key:value  for key, value in zip(X.columns, rf.ranking_) if value==1}"
   ]
  },
  {
   "cell_type": "code",
   "execution_count": 122,
   "id": "d14a9046",
   "metadata": {},
   "outputs": [
    {
     "data": {
      "text/plain": [
       "{'Time': 0.7602886606154805,\n",
       " 'V1': 1.9725069259853054,\n",
       " 'V2': 0.12095617893252869,\n",
       " 'V3': 0.36902300348175054,\n",
       " 'V4': 1.7687115264466085,\n",
       " 'V5': 1.0315770307951926,\n",
       " 'V6': 0.44257656603257606,\n",
       " 'V7': 0.8392721944348359,\n",
       " 'V8': 0.6871199143029979,\n",
       " 'V9': 1.0730653891150335,\n",
       " 'V10': 2.0964595629541076,\n",
       " 'V11': 0.5626003666091132,\n",
       " 'V12': 1.1585404364164318,\n",
       " 'V13': 0.4809539888886864,\n",
       " 'V14': 1.5091485424036089,\n",
       " 'V15': 0.0005865128052042981,\n",
       " 'V16': 0.8249306165454847,\n",
       " 'V17': 0.9682760818122774,\n",
       " 'V18': 0.23871081945103723,\n",
       " 'V19': 0.37200890841573475,\n",
       " 'V20': 0.9770529134999123,\n",
       " 'V21': 0.29610490957573665,\n",
       " 'V22': 0.6460866896646608,\n",
       " 'V23': 0.16848567443753734,\n",
       " 'V24': 0.022385771945054575,\n",
       " 'V25': 0.016710604504513473,\n",
       " 'V26': 0.20109325326844382,\n",
       " 'V27': 0.4199594751287351,\n",
       " 'V28': 0.12768051096882718,\n",
       " 'Amount': 1.5178827628005216}"
      ]
     },
     "execution_count": 122,
     "metadata": {},
     "output_type": "execute_result"
    }
   ],
   "source": [
    "dict(zip(X.columns, abs(lr.coef_[0])))"
   ]
  },
  {
   "cell_type": "markdown",
   "id": "5838732e",
   "metadata": {},
   "source": [
    "# Machine Learning"
   ]
  },
  {
   "cell_type": "markdown",
   "id": "9114a5b4",
   "metadata": {},
   "source": [
    "### Scaling --> This method is **WRONG**(Data Leakage), we should first split data and then scale x_train and x_test seperatley"
   ]
  },
  {
   "cell_type": "code",
   "execution_count": 15,
   "id": "9abb3b46",
   "metadata": {},
   "outputs": [],
   "source": [
    "X = df.drop(columns=['Class'])\n",
    "y = df['Class']"
   ]
  },
  {
   "cell_type": "code",
   "execution_count": 16,
   "id": "4078654c",
   "metadata": {},
   "outputs": [],
   "source": [
    "scaler = StandardScaler()\n",
    "X_scaled = scaler.fit_transform(X)"
   ]
  },
  {
   "cell_type": "code",
   "execution_count": 18,
   "id": "b73224ca",
   "metadata": {},
   "outputs": [],
   "source": [
    "X_train, X_test, y_train, y_test = train_test_split(X_scaled, y, stratify=y, random_state=42, test_size=0.3)"
   ]
  },
  {
   "cell_type": "markdown",
   "id": "b6b93d14",
   "metadata": {},
   "source": [
    "### Scaling --> This method is RIGHT, we  first split data and then scale x_train and x_test seperatley"
   ]
  },
  {
   "cell_type": "code",
   "execution_count": 107,
   "id": "586666e9",
   "metadata": {},
   "outputs": [
    {
     "data": {
      "text/plain": [
       "<Axes: xlabel='Degree of Importance', ylabel='Feature'>"
      ]
     },
     "execution_count": 107,
     "metadata": {},
     "output_type": "execute_result"
    },
    {
     "data": {
      "image/png": "[encoded data removed]",
      "text/plain": [
       "<Figure size 640x480 with 1 Axes>"
      ]
     },
     "metadata": {},
     "output_type": "display_data"
    }
   ],
   "source": [
    "# ## Train, test split\n",
    "# X_train, X_test, y_train, y_test = train_test_split(X_scaled, y, stratify=y, random_state=42, test_size=0.3)\n",
    "\n",
    "# ## Scaling\n",
    "# scaler = StandardScaler()\n",
    "# X_train_scaled = scaler.fit_transform(X_train)\n",
    "# X_test_scaled = scaler.transform(X_test)\n",
    "\n",
    "# ## SMOTE\n",
    "\n",
    "# sm = SMOTE()\n",
    "# X_train_resample, y_train_resample = sm.fit_resample(X_train_scaled, y_train)\n",
    "\n",
    "# ## Model\n",
    "# model = RandomForestClassifier(n_estimators=50)\n",
    "# model.fit(X_train_resample, y_train_resample)\n",
    "# y_pred_test = model.predict(X_test_scaled)\n",
    "# y_pred_train = model.predict(X_train_resample)\n",
    "\n",
    "# ## Model Evaluation\n",
    "\n",
    "# ### Test\n",
    "# print('Test')\n",
    "# print(classification_report(y_test, y_pred_test))\n",
    "# sns.heatmap(confusion_matrix(y_test, y_pred_test))\n",
    "# plt.show()\n",
    "\n",
    "# print('Train')\n",
    "# ### Train\n",
    "# print(classification_report(y_train_resample, y_pred_train))\n",
    "# sns.heatmap(confusion_matrix(y_train_resample, y_pred_train))\n",
    "# plt.show()\n",
    "\n",
    "\n",
    "df_new = pd.DataFrame(sorted(list(zip(X.columns, model.feature_importances_)), key=lambda x:x[1], reverse=True), columns=['Feature', 'Degree of Importance'])\n",
    "sns.barplot(df_new, y='Feature', x='Degree of Importance')"
   ]
  },
  {
   "cell_type": "code",
   "execution_count": null,
   "id": "a8b6f9bb",
   "metadata": {},
   "outputs": [],
   "source": [
    "{'Time': 1, 'V4': 1, 'V5': 1, 'V10': 1, 'V12': 1, 'V13': 1, 'V14': 1"
   ]
  },
  {
   "cell_type": "code",
   "execution_count": 106,
   "id": "5d826526",
   "metadata": {},
   "outputs": [
    {
     "data": {
      "text/plain": [
       "<Axes: xlabel='Degree of Importance', ylabel='Feature'>"
      ]
     },
     "execution_count": 106,
     "metadata": {},
     "output_type": "execute_result"
    },
    {
     "data": {
      "image/png": "[encoded data removed]",
      "text/plain": [
       "<Figure size 640x480 with 1 Axes>"
      ]
     },
     "metadata": {},
     "output_type": "display_data"
    }
   ],
   "source": [
    "mask = model.feature_importances_ > 0.05\n",
    "X_reduced = X.loc[:, mask]\n",
    "X_reduced.columns\n",
    "\n",
    "df_reduce = pd.DataFrame(sorted(list(zip(X.columns, model.feature_importances_)), key=lambda x:x[1], reverse=True), columns=['Feature', 'Degree of Importance'])\n",
    "df_reduce = df_reduce[df_reduce['Feature'].isin(X_reduced.columns)]\n",
    "sns.barplot(df_reduce, y='Feature', x='Degree of Importance')"
   ]
  },
  {
   "cell_type": "markdown",
   "id": "a4286d5d",
   "metadata": {},
   "source": [
    "# Using Pipeline"
   ]
  },
  {
   "cell_type": "code",
   "execution_count": 29,
   "id": "6824caf6",
   "metadata": {},
   "outputs": [],
   "source": [
    "pl = Pipeline([\n",
    "    ('scale', StandardScaler()),\n",
    "    ('smote', SMOTE()),\n",
    "    ('model', RandomForestClassifier(n_estimators=50))\n",
    "])"
   ]
  },
  {
   "cell_type": "code",
   "execution_count": 30,
   "id": "a8302e99",
   "metadata": {},
   "outputs": [
    {
     "data": {
      "text/html": [
       "<style>#sk-container-id-2 {color: black;background-color: white;}#sk-container-id-2 pre{padding: 0;}#sk-container-id-2 div.sk-toggleable {background-color: white;}#sk-container-id-2 label.sk-toggleable__label {cursor: pointer;display: block;width: 100%;margin-bottom: 0;padding: 0.3em;box-sizing: border-box;text-align: center;}#sk-container-id-2 label.sk-toggleable__label-arrow:before {content: \"▸\";float: left;margin-right: 0.25em;color: #696969;}#sk-container-id-2 label.sk-toggleable__label-arrow:hover:before {color: black;}#sk-container-id-2 div.sk-estimator:hover label.sk-toggleable__label-arrow:before {color: black;}#sk-container-id-2 div.sk-toggleable__content {max-height: 0;max-width: 0;overflow: hidden;text-align: left;background-color: #f0f8ff;}#sk-container-id-2 div.sk-toggleable__content pre {margin: 0.2em;color: black;border-radius: 0.25em;background-color: #f0f8ff;}#sk-container-id-2 input.sk-toggleable__control:checked~div.sk-toggleable__content {max-height: 200px;max-width: 100%;overflow: auto;}#sk-container-id-2 input.sk-toggleable__control:checked~label.sk-toggleable__label-arrow:before {content: \"▾\";}#sk-container-id-2 div.sk-estimator input.sk-toggleable__control:checked~label.sk-toggleable__label {background-color: #d4ebff;}#sk-container-id-2 div.sk-label input.sk-toggleable__control:checked~label.sk-toggleable__label {background-color: #d4ebff;}#sk-container-id-2 input.sk-hidden--visually {border: 0;clip: rect(1px 1px 1px 1px);clip: rect(1px, 1px, 1px, 1px);height: 1px;margin: -1px;overflow: hidden;padding: 0;position: absolute;width: 1px;}#sk-container-id-2 div.sk-estimator {font-family: monospace;background-color: #f0f8ff;border: 1px dotted black;border-radius: 0.25em;box-sizing: border-box;margin-bottom: 0.5em;}#sk-container-id-2 div.sk-estimator:hover {background-color: #d4ebff;}#sk-container-id-2 div.sk-parallel-item::after {content: \"\";width: 100%;border-bottom: 1px solid gray;flex-grow: 1;}#sk-container-id-2 div.sk-label:hover label.sk-toggleable__label {background-color: #d4ebff;}#sk-container-id-2 div.sk-serial::before {content: \"\";position: absolute;border-left: 1px solid gray;box-sizing: border-box;top: 0;bottom: 0;left: 50%;z-index: 0;}#sk-container-id-2 div.sk-serial {display: flex;flex-direction: column;align-items: center;background-color: white;padding-right: 0.2em;padding-left: 0.2em;position: relative;}#sk-container-id-2 div.sk-item {position: relative;z-index: 1;}#sk-container-id-2 div.sk-parallel {display: flex;align-items: stretch;justify-content: center;background-color: white;position: relative;}#sk-container-id-2 div.sk-item::before, #sk-container-id-2 div.sk-parallel-item::before {content: \"\";position: absolute;border-left: 1px solid gray;box-sizing: border-box;top: 0;bottom: 0;left: 50%;z-index: -1;}#sk-container-id-2 div.sk-parallel-item {display: flex;flex-direction: column;z-index: 1;position: relative;background-color: white;}#sk-container-id-2 div.sk-parallel-item:first-child::after {align-self: flex-end;width: 50%;}#sk-container-id-2 div.sk-parallel-item:last-child::after {align-self: flex-start;width: 50%;}#sk-container-id-2 div.sk-parallel-item:only-child::after {width: 0;}#sk-container-id-2 div.sk-dashed-wrapped {border: 1px dashed gray;margin: 0 0.4em 0.5em 0.4em;box-sizing: border-box;padding-bottom: 0.4em;background-color: white;}#sk-container-id-2 div.sk-label label {font-family: monospace;font-weight: bold;display: inline-block;line-height: 1.2em;}#sk-container-id-2 div.sk-label-container {text-align: center;}#sk-container-id-2 div.sk-container {/* jupyter's `normalize.less` sets `[hidden] { display: none; }` but bootstrap.min.css set `[hidden] { display: none !important; }` so we also need the `!important` here to be able to override the default hidden behavior on the sphinx rendered scikit-learn.org. See: https://github.com/scikit-learn/scikit-learn/issues/21755 */display: inline-block !important;position: relative;}#sk-container-id-2 div.sk-text-repr-fallback {display: none;}</style><div id=\"sk-container-id-2\" class=\"sk-top-container\"><div class=\"sk-text-repr-fallback\"><pre>Pipeline(steps=[(&#x27;smote&#x27;, SMOTE()),\n",
       "                (&#x27;model&#x27;, RandomForestClassifier(n_estimators=50))])</pre><b>In a Jupyter environment, please rerun this cell to show the HTML representation or trust the notebook. <br />On GitHub, the HTML representation is unable to render, please try loading this page with nbviewer.org.</b></div><div class=\"sk-container\" hidden><div class=\"sk-item sk-dashed-wrapped\"><div class=\"sk-label-container\"><div class=\"sk-label sk-toggleable\"><input class=\"sk-toggleable__control sk-hidden--visually\" id=\"sk-estimator-id-4\" type=\"checkbox\" ><label for=\"sk-estimator-id-4\" class=\"sk-toggleable__label sk-toggleable__label-arrow\">Pipeline</label><div class=\"sk-toggleable__content\"><pre>Pipeline(steps=[(&#x27;smote&#x27;, SMOTE()),\n",
       "                (&#x27;model&#x27;, RandomForestClassifier(n_estimators=50))])</pre></div></div></div><div class=\"sk-serial\"><div class=\"sk-item\"><div class=\"sk-estimator sk-toggleable\"><input class=\"sk-toggleable__control sk-hidden--visually\" id=\"sk-estimator-id-5\" type=\"checkbox\" ><label for=\"sk-estimator-id-5\" class=\"sk-toggleable__label sk-toggleable__label-arrow\">SMOTE</label><div class=\"sk-toggleable__content\"><pre>SMOTE()</pre></div></div></div><div class=\"sk-item\"><div class=\"sk-estimator sk-toggleable\"><input class=\"sk-toggleable__control sk-hidden--visually\" id=\"sk-estimator-id-6\" type=\"checkbox\" ><label for=\"sk-estimator-id-6\" class=\"sk-toggleable__label sk-toggleable__label-arrow\">RandomForestClassifier</label><div class=\"sk-toggleable__content\"><pre>RandomForestClassifier(n_estimators=50)</pre></div></div></div></div></div></div></div>"
      ],
      "text/plain": [
       "Pipeline(steps=[('smote', SMOTE()),\n",
       "                ('model', RandomForestClassifier(n_estimators=50))])"
      ]
     },
     "execution_count": 30,
     "metadata": {},
     "output_type": "execute_result"
    }
   ],
   "source": [
    "pl.fit(X_train, y_train)"
   ]
  },
  {
   "cell_type": "code",
   "execution_count": 31,
   "id": "8d80e3e1",
   "metadata": {},
   "outputs": [],
   "source": [
    "y_pred = pl.predict(X_test_scaled)"
   ]
  },
  {
   "cell_type": "code",
   "execution_count": 32,
   "id": "8743c1ad",
   "metadata": {},
   "outputs": [
    {
     "name": "stdout",
     "output_type": "stream",
     "text": [
      "              precision    recall  f1-score   support\n",
      "\n",
      "           0       1.00      1.00      1.00     56864\n",
      "           1       0.88      0.83      0.85        98\n",
      "\n",
      "    accuracy                           1.00     56962\n",
      "   macro avg       0.94      0.91      0.93     56962\n",
      "weighted avg       1.00      1.00      1.00     56962\n",
      "\n"
     ]
    }
   ],
   "source": [
    "print(classification_report(y_test, y_pred))"
   ]
  },
  {
   "cell_type": "code",
   "execution_count": 33,
   "id": "11100428",
   "metadata": {},
   "outputs": [
    {
     "name": "stdout",
     "output_type": "stream",
     "text": [
      "              precision    recall  f1-score   support\n",
      "\n",
      "           0       1.00      1.00      1.00    227451\n",
      "           1       1.00      1.00      1.00       394\n",
      "\n",
      "    accuracy                           1.00    227845\n",
      "   macro avg       1.00      1.00      1.00    227845\n",
      "weighted avg       1.00      1.00      1.00    227845\n",
      "\n"
     ]
    }
   ],
   "source": [
    "y_pred_train = pl.predict(X_train)\n",
    "print(classification_report(y_train, y_pred_train))"
   ]
  },
  {
   "cell_type": "markdown",
   "id": "fef45d87",
   "metadata": {},
   "source": [
    "# Combine SMOTE with Undersampling"
   ]
  },
  {
   "cell_type": "code",
   "execution_count": 37,
   "id": "5d981ae0",
   "metadata": {},
   "outputs": [],
   "source": [
    "# over = SMOTE(sampling_strategy = {1: 10000})\n",
    "# under = RandomUnderSampler(sampling_strategy = {0: 10000})\n",
    "# steps = [('o', over), ('u', under)]\n",
    "# pipeline = Pipeline(steps = steps)\n",
    "# X, y = pipeline.fit_resample(X, y)"
   ]
  },
  {
   "cell_type": "markdown",
   "id": "b4493c79",
   "metadata": {},
   "source": [
    "## Apply Gridsearch"
   ]
  },
  {
   "cell_type": "code",
   "execution_count": null,
   "id": "20ba8078",
   "metadata": {},
   "outputs": [],
   "source": [
    "pl = Pipeline([('smote', SMOTE()), ('model', RandomForestClassifier(n_estimators=50))])"
   ]
  },
  {
   "cell_type": "code",
   "execution_count": 53,
   "id": "92737181",
   "metadata": {},
   "outputs": [],
   "source": [
    "params = {'model__n_estimators': [50, 100, 200],\n",
    "          'model__max_depth': [3, 5, 7],\n",
    "          'model__min_samples_split': [2, 5, 8]\n",
    "         }\n"
   ]
  },
  {
   "cell_type": "code",
   "execution_count": 54,
   "id": "c3468919",
   "metadata": {},
   "outputs": [],
   "source": [
    "model_gs = RandomizedSearchCV(pl, param_grid=params, scoring='f1', cv=5)"
   ]
  },
  {
   "cell_type": "code",
   "execution_count": 56,
   "id": "ba7ebb1e",
   "metadata": {},
   "outputs": [],
   "source": [
    "# model_gs.fit(X_train, y_train)"
   ]
  },
  {
   "cell_type": "code",
   "execution_count": null,
   "id": "aa3a6a96",
   "metadata": {},
   "outputs": [],
   "source": [
    "model_gs.best_estimator_"
   ]
  },
  {
   "cell_type": "code",
   "execution_count": null,
   "id": "0b970da2",
   "metadata": {},
   "outputs": [],
   "source": [
    "model_gs.best_params_"
   ]
  }
 ],
 "metadata": {
  "kernelspec": {
   "display_name": "Python 3 (ipykernel)",
   "language": "python",
   "name": "python3"
  },
  "language_info": {
   "codemirror_mode": {
    "name": "ipython",
    "version": 3
   },
   "file_extension": ".py",
   "mimetype": "text/x-python",
   "name": "python",
   "nbconvert_exporter": "python",
   "pygments_lexer": "ipython3",
   "version": "3.8.16"
  }
 },
 "nbformat": 4,
 "nbformat_minor": 5
}
