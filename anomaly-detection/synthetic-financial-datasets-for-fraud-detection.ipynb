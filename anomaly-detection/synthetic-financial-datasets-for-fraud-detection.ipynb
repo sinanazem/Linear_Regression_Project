{
 "cells": [
  {
   "cell_type": "markdown",
   "id": "62d12648",
   "metadata": {},
   "source": [
    "# Import Library"
   ]
  },
  {
   "cell_type": "code",
   "execution_count": 15,
   "id": "7fcc91d7",
   "metadata": {},
   "outputs": [],
   "source": [
    "import pandas as pd\n",
    "import numpy as np\n",
    "import seaborn as sns\n",
    "import matplotlib.pyplot as plt\n",
    "from sklearn.decomposition import PCA\n",
    "from sklearn.manifold import TSNE\n",
    "from sklearn.preprocessing import StandardScaler, MinMaxScaler\n",
    "from sklearn.model_selection import train_test_split\n",
    "from sklearn.neighbors import LocalOutlierFactor\n",
    "from imblearn.over_sampling import SMOTE\n",
    "from sklearn.metrics import classification_report, confusion_matrix\n",
    "from pyod.models.lof import LOF\n",
    "from sklearn.ensemble import RandomForestClassifier\n",
    "import warnings\n",
    "warnings.filterwarnings('ignore')"
   ]
  },
  {
   "cell_type": "markdown",
   "id": "c375fcc5",
   "metadata": {},
   "source": [
    "# Read Data"
   ]
  },
  {
   "cell_type": "code",
   "execution_count": 2,
   "id": "73e512ea",
   "metadata": {},
   "outputs": [],
   "source": [
    "DATA_DIR = '/Users/andishetavakkoli/Documents/notebook/github_project/machine-learning-projects-data/fraud_detection'"
   ]
  },
  {
   "cell_type": "code",
   "execution_count": 3,
   "id": "190dbaae",
   "metadata": {},
   "outputs": [],
   "source": [
    "df = pd.read_csv(DATA_DIR + '/PS_20174392719_1491204439457_log.csv')"
   ]
  },
  {
   "cell_type": "code",
   "execution_count": 4,
   "id": "a9003179",
   "metadata": {},
   "outputs": [
    {
     "data": {
      "text/plain": [
       "CASH_OUT    2237500\n",
       "PAYMENT     2151495\n",
       "CASH_IN     1399284\n",
       "TRANSFER     532909\n",
       "DEBIT         41432\n",
       "Name: type, dtype: int64"
      ]
     },
     "execution_count": 4,
     "metadata": {},
     "output_type": "execute_result"
    }
   ],
   "source": [
    "df['type'].value_counts()"
   ]
  },
  {
   "cell_type": "code",
   "execution_count": 5,
   "id": "54814c68",
   "metadata": {},
   "outputs": [
    {
     "data": {
      "text/plain": [
       "type\n",
       "CASH_IN        0\n",
       "CASH_OUT    4116\n",
       "DEBIT          0\n",
       "PAYMENT        0\n",
       "TRANSFER    4097\n",
       "Name: isFraud, dtype: int64"
      ]
     },
     "execution_count": 5,
     "metadata": {},
     "output_type": "execute_result"
    }
   ],
   "source": [
    "df.groupby('type')['isFraud'].sum()"
   ]
  },
  {
   "cell_type": "code",
   "execution_count": 6,
   "id": "0594e8c9",
   "metadata": {},
   "outputs": [
    {
     "data": {
      "text/plain": [
       "0    6354407\n",
       "1       8213\n",
       "Name: isFraud, dtype: int64"
      ]
     },
     "execution_count": 6,
     "metadata": {},
     "output_type": "execute_result"
    }
   ],
   "source": [
    "df['isFraud'].value_counts()"
   ]
  },
  {
   "cell_type": "markdown",
   "id": "3f01b93c",
   "metadata": {},
   "source": [
    "# zscore"
   ]
  },
  {
   "cell_type": "markdown",
   "id": "3605f414",
   "metadata": {},
   "source": [
    "If the z score of a data point is more than 3 (because it cover 99.7% of area), it indicates that the data value is quite different from the other values. It is taken as outliers."
   ]
  },
  {
   "cell_type": "code",
   "execution_count": 7,
   "id": "96899b58",
   "metadata": {},
   "outputs": [],
   "source": [
    "def z_score(series, outlier=None, zscore=None):\n",
    "    outlier_list = []\n",
    "    mean = np.mean(series)\n",
    "    std = np.mean(series)\n",
    "\n",
    "    zscore_list = []\n",
    "    for item in series:\n",
    "        z = (item - mean) / std\n",
    "        zscore_list.append(z)\n",
    "\n",
    "        if np.abs(z) > 100:\n",
    "            outlier_list.append(item) \n",
    "    if zscore == True:\n",
    "        return zscore_list\n",
    "    if outlier == True:\n",
    "        return outlier_list\n",
    "\n",
    "    "
   ]
  },
  {
   "cell_type": "code",
   "execution_count": 8,
   "id": "94b68d65",
   "metadata": {},
   "outputs": [
    {
     "data": {
      "text/plain": [
       "989"
      ]
     },
     "execution_count": 8,
     "metadata": {},
     "output_type": "execute_result"
    }
   ],
   "source": [
    "len(z_score(df['amount'], outlier=True))"
   ]
  },
  {
   "cell_type": "code",
   "execution_count": 9,
   "id": "fa02152a",
   "metadata": {},
   "outputs": [
    {
     "data": {
      "text/plain": [
       "step                   0.329071\n",
       "amount              1797.956705\n",
       "oldbalanceOrg         32.964879\n",
       "newbalanceOrig        32.066985\n",
       "oldbalanceDest       948.674125\n",
       "newbalanceDest       862.156508\n",
       "isFraud              769.702982\n",
       "isFlaggedFraud    397659.062500\n",
       "dtype: float64"
      ]
     },
     "execution_count": 9,
     "metadata": {},
     "output_type": "execute_result"
    }
   ],
   "source": [
    "df.kurtosis()"
   ]
  },
  {
   "cell_type": "code",
   "execution_count": 10,
   "id": "ab4d24bb",
   "metadata": {},
   "outputs": [],
   "source": [
    "df['zscore'] = z_score(df['amount'], zscore=True)"
   ]
  },
  {
   "cell_type": "code",
   "execution_count": 71,
   "id": "9208afe1",
   "metadata": {},
   "outputs": [
    {
     "data": {
      "text/plain": [
       "<seaborn.axisgrid.FacetGrid at 0x7fb46c4b2ee0>"
      ]
     },
     "execution_count": 71,
     "metadata": {},
     "output_type": "execute_result"
    },
    {
     "data": {
      "image/png": "[encoded data removed]",
      "text/plain": [
       "<Figure size 360x360 with 1 Axes>"
      ]
     },
     "metadata": {
      "needs_background": "light"
     },
     "output_type": "display_data"
    }
   ],
   "source": [
    "sns.displot(data=df, x='zscore', kind='kde')"
   ]
  },
  {
   "cell_type": "code",
   "execution_count": 60,
   "id": "4eb66bdf",
   "metadata": {},
   "outputs": [
    {
     "data": {
      "text/plain": [
       "<seaborn.axisgrid.FacetGrid at 0x7fb526350640>"
      ]
     },
     "execution_count": 60,
     "metadata": {},
     "output_type": "execute_result"
    },
    {
     "data": {
      "image/png": "[encoded data removed]",
      "text/plain": [
       "<Figure size 360x360 with 1 Axes>"
      ]
     },
     "metadata": {
      "needs_background": "light"
     },
     "output_type": "display_data"
    }
   ],
   "source": [
    "sns.displot(data=df, x='amount', kind='kde')"
   ]
  },
  {
   "cell_type": "code",
   "execution_count": 24,
   "id": "13c7502b",
   "metadata": {},
   "outputs": [
    {
     "data": {
      "text/plain": [
       "<AxesSubplot:xlabel='isFraud', ylabel='count'>"
      ]
     },
     "execution_count": 24,
     "metadata": {},
     "output_type": "execute_result"
    },
    {
     "data": {
      "image/png": "[encoded data removed]",
      "text/plain": [
       "<Figure size 432x288 with 1 Axes>"
      ]
     },
     "metadata": {
      "needs_background": "light"
     },
     "output_type": "display_data"
    }
   ],
   "source": [
    "sns.countplot(df, x='isFraud')"
   ]
  },
  {
   "cell_type": "markdown",
   "id": "46e19cfd",
   "metadata": {},
   "source": [
    "# Dimention Reduction"
   ]
  },
  {
   "cell_type": "markdown",
   "id": "475dfafc",
   "metadata": {},
   "source": [
    "### PCA"
   ]
  },
  {
   "cell_type": "code",
   "execution_count": 74,
   "id": "a572f9c7",
   "metadata": {},
   "outputs": [
    {
     "data": {
      "text/plain": [
       "<AxesSubplot:xlabel='0', ylabel='1'>"
      ]
     },
     "execution_count": 74,
     "metadata": {},
     "output_type": "execute_result"
    },
    {
     "data": {
      "image/png": "[encoded data removed]",
      "text/plain": [
       "<Figure size 432x288 with 1 Axes>"
      ]
     },
     "metadata": {
      "needs_background": "light"
     },
     "output_type": "display_data"
    }
   ],
   "source": [
    "pca = PCA(n_components=2)\n",
    "X_2d = pca.fit_transform(X_plot)\n",
    "df_new = pd.DataFrame(X_2d)\n",
    "df_new['y_plot'] = y_plot.to_list()\n",
    "sns.scatterplot(x=df_new.iloc[:,0], y=df_new.iloc[:,1] , hue=df_new.iloc[:,2])"
   ]
  },
  {
   "cell_type": "markdown",
   "id": "db30015c",
   "metadata": {},
   "source": [
    "### TSNE"
   ]
  },
  {
   "cell_type": "code",
   "execution_count": 75,
   "id": "c8040f91",
   "metadata": {},
   "outputs": [],
   "source": [
    "tsne = TSNE(n_components=2)\n",
    "X_2d_ts = tsne.fit_transform(X_plot)"
   ]
  },
  {
   "cell_type": "code",
   "execution_count": 76,
   "id": "c4956d62",
   "metadata": {},
   "outputs": [
    {
     "data": {
      "text/plain": [
       "<AxesSubplot:xlabel='0', ylabel='1'>"
      ]
     },
     "execution_count": 76,
     "metadata": {},
     "output_type": "execute_result"
    },
    {
     "data": {
      "image/png": "[encoded data removed]",
      "text/plain": [
       "<Figure size 432x288 with 1 Axes>"
      ]
     },
     "metadata": {
      "needs_background": "light"
     },
     "output_type": "display_data"
    }
   ],
   "source": [
    "df_new_ts = pd.DataFrame(X_2d_ts)\n",
    "df_new_ts['y_plot'] = y_plot.to_list()\n",
    "sns.scatterplot(x=df_new_ts.iloc[:,0], y=df_new_ts.iloc[:,1] , hue=df_new_ts.iloc[:,2])"
   ]
  },
  {
   "cell_type": "markdown",
   "id": "345c7678",
   "metadata": {},
   "source": [
    "# Unsupervised Learning"
   ]
  },
  {
   "cell_type": "markdown",
   "id": "6a7b74b5",
   "metadata": {},
   "source": [
    "## LocalOutlierFactor"
   ]
  },
  {
   "cell_type": "markdown",
   "id": "16f4b222",
   "metadata": {},
   "source": [
    "### Select two types of transaction which has been outliers"
   ]
  },
  {
   "cell_type": "code",
   "execution_count": 72,
   "id": "17a57022",
   "metadata": {},
   "outputs": [],
   "source": [
    "df = df[df['type'].isin(['CASH_OUT','TRANSFER'])]\n",
    "df_new = df[[\n",
    "    'amount',  \n",
    "    'oldbalanceOrg', \n",
    "    'newbalanceOrig',\n",
    "    'oldbalanceDest',\n",
    "    'newbalanceDest',\n",
    "    'isFraud']]\n",
    "X = df_new.drop(['isFraud'], axis=1)\n",
    "y = df_new['isFraud']"
   ]
  },
  {
   "cell_type": "markdown",
   "id": "13a06e95",
   "metadata": {},
   "source": [
    "### Scaling"
   ]
  },
  {
   "cell_type": "code",
   "execution_count": 73,
   "id": "e4723dcd",
   "metadata": {},
   "outputs": [
    {
     "name": "stdout",
     "output_type": "stream",
     "text": [
      "              precision    recall  f1-score   support\n",
      "\n",
      "           0       1.00      1.00      1.00   1104879\n",
      "           1       0.00      0.00      0.00      3285\n",
      "\n",
      "    accuracy                           1.00   1108164\n",
      "   macro avg       0.50      0.50      0.50   1108164\n",
      "weighted avg       0.99      1.00      1.00   1108164\n",
      "\n"
     ]
    }
   ],
   "source": [
    "sc = StandardScaler()\n",
    "X_scaled = sc.fit_transform(X)\n",
    "\n",
    "X_train, X_test, y_train, y_test = train_test_split(X_scaled, y, random_state=21, test_size=0.4, stratify=y)\n",
    "\n",
    "# modeling\n",
    "lof = LocalOutlierFactor(n_neighbors=15, contamination=0.1, novelty=True)\n",
    "lof.fit(X_train)\n",
    "y_pred = lof.predict(X_test)\n",
    "y_pred[y_pred == -1] = 1\n",
    "y_pred[y_pred == 1] = 0\n",
    "print(classification_report(y_test, y_pred))\n"
   ]
  },
  {
   "cell_type": "markdown",
   "id": "09d76f73",
   "metadata": {},
   "source": [
    "## LOF with PYOD"
   ]
  },
  {
   "cell_type": "code",
   "execution_count": 108,
   "id": "64b4d37c",
   "metadata": {},
   "outputs": [],
   "source": [
    "lof_pyod = LOF(n_neighbors=20, algorithm='auto', leaf_size=30, metric='minkowski', p=2, metric_params=None, contamination=0.1, n_jobs=1, novelty=True)"
   ]
  },
  {
   "cell_type": "code",
   "execution_count": 113,
   "id": "f50ee188",
   "metadata": {},
   "outputs": [],
   "source": [
    "lof_pyod.fit(X_train)\n",
    "y_pred_train = lof_pyod.predict(X_train)\n",
    "\n",
    "y_pred = lof_pyod.predict(X_test)"
   ]
  },
  {
   "cell_type": "code",
   "execution_count": 114,
   "id": "fad40e99",
   "metadata": {},
   "outputs": [],
   "source": [
    "df_train = pd.DataFrame(X_train, columns = X.columns)\n",
    "df_train['is_fraud'] = y_train\n",
    "df_train['y_pred_py_lof'] = y_pred_train"
   ]
  },
  {
   "cell_type": "code",
   "execution_count": 116,
   "id": "42b1c32e",
   "metadata": {},
   "outputs": [
    {
     "data": {
      "text/plain": [
       "(1114, 7)"
      ]
     },
     "execution_count": 116,
     "metadata": {},
     "output_type": "execute_result"
    }
   ],
   "source": [
    "df_train[df_train['is_fraud'] == 1].shape"
   ]
  },
  {
   "cell_type": "code",
   "execution_count": 117,
   "id": "e59d99c5",
   "metadata": {},
   "outputs": [
    {
     "data": {
      "text/plain": [
       "(156232, 7)"
      ]
     },
     "execution_count": 117,
     "metadata": {},
     "output_type": "execute_result"
    }
   ],
   "source": [
    "df_train[df_train['y_pred_py_lof'] == 1].shape"
   ]
  },
  {
   "cell_type": "code",
   "execution_count": 119,
   "id": "00fa17ed",
   "metadata": {},
   "outputs": [
    {
     "data": {
      "text/plain": [
       "(103, 7)"
      ]
     },
     "execution_count": 119,
     "metadata": {},
     "output_type": "execute_result"
    }
   ],
   "source": [
    "df_train[(df_train['is_fraud'] == 1) & (df_train['y_pred_py_lof'] == 1)].shape"
   ]
  },
  {
   "cell_type": "code",
   "execution_count": 111,
   "id": "1d0466e6",
   "metadata": {},
   "outputs": [
    {
     "name": "stdout",
     "output_type": "stream",
     "text": [
      "              precision    recall  f1-score   support\n",
      "\n",
      "           0       1.00      0.90      0.94   1104879\n",
      "           1       0.00      0.15      0.01      3285\n",
      "\n",
      "    accuracy                           0.89   1108164\n",
      "   macro avg       0.50      0.52      0.48   1108164\n",
      "weighted avg       0.99      0.89      0.94   1108164\n",
      "\n"
     ]
    }
   ],
   "source": [
    "print(classification_report(y_test, y_pred))"
   ]
  },
  {
   "cell_type": "code",
   "execution_count": 112,
   "id": "d86e032d",
   "metadata": {},
   "outputs": [
    {
     "data": {
      "text/plain": [
       "array([[1.00000000e+00, 3.41532146e-12],\n",
       "       [1.00000000e+00, 2.19750132e-12],\n",
       "       [1.00000000e+00, 1.31510986e-11],\n",
       "       ...,\n",
       "       [1.00000000e+00, 2.23291703e-12],\n",
       "       [1.00000000e+00, 3.68026520e-12],\n",
       "       [1.00000000e+00, 5.99561532e-11]])"
      ]
     },
     "execution_count": 112,
     "metadata": {},
     "output_type": "execute_result"
    }
   ],
   "source": [
    "lof_pyod.predict_proba(X_test)"
   ]
  },
  {
   "cell_type": "markdown",
   "id": "5df09ed0",
   "metadata": {},
   "source": [
    "## Pycaret"
   ]
  },
  {
   "cell_type": "code",
   "execution_count": 91,
   "id": "648dcc5c",
   "metadata": {},
   "outputs": [],
   "source": [
    "from pycaret.anomaly import *"
   ]
  },
  {
   "cell_type": "code",
   "execution_count": 76,
   "id": "95c1cd09",
   "metadata": {},
   "outputs": [],
   "source": [
    "df_train = pd.DataFrame(X, columns = X.columns)"
   ]
  },
  {
   "cell_type": "code",
   "execution_count": 77,
   "id": "305ad941",
   "metadata": {},
   "outputs": [
    {
     "data": {
      "text/html": [
       "<style type=\"text/css\">\n",
       "#T_94687_row4_col1, #T_94687_row8_col1 {\n",
       "  background-color: lightgreen;\n",
       "}\n",
       "</style>\n",
       "<table id=\"T_94687\">\n",
       "  <thead>\n",
       "    <tr>\n",
       "      <th class=\"blank level0\" >&nbsp;</th>\n",
       "      <th id=\"T_94687_level0_col0\" class=\"col_heading level0 col0\" >Description</th>\n",
       "      <th id=\"T_94687_level0_col1\" class=\"col_heading level0 col1\" >Value</th>\n",
       "    </tr>\n",
       "  </thead>\n",
       "  <tbody>\n",
       "    <tr>\n",
       "      <th id=\"T_94687_level0_row0\" class=\"row_heading level0 row0\" >0</th>\n",
       "      <td id=\"T_94687_row0_col0\" class=\"data row0 col0\" >Session id</td>\n",
       "      <td id=\"T_94687_row0_col1\" class=\"data row0 col1\" >123</td>\n",
       "    </tr>\n",
       "    <tr>\n",
       "      <th id=\"T_94687_level0_row1\" class=\"row_heading level0 row1\" >1</th>\n",
       "      <td id=\"T_94687_row1_col0\" class=\"data row1 col0\" >Original data shape</td>\n",
       "      <td id=\"T_94687_row1_col1\" class=\"data row1 col1\" >(2770409, 5)</td>\n",
       "    </tr>\n",
       "    <tr>\n",
       "      <th id=\"T_94687_level0_row2\" class=\"row_heading level0 row2\" >2</th>\n",
       "      <td id=\"T_94687_row2_col0\" class=\"data row2 col0\" >Transformed data shape</td>\n",
       "      <td id=\"T_94687_row2_col1\" class=\"data row2 col1\" >(2770409, 5)</td>\n",
       "    </tr>\n",
       "    <tr>\n",
       "      <th id=\"T_94687_level0_row3\" class=\"row_heading level0 row3\" >3</th>\n",
       "      <td id=\"T_94687_row3_col0\" class=\"data row3 col0\" >Numeric features</td>\n",
       "      <td id=\"T_94687_row3_col1\" class=\"data row3 col1\" >5</td>\n",
       "    </tr>\n",
       "    <tr>\n",
       "      <th id=\"T_94687_level0_row4\" class=\"row_heading level0 row4\" >4</th>\n",
       "      <td id=\"T_94687_row4_col0\" class=\"data row4 col0\" >Preprocess</td>\n",
       "      <td id=\"T_94687_row4_col1\" class=\"data row4 col1\" >True</td>\n",
       "    </tr>\n",
       "    <tr>\n",
       "      <th id=\"T_94687_level0_row5\" class=\"row_heading level0 row5\" >5</th>\n",
       "      <td id=\"T_94687_row5_col0\" class=\"data row5 col0\" >Imputation type</td>\n",
       "      <td id=\"T_94687_row5_col1\" class=\"data row5 col1\" >simple</td>\n",
       "    </tr>\n",
       "    <tr>\n",
       "      <th id=\"T_94687_level0_row6\" class=\"row_heading level0 row6\" >6</th>\n",
       "      <td id=\"T_94687_row6_col0\" class=\"data row6 col0\" >Numeric imputation</td>\n",
       "      <td id=\"T_94687_row6_col1\" class=\"data row6 col1\" >mean</td>\n",
       "    </tr>\n",
       "    <tr>\n",
       "      <th id=\"T_94687_level0_row7\" class=\"row_heading level0 row7\" >7</th>\n",
       "      <td id=\"T_94687_row7_col0\" class=\"data row7 col0\" >Categorical imputation</td>\n",
       "      <td id=\"T_94687_row7_col1\" class=\"data row7 col1\" >mode</td>\n",
       "    </tr>\n",
       "    <tr>\n",
       "      <th id=\"T_94687_level0_row8\" class=\"row_heading level0 row8\" >8</th>\n",
       "      <td id=\"T_94687_row8_col0\" class=\"data row8 col0\" >Normalize</td>\n",
       "      <td id=\"T_94687_row8_col1\" class=\"data row8 col1\" >True</td>\n",
       "    </tr>\n",
       "    <tr>\n",
       "      <th id=\"T_94687_level0_row9\" class=\"row_heading level0 row9\" >9</th>\n",
       "      <td id=\"T_94687_row9_col0\" class=\"data row9 col0\" >Normalize method</td>\n",
       "      <td id=\"T_94687_row9_col1\" class=\"data row9 col1\" >zscore</td>\n",
       "    </tr>\n",
       "    <tr>\n",
       "      <th id=\"T_94687_level0_row10\" class=\"row_heading level0 row10\" >10</th>\n",
       "      <td id=\"T_94687_row10_col0\" class=\"data row10 col0\" >CPU Jobs</td>\n",
       "      <td id=\"T_94687_row10_col1\" class=\"data row10 col1\" >-1</td>\n",
       "    </tr>\n",
       "    <tr>\n",
       "      <th id=\"T_94687_level0_row11\" class=\"row_heading level0 row11\" >11</th>\n",
       "      <td id=\"T_94687_row11_col0\" class=\"data row11 col0\" >Use GPU</td>\n",
       "      <td id=\"T_94687_row11_col1\" class=\"data row11 col1\" >False</td>\n",
       "    </tr>\n",
       "    <tr>\n",
       "      <th id=\"T_94687_level0_row12\" class=\"row_heading level0 row12\" >12</th>\n",
       "      <td id=\"T_94687_row12_col0\" class=\"data row12 col0\" >Log Experiment</td>\n",
       "      <td id=\"T_94687_row12_col1\" class=\"data row12 col1\" >False</td>\n",
       "    </tr>\n",
       "    <tr>\n",
       "      <th id=\"T_94687_level0_row13\" class=\"row_heading level0 row13\" >13</th>\n",
       "      <td id=\"T_94687_row13_col0\" class=\"data row13 col0\" >Experiment Name</td>\n",
       "      <td id=\"T_94687_row13_col1\" class=\"data row13 col1\" >anomaly-default-name</td>\n",
       "    </tr>\n",
       "    <tr>\n",
       "      <th id=\"T_94687_level0_row14\" class=\"row_heading level0 row14\" >14</th>\n",
       "      <td id=\"T_94687_row14_col0\" class=\"data row14 col0\" >USI</td>\n",
       "      <td id=\"T_94687_row14_col1\" class=\"data row14 col1\" >db4e</td>\n",
       "    </tr>\n",
       "  </tbody>\n",
       "</table>\n"
      ],
      "text/plain": [
       "<pandas.io.formats.style.Styler at 0x7f97c4248ee0>"
      ]
     },
     "metadata": {},
     "output_type": "display_data"
    }
   ],
   "source": [
    "exp_ano101 = setup(X, \n",
    "                   normalize = True, \n",
    "                   session_id = 123)"
   ]
  },
  {
   "cell_type": "code",
   "execution_count": 78,
   "id": "70a20a84",
   "metadata": {},
   "outputs": [
    {
     "data": {
      "text/html": [],
      "text/plain": [
       "<IPython.core.display.HTML object>"
      ]
     },
     "metadata": {},
     "output_type": "display_data"
    },
    {
     "data": {
      "text/html": [],
      "text/plain": [
       "<IPython.core.display.HTML object>"
      ]
     },
     "metadata": {},
     "output_type": "display_data"
    },
    {
     "data": {
      "application/vnd.jupyter.widget-view+json": {
       "model_id": "",
       "version_major": 2,
       "version_minor": 0
      },
      "text/plain": [
       "Processing:   0%|          | 0/3 [00:00<?, ?it/s]"
      ]
     },
     "metadata": {},
     "output_type": "display_data"
    }
   ],
   "source": [
    "iforest = create_model('iforest')"
   ]
  },
  {
   "cell_type": "code",
   "execution_count": null,
   "id": "2aef1cc4",
   "metadata": {},
   "outputs": [],
   "source": [
    "models()"
   ]
  },
  {
   "cell_type": "code",
   "execution_count": 80,
   "id": "49629e2e",
   "metadata": {},
   "outputs": [
    {
     "data": {
      "text/html": [
       "<div>\n",
       "<style scoped>\n",
       "    .dataframe tbody tr th:only-of-type {\n",
       "        vertical-align: middle;\n",
       "    }\n",
       "\n",
       "    .dataframe tbody tr th {\n",
       "        vertical-align: top;\n",
       "    }\n",
       "\n",
       "    .dataframe thead th {\n",
       "        text-align: right;\n",
       "    }\n",
       "</style>\n",
       "<table border=\"1\" class=\"dataframe\">\n",
       "  <thead>\n",
       "    <tr style=\"text-align: right;\">\n",
       "      <th></th>\n",
       "      <th>amount</th>\n",
       "      <th>oldbalanceOrg</th>\n",
       "      <th>newbalanceOrig</th>\n",
       "      <th>oldbalanceDest</th>\n",
       "      <th>newbalanceDest</th>\n",
       "      <th>Anomaly</th>\n",
       "      <th>Anomaly_Score</th>\n",
       "    </tr>\n",
       "  </thead>\n",
       "  <tbody>\n",
       "    <tr>\n",
       "      <th>2</th>\n",
       "      <td>181.000000</td>\n",
       "      <td>181.0</td>\n",
       "      <td>0.0</td>\n",
       "      <td>0.0</td>\n",
       "      <td>0.000000e+00</td>\n",
       "      <td>0</td>\n",
       "      <td>-0.214464</td>\n",
       "    </tr>\n",
       "    <tr>\n",
       "      <th>3</th>\n",
       "      <td>181.000000</td>\n",
       "      <td>181.0</td>\n",
       "      <td>0.0</td>\n",
       "      <td>21182.0</td>\n",
       "      <td>0.000000e+00</td>\n",
       "      <td>0</td>\n",
       "      <td>-0.215422</td>\n",
       "    </tr>\n",
       "    <tr>\n",
       "      <th>15</th>\n",
       "      <td>229133.937500</td>\n",
       "      <td>15325.0</td>\n",
       "      <td>0.0</td>\n",
       "      <td>5083.0</td>\n",
       "      <td>5.151344e+04</td>\n",
       "      <td>0</td>\n",
       "      <td>-0.228545</td>\n",
       "    </tr>\n",
       "    <tr>\n",
       "      <th>19</th>\n",
       "      <td>215310.296875</td>\n",
       "      <td>705.0</td>\n",
       "      <td>0.0</td>\n",
       "      <td>22425.0</td>\n",
       "      <td>0.000000e+00</td>\n",
       "      <td>0</td>\n",
       "      <td>-0.226795</td>\n",
       "    </tr>\n",
       "    <tr>\n",
       "      <th>24</th>\n",
       "      <td>311685.875000</td>\n",
       "      <td>10835.0</td>\n",
       "      <td>0.0</td>\n",
       "      <td>6267.0</td>\n",
       "      <td>2.719173e+06</td>\n",
       "      <td>0</td>\n",
       "      <td>-0.200288</td>\n",
       "    </tr>\n",
       "  </tbody>\n",
       "</table>\n",
       "</div>"
      ],
      "text/plain": [
       "           amount  oldbalanceOrg  newbalanceOrig  oldbalanceDest  \\\n",
       "2      181.000000          181.0             0.0             0.0   \n",
       "3      181.000000          181.0             0.0         21182.0   \n",
       "15  229133.937500        15325.0             0.0          5083.0   \n",
       "19  215310.296875          705.0             0.0         22425.0   \n",
       "24  311685.875000        10835.0             0.0          6267.0   \n",
       "\n",
       "    newbalanceDest  Anomaly  Anomaly_Score  \n",
       "2     0.000000e+00        0      -0.214464  \n",
       "3     0.000000e+00        0      -0.215422  \n",
       "15    5.151344e+04        0      -0.228545  \n",
       "19    0.000000e+00        0      -0.226795  \n",
       "24    2.719173e+06        0      -0.200288  "
      ]
     },
     "execution_count": 80,
     "metadata": {},
     "output_type": "execute_result"
    }
   ],
   "source": [
    "iforest_results = assign_model(iforest)\n",
    "iforest_results.head()"
   ]
  },
  {
   "cell_type": "code",
   "execution_count": 81,
   "id": "7f42ca43",
   "metadata": {},
   "outputs": [
    {
     "data": {
      "text/plain": [
       "(2770409,)"
      ]
     },
     "execution_count": 81,
     "metadata": {},
     "output_type": "execute_result"
    }
   ],
   "source": [
    "iforest_results['Anomaly'].shape"
   ]
  },
  {
   "cell_type": "code",
   "execution_count": 89,
   "id": "ba3c6d30",
   "metadata": {},
   "outputs": [
    {
     "data": {
      "text/plain": [
       "138521"
      ]
     },
     "execution_count": 89,
     "metadata": {},
     "output_type": "execute_result"
    }
   ],
   "source": [
    "iforest_results['Anomaly'].sum()"
   ]
  },
  {
   "cell_type": "code",
   "execution_count": 83,
   "id": "c7ab3b78",
   "metadata": {},
   "outputs": [],
   "source": [
    "df_train['pycaret_anomaly'] = iforest_results['Anomaly']\n",
    "df_train['y_train'] = y.to_list()"
   ]
  },
  {
   "cell_type": "code",
   "execution_count": 84,
   "id": "e7d1d396",
   "metadata": {},
   "outputs": [
    {
     "data": {
      "text/plain": [
       "(1662245,)"
      ]
     },
     "execution_count": 84,
     "metadata": {},
     "output_type": "execute_result"
    }
   ],
   "source": [
    "y_train.shape"
   ]
  },
  {
   "cell_type": "code",
   "execution_count": 85,
   "id": "0b0c267b",
   "metadata": {},
   "outputs": [
    {
     "data": {
      "text/plain": [
       "(2770409,)"
      ]
     },
     "execution_count": 85,
     "metadata": {},
     "output_type": "execute_result"
    }
   ],
   "source": [
    "df_train['pycaret_anomaly'].shape"
   ]
  },
  {
   "cell_type": "code",
   "execution_count": 86,
   "id": "eae9404c",
   "metadata": {},
   "outputs": [
    {
     "data": {
      "text/plain": [
       "0    1657317\n",
       "1       4928\n",
       "Name: isFraud, dtype: int64"
      ]
     },
     "execution_count": 86,
     "metadata": {},
     "output_type": "execute_result"
    }
   ],
   "source": [
    "y_train.value_counts(dropna=False)"
   ]
  },
  {
   "cell_type": "code",
   "execution_count": 87,
   "id": "38ccbacd",
   "metadata": {},
   "outputs": [
    {
     "data": {
      "text/plain": [
       "0    2762196\n",
       "1       8213\n",
       "Name: y_train, dtype: int64"
      ]
     },
     "execution_count": 87,
     "metadata": {},
     "output_type": "execute_result"
    }
   ],
   "source": [
    "df_train['y_train'].value_counts(dropna=False)"
   ]
  },
  {
   "cell_type": "code",
   "execution_count": 88,
   "id": "20fe745d",
   "metadata": {},
   "outputs": [
    {
     "data": {
      "text/plain": [
       "(3620, 7)"
      ]
     },
     "execution_count": 88,
     "metadata": {},
     "output_type": "execute_result"
    }
   ],
   "source": [
    "df_train[(df_train['pycaret_anomaly'] == 1) & df_train['y_train'] == 1].shape"
   ]
  },
  {
   "cell_type": "code",
   "execution_count": 93,
   "id": "ff2762a4",
   "metadata": {},
   "outputs": [],
   "source": [
    "#plot_model(iforest, plot = 'tsne')"
   ]
  },
  {
   "cell_type": "code",
   "execution_count": null,
   "id": "b2892450",
   "metadata": {},
   "outputs": [],
   "source": [
    "#plot_model(iforest, plot = 'umap')"
   ]
  },
  {
   "cell_type": "code",
   "execution_count": null,
   "id": "2b1d9ff3",
   "metadata": {},
   "outputs": [],
   "source": [
    "# unseen_predictions = predict_model(iforest, data=data_unseen)\n",
    "# unseen_predictions.head()"
   ]
  },
  {
   "cell_type": "code",
   "execution_count": 94,
   "id": "7ddea5cc",
   "metadata": {},
   "outputs": [],
   "source": [
    "# data_predictions = predict_model(iforest, data = data)\n",
    "# data_predictions.head()"
   ]
  },
  {
   "cell_type": "code",
   "execution_count": null,
   "id": "85c52ef0",
   "metadata": {},
   "outputs": [],
   "source": [
    "# save_model(iforest,’Final IForest Model 25Nov2020')"
   ]
  },
  {
   "cell_type": "code",
   "execution_count": null,
   "id": "ac004f34",
   "metadata": {},
   "outputs": [],
   "source": [
    "# saved_iforest = load_model('Final IForest Model 25Nov2020')\n",
    "# new_prediction = predict_model(saved_iforest, data=data_unseen)\n",
    "# new_prediction.head()"
   ]
  },
  {
   "cell_type": "markdown",
   "id": "0733279c",
   "metadata": {},
   "source": [
    "# Supervised Learning"
   ]
  },
  {
   "cell_type": "code",
   "execution_count": 11,
   "id": "38a4ba7b",
   "metadata": {},
   "outputs": [],
   "source": [
    "df = df[df['type'].isin(['CASH_OUT','TRANSFER'])]\n",
    "df_new = df[[\n",
    "    'amount',  \n",
    "    'oldbalanceOrg', \n",
    "    'newbalanceOrig',\n",
    "    'oldbalanceDest',\n",
    "    'newbalanceDest',\n",
    "    'isFraud']]\n",
    "X = df_new.drop(['isFraud'], axis=1)\n",
    "y = df_new['isFraud']"
   ]
  },
  {
   "cell_type": "code",
   "execution_count": 14,
   "id": "b3b23d2c",
   "metadata": {},
   "outputs": [],
   "source": [
    "X_train, X_test, y_train, y_test = train_test_split(X, y, random_state=21, test_size=0.4, stratify=y)"
   ]
  },
  {
   "cell_type": "code",
   "execution_count": 17,
   "id": "94fe0aef",
   "metadata": {},
   "outputs": [],
   "source": [
    "sm = SMOTE()\n",
    "X_resampled,y_resampled = sm.fit_resample(X_train, y_train)"
   ]
  },
  {
   "cell_type": "code",
   "execution_count": 19,
   "id": "bb95ba9d",
   "metadata": {},
   "outputs": [
    {
     "name": "stdout",
     "output_type": "stream",
     "text": [
      "              precision    recall  f1-score   support\n",
      "\n",
      "           0       1.00      1.00      1.00   1104879\n",
      "           1       0.62      0.96      0.76      3285\n",
      "\n",
      "    accuracy                           1.00   1108164\n",
      "   macro avg       0.81      0.98      0.88   1108164\n",
      "weighted avg       1.00      1.00      1.00   1108164\n",
      "\n"
     ]
    }
   ],
   "source": [
    "rf = RandomForestClassifier()\n",
    "rf.fit(X_resampled,y_resampled)\n",
    "y_pred_rf = rf.predict(X_test)\n",
    "print(classification_report(y_test, y_pred_rf))"
   ]
  },
  {
   "cell_type": "code",
   "execution_count": null,
   "id": "a295ceb7",
   "metadata": {},
   "outputs": [],
   "source": []
  }
 ],
 "metadata": {
  "kernelspec": {
   "display_name": "Python 3 (ipykernel)",
   "language": "python",
   "name": "python3"
  },
  "language_info": {
   "codemirror_mode": {
    "name": "ipython",
    "version": 3
   },
   "file_extension": ".py",
   "mimetype": "text/x-python",
   "name": "python",
   "nbconvert_exporter": "python",
   "pygments_lexer": "ipython3",
   "version": "3.9.7"
  }
 },
 "nbformat": 4,
 "nbformat_minor": 5
}
