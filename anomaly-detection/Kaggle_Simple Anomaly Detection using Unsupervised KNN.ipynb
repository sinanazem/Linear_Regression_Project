{
 "cells": [
  {
   "cell_type": "markdown",
   "id": "f5290bf5",
   "metadata": {},
   "source": [
    "# Import Libraries"
   ]
  },
  {
   "cell_type": "code",
   "execution_count": 31,
   "id": "1f52aff2",
   "metadata": {},
   "outputs": [],
   "source": [
    "import numpy as np\n",
    "import pandas as pd\n",
    "import seaborn as sns\n",
    "import matplotlib.pyplot as plt\n",
    "\n",
    "from sklearn.neighbors import NearestNeighbors\n",
    "import warnings\n",
    "warnings.filterwarnings('ignore')"
   ]
  },
  {
   "cell_type": "markdown",
   "id": "207a6ec5",
   "metadata": {},
   "source": [
    "# Read Data"
   ]
  },
  {
   "cell_type": "code",
   "execution_count": 4,
   "id": "100a5622",
   "metadata": {},
   "outputs": [],
   "source": [
    "df = pd.read_csv('netflix.csv')"
   ]
  },
  {
   "cell_type": "code",
   "execution_count": 5,
   "id": "99578f25",
   "metadata": {},
   "outputs": [
    {
     "data": {
      "text/html": [
       "<div>\n",
       "<style scoped>\n",
       "    .dataframe tbody tr th:only-of-type {\n",
       "        vertical-align: middle;\n",
       "    }\n",
       "\n",
       "    .dataframe tbody tr th {\n",
       "        vertical-align: top;\n",
       "    }\n",
       "\n",
       "    .dataframe thead th {\n",
       "        text-align: right;\n",
       "    }\n",
       "</style>\n",
       "<table border=\"1\" class=\"dataframe\">\n",
       "  <thead>\n",
       "    <tr style=\"text-align: right;\">\n",
       "      <th></th>\n",
       "      <th>Date</th>\n",
       "      <th>High</th>\n",
       "      <th>Low</th>\n",
       "      <th>Open</th>\n",
       "      <th>Close</th>\n",
       "      <th>Volume</th>\n",
       "      <th>Adj Close</th>\n",
       "    </tr>\n",
       "  </thead>\n",
       "  <tbody>\n",
       "    <tr>\n",
       "      <th>0</th>\n",
       "      <td>2002-05-23</td>\n",
       "      <td>1.242857</td>\n",
       "      <td>1.145714</td>\n",
       "      <td>1.156429</td>\n",
       "      <td>1.196429</td>\n",
       "      <td>104790000.0</td>\n",
       "      <td>1.196429</td>\n",
       "    </tr>\n",
       "    <tr>\n",
       "      <th>1</th>\n",
       "      <td>2002-05-24</td>\n",
       "      <td>1.225000</td>\n",
       "      <td>1.197143</td>\n",
       "      <td>1.214286</td>\n",
       "      <td>1.210000</td>\n",
       "      <td>11104800.0</td>\n",
       "      <td>1.210000</td>\n",
       "    </tr>\n",
       "    <tr>\n",
       "      <th>2</th>\n",
       "      <td>2002-05-28</td>\n",
       "      <td>1.232143</td>\n",
       "      <td>1.157143</td>\n",
       "      <td>1.213571</td>\n",
       "      <td>1.157143</td>\n",
       "      <td>6609400.0</td>\n",
       "      <td>1.157143</td>\n",
       "    </tr>\n",
       "    <tr>\n",
       "      <th>3</th>\n",
       "      <td>2002-05-29</td>\n",
       "      <td>1.164286</td>\n",
       "      <td>1.085714</td>\n",
       "      <td>1.164286</td>\n",
       "      <td>1.103571</td>\n",
       "      <td>6757800.0</td>\n",
       "      <td>1.103571</td>\n",
       "    </tr>\n",
       "    <tr>\n",
       "      <th>4</th>\n",
       "      <td>2002-05-30</td>\n",
       "      <td>1.107857</td>\n",
       "      <td>1.071429</td>\n",
       "      <td>1.107857</td>\n",
       "      <td>1.071429</td>\n",
       "      <td>10154200.0</td>\n",
       "      <td>1.071429</td>\n",
       "    </tr>\n",
       "  </tbody>\n",
       "</table>\n",
       "</div>"
      ],
      "text/plain": [
       "         Date      High       Low      Open     Close       Volume  Adj Close\n",
       "0  2002-05-23  1.242857  1.145714  1.156429  1.196429  104790000.0   1.196429\n",
       "1  2002-05-24  1.225000  1.197143  1.214286  1.210000   11104800.0   1.210000\n",
       "2  2002-05-28  1.232143  1.157143  1.213571  1.157143    6609400.0   1.157143\n",
       "3  2002-05-29  1.164286  1.085714  1.164286  1.103571    6757800.0   1.103571\n",
       "4  2002-05-30  1.107857  1.071429  1.107857  1.071429   10154200.0   1.071429"
      ]
     },
     "execution_count": 5,
     "metadata": {},
     "output_type": "execute_result"
    }
   ],
   "source": [
    "df.head()"
   ]
  },
  {
   "cell_type": "code",
   "execution_count": 7,
   "id": "2e24cf1d",
   "metadata": {},
   "outputs": [
    {
     "data": {
      "text/plain": [
       "(4881, 7)"
      ]
     },
     "execution_count": 7,
     "metadata": {},
     "output_type": "execute_result"
    }
   ],
   "source": [
    "df.shape"
   ]
  },
  {
   "cell_type": "code",
   "execution_count": 8,
   "id": "84f896c7",
   "metadata": {},
   "outputs": [
    {
     "data": {
      "text/html": [
       "<div>\n",
       "<style scoped>\n",
       "    .dataframe tbody tr th:only-of-type {\n",
       "        vertical-align: middle;\n",
       "    }\n",
       "\n",
       "    .dataframe tbody tr th {\n",
       "        vertical-align: top;\n",
       "    }\n",
       "\n",
       "    .dataframe thead th {\n",
       "        text-align: right;\n",
       "    }\n",
       "</style>\n",
       "<table border=\"1\" class=\"dataframe\">\n",
       "  <thead>\n",
       "    <tr style=\"text-align: right;\">\n",
       "      <th></th>\n",
       "      <th>High</th>\n",
       "      <th>Low</th>\n",
       "      <th>Open</th>\n",
       "      <th>Close</th>\n",
       "      <th>Volume</th>\n",
       "      <th>Adj Close</th>\n",
       "    </tr>\n",
       "  </thead>\n",
       "  <tbody>\n",
       "    <tr>\n",
       "      <th>count</th>\n",
       "      <td>4881.000000</td>\n",
       "      <td>4881.000000</td>\n",
       "      <td>4881.000000</td>\n",
       "      <td>4881.000000</td>\n",
       "      <td>4.881000e+03</td>\n",
       "      <td>4881.000000</td>\n",
       "    </tr>\n",
       "    <tr>\n",
       "      <th>mean</th>\n",
       "      <td>107.003361</td>\n",
       "      <td>103.742674</td>\n",
       "      <td>105.388477</td>\n",
       "      <td>105.434149</td>\n",
       "      <td>1.679949e+07</td>\n",
       "      <td>105.434149</td>\n",
       "    </tr>\n",
       "    <tr>\n",
       "      <th>std</th>\n",
       "      <td>159.326383</td>\n",
       "      <td>154.662309</td>\n",
       "      <td>157.007060</td>\n",
       "      <td>157.073188</td>\n",
       "      <td>1.936794e+07</td>\n",
       "      <td>157.073188</td>\n",
       "    </tr>\n",
       "    <tr>\n",
       "      <th>min</th>\n",
       "      <td>0.410714</td>\n",
       "      <td>0.346429</td>\n",
       "      <td>0.377857</td>\n",
       "      <td>0.372857</td>\n",
       "      <td>2.856000e+05</td>\n",
       "      <td>0.372857</td>\n",
       "    </tr>\n",
       "    <tr>\n",
       "      <th>25%</th>\n",
       "      <td>3.977143</td>\n",
       "      <td>3.838571</td>\n",
       "      <td>3.901429</td>\n",
       "      <td>3.906429</td>\n",
       "      <td>6.286300e+06</td>\n",
       "      <td>3.906429</td>\n",
       "    </tr>\n",
       "    <tr>\n",
       "      <th>50%</th>\n",
       "      <td>22.261429</td>\n",
       "      <td>21.150000</td>\n",
       "      <td>21.524286</td>\n",
       "      <td>21.632856</td>\n",
       "      <td>1.082310e+07</td>\n",
       "      <td>21.632856</td>\n",
       "    </tr>\n",
       "    <tr>\n",
       "      <th>75%</th>\n",
       "      <td>127.430000</td>\n",
       "      <td>123.589996</td>\n",
       "      <td>125.949997</td>\n",
       "      <td>125.389999</td>\n",
       "      <td>2.015640e+07</td>\n",
       "      <td>125.389999</td>\n",
       "    </tr>\n",
       "    <tr>\n",
       "      <th>max</th>\n",
       "      <td>646.840027</td>\n",
       "      <td>630.859985</td>\n",
       "      <td>642.229980</td>\n",
       "      <td>639.099976</td>\n",
       "      <td>3.234140e+08</td>\n",
       "      <td>639.099976</td>\n",
       "    </tr>\n",
       "  </tbody>\n",
       "</table>\n",
       "</div>"
      ],
      "text/plain": [
       "              High          Low         Open        Close        Volume  \\\n",
       "count  4881.000000  4881.000000  4881.000000  4881.000000  4.881000e+03   \n",
       "mean    107.003361   103.742674   105.388477   105.434149  1.679949e+07   \n",
       "std     159.326383   154.662309   157.007060   157.073188  1.936794e+07   \n",
       "min       0.410714     0.346429     0.377857     0.372857  2.856000e+05   \n",
       "25%       3.977143     3.838571     3.901429     3.906429  6.286300e+06   \n",
       "50%      22.261429    21.150000    21.524286    21.632856  1.082310e+07   \n",
       "75%     127.430000   123.589996   125.949997   125.389999  2.015640e+07   \n",
       "max     646.840027   630.859985   642.229980   639.099976  3.234140e+08   \n",
       "\n",
       "         Adj Close  \n",
       "count  4881.000000  \n",
       "mean    105.434149  \n",
       "std     157.073188  \n",
       "min       0.372857  \n",
       "25%       3.906429  \n",
       "50%      21.632856  \n",
       "75%     125.389999  \n",
       "max     639.099976  "
      ]
     },
     "execution_count": 8,
     "metadata": {},
     "output_type": "execute_result"
    }
   ],
   "source": [
    "df.describe()"
   ]
  },
  {
   "cell_type": "code",
   "execution_count": 15,
   "id": "cceefb78",
   "metadata": {},
   "outputs": [],
   "source": [
    "df['Date'] = pd.to_datetime(df['Date'])"
   ]
  },
  {
   "cell_type": "code",
   "execution_count": 16,
   "id": "5761d86e",
   "metadata": {},
   "outputs": [
    {
     "name": "stdout",
     "output_type": "stream",
     "text": [
      "<class 'pandas.core.frame.DataFrame'>\n",
      "RangeIndex: 4881 entries, 0 to 4880\n",
      "Data columns (total 7 columns):\n",
      " #   Column     Non-Null Count  Dtype         \n",
      "---  ------     --------------  -----         \n",
      " 0   Date       4881 non-null   datetime64[ns]\n",
      " 1   High       4881 non-null   float64       \n",
      " 2   Low        4881 non-null   float64       \n",
      " 3   Open       4881 non-null   float64       \n",
      " 4   Close      4881 non-null   float64       \n",
      " 5   Volume     4881 non-null   float64       \n",
      " 6   Adj Close  4881 non-null   float64       \n",
      "dtypes: datetime64[ns](1), float64(6)\n",
      "memory usage: 267.1 KB\n"
     ]
    }
   ],
   "source": [
    "df.info()"
   ]
  },
  {
   "cell_type": "code",
   "execution_count": 21,
   "id": "ec08e5fd",
   "metadata": {},
   "outputs": [],
   "source": [
    "df = df.iloc[4000:, :]"
   ]
  },
  {
   "cell_type": "code",
   "execution_count": 22,
   "id": "1b947b50",
   "metadata": {},
   "outputs": [
    {
     "data": {
      "text/html": [
       "<div>\n",
       "<style scoped>\n",
       "    .dataframe tbody tr th:only-of-type {\n",
       "        vertical-align: middle;\n",
       "    }\n",
       "\n",
       "    .dataframe tbody tr th {\n",
       "        vertical-align: top;\n",
       "    }\n",
       "\n",
       "    .dataframe thead th {\n",
       "        text-align: right;\n",
       "    }\n",
       "</style>\n",
       "<table border=\"1\" class=\"dataframe\">\n",
       "  <thead>\n",
       "    <tr style=\"text-align: right;\">\n",
       "      <th></th>\n",
       "      <th>Date</th>\n",
       "      <th>High</th>\n",
       "      <th>Low</th>\n",
       "      <th>Open</th>\n",
       "      <th>Close</th>\n",
       "      <th>Volume</th>\n",
       "      <th>Adj Close</th>\n",
       "    </tr>\n",
       "  </thead>\n",
       "  <tbody>\n",
       "    <tr>\n",
       "      <th>4000</th>\n",
       "      <td>2018-04-13</td>\n",
       "      <td>317.489990</td>\n",
       "      <td>308.230011</td>\n",
       "      <td>317.290009</td>\n",
       "      <td>311.649994</td>\n",
       "      <td>12046600.0</td>\n",
       "      <td>311.649994</td>\n",
       "    </tr>\n",
       "    <tr>\n",
       "      <th>4001</th>\n",
       "      <td>2018-04-16</td>\n",
       "      <td>316.100006</td>\n",
       "      <td>304.000000</td>\n",
       "      <td>315.989990</td>\n",
       "      <td>307.779999</td>\n",
       "      <td>20307900.0</td>\n",
       "      <td>307.779999</td>\n",
       "    </tr>\n",
       "    <tr>\n",
       "      <th>4002</th>\n",
       "      <td>2018-04-17</td>\n",
       "      <td>338.619995</td>\n",
       "      <td>323.769989</td>\n",
       "      <td>329.660004</td>\n",
       "      <td>336.059998</td>\n",
       "      <td>33866500.0</td>\n",
       "      <td>336.059998</td>\n",
       "    </tr>\n",
       "    <tr>\n",
       "      <th>4003</th>\n",
       "      <td>2018-04-18</td>\n",
       "      <td>338.820007</td>\n",
       "      <td>331.100006</td>\n",
       "      <td>336.299988</td>\n",
       "      <td>334.519989</td>\n",
       "      <td>11221100.0</td>\n",
       "      <td>334.519989</td>\n",
       "    </tr>\n",
       "    <tr>\n",
       "      <th>4004</th>\n",
       "      <td>2018-04-19</td>\n",
       "      <td>335.309998</td>\n",
       "      <td>326.769989</td>\n",
       "      <td>332.880005</td>\n",
       "      <td>332.700012</td>\n",
       "      <td>8438800.0</td>\n",
       "      <td>332.700012</td>\n",
       "    </tr>\n",
       "    <tr>\n",
       "      <th>...</th>\n",
       "      <td>...</td>\n",
       "      <td>...</td>\n",
       "      <td>...</td>\n",
       "      <td>...</td>\n",
       "      <td>...</td>\n",
       "      <td>...</td>\n",
       "      <td>...</td>\n",
       "    </tr>\n",
       "    <tr>\n",
       "      <th>4876</th>\n",
       "      <td>2021-10-05</td>\n",
       "      <td>640.390015</td>\n",
       "      <td>606.890015</td>\n",
       "      <td>606.940002</td>\n",
       "      <td>634.809998</td>\n",
       "      <td>9534300.0</td>\n",
       "      <td>634.809998</td>\n",
       "    </tr>\n",
       "    <tr>\n",
       "      <th>4877</th>\n",
       "      <td>2021-10-06</td>\n",
       "      <td>639.869995</td>\n",
       "      <td>626.359985</td>\n",
       "      <td>628.179993</td>\n",
       "      <td>639.099976</td>\n",
       "      <td>4580400.0</td>\n",
       "      <td>639.099976</td>\n",
       "    </tr>\n",
       "    <tr>\n",
       "      <th>4878</th>\n",
       "      <td>2021-10-07</td>\n",
       "      <td>646.840027</td>\n",
       "      <td>630.450012</td>\n",
       "      <td>642.229980</td>\n",
       "      <td>631.849976</td>\n",
       "      <td>3556900.0</td>\n",
       "      <td>631.849976</td>\n",
       "    </tr>\n",
       "    <tr>\n",
       "      <th>4879</th>\n",
       "      <td>2021-10-08</td>\n",
       "      <td>643.799988</td>\n",
       "      <td>630.859985</td>\n",
       "      <td>634.169983</td>\n",
       "      <td>632.659973</td>\n",
       "      <td>3271100.0</td>\n",
       "      <td>632.659973</td>\n",
       "    </tr>\n",
       "    <tr>\n",
       "      <th>4880</th>\n",
       "      <td>2021-10-11</td>\n",
       "      <td>639.419983</td>\n",
       "      <td>626.780029</td>\n",
       "      <td>633.200012</td>\n",
       "      <td>627.039978</td>\n",
       "      <td>2861200.0</td>\n",
       "      <td>627.039978</td>\n",
       "    </tr>\n",
       "  </tbody>\n",
       "</table>\n",
       "<p>881 rows × 7 columns</p>\n",
       "</div>"
      ],
      "text/plain": [
       "           Date        High         Low        Open       Close      Volume  \\\n",
       "4000 2018-04-13  317.489990  308.230011  317.290009  311.649994  12046600.0   \n",
       "4001 2018-04-16  316.100006  304.000000  315.989990  307.779999  20307900.0   \n",
       "4002 2018-04-17  338.619995  323.769989  329.660004  336.059998  33866500.0   \n",
       "4003 2018-04-18  338.820007  331.100006  336.299988  334.519989  11221100.0   \n",
       "4004 2018-04-19  335.309998  326.769989  332.880005  332.700012   8438800.0   \n",
       "...         ...         ...         ...         ...         ...         ...   \n",
       "4876 2021-10-05  640.390015  606.890015  606.940002  634.809998   9534300.0   \n",
       "4877 2021-10-06  639.869995  626.359985  628.179993  639.099976   4580400.0   \n",
       "4878 2021-10-07  646.840027  630.450012  642.229980  631.849976   3556900.0   \n",
       "4879 2021-10-08  643.799988  630.859985  634.169983  632.659973   3271100.0   \n",
       "4880 2021-10-11  639.419983  626.780029  633.200012  627.039978   2861200.0   \n",
       "\n",
       "       Adj Close  \n",
       "4000  311.649994  \n",
       "4001  307.779999  \n",
       "4002  336.059998  \n",
       "4003  334.519989  \n",
       "4004  332.700012  \n",
       "...          ...  \n",
       "4876  634.809998  \n",
       "4877  639.099976  \n",
       "4878  631.849976  \n",
       "4879  632.659973  \n",
       "4880  627.039978  \n",
       "\n",
       "[881 rows x 7 columns]"
      ]
     },
     "execution_count": 22,
     "metadata": {},
     "output_type": "execute_result"
    }
   ],
   "source": [
    "df"
   ]
  },
  {
   "cell_type": "code",
   "execution_count": 23,
   "id": "6e3acbcb",
   "metadata": {},
   "outputs": [
    {
     "data": {
      "text/plain": [
       "881"
      ]
     },
     "execution_count": 23,
     "metadata": {},
     "output_type": "execute_result"
    }
   ],
   "source": [
    "len(df)"
   ]
  },
  {
   "cell_type": "markdown",
   "id": "2af00371",
   "metadata": {},
   "source": [
    "# Visualization"
   ]
  },
  {
   "cell_type": "code",
   "execution_count": 27,
   "id": "da9094e5",
   "metadata": {},
   "outputs": [
    {
     "data": {
      "image/png": "[encoded data removed]",
      "text/plain": [
       "<Figure size 1440x576 with 1 Axes>"
      ]
     },
     "metadata": {
      "needs_background": "light"
     },
     "output_type": "display_data"
    }
   ],
   "source": [
    "fig, ax = plt.subplots(figsize=(20, 8))\n",
    "plt.plot(df['Date'], df['Open'], color='r')\n",
    "\n",
    "ax.set_xlabel('Date', fontsize=11)\n",
    "ax.set_ylabel('Opening Price in USD', fontsize=11)\n",
    "plt.title('Netflix Stock Prices (April 13th 2018 ~)')\n",
    "plt.grid()\n",
    "plt.show()"
   ]
  },
  {
   "cell_type": "markdown",
   "id": "17e07d97",
   "metadata": {},
   "source": [
    "# Data Pre-processing"
   ]
  },
  {
   "cell_type": "code",
   "execution_count": 28,
   "id": "b73f77b5",
   "metadata": {},
   "outputs": [],
   "source": [
    "df = df.drop(columns=['High', 'Low', 'Close','Volume','Adj Close'])"
   ]
  },
  {
   "cell_type": "code",
   "execution_count": 29,
   "id": "2167559c",
   "metadata": {},
   "outputs": [
    {
     "data": {
      "text/html": [
       "<div>\n",
       "<style scoped>\n",
       "    .dataframe tbody tr th:only-of-type {\n",
       "        vertical-align: middle;\n",
       "    }\n",
       "\n",
       "    .dataframe tbody tr th {\n",
       "        vertical-align: top;\n",
       "    }\n",
       "\n",
       "    .dataframe thead th {\n",
       "        text-align: right;\n",
       "    }\n",
       "</style>\n",
       "<table border=\"1\" class=\"dataframe\">\n",
       "  <thead>\n",
       "    <tr style=\"text-align: right;\">\n",
       "      <th></th>\n",
       "      <th>Date</th>\n",
       "      <th>Open</th>\n",
       "    </tr>\n",
       "  </thead>\n",
       "  <tbody>\n",
       "    <tr>\n",
       "      <th>4000</th>\n",
       "      <td>2018-04-13</td>\n",
       "      <td>317.290009</td>\n",
       "    </tr>\n",
       "    <tr>\n",
       "      <th>4001</th>\n",
       "      <td>2018-04-16</td>\n",
       "      <td>315.989990</td>\n",
       "    </tr>\n",
       "    <tr>\n",
       "      <th>4002</th>\n",
       "      <td>2018-04-17</td>\n",
       "      <td>329.660004</td>\n",
       "    </tr>\n",
       "    <tr>\n",
       "      <th>4003</th>\n",
       "      <td>2018-04-18</td>\n",
       "      <td>336.299988</td>\n",
       "    </tr>\n",
       "    <tr>\n",
       "      <th>4004</th>\n",
       "      <td>2018-04-19</td>\n",
       "      <td>332.880005</td>\n",
       "    </tr>\n",
       "    <tr>\n",
       "      <th>...</th>\n",
       "      <td>...</td>\n",
       "      <td>...</td>\n",
       "    </tr>\n",
       "    <tr>\n",
       "      <th>4876</th>\n",
       "      <td>2021-10-05</td>\n",
       "      <td>606.940002</td>\n",
       "    </tr>\n",
       "    <tr>\n",
       "      <th>4877</th>\n",
       "      <td>2021-10-06</td>\n",
       "      <td>628.179993</td>\n",
       "    </tr>\n",
       "    <tr>\n",
       "      <th>4878</th>\n",
       "      <td>2021-10-07</td>\n",
       "      <td>642.229980</td>\n",
       "    </tr>\n",
       "    <tr>\n",
       "      <th>4879</th>\n",
       "      <td>2021-10-08</td>\n",
       "      <td>634.169983</td>\n",
       "    </tr>\n",
       "    <tr>\n",
       "      <th>4880</th>\n",
       "      <td>2021-10-11</td>\n",
       "      <td>633.200012</td>\n",
       "    </tr>\n",
       "  </tbody>\n",
       "</table>\n",
       "<p>881 rows × 2 columns</p>\n",
       "</div>"
      ],
      "text/plain": [
       "           Date        Open\n",
       "4000 2018-04-13  317.290009\n",
       "4001 2018-04-16  315.989990\n",
       "4002 2018-04-17  329.660004\n",
       "4003 2018-04-18  336.299988\n",
       "4004 2018-04-19  332.880005\n",
       "...         ...         ...\n",
       "4876 2021-10-05  606.940002\n",
       "4877 2021-10-06  628.179993\n",
       "4878 2021-10-07  642.229980\n",
       "4879 2021-10-08  634.169983\n",
       "4880 2021-10-11  633.200012\n",
       "\n",
       "[881 rows x 2 columns]"
      ]
     },
     "execution_count": 29,
     "metadata": {},
     "output_type": "execute_result"
    }
   ],
   "source": [
    "df"
   ]
  },
  {
   "cell_type": "code",
   "execution_count": 32,
   "id": "649c85d9",
   "metadata": {},
   "outputs": [
    {
     "data": {
      "text/html": [
       "<div>\n",
       "<style scoped>\n",
       "    .dataframe tbody tr th:only-of-type {\n",
       "        vertical-align: middle;\n",
       "    }\n",
       "\n",
       "    .dataframe tbody tr th {\n",
       "        vertical-align: top;\n",
       "    }\n",
       "\n",
       "    .dataframe thead th {\n",
       "        text-align: right;\n",
       "    }\n",
       "</style>\n",
       "<table border=\"1\" class=\"dataframe\">\n",
       "  <thead>\n",
       "    <tr style=\"text-align: right;\">\n",
       "      <th></th>\n",
       "      <th>Date</th>\n",
       "      <th>Open</th>\n",
       "    </tr>\n",
       "  </thead>\n",
       "  <tbody>\n",
       "    <tr>\n",
       "      <th>4000</th>\n",
       "      <td>0</td>\n",
       "      <td>317.290009</td>\n",
       "    </tr>\n",
       "    <tr>\n",
       "      <th>4001</th>\n",
       "      <td>1</td>\n",
       "      <td>315.989990</td>\n",
       "    </tr>\n",
       "    <tr>\n",
       "      <th>4002</th>\n",
       "      <td>2</td>\n",
       "      <td>329.660004</td>\n",
       "    </tr>\n",
       "    <tr>\n",
       "      <th>4003</th>\n",
       "      <td>3</td>\n",
       "      <td>336.299988</td>\n",
       "    </tr>\n",
       "    <tr>\n",
       "      <th>4004</th>\n",
       "      <td>4</td>\n",
       "      <td>332.880005</td>\n",
       "    </tr>\n",
       "    <tr>\n",
       "      <th>...</th>\n",
       "      <td>...</td>\n",
       "      <td>...</td>\n",
       "    </tr>\n",
       "    <tr>\n",
       "      <th>4876</th>\n",
       "      <td>876</td>\n",
       "      <td>606.940002</td>\n",
       "    </tr>\n",
       "    <tr>\n",
       "      <th>4877</th>\n",
       "      <td>877</td>\n",
       "      <td>628.179993</td>\n",
       "    </tr>\n",
       "    <tr>\n",
       "      <th>4878</th>\n",
       "      <td>878</td>\n",
       "      <td>642.229980</td>\n",
       "    </tr>\n",
       "    <tr>\n",
       "      <th>4879</th>\n",
       "      <td>879</td>\n",
       "      <td>634.169983</td>\n",
       "    </tr>\n",
       "    <tr>\n",
       "      <th>4880</th>\n",
       "      <td>880</td>\n",
       "      <td>633.200012</td>\n",
       "    </tr>\n",
       "  </tbody>\n",
       "</table>\n",
       "<p>881 rows × 2 columns</p>\n",
       "</div>"
      ],
      "text/plain": [
       "     Date        Open\n",
       "4000    0  317.290009\n",
       "4001    1  315.989990\n",
       "4002    2  329.660004\n",
       "4003    3  336.299988\n",
       "4004    4  332.880005\n",
       "...   ...         ...\n",
       "4876  876  606.940002\n",
       "4877  877  628.179993\n",
       "4878  878  642.229980\n",
       "4879  879  634.169983\n",
       "4880  880  633.200012\n",
       "\n",
       "[881 rows x 2 columns]"
      ]
     },
     "execution_count": 32,
     "metadata": {},
     "output_type": "execute_result"
    }
   ],
   "source": [
    "for i in range(len(df)):\n",
    "    \n",
    "    df['Date'][4000+i] = i\n",
    "    \n",
    "df"
   ]
  },
  {
   "cell_type": "markdown",
   "id": "50927472",
   "metadata": {},
   "source": [
    "# Unsupervised Learning : KNN"
   ]
  },
  {
   "cell_type": "code",
   "execution_count": 34,
   "id": "3cfabc6f",
   "metadata": {},
   "outputs": [
    {
     "data": {
      "text/plain": [
       "NearestNeighbors(n_neighbors=10)"
      ]
     },
     "execution_count": 34,
     "metadata": {},
     "output_type": "execute_result"
    }
   ],
   "source": [
    "# Create Model\n",
    "nbrs = NearestNeighbors(n_neighbors=10)\n",
    "\n",
    "# Fit Model\n",
    "nbrs.fit(df)"
   ]
  },
  {
   "cell_type": "code",
   "execution_count": 36,
   "id": "6106a302",
   "metadata": {},
   "outputs": [],
   "source": [
    "# dir(nbrs)"
   ]
  },
  {
   "cell_type": "code",
   "execution_count": 37,
   "id": "10ff0d92",
   "metadata": {},
   "outputs": [],
   "source": [
    "# distances and indexes of k-neaighbors from model outputs\n",
    "distance, index = nbrs.kneighbors(df)\n"
   ]
  },
  {
   "cell_type": "code",
   "execution_count": 56,
   "id": "7d858914",
   "metadata": {},
   "outputs": [
    {
     "data": {
      "text/plain": [
       "array([ 0.        ,  1.64013646,  7.26118942, 10.05393544, 11.58206478,\n",
       "       12.53063363, 12.63678817, 13.29132245, 13.53686423, 13.85731653])"
      ]
     },
     "execution_count": 56,
     "metadata": {},
     "output_type": "execute_result"
    }
   ],
   "source": [
    "distance[0]"
   ]
  },
  {
   "cell_type": "code",
   "execution_count": 57,
   "id": "c530b724",
   "metadata": {},
   "outputs": [
    {
     "data": {
      "text/plain": [
       "array([ 0.        ,  1.64013646,  6.81417427,  9.00375505,  9.99399735,\n",
       "       11.14478496, 11.89723943, 12.35706094, 12.76070406, 13.43726008])"
      ]
     },
     "execution_count": 57,
     "metadata": {},
     "output_type": "execute_result"
    }
   ],
   "source": [
    "distance[1]"
   ]
  },
  {
   "cell_type": "code",
   "execution_count": 55,
   "id": "7af9cfa0",
   "metadata": {},
   "outputs": [
    {
     "data": {
      "text/plain": [
       "9.639025110931318"
      ]
     },
     "execution_count": 55,
     "metadata": {},
     "output_type": "execute_result"
    }
   ],
   "source": [
    "# mean for 10 nearest neighbors\n",
    "distance[0].mean()"
   ]
  },
  {
   "cell_type": "code",
   "execution_count": 58,
   "id": "fddc4384",
   "metadata": {},
   "outputs": [
    {
     "data": {
      "text/plain": [
       "8.904911260567037"
      ]
     },
     "execution_count": 58,
     "metadata": {},
     "output_type": "execute_result"
    }
   ],
   "source": [
    "distance[1].mean()"
   ]
  },
  {
   "cell_type": "markdown",
   "id": "95f96337",
   "metadata": {},
   "source": [
    "# Visualize KNN"
   ]
  },
  {
   "cell_type": "code",
   "execution_count": 43,
   "id": "729f41d1",
   "metadata": {},
   "outputs": [
    {
     "data": {
      "text/plain": [
       "[<matplotlib.lines.Line2D at 0x7fb52f471430>]"
      ]
     },
     "execution_count": 43,
     "metadata": {},
     "output_type": "execute_result"
    },
    {
     "data": {
      "image/png": "[encoded data removed]",
      "text/plain": [
       "<Figure size 1080x504 with 1 Axes>"
      ]
     },
     "metadata": {
      "needs_background": "light"
     },
     "output_type": "display_data"
    }
   ],
   "source": [
    "plt.figure(figsize=(15, 7))\n",
    "plt.plot(distance.mean(axis=1))"
   ]
  },
  {
   "cell_type": "code",
   "execution_count": 60,
   "id": "6322937b",
   "metadata": {},
   "outputs": [],
   "source": [
    "distanse_df = pd.DataFrame(distance)"
   ]
  },
  {
   "cell_type": "code",
   "execution_count": 61,
   "id": "d4fa5da3",
   "metadata": {},
   "outputs": [
    {
     "data": {
      "text/html": [
       "<div>\n",
       "<style scoped>\n",
       "    .dataframe tbody tr th:only-of-type {\n",
       "        vertical-align: middle;\n",
       "    }\n",
       "\n",
       "    .dataframe tbody tr th {\n",
       "        vertical-align: top;\n",
       "    }\n",
       "\n",
       "    .dataframe thead th {\n",
       "        text-align: right;\n",
       "    }\n",
       "</style>\n",
       "<table border=\"1\" class=\"dataframe\">\n",
       "  <thead>\n",
       "    <tr style=\"text-align: right;\">\n",
       "      <th></th>\n",
       "      <th>0</th>\n",
       "      <th>1</th>\n",
       "      <th>2</th>\n",
       "      <th>3</th>\n",
       "      <th>4</th>\n",
       "      <th>5</th>\n",
       "      <th>6</th>\n",
       "      <th>7</th>\n",
       "      <th>8</th>\n",
       "      <th>9</th>\n",
       "    </tr>\n",
       "  </thead>\n",
       "  <tbody>\n",
       "    <tr>\n",
       "      <th>0</th>\n",
       "      <td>0.0</td>\n",
       "      <td>1.640136</td>\n",
       "      <td>7.261189</td>\n",
       "      <td>10.053935</td>\n",
       "      <td>11.582065</td>\n",
       "      <td>12.530634</td>\n",
       "      <td>12.636788</td>\n",
       "      <td>13.291322</td>\n",
       "      <td>13.536864</td>\n",
       "      <td>13.857317</td>\n",
       "    </tr>\n",
       "    <tr>\n",
       "      <th>1</th>\n",
       "      <td>0.0</td>\n",
       "      <td>1.640136</td>\n",
       "      <td>6.814174</td>\n",
       "      <td>9.003755</td>\n",
       "      <td>9.993997</td>\n",
       "      <td>11.144785</td>\n",
       "      <td>11.897239</td>\n",
       "      <td>12.357061</td>\n",
       "      <td>12.760704</td>\n",
       "      <td>13.437260</td>\n",
       "    </tr>\n",
       "    <tr>\n",
       "      <th>2</th>\n",
       "      <td>0.0</td>\n",
       "      <td>3.790568</td>\n",
       "      <td>3.943804</td>\n",
       "      <td>4.032383</td>\n",
       "      <td>6.714863</td>\n",
       "      <td>11.575563</td>\n",
       "      <td>12.530634</td>\n",
       "      <td>13.706541</td>\n",
       "      <td>15.464077</td>\n",
       "      <td>15.614999</td>\n",
       "    </tr>\n",
       "    <tr>\n",
       "      <th>3</th>\n",
       "      <td>0.0</td>\n",
       "      <td>3.563184</td>\n",
       "      <td>4.543819</td>\n",
       "      <td>6.714863</td>\n",
       "      <td>7.753864</td>\n",
       "      <td>16.704487</td>\n",
       "      <td>16.774975</td>\n",
       "      <td>17.440180</td>\n",
       "      <td>17.542119</td>\n",
       "      <td>18.254381</td>\n",
       "    </tr>\n",
       "    <tr>\n",
       "      <th>4</th>\n",
       "      <td>0.0</td>\n",
       "      <td>1.198167</td>\n",
       "      <td>3.563184</td>\n",
       "      <td>3.790568</td>\n",
       "      <td>4.232373</td>\n",
       "      <td>13.985553</td>\n",
       "      <td>14.585200</td>\n",
       "      <td>14.755357</td>\n",
       "      <td>15.063347</td>\n",
       "      <td>16.094968</td>\n",
       "    </tr>\n",
       "    <tr>\n",
       "      <th>...</th>\n",
       "      <td>...</td>\n",
       "      <td>...</td>\n",
       "      <td>...</td>\n",
       "      <td>...</td>\n",
       "      <td>...</td>\n",
       "      <td>...</td>\n",
       "      <td>...</td>\n",
       "      <td>...</td>\n",
       "      <td>...</td>\n",
       "      <td>...</td>\n",
       "    </tr>\n",
       "    <tr>\n",
       "      <th>876</th>\n",
       "      <td>0.0</td>\n",
       "      <td>3.198760</td>\n",
       "      <td>3.360069</td>\n",
       "      <td>6.527071</td>\n",
       "      <td>16.047232</td>\n",
       "      <td>18.006136</td>\n",
       "      <td>18.022855</td>\n",
       "      <td>18.057043</td>\n",
       "      <td>18.370755</td>\n",
       "      <td>18.623740</td>\n",
       "    </tr>\n",
       "    <tr>\n",
       "      <th>877</th>\n",
       "      <td>0.0</td>\n",
       "      <td>5.848128</td>\n",
       "      <td>6.315060</td>\n",
       "      <td>14.085530</td>\n",
       "      <td>14.924592</td>\n",
       "      <td>20.523574</td>\n",
       "      <td>21.263518</td>\n",
       "      <td>24.127240</td>\n",
       "      <td>28.850044</td>\n",
       "      <td>31.502919</td>\n",
       "    </tr>\n",
       "    <tr>\n",
       "      <th>878</th>\n",
       "      <td>0.0</td>\n",
       "      <td>8.121795</td>\n",
       "      <td>9.248801</td>\n",
       "      <td>14.085530</td>\n",
       "      <td>28.995579</td>\n",
       "      <td>34.543768</td>\n",
       "      <td>35.346606</td>\n",
       "      <td>38.199992</td>\n",
       "      <td>40.972897</td>\n",
       "      <td>43.758297</td>\n",
       "    </tr>\n",
       "    <tr>\n",
       "      <th>879</th>\n",
       "      <td>0.0</td>\n",
       "      <td>1.393141</td>\n",
       "      <td>6.315060</td>\n",
       "      <td>8.121795</td>\n",
       "      <td>21.161453</td>\n",
       "      <td>26.800264</td>\n",
       "      <td>27.394741</td>\n",
       "      <td>30.344760</td>\n",
       "      <td>34.760476</td>\n",
       "      <td>37.468737</td>\n",
       "    </tr>\n",
       "    <tr>\n",
       "      <th>880</th>\n",
       "      <td>0.0</td>\n",
       "      <td>1.393141</td>\n",
       "      <td>5.848128</td>\n",
       "      <td>9.248801</td>\n",
       "      <td>20.431251</td>\n",
       "      <td>26.106009</td>\n",
       "      <td>26.562909</td>\n",
       "      <td>29.575038</td>\n",
       "      <td>34.619288</td>\n",
       "      <td>37.296230</td>\n",
       "    </tr>\n",
       "  </tbody>\n",
       "</table>\n",
       "<p>881 rows × 10 columns</p>\n",
       "</div>"
      ],
      "text/plain": [
       "       0         1         2          3          4          5          6  \\\n",
       "0    0.0  1.640136  7.261189  10.053935  11.582065  12.530634  12.636788   \n",
       "1    0.0  1.640136  6.814174   9.003755   9.993997  11.144785  11.897239   \n",
       "2    0.0  3.790568  3.943804   4.032383   6.714863  11.575563  12.530634   \n",
       "3    0.0  3.563184  4.543819   6.714863   7.753864  16.704487  16.774975   \n",
       "4    0.0  1.198167  3.563184   3.790568   4.232373  13.985553  14.585200   \n",
       "..   ...       ...       ...        ...        ...        ...        ...   \n",
       "876  0.0  3.198760  3.360069   6.527071  16.047232  18.006136  18.022855   \n",
       "877  0.0  5.848128  6.315060  14.085530  14.924592  20.523574  21.263518   \n",
       "878  0.0  8.121795  9.248801  14.085530  28.995579  34.543768  35.346606   \n",
       "879  0.0  1.393141  6.315060   8.121795  21.161453  26.800264  27.394741   \n",
       "880  0.0  1.393141  5.848128   9.248801  20.431251  26.106009  26.562909   \n",
       "\n",
       "             7          8          9  \n",
       "0    13.291322  13.536864  13.857317  \n",
       "1    12.357061  12.760704  13.437260  \n",
       "2    13.706541  15.464077  15.614999  \n",
       "3    17.440180  17.542119  18.254381  \n",
       "4    14.755357  15.063347  16.094968  \n",
       "..         ...        ...        ...  \n",
       "876  18.057043  18.370755  18.623740  \n",
       "877  24.127240  28.850044  31.502919  \n",
       "878  38.199992  40.972897  43.758297  \n",
       "879  30.344760  34.760476  37.468737  \n",
       "880  29.575038  34.619288  37.296230  \n",
       "\n",
       "[881 rows x 10 columns]"
      ]
     },
     "execution_count": 61,
     "metadata": {},
     "output_type": "execute_result"
    }
   ],
   "source": [
    "distanse_df"
   ]
  },
  {
   "cell_type": "code",
   "execution_count": 76,
   "id": "47af57f4",
   "metadata": {},
   "outputs": [],
   "source": [
    "distance_mean = distanse_df.mean(axis=1)"
   ]
  },
  {
   "cell_type": "code",
   "execution_count": 84,
   "id": "3e9a918f",
   "metadata": {},
   "outputs": [
    {
     "data": {
      "text/plain": [
       "0       9.639025\n",
       "1       8.904911\n",
       "2       8.737343\n",
       "3      10.929187\n",
       "4       8.726872\n",
       "         ...    \n",
       "876    12.021366\n",
       "877    16.744061\n",
       "878    25.327327\n",
       "879    19.376043\n",
       "880    19.108079\n",
       "Length: 881, dtype: float64"
      ]
     },
     "execution_count": 84,
     "metadata": {},
     "output_type": "execute_result"
    }
   ],
   "source": [
    "distance_mean"
   ]
  },
  {
   "cell_type": "code",
   "execution_count": 77,
   "id": "3035a8f2",
   "metadata": {},
   "outputs": [
    {
     "data": {
      "text/plain": [
       "pandas.core.series.Series"
      ]
     },
     "execution_count": 77,
     "metadata": {},
     "output_type": "execute_result"
    }
   ],
   "source": [
    "type(distance_mean)"
   ]
  },
  {
   "cell_type": "code",
   "execution_count": 63,
   "id": "f9b7fd58",
   "metadata": {},
   "outputs": [
    {
     "data": {
      "text/plain": [
       "9.639025110931314"
      ]
     },
     "execution_count": 63,
     "metadata": {},
     "output_type": "execute_result"
    }
   ],
   "source": [
    "distanse_df.loc[0,].mean()"
   ]
  },
  {
   "cell_type": "markdown",
   "id": "ebdb467e",
   "metadata": {},
   "source": [
    "# Get Anomaly Points\n",
    "### Set thresholds with reference to statistics."
   ]
  },
  {
   "cell_type": "code",
   "execution_count": 78,
   "id": "7ab82a95",
   "metadata": {},
   "outputs": [
    {
     "data": {
      "text/plain": [
       "count    881.000000\n",
       "mean       7.380966\n",
       "std        3.273057\n",
       "min        3.141603\n",
       "25%        5.352988\n",
       "50%        6.589125\n",
       "75%        8.408707\n",
       "max       42.124777\n",
       "dtype: float64"
      ]
     },
     "execution_count": 78,
     "metadata": {},
     "output_type": "execute_result"
    }
   ],
   "source": [
    "distance_mean.describe()"
   ]
  },
  {
   "cell_type": "markdown",
   "id": "0daf7524",
   "metadata": {},
   "source": [
    "### Since 75th percentile is 8.35, we will set threshold into 9.0"
   ]
  },
  {
   "cell_type": "code",
   "execution_count": 79,
   "id": "2a340495",
   "metadata": {},
   "outputs": [],
   "source": [
    "th = 9\n",
    "outlier_index = np.where(distance_mean > th)"
   ]
  },
  {
   "cell_type": "code",
   "execution_count": 81,
   "id": "ef610077",
   "metadata": {},
   "outputs": [
    {
     "data": {
      "text/plain": [
       "tuple"
      ]
     },
     "execution_count": 81,
     "metadata": {},
     "output_type": "execute_result"
    }
   ],
   "source": [
    "type(outlier_index)"
   ]
  },
  {
   "cell_type": "code",
   "execution_count": 82,
   "id": "aca84fc5",
   "metadata": {},
   "outputs": [
    {
     "data": {
      "text/plain": [
       "(array([  0,   3,  29,  43,  47,  48,  49,  55,  64,  65,  66,  67,  75,\n",
       "         88,  89,  90, 102, 104, 122, 123, 124, 125, 126, 130, 131, 132,\n",
       "        133, 134, 135, 139, 146, 150, 154, 155, 162, 176, 177, 178, 182,\n",
       "        183, 184, 185, 186, 187, 190, 191, 192, 193, 196, 226, 236, 252,\n",
       "        273, 316, 324, 362, 365, 381, 424, 447, 455, 478, 479, 480, 481,\n",
       "        482, 483, 484, 485, 486, 487, 488, 491, 499, 503, 504, 505, 508,\n",
       "        514, 515, 528, 529, 533, 540, 543, 548, 552, 553, 555, 556, 559,\n",
       "        560, 561, 562, 563, 564, 565, 566, 567, 568, 571, 574, 582, 584,\n",
       "        587, 598, 599, 600, 601, 602, 603, 604, 605, 606, 607, 611, 614,\n",
       "        617, 618, 622, 623, 624, 625, 626, 627, 628, 629, 630, 631, 632,\n",
       "        633, 634, 635, 636, 643, 647, 648, 650, 669, 686, 693, 697, 698,\n",
       "        699, 700, 701, 703, 713, 719, 720, 740, 741, 743, 747, 774, 804,\n",
       "        805, 819, 845, 846, 847, 848, 849, 850, 851, 852, 853, 857, 858,\n",
       "        873, 874, 875, 876, 877, 878, 879, 880]),)"
      ]
     },
     "execution_count": 82,
     "metadata": {},
     "output_type": "execute_result"
    }
   ],
   "source": [
    "outlier_index"
   ]
  },
  {
   "cell_type": "code",
   "execution_count": 83,
   "id": "ff95943a",
   "metadata": {},
   "outputs": [
    {
     "data": {
      "text/plain": [
       "1"
      ]
     },
     "execution_count": 83,
     "metadata": {},
     "output_type": "execute_result"
    }
   ],
   "source": [
    "len(outlier_index)"
   ]
  },
  {
   "cell_type": "code",
   "execution_count": 85,
   "id": "f8999ca8",
   "metadata": {},
   "outputs": [],
   "source": [
    "outlier_value = df.iloc[outlier_index]"
   ]
  },
  {
   "cell_type": "code",
   "execution_count": 86,
   "id": "2cad794c",
   "metadata": {},
   "outputs": [
    {
     "data": {
      "text/html": [
       "<div>\n",
       "<style scoped>\n",
       "    .dataframe tbody tr th:only-of-type {\n",
       "        vertical-align: middle;\n",
       "    }\n",
       "\n",
       "    .dataframe tbody tr th {\n",
       "        vertical-align: top;\n",
       "    }\n",
       "\n",
       "    .dataframe thead th {\n",
       "        text-align: right;\n",
       "    }\n",
       "</style>\n",
       "<table border=\"1\" class=\"dataframe\">\n",
       "  <thead>\n",
       "    <tr style=\"text-align: right;\">\n",
       "      <th></th>\n",
       "      <th>Date</th>\n",
       "      <th>Open</th>\n",
       "    </tr>\n",
       "  </thead>\n",
       "  <tbody>\n",
       "    <tr>\n",
       "      <th>4000</th>\n",
       "      <td>0</td>\n",
       "      <td>317.290009</td>\n",
       "    </tr>\n",
       "    <tr>\n",
       "      <th>4003</th>\n",
       "      <td>3</td>\n",
       "      <td>336.299988</td>\n",
       "    </tr>\n",
       "    <tr>\n",
       "      <th>4029</th>\n",
       "      <td>29</td>\n",
       "      <td>344.339996</td>\n",
       "    </tr>\n",
       "    <tr>\n",
       "      <th>4043</th>\n",
       "      <td>43</td>\n",
       "      <td>384.269989</td>\n",
       "    </tr>\n",
       "    <tr>\n",
       "      <th>4047</th>\n",
       "      <td>47</td>\n",
       "      <td>415.149994</td>\n",
       "    </tr>\n",
       "    <tr>\n",
       "      <th>...</th>\n",
       "      <td>...</td>\n",
       "      <td>...</td>\n",
       "    </tr>\n",
       "    <tr>\n",
       "      <th>4876</th>\n",
       "      <td>876</td>\n",
       "      <td>606.940002</td>\n",
       "    </tr>\n",
       "    <tr>\n",
       "      <th>4877</th>\n",
       "      <td>877</td>\n",
       "      <td>628.179993</td>\n",
       "    </tr>\n",
       "    <tr>\n",
       "      <th>4878</th>\n",
       "      <td>878</td>\n",
       "      <td>642.229980</td>\n",
       "    </tr>\n",
       "    <tr>\n",
       "      <th>4879</th>\n",
       "      <td>879</td>\n",
       "      <td>634.169983</td>\n",
       "    </tr>\n",
       "    <tr>\n",
       "      <th>4880</th>\n",
       "      <td>880</td>\n",
       "      <td>633.200012</td>\n",
       "    </tr>\n",
       "  </tbody>\n",
       "</table>\n",
       "<p>177 rows × 2 columns</p>\n",
       "</div>"
      ],
      "text/plain": [
       "     Date        Open\n",
       "4000    0  317.290009\n",
       "4003    3  336.299988\n",
       "4029   29  344.339996\n",
       "4043   43  384.269989\n",
       "4047   47  415.149994\n",
       "...   ...         ...\n",
       "4876  876  606.940002\n",
       "4877  877  628.179993\n",
       "4878  878  642.229980\n",
       "4879  879  634.169983\n",
       "4880  880  633.200012\n",
       "\n",
       "[177 rows x 2 columns]"
      ]
     },
     "execution_count": 86,
     "metadata": {},
     "output_type": "execute_result"
    }
   ],
   "source": [
    "outlier_value"
   ]
  },
  {
   "cell_type": "markdown",
   "id": "6e3c3409",
   "metadata": {},
   "source": [
    "# Visualize Abnormal Points"
   ]
  },
  {
   "cell_type": "code",
   "execution_count": 87,
   "id": "a1846bad",
   "metadata": {},
   "outputs": [
    {
     "data": {
      "text/plain": [
       "<matplotlib.collections.PathCollection at 0x7fb515711160>"
      ]
     },
     "execution_count": 87,
     "metadata": {},
     "output_type": "execute_result"
    },
    {
     "data": {
      "image/png": "[encoded data removed]",
      "text/plain": [
       "<Figure size 1440x504 with 1 Axes>"
      ]
     },
     "metadata": {
      "needs_background": "light"
     },
     "output_type": "display_data"
    }
   ],
   "source": [
    "plt.figure(figsize=(20, 7))\n",
    "plt.plot(df['Date'], df['Open'], color='b')\n",
    "plt.scatter(outlier_value['Date'], outlier_value['Open'], color='r')"
   ]
  },
  {
   "cell_type": "code",
   "execution_count": null,
   "id": "96e98c1f",
   "metadata": {},
   "outputs": [],
   "source": []
  }
 ],
 "metadata": {
  "kernelspec": {
   "display_name": "Python 3 (ipykernel)",
   "language": "python",
   "name": "python3"
  },
  "language_info": {
   "codemirror_mode": {
    "name": "ipython",
    "version": 3
   },
   "file_extension": ".py",
   "mimetype": "text/x-python",
   "name": "python",
   "nbconvert_exporter": "python",
   "pygments_lexer": "ipython3",
   "version": "3.9.7"
  }
 },
 "nbformat": 4,
 "nbformat_minor": 5
}
