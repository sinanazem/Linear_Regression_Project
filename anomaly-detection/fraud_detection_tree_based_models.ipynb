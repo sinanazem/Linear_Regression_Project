{
 "cells": [
  {
   "cell_type": "markdown",
   "id": "fd47cad3",
   "metadata": {},
   "source": [
    "# Advanced Pipelines with scikit-learn\n",
    "https://towardsdatascience.com/advanced-pipelines-with-scikit-learn-4204bb71019b"
   ]
  },
  {
   "cell_type": "code",
   "execution_count": 122,
   "id": "ea1429dc",
   "metadata": {},
   "outputs": [],
   "source": [
    "import numpy as np\n",
    "import pandas as pd\n",
    "import matplotlib.pyplot as plt\n",
    "from sklearn.model_selection import (train_test_split, \n",
    "                                     RepeatedStratifiedKFold, RandomizedSearchCV, cross_val_score)\n",
    "from imblearn.over_sampling import SMOTE, RandomOverSampler\n",
    "from imblearn.under_sampling import RandomUnderSampler\n",
    "from sklearn.pipeline import make_pipeline, Pipeline\n",
    "from imblearn.pipeline import Pipeline as imbPipeline\n",
    "from sklearn.compose import ColumnTransformer, make_column_selector\n",
    "from sklearn.linear_model import LogisticRegression\n",
    "from sklearn.metrics import confusion_matrix, classification_report, roc_auc_score, f1_score, accuracy_score\n",
    "from sklearn.neighbors import KNeighborsClassifier\n",
    "from sklearn.preprocessing import OneHotEncoder, MinMaxScaler, QuantileTransformer\n",
    "from sklearn.impute import SimpleImputer\n",
    "from sklearn.tree import DecisionTreeClassifier\n",
    "\n",
    "# Handle constant/duplicates and missing features/columns\n",
    "from feature_engine.selection import (DropFeatures, DropConstantFeatures, \n",
    "                                      DropDuplicateFeatures)\n",
    "# Sampling\n",
    "from scipy.stats import loguniform\n",
    "from sklearn.ensemble import RandomForestClassifier, VotingClassifier, BaggingClassifier\n",
    "from xgboost import XGBClassifier\n",
    "from sklearn.inspection import permutation_importance\n",
    "\n",
    "from tqdm import tqdm\n",
    "from sklearn import set_config\n",
    "set_config(display=\"diagram\") # make pipeline visible\n",
    "\n",
    "import warnings\n",
    "warnings.filterwarnings('ignore')"
   ]
  },
  {
   "cell_type": "code",
   "execution_count": 12,
   "id": "6da23725",
   "metadata": {},
   "outputs": [],
   "source": [
    "DATA_DIR = '/Users/andishetavakkoli/Documents/notebook/github_project/machine-learning-projects-data/anomaly_detection'"
   ]
  },
  {
   "cell_type": "code",
   "execution_count": 13,
   "id": "262d9708",
   "metadata": {},
   "outputs": [],
   "source": [
    "df = pd.read_csv(DATA_DIR + '/creditcard.csv')"
   ]
  },
  {
   "cell_type": "code",
   "execution_count": 14,
   "id": "a943d30a",
   "metadata": {},
   "outputs": [
    {
     "data": {
      "text/html": [
       "<div>\n",
       "<style scoped>\n",
       "    .dataframe tbody tr th:only-of-type {\n",
       "        vertical-align: middle;\n",
       "    }\n",
       "\n",
       "    .dataframe tbody tr th {\n",
       "        vertical-align: top;\n",
       "    }\n",
       "\n",
       "    .dataframe thead th {\n",
       "        text-align: right;\n",
       "    }\n",
       "</style>\n",
       "<table border=\"1\" class=\"dataframe\">\n",
       "  <thead>\n",
       "    <tr style=\"text-align: right;\">\n",
       "      <th></th>\n",
       "      <th>Time</th>\n",
       "      <th>V1</th>\n",
       "      <th>V2</th>\n",
       "      <th>V3</th>\n",
       "      <th>V4</th>\n",
       "      <th>V5</th>\n",
       "      <th>V6</th>\n",
       "      <th>V7</th>\n",
       "      <th>V8</th>\n",
       "      <th>V9</th>\n",
       "      <th>...</th>\n",
       "      <th>V21</th>\n",
       "      <th>V22</th>\n",
       "      <th>V23</th>\n",
       "      <th>V24</th>\n",
       "      <th>V25</th>\n",
       "      <th>V26</th>\n",
       "      <th>V27</th>\n",
       "      <th>V28</th>\n",
       "      <th>Amount</th>\n",
       "      <th>Class</th>\n",
       "    </tr>\n",
       "  </thead>\n",
       "  <tbody>\n",
       "    <tr>\n",
       "      <th>0</th>\n",
       "      <td>0.0</td>\n",
       "      <td>-1.359807</td>\n",
       "      <td>-0.072781</td>\n",
       "      <td>2.536347</td>\n",
       "      <td>1.378155</td>\n",
       "      <td>-0.338321</td>\n",
       "      <td>0.462388</td>\n",
       "      <td>0.239599</td>\n",
       "      <td>0.098698</td>\n",
       "      <td>0.363787</td>\n",
       "      <td>...</td>\n",
       "      <td>-0.018307</td>\n",
       "      <td>0.277838</td>\n",
       "      <td>-0.110474</td>\n",
       "      <td>0.066928</td>\n",
       "      <td>0.128539</td>\n",
       "      <td>-0.189115</td>\n",
       "      <td>0.133558</td>\n",
       "      <td>-0.021053</td>\n",
       "      <td>149.62</td>\n",
       "      <td>0</td>\n",
       "    </tr>\n",
       "    <tr>\n",
       "      <th>1</th>\n",
       "      <td>0.0</td>\n",
       "      <td>1.191857</td>\n",
       "      <td>0.266151</td>\n",
       "      <td>0.166480</td>\n",
       "      <td>0.448154</td>\n",
       "      <td>0.060018</td>\n",
       "      <td>-0.082361</td>\n",
       "      <td>-0.078803</td>\n",
       "      <td>0.085102</td>\n",
       "      <td>-0.255425</td>\n",
       "      <td>...</td>\n",
       "      <td>-0.225775</td>\n",
       "      <td>-0.638672</td>\n",
       "      <td>0.101288</td>\n",
       "      <td>-0.339846</td>\n",
       "      <td>0.167170</td>\n",
       "      <td>0.125895</td>\n",
       "      <td>-0.008983</td>\n",
       "      <td>0.014724</td>\n",
       "      <td>2.69</td>\n",
       "      <td>0</td>\n",
       "    </tr>\n",
       "    <tr>\n",
       "      <th>2</th>\n",
       "      <td>1.0</td>\n",
       "      <td>-1.358354</td>\n",
       "      <td>-1.340163</td>\n",
       "      <td>1.773209</td>\n",
       "      <td>0.379780</td>\n",
       "      <td>-0.503198</td>\n",
       "      <td>1.800499</td>\n",
       "      <td>0.791461</td>\n",
       "      <td>0.247676</td>\n",
       "      <td>-1.514654</td>\n",
       "      <td>...</td>\n",
       "      <td>0.247998</td>\n",
       "      <td>0.771679</td>\n",
       "      <td>0.909412</td>\n",
       "      <td>-0.689281</td>\n",
       "      <td>-0.327642</td>\n",
       "      <td>-0.139097</td>\n",
       "      <td>-0.055353</td>\n",
       "      <td>-0.059752</td>\n",
       "      <td>378.66</td>\n",
       "      <td>0</td>\n",
       "    </tr>\n",
       "    <tr>\n",
       "      <th>3</th>\n",
       "      <td>1.0</td>\n",
       "      <td>-0.966272</td>\n",
       "      <td>-0.185226</td>\n",
       "      <td>1.792993</td>\n",
       "      <td>-0.863291</td>\n",
       "      <td>-0.010309</td>\n",
       "      <td>1.247203</td>\n",
       "      <td>0.237609</td>\n",
       "      <td>0.377436</td>\n",
       "      <td>-1.387024</td>\n",
       "      <td>...</td>\n",
       "      <td>-0.108300</td>\n",
       "      <td>0.005274</td>\n",
       "      <td>-0.190321</td>\n",
       "      <td>-1.175575</td>\n",
       "      <td>0.647376</td>\n",
       "      <td>-0.221929</td>\n",
       "      <td>0.062723</td>\n",
       "      <td>0.061458</td>\n",
       "      <td>123.50</td>\n",
       "      <td>0</td>\n",
       "    </tr>\n",
       "    <tr>\n",
       "      <th>4</th>\n",
       "      <td>2.0</td>\n",
       "      <td>-1.158233</td>\n",
       "      <td>0.877737</td>\n",
       "      <td>1.548718</td>\n",
       "      <td>0.403034</td>\n",
       "      <td>-0.407193</td>\n",
       "      <td>0.095921</td>\n",
       "      <td>0.592941</td>\n",
       "      <td>-0.270533</td>\n",
       "      <td>0.817739</td>\n",
       "      <td>...</td>\n",
       "      <td>-0.009431</td>\n",
       "      <td>0.798278</td>\n",
       "      <td>-0.137458</td>\n",
       "      <td>0.141267</td>\n",
       "      <td>-0.206010</td>\n",
       "      <td>0.502292</td>\n",
       "      <td>0.219422</td>\n",
       "      <td>0.215153</td>\n",
       "      <td>69.99</td>\n",
       "      <td>0</td>\n",
       "    </tr>\n",
       "  </tbody>\n",
       "</table>\n",
       "<p>5 rows × 31 columns</p>\n",
       "</div>"
      ],
      "text/plain": [
       "   Time        V1        V2        V3        V4        V5        V6        V7  \\\n",
       "0   0.0 -1.359807 -0.072781  2.536347  1.378155 -0.338321  0.462388  0.239599   \n",
       "1   0.0  1.191857  0.266151  0.166480  0.448154  0.060018 -0.082361 -0.078803   \n",
       "2   1.0 -1.358354 -1.340163  1.773209  0.379780 -0.503198  1.800499  0.791461   \n",
       "3   1.0 -0.966272 -0.185226  1.792993 -0.863291 -0.010309  1.247203  0.237609   \n",
       "4   2.0 -1.158233  0.877737  1.548718  0.403034 -0.407193  0.095921  0.592941   \n",
       "\n",
       "         V8        V9  ...       V21       V22       V23       V24       V25  \\\n",
       "0  0.098698  0.363787  ... -0.018307  0.277838 -0.110474  0.066928  0.128539   \n",
       "1  0.085102 -0.255425  ... -0.225775 -0.638672  0.101288 -0.339846  0.167170   \n",
       "2  0.247676 -1.514654  ...  0.247998  0.771679  0.909412 -0.689281 -0.327642   \n",
       "3  0.377436 -1.387024  ... -0.108300  0.005274 -0.190321 -1.175575  0.647376   \n",
       "4 -0.270533  0.817739  ... -0.009431  0.798278 -0.137458  0.141267 -0.206010   \n",
       "\n",
       "        V26       V27       V28  Amount  Class  \n",
       "0 -0.189115  0.133558 -0.021053  149.62      0  \n",
       "1  0.125895 -0.008983  0.014724    2.69      0  \n",
       "2 -0.139097 -0.055353 -0.059752  378.66      0  \n",
       "3 -0.221929  0.062723  0.061458  123.50      0  \n",
       "4  0.502292  0.219422  0.215153   69.99      0  \n",
       "\n",
       "[5 rows x 31 columns]"
      ]
     },
     "execution_count": 14,
     "metadata": {},
     "output_type": "execute_result"
    }
   ],
   "source": [
    "df.head()"
   ]
  },
  {
   "cell_type": "code",
   "execution_count": 15,
   "id": "2a8858ce",
   "metadata": {},
   "outputs": [],
   "source": [
    "df.columns = [k.lower().replace(\" \", \"_\") for k in df.columns]"
   ]
  },
  {
   "cell_type": "markdown",
   "id": "cb341a62",
   "metadata": {},
   "source": [
    "# Step 1: cleaning data"
   ]
  },
  {
   "cell_type": "code",
   "execution_count": 16,
   "id": "cc76671c",
   "metadata": {},
   "outputs": [
    {
     "data": {
      "text/html": [
       "<div>\n",
       "<style scoped>\n",
       "    .dataframe tbody tr th:only-of-type {\n",
       "        vertical-align: middle;\n",
       "    }\n",
       "\n",
       "    .dataframe tbody tr th {\n",
       "        vertical-align: top;\n",
       "    }\n",
       "\n",
       "    .dataframe thead th {\n",
       "        text-align: right;\n",
       "    }\n",
       "</style>\n",
       "<table border=\"1\" class=\"dataframe\">\n",
       "  <thead>\n",
       "    <tr style=\"text-align: right;\">\n",
       "      <th></th>\n",
       "      <th>time</th>\n",
       "      <th>v1</th>\n",
       "      <th>v2</th>\n",
       "      <th>v3</th>\n",
       "      <th>v4</th>\n",
       "      <th>v5</th>\n",
       "      <th>v6</th>\n",
       "      <th>v7</th>\n",
       "      <th>v8</th>\n",
       "      <th>v9</th>\n",
       "      <th>...</th>\n",
       "      <th>v21</th>\n",
       "      <th>v22</th>\n",
       "      <th>v23</th>\n",
       "      <th>v24</th>\n",
       "      <th>v25</th>\n",
       "      <th>v26</th>\n",
       "      <th>v27</th>\n",
       "      <th>v28</th>\n",
       "      <th>amount</th>\n",
       "      <th>class</th>\n",
       "    </tr>\n",
       "  </thead>\n",
       "  <tbody>\n",
       "    <tr>\n",
       "      <th>32</th>\n",
       "      <td>26.0</td>\n",
       "      <td>-0.529912</td>\n",
       "      <td>0.873892</td>\n",
       "      <td>1.347247</td>\n",
       "      <td>0.145457</td>\n",
       "      <td>0.414209</td>\n",
       "      <td>0.100223</td>\n",
       "      <td>0.711206</td>\n",
       "      <td>0.176066</td>\n",
       "      <td>-0.286717</td>\n",
       "      <td>...</td>\n",
       "      <td>0.046949</td>\n",
       "      <td>0.208105</td>\n",
       "      <td>-0.185548</td>\n",
       "      <td>0.001031</td>\n",
       "      <td>0.098816</td>\n",
       "      <td>-0.552904</td>\n",
       "      <td>-0.073288</td>\n",
       "      <td>0.023307</td>\n",
       "      <td>6.14</td>\n",
       "      <td>0</td>\n",
       "    </tr>\n",
       "    <tr>\n",
       "      <th>33</th>\n",
       "      <td>26.0</td>\n",
       "      <td>-0.529912</td>\n",
       "      <td>0.873892</td>\n",
       "      <td>1.347247</td>\n",
       "      <td>0.145457</td>\n",
       "      <td>0.414209</td>\n",
       "      <td>0.100223</td>\n",
       "      <td>0.711206</td>\n",
       "      <td>0.176066</td>\n",
       "      <td>-0.286717</td>\n",
       "      <td>...</td>\n",
       "      <td>0.046949</td>\n",
       "      <td>0.208105</td>\n",
       "      <td>-0.185548</td>\n",
       "      <td>0.001031</td>\n",
       "      <td>0.098816</td>\n",
       "      <td>-0.552904</td>\n",
       "      <td>-0.073288</td>\n",
       "      <td>0.023307</td>\n",
       "      <td>6.14</td>\n",
       "      <td>0</td>\n",
       "    </tr>\n",
       "    <tr>\n",
       "      <th>34</th>\n",
       "      <td>26.0</td>\n",
       "      <td>-0.535388</td>\n",
       "      <td>0.865268</td>\n",
       "      <td>1.351076</td>\n",
       "      <td>0.147575</td>\n",
       "      <td>0.433680</td>\n",
       "      <td>0.086983</td>\n",
       "      <td>0.693039</td>\n",
       "      <td>0.179742</td>\n",
       "      <td>-0.285642</td>\n",
       "      <td>...</td>\n",
       "      <td>0.049526</td>\n",
       "      <td>0.206537</td>\n",
       "      <td>-0.187108</td>\n",
       "      <td>0.000753</td>\n",
       "      <td>0.098117</td>\n",
       "      <td>-0.553471</td>\n",
       "      <td>-0.078306</td>\n",
       "      <td>0.025427</td>\n",
       "      <td>1.77</td>\n",
       "      <td>0</td>\n",
       "    </tr>\n",
       "    <tr>\n",
       "      <th>35</th>\n",
       "      <td>26.0</td>\n",
       "      <td>-0.535388</td>\n",
       "      <td>0.865268</td>\n",
       "      <td>1.351076</td>\n",
       "      <td>0.147575</td>\n",
       "      <td>0.433680</td>\n",
       "      <td>0.086983</td>\n",
       "      <td>0.693039</td>\n",
       "      <td>0.179742</td>\n",
       "      <td>-0.285642</td>\n",
       "      <td>...</td>\n",
       "      <td>0.049526</td>\n",
       "      <td>0.206537</td>\n",
       "      <td>-0.187108</td>\n",
       "      <td>0.000753</td>\n",
       "      <td>0.098117</td>\n",
       "      <td>-0.553471</td>\n",
       "      <td>-0.078306</td>\n",
       "      <td>0.025427</td>\n",
       "      <td>1.77</td>\n",
       "      <td>0</td>\n",
       "    </tr>\n",
       "    <tr>\n",
       "      <th>112</th>\n",
       "      <td>74.0</td>\n",
       "      <td>1.038370</td>\n",
       "      <td>0.127486</td>\n",
       "      <td>0.184456</td>\n",
       "      <td>1.109950</td>\n",
       "      <td>0.441699</td>\n",
       "      <td>0.945283</td>\n",
       "      <td>-0.036715</td>\n",
       "      <td>0.350995</td>\n",
       "      <td>0.118950</td>\n",
       "      <td>...</td>\n",
       "      <td>0.102520</td>\n",
       "      <td>0.605089</td>\n",
       "      <td>0.023092</td>\n",
       "      <td>-0.626463</td>\n",
       "      <td>0.479120</td>\n",
       "      <td>-0.166937</td>\n",
       "      <td>0.081247</td>\n",
       "      <td>0.001192</td>\n",
       "      <td>1.18</td>\n",
       "      <td>0</td>\n",
       "    </tr>\n",
       "    <tr>\n",
       "      <th>...</th>\n",
       "      <td>...</td>\n",
       "      <td>...</td>\n",
       "      <td>...</td>\n",
       "      <td>...</td>\n",
       "      <td>...</td>\n",
       "      <td>...</td>\n",
       "      <td>...</td>\n",
       "      <td>...</td>\n",
       "      <td>...</td>\n",
       "      <td>...</td>\n",
       "      <td>...</td>\n",
       "      <td>...</td>\n",
       "      <td>...</td>\n",
       "      <td>...</td>\n",
       "      <td>...</td>\n",
       "      <td>...</td>\n",
       "      <td>...</td>\n",
       "      <td>...</td>\n",
       "      <td>...</td>\n",
       "      <td>...</td>\n",
       "      <td>...</td>\n",
       "    </tr>\n",
       "    <tr>\n",
       "      <th>283485</th>\n",
       "      <td>171627.0</td>\n",
       "      <td>-1.457978</td>\n",
       "      <td>1.378203</td>\n",
       "      <td>0.811515</td>\n",
       "      <td>-0.603760</td>\n",
       "      <td>-0.711883</td>\n",
       "      <td>-0.471672</td>\n",
       "      <td>-0.282535</td>\n",
       "      <td>0.880654</td>\n",
       "      <td>0.052808</td>\n",
       "      <td>...</td>\n",
       "      <td>0.284205</td>\n",
       "      <td>0.949659</td>\n",
       "      <td>-0.216949</td>\n",
       "      <td>0.083250</td>\n",
       "      <td>0.044944</td>\n",
       "      <td>0.639933</td>\n",
       "      <td>0.219432</td>\n",
       "      <td>0.116772</td>\n",
       "      <td>11.93</td>\n",
       "      <td>0</td>\n",
       "    </tr>\n",
       "    <tr>\n",
       "      <th>284190</th>\n",
       "      <td>172233.0</td>\n",
       "      <td>-2.667936</td>\n",
       "      <td>3.160505</td>\n",
       "      <td>-3.355984</td>\n",
       "      <td>1.007845</td>\n",
       "      <td>-0.377397</td>\n",
       "      <td>-0.109730</td>\n",
       "      <td>-0.667233</td>\n",
       "      <td>2.309700</td>\n",
       "      <td>-1.639306</td>\n",
       "      <td>...</td>\n",
       "      <td>0.391483</td>\n",
       "      <td>0.266536</td>\n",
       "      <td>-0.079853</td>\n",
       "      <td>-0.096395</td>\n",
       "      <td>0.086719</td>\n",
       "      <td>-0.451128</td>\n",
       "      <td>-1.183743</td>\n",
       "      <td>-0.222200</td>\n",
       "      <td>55.66</td>\n",
       "      <td>0</td>\n",
       "    </tr>\n",
       "    <tr>\n",
       "      <th>284191</th>\n",
       "      <td>172233.0</td>\n",
       "      <td>-2.667936</td>\n",
       "      <td>3.160505</td>\n",
       "      <td>-3.355984</td>\n",
       "      <td>1.007845</td>\n",
       "      <td>-0.377397</td>\n",
       "      <td>-0.109730</td>\n",
       "      <td>-0.667233</td>\n",
       "      <td>2.309700</td>\n",
       "      <td>-1.639306</td>\n",
       "      <td>...</td>\n",
       "      <td>0.391483</td>\n",
       "      <td>0.266536</td>\n",
       "      <td>-0.079853</td>\n",
       "      <td>-0.096395</td>\n",
       "      <td>0.086719</td>\n",
       "      <td>-0.451128</td>\n",
       "      <td>-1.183743</td>\n",
       "      <td>-0.222200</td>\n",
       "      <td>55.66</td>\n",
       "      <td>0</td>\n",
       "    </tr>\n",
       "    <tr>\n",
       "      <th>284192</th>\n",
       "      <td>172233.0</td>\n",
       "      <td>-2.691642</td>\n",
       "      <td>3.123168</td>\n",
       "      <td>-3.339407</td>\n",
       "      <td>1.017018</td>\n",
       "      <td>-0.293095</td>\n",
       "      <td>-0.167054</td>\n",
       "      <td>-0.745886</td>\n",
       "      <td>2.325616</td>\n",
       "      <td>-1.634651</td>\n",
       "      <td>...</td>\n",
       "      <td>0.402639</td>\n",
       "      <td>0.259746</td>\n",
       "      <td>-0.086606</td>\n",
       "      <td>-0.097597</td>\n",
       "      <td>0.083693</td>\n",
       "      <td>-0.453584</td>\n",
       "      <td>-1.205466</td>\n",
       "      <td>-0.213020</td>\n",
       "      <td>36.74</td>\n",
       "      <td>0</td>\n",
       "    </tr>\n",
       "    <tr>\n",
       "      <th>284193</th>\n",
       "      <td>172233.0</td>\n",
       "      <td>-2.691642</td>\n",
       "      <td>3.123168</td>\n",
       "      <td>-3.339407</td>\n",
       "      <td>1.017018</td>\n",
       "      <td>-0.293095</td>\n",
       "      <td>-0.167054</td>\n",
       "      <td>-0.745886</td>\n",
       "      <td>2.325616</td>\n",
       "      <td>-1.634651</td>\n",
       "      <td>...</td>\n",
       "      <td>0.402639</td>\n",
       "      <td>0.259746</td>\n",
       "      <td>-0.086606</td>\n",
       "      <td>-0.097597</td>\n",
       "      <td>0.083693</td>\n",
       "      <td>-0.453584</td>\n",
       "      <td>-1.205466</td>\n",
       "      <td>-0.213020</td>\n",
       "      <td>36.74</td>\n",
       "      <td>0</td>\n",
       "    </tr>\n",
       "  </tbody>\n",
       "</table>\n",
       "<p>1854 rows × 31 columns</p>\n",
       "</div>"
      ],
      "text/plain": [
       "            time        v1        v2        v3        v4        v5        v6  \\\n",
       "32          26.0 -0.529912  0.873892  1.347247  0.145457  0.414209  0.100223   \n",
       "33          26.0 -0.529912  0.873892  1.347247  0.145457  0.414209  0.100223   \n",
       "34          26.0 -0.535388  0.865268  1.351076  0.147575  0.433680  0.086983   \n",
       "35          26.0 -0.535388  0.865268  1.351076  0.147575  0.433680  0.086983   \n",
       "112         74.0  1.038370  0.127486  0.184456  1.109950  0.441699  0.945283   \n",
       "...          ...       ...       ...       ...       ...       ...       ...   \n",
       "283485  171627.0 -1.457978  1.378203  0.811515 -0.603760 -0.711883 -0.471672   \n",
       "284190  172233.0 -2.667936  3.160505 -3.355984  1.007845 -0.377397 -0.109730   \n",
       "284191  172233.0 -2.667936  3.160505 -3.355984  1.007845 -0.377397 -0.109730   \n",
       "284192  172233.0 -2.691642  3.123168 -3.339407  1.017018 -0.293095 -0.167054   \n",
       "284193  172233.0 -2.691642  3.123168 -3.339407  1.017018 -0.293095 -0.167054   \n",
       "\n",
       "              v7        v8        v9  ...       v21       v22       v23  \\\n",
       "32      0.711206  0.176066 -0.286717  ...  0.046949  0.208105 -0.185548   \n",
       "33      0.711206  0.176066 -0.286717  ...  0.046949  0.208105 -0.185548   \n",
       "34      0.693039  0.179742 -0.285642  ...  0.049526  0.206537 -0.187108   \n",
       "35      0.693039  0.179742 -0.285642  ...  0.049526  0.206537 -0.187108   \n",
       "112    -0.036715  0.350995  0.118950  ...  0.102520  0.605089  0.023092   \n",
       "...          ...       ...       ...  ...       ...       ...       ...   \n",
       "283485 -0.282535  0.880654  0.052808  ...  0.284205  0.949659 -0.216949   \n",
       "284190 -0.667233  2.309700 -1.639306  ...  0.391483  0.266536 -0.079853   \n",
       "284191 -0.667233  2.309700 -1.639306  ...  0.391483  0.266536 -0.079853   \n",
       "284192 -0.745886  2.325616 -1.634651  ...  0.402639  0.259746 -0.086606   \n",
       "284193 -0.745886  2.325616 -1.634651  ...  0.402639  0.259746 -0.086606   \n",
       "\n",
       "             v24       v25       v26       v27       v28  amount  class  \n",
       "32      0.001031  0.098816 -0.552904 -0.073288  0.023307    6.14      0  \n",
       "33      0.001031  0.098816 -0.552904 -0.073288  0.023307    6.14      0  \n",
       "34      0.000753  0.098117 -0.553471 -0.078306  0.025427    1.77      0  \n",
       "35      0.000753  0.098117 -0.553471 -0.078306  0.025427    1.77      0  \n",
       "112    -0.626463  0.479120 -0.166937  0.081247  0.001192    1.18      0  \n",
       "...          ...       ...       ...       ...       ...     ...    ...  \n",
       "283485  0.083250  0.044944  0.639933  0.219432  0.116772   11.93      0  \n",
       "284190 -0.096395  0.086719 -0.451128 -1.183743 -0.222200   55.66      0  \n",
       "284191 -0.096395  0.086719 -0.451128 -1.183743 -0.222200   55.66      0  \n",
       "284192 -0.097597  0.083693 -0.453584 -1.205466 -0.213020   36.74      0  \n",
       "284193 -0.097597  0.083693 -0.453584 -1.205466 -0.213020   36.74      0  \n",
       "\n",
       "[1854 rows x 31 columns]"
      ]
     },
     "execution_count": 16,
     "metadata": {},
     "output_type": "execute_result"
    }
   ],
   "source": [
    "df[df.duplicated(keep=False) == True]"
   ]
  },
  {
   "cell_type": "code",
   "execution_count": 17,
   "id": "df7dbf0e",
   "metadata": {},
   "outputs": [],
   "source": [
    "df.drop_duplicates(inplace=True)"
   ]
  },
  {
   "cell_type": "code",
   "execution_count": 18,
   "id": "a0d3402c",
   "metadata": {},
   "outputs": [],
   "source": [
    "inlier_df = df[df['class'] == 0].sample(5000)\n",
    "outlier_df = df[df['class'] == 1].sample(50)\n",
    "concat_df = pd.concat([inlier_df, outlier_df], axis=0)"
   ]
  },
  {
   "cell_type": "code",
   "execution_count": 19,
   "id": "7a04ba52",
   "metadata": {},
   "outputs": [],
   "source": [
    "X = concat_df.drop(['class'], axis=1)\n",
    "y = concat_df[['class']]\n",
    "\n",
    "# Split X, y train , test\n",
    "X_train, X_test, y_train, y_test = train_test_split(X, y, test_size=0.2, random_state=42, stratify=y)\n"
   ]
  },
  {
   "cell_type": "markdown",
   "id": "9ec6538f",
   "metadata": {},
   "source": [
    "# Balance the data"
   ]
  },
  {
   "cell_type": "code",
   "execution_count": 64,
   "id": "ae945064",
   "metadata": {},
   "outputs": [],
   "source": [
    "sm = SMOTE()\n",
    "X_resample, y_resample = sm.fit_resample(X_train, y_train)"
   ]
  },
  {
   "cell_type": "code",
   "execution_count": null,
   "id": "b352df3b",
   "metadata": {},
   "outputs": [],
   "source": []
  },
  {
   "cell_type": "code",
   "execution_count": null,
   "id": "244d3f96",
   "metadata": {},
   "outputs": [],
   "source": []
  },
  {
   "cell_type": "markdown",
   "id": "7c39715d",
   "metadata": {},
   "source": [
    "# Define Bias and variance "
   ]
  },
  {
   "cell_type": "code",
   "execution_count": 67,
   "id": "f5824e22",
   "metadata": {},
   "outputs": [],
   "source": [
    "dt = DecisionTreeClassifier(random_state=1)\n",
    "score_CV = cross_val_score(dt, X_resample, y_resample, cv=10, scoring='f1')\n",
    "\n",
    "dt.fit(X_resample, y_resample)\n",
    "y_pred_train = dt.predict(X_resample)\n",
    "y_pred_test = dt.predict(X_test)"
   ]
  },
  {
   "cell_type": "code",
   "execution_count": 68,
   "id": "f28c61a3",
   "metadata": {},
   "outputs": [
    {
     "name": "stdout",
     "output_type": "stream",
     "text": [
      "CV score_CV: 1.00\n"
     ]
    }
   ],
   "source": [
    "# CV score\n",
    "print('CV score_CV: {:.2f}'.format(score_CV.mean()))"
   ]
  },
  {
   "cell_type": "code",
   "execution_count": 69,
   "id": "3dda2f38",
   "metadata": {},
   "outputs": [
    {
     "name": "stdout",
     "output_type": "stream",
     "text": [
      "Train score_CV: 1.00\n"
     ]
    }
   ],
   "source": [
    "# Training set f1 score\n",
    "print('Train score_CV: {:.2f}'.format(f1_score(y_resample, y_pred_train)))"
   ]
  },
  {
   "cell_type": "code",
   "execution_count": 70,
   "id": "034272de",
   "metadata": {
    "scrolled": true
   },
   "outputs": [
    {
     "name": "stdout",
     "output_type": "stream",
     "text": [
      "Train score_CV: 0.86\n"
     ]
    }
   ],
   "source": [
    "# Training set f1 score\n",
    "print('Train score_CV: {:.2f}'.format(f1_score(y_test, y_pred_test)))"
   ]
  },
  {
   "cell_type": "markdown",
   "id": "97174e0b",
   "metadata": {},
   "source": [
    "### This data is overfitting, so we can apply Bagging classifier or randomforest algorithem"
   ]
  },
  {
   "cell_type": "code",
   "execution_count": 117,
   "id": "998e5866",
   "metadata": {},
   "outputs": [],
   "source": [
    "bc = BaggingClassifier(base_estimator=dt, n_estimators=20, oob_score=True, random_state=1)\n",
    "score_CV = cross_val_score(bc, X_resample, y_resample, cv=10, scoring='f1')\n",
    "bc.fit(X_resample, y_resample)\n",
    "y_pred_train = bc.predict(X_resample)\n",
    "y_pred_test = bc.predict(X_test)"
   ]
  },
  {
   "cell_type": "code",
   "execution_count": 124,
   "id": "aa47fa75",
   "metadata": {},
   "outputs": [
    {
     "name": "stdout",
     "output_type": "stream",
     "text": [
      "Test accuracy score: 1.0\n"
     ]
    }
   ],
   "source": [
    "print(f'Test accuracy score: {accuracy_score(y_test, y_pred_test)}')"
   ]
  },
  {
   "cell_type": "code",
   "execution_count": 118,
   "id": "b8b257ce",
   "metadata": {},
   "outputs": [
    {
     "name": "stdout",
     "output_type": "stream",
     "text": [
      "CV score_CV: 1.00\n"
     ]
    }
   ],
   "source": [
    "# CV score\n",
    "print('CV score_CV: {:.2f}'.format(score_CV.mean()))"
   ]
  },
  {
   "cell_type": "code",
   "execution_count": 119,
   "id": "65c994c1",
   "metadata": {},
   "outputs": [
    {
     "name": "stdout",
     "output_type": "stream",
     "text": [
      "Train score_CV: 1.00\n"
     ]
    }
   ],
   "source": [
    "# Training set f1 score\n",
    "print('Train score_CV: {:.2f}'.format(f1_score(y_resample, y_pred_train)))"
   ]
  },
  {
   "cell_type": "code",
   "execution_count": 120,
   "id": "660c84be",
   "metadata": {},
   "outputs": [
    {
     "name": "stdout",
     "output_type": "stream",
     "text": [
      "f1 score of bagging classifier: 1.000\n"
     ]
    }
   ],
   "source": [
    "f_score = f1_score(y_test, y_pred_test)\n",
    "print('f1 score of bagging classifier: {:.3f}'.format(f_score))"
   ]
  },
  {
   "cell_type": "code",
   "execution_count": 121,
   "id": "b29a3847",
   "metadata": {},
   "outputs": [
    {
     "data": {
      "text/plain": [
       "0.998125"
      ]
     },
     "execution_count": 121,
     "metadata": {},
     "output_type": "execute_result"
    }
   ],
   "source": [
    "bc.oob_score_"
   ]
  },
  {
   "cell_type": "markdown",
   "id": "aa124f90",
   "metadata": {},
   "source": [
    "# RandomForest"
   ]
  },
  {
   "cell_type": "code",
   "execution_count": 106,
   "id": "be4a51f7",
   "metadata": {},
   "outputs": [],
   "source": [
    "rf = RandomForestClassifier(n_estimators=100, oob_score=True)\n",
    "score_CV = cross_val_score(bc, X_resample, y_resample, cv=10, scoring='f1')\n",
    "rf.fit(X_resample, y_resample)\n",
    "y_pred_train = rf.predict(X_resample)\n",
    "y_pred_test = rf.predict(X_test)"
   ]
  },
  {
   "cell_type": "code",
   "execution_count": 107,
   "id": "281f38fa",
   "metadata": {},
   "outputs": [
    {
     "name": "stdout",
     "output_type": "stream",
     "text": [
      "CV score_CV: 1.00\n"
     ]
    }
   ],
   "source": [
    "# CV score\n",
    "print('CV score_CV: {:.2f}'.format(score_CV.mean()))"
   ]
  },
  {
   "cell_type": "code",
   "execution_count": 108,
   "id": "1d28183e",
   "metadata": {},
   "outputs": [
    {
     "name": "stdout",
     "output_type": "stream",
     "text": [
      "Train score_CV: 1.00\n"
     ]
    }
   ],
   "source": [
    "# Training set f1 score\n",
    "print('Train score_CV: {:.2f}'.format(f1_score(y_resample, y_pred_train)))"
   ]
  },
  {
   "cell_type": "code",
   "execution_count": 109,
   "id": "1d71f23d",
   "metadata": {},
   "outputs": [
    {
     "name": "stdout",
     "output_type": "stream",
     "text": [
      "f1 score of bagging classifier: 1.000\n"
     ]
    }
   ],
   "source": [
    "f_score = f1_score(y_test, y_pred_test)\n",
    "print('f1 score of bagging classifier: {:.3f}'.format(f_score))"
   ]
  },
  {
   "cell_type": "markdown",
   "id": "6d0c6b3f",
   "metadata": {},
   "source": [
    "# Feature Importance in sklearn"
   ]
  },
  {
   "cell_type": "code",
   "execution_count": 110,
   "id": "e920f392",
   "metadata": {},
   "outputs": [
    {
     "data": {
      "image/png": "[encoded data removed]",
      "text/plain": [
       "<Figure size 432x288 with 1 Axes>"
      ]
     },
     "metadata": {
      "needs_background": "light"
     },
     "output_type": "display_data"
    }
   ],
   "source": [
    "# Create a pd.Series of features importances\n",
    "importances_rf = pd.Series(rf.feature_importances_, index = X.columns)\n",
    "# Sort importances_rf\n",
    "sorted_importances_rf = importances_rf.sort_values()\n",
    "# Make a horizontal bar plot\n",
    "sorted_importances_rf.plot(kind='barh', color='lightgreen'); \n",
    "plt.show()"
   ]
  },
  {
   "cell_type": "markdown",
   "id": "644d153e",
   "metadata": {},
   "source": [
    "# Step 2: Exclude features, Sampling"
   ]
  },
  {
   "cell_type": "markdown",
   "id": "dac894a3",
   "metadata": {},
   "source": [
    "# Step 4: Building the ensemble classifier"
   ]
  },
  {
   "cell_type": "code",
   "execution_count": 11,
   "id": "102110b0",
   "metadata": {},
   "outputs": [],
   "source": [
    "lr = LogisticRegression(warm_start= True, max_iter=40)\n",
    "rf = RandomForestClassifier()\n",
    "xgb = XGBClassifier(tree_method=\"hist\", verbosity=0, silent=True)\n",
    "\n",
    "lr_xgb_rf = VotingClassifier(estimators=[('lr', lr), ('xgb', xgb), ('rf', rf)], \n",
    "                             voting='soft')"
   ]
  },
  {
   "cell_type": "code",
   "execution_count": 12,
   "id": "d4f9fe09",
   "metadata": {},
   "outputs": [],
   "source": [
    "ppl = imbPipeline([\n",
    "    ('drop_duplicates', DropDuplicateFeatures()), \n",
    "    ('cleaning', ColumnTransformer([\n",
    "        ('num',make_pipeline(\n",
    "        SimpleImputer(),\n",
    "        MinMaxScaler(), \n",
    "            ), X.columns   \n",
    "        )     \n",
    "        \n",
    "    ])), ('smote', SMOTE()),\n",
    "    ('ensemble', lr_xgb_rf)\n",
    "    \n",
    "])"
   ]
  },
  {
   "cell_type": "code",
   "execution_count": 13,
   "id": "af7c5e49",
   "metadata": {},
   "outputs": [
    {
     "data": {
      "text/html": [
       "<style>#sk-e2861ab1-b44e-47ab-b824-5bb88fdd218d {color: black;background-color: white;}#sk-e2861ab1-b44e-47ab-b824-5bb88fdd218d pre{padding: 0;}#sk-e2861ab1-b44e-47ab-b824-5bb88fdd218d div.sk-toggleable {background-color: white;}#sk-e2861ab1-b44e-47ab-b824-5bb88fdd218d label.sk-toggleable__label {cursor: pointer;display: block;width: 100%;margin-bottom: 0;padding: 0.3em;box-sizing: border-box;text-align: center;}#sk-e2861ab1-b44e-47ab-b824-5bb88fdd218d label.sk-toggleable__label-arrow:before {content: \"▸\";float: left;margin-right: 0.25em;color: #696969;}#sk-e2861ab1-b44e-47ab-b824-5bb88fdd218d label.sk-toggleable__label-arrow:hover:before {color: black;}#sk-e2861ab1-b44e-47ab-b824-5bb88fdd218d div.sk-estimator:hover label.sk-toggleable__label-arrow:before {color: black;}#sk-e2861ab1-b44e-47ab-b824-5bb88fdd218d div.sk-toggleable__content {max-height: 0;max-width: 0;overflow: hidden;text-align: left;background-color: #f0f8ff;}#sk-e2861ab1-b44e-47ab-b824-5bb88fdd218d div.sk-toggleable__content pre {margin: 0.2em;color: black;border-radius: 0.25em;background-color: #f0f8ff;}#sk-e2861ab1-b44e-47ab-b824-5bb88fdd218d input.sk-toggleable__control:checked~div.sk-toggleable__content {max-height: 200px;max-width: 100%;overflow: auto;}#sk-e2861ab1-b44e-47ab-b824-5bb88fdd218d input.sk-toggleable__control:checked~label.sk-toggleable__label-arrow:before {content: \"▾\";}#sk-e2861ab1-b44e-47ab-b824-5bb88fdd218d div.sk-estimator input.sk-toggleable__control:checked~label.sk-toggleable__label {background-color: #d4ebff;}#sk-e2861ab1-b44e-47ab-b824-5bb88fdd218d div.sk-label input.sk-toggleable__control:checked~label.sk-toggleable__label {background-color: #d4ebff;}#sk-e2861ab1-b44e-47ab-b824-5bb88fdd218d input.sk-hidden--visually {border: 0;clip: rect(1px 1px 1px 1px);clip: rect(1px, 1px, 1px, 1px);height: 1px;margin: -1px;overflow: hidden;padding: 0;position: absolute;width: 1px;}#sk-e2861ab1-b44e-47ab-b824-5bb88fdd218d div.sk-estimator {font-family: monospace;background-color: #f0f8ff;border: 1px dotted black;border-radius: 0.25em;box-sizing: border-box;margin-bottom: 0.5em;}#sk-e2861ab1-b44e-47ab-b824-5bb88fdd218d div.sk-estimator:hover {background-color: #d4ebff;}#sk-e2861ab1-b44e-47ab-b824-5bb88fdd218d div.sk-parallel-item::after {content: \"\";width: 100%;border-bottom: 1px solid gray;flex-grow: 1;}#sk-e2861ab1-b44e-47ab-b824-5bb88fdd218d div.sk-label:hover label.sk-toggleable__label {background-color: #d4ebff;}#sk-e2861ab1-b44e-47ab-b824-5bb88fdd218d div.sk-serial::before {content: \"\";position: absolute;border-left: 1px solid gray;box-sizing: border-box;top: 2em;bottom: 0;left: 50%;}#sk-e2861ab1-b44e-47ab-b824-5bb88fdd218d div.sk-serial {display: flex;flex-direction: column;align-items: center;background-color: white;padding-right: 0.2em;padding-left: 0.2em;}#sk-e2861ab1-b44e-47ab-b824-5bb88fdd218d div.sk-item {z-index: 1;}#sk-e2861ab1-b44e-47ab-b824-5bb88fdd218d div.sk-parallel {display: flex;align-items: stretch;justify-content: center;background-color: white;}#sk-e2861ab1-b44e-47ab-b824-5bb88fdd218d div.sk-parallel::before {content: \"\";position: absolute;border-left: 1px solid gray;box-sizing: border-box;top: 2em;bottom: 0;left: 50%;}#sk-e2861ab1-b44e-47ab-b824-5bb88fdd218d div.sk-parallel-item {display: flex;flex-direction: column;position: relative;background-color: white;}#sk-e2861ab1-b44e-47ab-b824-5bb88fdd218d div.sk-parallel-item:first-child::after {align-self: flex-end;width: 50%;}#sk-e2861ab1-b44e-47ab-b824-5bb88fdd218d div.sk-parallel-item:last-child::after {align-self: flex-start;width: 50%;}#sk-e2861ab1-b44e-47ab-b824-5bb88fdd218d div.sk-parallel-item:only-child::after {width: 0;}#sk-e2861ab1-b44e-47ab-b824-5bb88fdd218d div.sk-dashed-wrapped {border: 1px dashed gray;margin: 0 0.4em 0.5em 0.4em;box-sizing: border-box;padding-bottom: 0.4em;background-color: white;position: relative;}#sk-e2861ab1-b44e-47ab-b824-5bb88fdd218d div.sk-label label {font-family: monospace;font-weight: bold;background-color: white;display: inline-block;line-height: 1.2em;}#sk-e2861ab1-b44e-47ab-b824-5bb88fdd218d div.sk-label-container {position: relative;z-index: 2;text-align: center;}#sk-e2861ab1-b44e-47ab-b824-5bb88fdd218d div.sk-container {/* jupyter's `normalize.less` sets `[hidden] { display: none; }` but bootstrap.min.css set `[hidden] { display: none !important; }` so we also need the `!important` here to be able to override the default hidden behavior on the sphinx rendered scikit-learn.org. See: https://github.com/scikit-learn/scikit-learn/issues/21755 */display: inline-block !important;position: relative;}#sk-e2861ab1-b44e-47ab-b824-5bb88fdd218d div.sk-text-repr-fallback {display: none;}</style><div id=\"sk-e2861ab1-b44e-47ab-b824-5bb88fdd218d\" class=\"sk-top-container\"><div class=\"sk-text-repr-fallback\"><pre>Pipeline(steps=[(&#x27;drop_duplicates&#x27;, DropDuplicateFeatures()),\n",
       "                (&#x27;cleaning&#x27;,\n",
       "                 ColumnTransformer(transformers=[(&#x27;num&#x27;,\n",
       "                                                  Pipeline(steps=[(&#x27;simpleimputer&#x27;,\n",
       "                                                                   SimpleImputer()),\n",
       "                                                                  (&#x27;minmaxscaler&#x27;,\n",
       "                                                                   MinMaxScaler())]),\n",
       "                                                  Index([&#x27;time&#x27;, &#x27;v1&#x27;, &#x27;v2&#x27;, &#x27;v3&#x27;, &#x27;v4&#x27;, &#x27;v5&#x27;, &#x27;v6&#x27;, &#x27;v7&#x27;, &#x27;v8&#x27;, &#x27;v9&#x27;, &#x27;v10&#x27;,\n",
       "       &#x27;v11&#x27;, &#x27;v12&#x27;, &#x27;v13&#x27;, &#x27;v14&#x27;, &#x27;v15&#x27;, &#x27;v16&#x27;, &#x27;v17&#x27;, &#x27;v18&#x27;, &#x27;v19&#x27;, &#x27;v20&#x27;,\n",
       "       &#x27;v21&#x27;, &#x27;v22&#x27;, &#x27;v23&#x27;, &#x27;v24&#x27;, &#x27;v25&#x27;,...\n",
       "                                                             interaction_constraints=None,\n",
       "                                                             learning_rate=None,\n",
       "                                                             max_bin=None,\n",
       "                                                             max_cat_threshold=None,\n",
       "                                                             max_cat_to_onehot=None,\n",
       "                                                             max_delta_step=None,\n",
       "                                                             max_depth=None,\n",
       "                                                             max_leaves=None,\n",
       "                                                             min_child_weight=None,\n",
       "                                                             missing=nan,\n",
       "                                                             monotone_constraints=None,\n",
       "                                                             n_estimators=100,\n",
       "                                                             n_jobs=None,\n",
       "                                                             num_parallel_tree=None,\n",
       "                                                             predictor=None,\n",
       "                                                             random_state=None, ...)),\n",
       "                                              (&#x27;rf&#x27;, RandomForestClassifier())],\n",
       "                                  voting=&#x27;soft&#x27;))])</pre><b>Please rerun this cell to show the HTML repr or trust the notebook.</b></div><div class=\"sk-container\" hidden><div class=\"sk-item sk-dashed-wrapped\"><div class=\"sk-label-container\"><div class=\"sk-label sk-toggleable\"><input class=\"sk-toggleable__control sk-hidden--visually\" id=\"e809e229-fef9-4f0d-8b67-81df605af410\" type=\"checkbox\" ><label for=\"e809e229-fef9-4f0d-8b67-81df605af410\" class=\"sk-toggleable__label sk-toggleable__label-arrow\">Pipeline</label><div class=\"sk-toggleable__content\"><pre>Pipeline(steps=[(&#x27;drop_duplicates&#x27;, DropDuplicateFeatures()),\n",
       "                (&#x27;cleaning&#x27;,\n",
       "                 ColumnTransformer(transformers=[(&#x27;num&#x27;,\n",
       "                                                  Pipeline(steps=[(&#x27;simpleimputer&#x27;,\n",
       "                                                                   SimpleImputer()),\n",
       "                                                                  (&#x27;minmaxscaler&#x27;,\n",
       "                                                                   MinMaxScaler())]),\n",
       "                                                  Index([&#x27;time&#x27;, &#x27;v1&#x27;, &#x27;v2&#x27;, &#x27;v3&#x27;, &#x27;v4&#x27;, &#x27;v5&#x27;, &#x27;v6&#x27;, &#x27;v7&#x27;, &#x27;v8&#x27;, &#x27;v9&#x27;, &#x27;v10&#x27;,\n",
       "       &#x27;v11&#x27;, &#x27;v12&#x27;, &#x27;v13&#x27;, &#x27;v14&#x27;, &#x27;v15&#x27;, &#x27;v16&#x27;, &#x27;v17&#x27;, &#x27;v18&#x27;, &#x27;v19&#x27;, &#x27;v20&#x27;,\n",
       "       &#x27;v21&#x27;, &#x27;v22&#x27;, &#x27;v23&#x27;, &#x27;v24&#x27;, &#x27;v25&#x27;,...\n",
       "                                                             interaction_constraints=None,\n",
       "                                                             learning_rate=None,\n",
       "                                                             max_bin=None,\n",
       "                                                             max_cat_threshold=None,\n",
       "                                                             max_cat_to_onehot=None,\n",
       "                                                             max_delta_step=None,\n",
       "                                                             max_depth=None,\n",
       "                                                             max_leaves=None,\n",
       "                                                             min_child_weight=None,\n",
       "                                                             missing=nan,\n",
       "                                                             monotone_constraints=None,\n",
       "                                                             n_estimators=100,\n",
       "                                                             n_jobs=None,\n",
       "                                                             num_parallel_tree=None,\n",
       "                                                             predictor=None,\n",
       "                                                             random_state=None, ...)),\n",
       "                                              (&#x27;rf&#x27;, RandomForestClassifier())],\n",
       "                                  voting=&#x27;soft&#x27;))])</pre></div></div></div><div class=\"sk-serial\"><div class=\"sk-item\"><div class=\"sk-estimator sk-toggleable\"><input class=\"sk-toggleable__control sk-hidden--visually\" id=\"9ec1bf95-9705-47de-8eb5-8d892e4d736c\" type=\"checkbox\" ><label for=\"9ec1bf95-9705-47de-8eb5-8d892e4d736c\" class=\"sk-toggleable__label sk-toggleable__label-arrow\">DropDuplicateFeatures</label><div class=\"sk-toggleable__content\"><pre>DropDuplicateFeatures()</pre></div></div></div><div class=\"sk-item sk-dashed-wrapped\"><div class=\"sk-label-container\"><div class=\"sk-label sk-toggleable\"><input class=\"sk-toggleable__control sk-hidden--visually\" id=\"94b77172-eee8-467d-b5b9-0ce9ac4cdad1\" type=\"checkbox\" ><label for=\"94b77172-eee8-467d-b5b9-0ce9ac4cdad1\" class=\"sk-toggleable__label sk-toggleable__label-arrow\">cleaning: ColumnTransformer</label><div class=\"sk-toggleable__content\"><pre>ColumnTransformer(transformers=[(&#x27;num&#x27;,\n",
       "                                 Pipeline(steps=[(&#x27;simpleimputer&#x27;,\n",
       "                                                  SimpleImputer()),\n",
       "                                                 (&#x27;minmaxscaler&#x27;,\n",
       "                                                  MinMaxScaler())]),\n",
       "                                 Index([&#x27;time&#x27;, &#x27;v1&#x27;, &#x27;v2&#x27;, &#x27;v3&#x27;, &#x27;v4&#x27;, &#x27;v5&#x27;, &#x27;v6&#x27;, &#x27;v7&#x27;, &#x27;v8&#x27;, &#x27;v9&#x27;, &#x27;v10&#x27;,\n",
       "       &#x27;v11&#x27;, &#x27;v12&#x27;, &#x27;v13&#x27;, &#x27;v14&#x27;, &#x27;v15&#x27;, &#x27;v16&#x27;, &#x27;v17&#x27;, &#x27;v18&#x27;, &#x27;v19&#x27;, &#x27;v20&#x27;,\n",
       "       &#x27;v21&#x27;, &#x27;v22&#x27;, &#x27;v23&#x27;, &#x27;v24&#x27;, &#x27;v25&#x27;, &#x27;v26&#x27;, &#x27;v27&#x27;, &#x27;v28&#x27;, &#x27;amount&#x27;],\n",
       "      dtype=&#x27;object&#x27;))])</pre></div></div></div><div class=\"sk-parallel\"><div class=\"sk-parallel-item\"><div class=\"sk-item\"><div class=\"sk-label-container\"><div class=\"sk-label sk-toggleable\"><input class=\"sk-toggleable__control sk-hidden--visually\" id=\"27e2ecee-ee2d-4624-ae46-377c86d157f6\" type=\"checkbox\" ><label for=\"27e2ecee-ee2d-4624-ae46-377c86d157f6\" class=\"sk-toggleable__label sk-toggleable__label-arrow\">num</label><div class=\"sk-toggleable__content\"><pre>Index([&#x27;time&#x27;, &#x27;v1&#x27;, &#x27;v2&#x27;, &#x27;v3&#x27;, &#x27;v4&#x27;, &#x27;v5&#x27;, &#x27;v6&#x27;, &#x27;v7&#x27;, &#x27;v8&#x27;, &#x27;v9&#x27;, &#x27;v10&#x27;,\n",
       "       &#x27;v11&#x27;, &#x27;v12&#x27;, &#x27;v13&#x27;, &#x27;v14&#x27;, &#x27;v15&#x27;, &#x27;v16&#x27;, &#x27;v17&#x27;, &#x27;v18&#x27;, &#x27;v19&#x27;, &#x27;v20&#x27;,\n",
       "       &#x27;v21&#x27;, &#x27;v22&#x27;, &#x27;v23&#x27;, &#x27;v24&#x27;, &#x27;v25&#x27;, &#x27;v26&#x27;, &#x27;v27&#x27;, &#x27;v28&#x27;, &#x27;amount&#x27;],\n",
       "      dtype=&#x27;object&#x27;)</pre></div></div></div><div class=\"sk-serial\"><div class=\"sk-item\"><div class=\"sk-serial\"><div class=\"sk-item\"><div class=\"sk-estimator sk-toggleable\"><input class=\"sk-toggleable__control sk-hidden--visually\" id=\"b5f81859-fe79-472b-8d32-63bc3c0bc55f\" type=\"checkbox\" ><label for=\"b5f81859-fe79-472b-8d32-63bc3c0bc55f\" class=\"sk-toggleable__label sk-toggleable__label-arrow\">SimpleImputer</label><div class=\"sk-toggleable__content\"><pre>SimpleImputer()</pre></div></div></div><div class=\"sk-item\"><div class=\"sk-estimator sk-toggleable\"><input class=\"sk-toggleable__control sk-hidden--visually\" id=\"59226201-e668-4691-8eac-6804bee31333\" type=\"checkbox\" ><label for=\"59226201-e668-4691-8eac-6804bee31333\" class=\"sk-toggleable__label sk-toggleable__label-arrow\">MinMaxScaler</label><div class=\"sk-toggleable__content\"><pre>MinMaxScaler()</pre></div></div></div></div></div></div></div></div></div></div><div class=\"sk-item\"><div class=\"sk-estimator sk-toggleable\"><input class=\"sk-toggleable__control sk-hidden--visually\" id=\"1083869b-9dcd-4196-825d-61f356e2b177\" type=\"checkbox\" ><label for=\"1083869b-9dcd-4196-825d-61f356e2b177\" class=\"sk-toggleable__label sk-toggleable__label-arrow\">SMOTE</label><div class=\"sk-toggleable__content\"><pre>SMOTE()</pre></div></div></div><div class=\"sk-item sk-dashed-wrapped\"><div class=\"sk-label-container\"><div class=\"sk-label sk-toggleable\"><input class=\"sk-toggleable__control sk-hidden--visually\" id=\"214ae4b0-a28e-4e92-baaa-2a58b0551129\" type=\"checkbox\" ><label for=\"214ae4b0-a28e-4e92-baaa-2a58b0551129\" class=\"sk-toggleable__label sk-toggleable__label-arrow\">ensemble: VotingClassifier</label><div class=\"sk-toggleable__content\"><pre>VotingClassifier(estimators=[(&#x27;lr&#x27;,\n",
       "                              LogisticRegression(max_iter=40, warm_start=True)),\n",
       "                             (&#x27;xgb&#x27;,\n",
       "                              XGBClassifier(base_score=None, booster=None,\n",
       "                                            callbacks=None,\n",
       "                                            colsample_bylevel=None,\n",
       "                                            colsample_bynode=None,\n",
       "                                            colsample_bytree=None,\n",
       "                                            early_stopping_rounds=None,\n",
       "                                            enable_categorical=False,\n",
       "                                            eval_metric=None,\n",
       "                                            feature_types=None, gamma=None,\n",
       "                                            gpu_id=None, grow_policy=None,\n",
       "                                            import...\n",
       "                                            interaction_constraints=None,\n",
       "                                            learning_rate=None, max_bin=None,\n",
       "                                            max_cat_threshold=None,\n",
       "                                            max_cat_to_onehot=None,\n",
       "                                            max_delta_step=None, max_depth=None,\n",
       "                                            max_leaves=None,\n",
       "                                            min_child_weight=None, missing=nan,\n",
       "                                            monotone_constraints=None,\n",
       "                                            n_estimators=100, n_jobs=None,\n",
       "                                            num_parallel_tree=None,\n",
       "                                            predictor=None, random_state=None, ...)),\n",
       "                             (&#x27;rf&#x27;, RandomForestClassifier())],\n",
       "                 voting=&#x27;soft&#x27;)</pre></div></div></div><div class=\"sk-parallel\"><div class=\"sk-parallel-item\"><div class=\"sk-item\"><div class=\"sk-label-container\"><div class=\"sk-label sk-toggleable\"><label>lr</label></div></div><div class=\"sk-serial\"><div class=\"sk-item\"><div class=\"sk-estimator sk-toggleable\"><input class=\"sk-toggleable__control sk-hidden--visually\" id=\"2bd094d7-7e5d-4cd4-847a-c73af909031f\" type=\"checkbox\" ><label for=\"2bd094d7-7e5d-4cd4-847a-c73af909031f\" class=\"sk-toggleable__label sk-toggleable__label-arrow\">LogisticRegression</label><div class=\"sk-toggleable__content\"><pre>LogisticRegression(max_iter=40, warm_start=True)</pre></div></div></div></div></div></div><div class=\"sk-parallel-item\"><div class=\"sk-item\"><div class=\"sk-label-container\"><div class=\"sk-label sk-toggleable\"><label>xgb</label></div></div><div class=\"sk-serial\"><div class=\"sk-item\"><div class=\"sk-estimator sk-toggleable\"><input class=\"sk-toggleable__control sk-hidden--visually\" id=\"8544ecee-2914-40d1-92f0-ee9bc7b462cf\" type=\"checkbox\" ><label for=\"8544ecee-2914-40d1-92f0-ee9bc7b462cf\" class=\"sk-toggleable__label sk-toggleable__label-arrow\">XGBClassifier</label><div class=\"sk-toggleable__content\"><pre>XGBClassifier(base_score=None, booster=None, callbacks=None,\n",
       "              colsample_bylevel=None, colsample_bynode=None,\n",
       "              colsample_bytree=None, early_stopping_rounds=None,\n",
       "              enable_categorical=False, eval_metric=None, feature_types=None,\n",
       "              gamma=None, gpu_id=None, grow_policy=None, importance_type=None,\n",
       "              interaction_constraints=None, learning_rate=None, max_bin=None,\n",
       "              max_cat_threshold=None, max_cat_to_onehot=None,\n",
       "              max_delta_step=None, max_depth=None, max_leaves=None,\n",
       "              min_child_weight=None, missing=nan, monotone_constraints=None,\n",
       "              n_estimators=100, n_jobs=None, num_parallel_tree=None,\n",
       "              predictor=None, random_state=None, ...)</pre></div></div></div></div></div></div><div class=\"sk-parallel-item\"><div class=\"sk-item\"><div class=\"sk-label-container\"><div class=\"sk-label sk-toggleable\"><label>rf</label></div></div><div class=\"sk-serial\"><div class=\"sk-item\"><div class=\"sk-estimator sk-toggleable\"><input class=\"sk-toggleable__control sk-hidden--visually\" id=\"61fabe33-66a6-4948-a36e-c28c02e9321f\" type=\"checkbox\" ><label for=\"61fabe33-66a6-4948-a36e-c28c02e9321f\" class=\"sk-toggleable__label sk-toggleable__label-arrow\">RandomForestClassifier</label><div class=\"sk-toggleable__content\"><pre>RandomForestClassifier()</pre></div></div></div></div></div></div></div></div></div></div></div></div>"
      ],
      "text/plain": [
       "Pipeline(steps=[('drop_duplicates', DropDuplicateFeatures()),\n",
       "                ('cleaning',\n",
       "                 ColumnTransformer(transformers=[('num',\n",
       "                                                  Pipeline(steps=[('simpleimputer',\n",
       "                                                                   SimpleImputer()),\n",
       "                                                                  ('minmaxscaler',\n",
       "                                                                   MinMaxScaler())]),\n",
       "                                                  Index(['time', 'v1', 'v2', 'v3', 'v4', 'v5', 'v6', 'v7', 'v8', 'v9', 'v10',\n",
       "       'v11', 'v12', 'v13', 'v14', 'v15', 'v16', 'v17', 'v18', 'v19', 'v20',\n",
       "       'v21', 'v22', 'v23', 'v24', 'v25',...\n",
       "                                                             interaction_constraints=None,\n",
       "                                                             learning_rate=None,\n",
       "                                                             max_bin=None,\n",
       "                                                             max_cat_threshold=None,\n",
       "                                                             max_cat_to_onehot=None,\n",
       "                                                             max_delta_step=None,\n",
       "                                                             max_depth=None,\n",
       "                                                             max_leaves=None,\n",
       "                                                             min_child_weight=None,\n",
       "                                                             missing=nan,\n",
       "                                                             monotone_constraints=None,\n",
       "                                                             n_estimators=100,\n",
       "                                                             n_jobs=None,\n",
       "                                                             num_parallel_tree=None,\n",
       "                                                             predictor=None,\n",
       "                                                             random_state=None, ...)),\n",
       "                                              ('rf', RandomForestClassifier())],\n",
       "                                  voting='soft'))])"
      ]
     },
     "execution_count": 13,
     "metadata": {},
     "output_type": "execute_result"
    }
   ],
   "source": [
    "ppl.fit(X_train, y_train)"
   ]
  },
  {
   "cell_type": "markdown",
   "id": "e8110573",
   "metadata": {},
   "source": [
    "# Step 5: Hyperparameter tuning and feature importance"
   ]
  },
  {
   "cell_type": "code",
   "execution_count": null,
   "id": "5f9f68ab",
   "metadata": {},
   "outputs": [],
   "source": [
    "RandomForestClassifier(max_depth=10,\n",
    "                                                                      min_samples_leaf=4,\n",
    "                                                                      min_samples_split=5,\n",
    "                                                                      n_estimators=600)"
   ]
  },
  {
   "cell_type": "code",
   "execution_count": 14,
   "id": "1c91c689",
   "metadata": {},
   "outputs": [],
   "source": [
    "# Hyperparameter Tuning\n",
    "\n",
    "params = params = {\n",
    "    'ensemble__lr__solver': ['newton-cg', 'lbfgs', 'liblinear'],\n",
    "    'ensemble__lr__penalty': ['none', 'l1', 'l2', 'elasticnet'],\n",
    "    'ensemble__lr__C': loguniform(1e-5, 100),\n",
    "    'ensemble__xgb__learning_rate': [0.1],\n",
    "    'ensemble__xgb__max_depth': [7, 10, 15, 20],\n",
    "    'ensemble__xgb__min_child_weight': [10, 15, 20, 25],\n",
    "    'ensemble__xgb__colsample_bytree': [0.8, 0.9, 1],\n",
    "    'ensemble__xgb__n_estimators': [300, 400, 500, 600],\n",
    "    'ensemble__xgb__reg_alpha': [0.5, 0.2, 1],\n",
    "    'ensemble__xgb__reg_lambda': [2, 3, 5],\n",
    "    'ensemble__xgb__gamma': [1, 2, 3],\n",
    "    'ensemble__rf__max_depth': [7, 10, 15, 20],\n",
    "    'ensemble__rf__min_samples_leaf': [1, 2, 4],\n",
    "    'ensemble__rf__min_samples_split': [2, 5, 10],\n",
    "    'ensemble__rf__n_estimators': [300, 400, 500, 600],\n",
    "}"
   ]
  },
  {
   "cell_type": "code",
   "execution_count": 15,
   "id": "bde58afa",
   "metadata": {},
   "outputs": [],
   "source": [
    "rsf = RepeatedStratifiedKFold(random_state=42)\n",
    "clf = RandomizedSearchCV(ppl, params, scoring='f1', cv=rsf)"
   ]
  },
  {
   "cell_type": "code",
   "execution_count": 16,
   "id": "756a890c",
   "metadata": {},
   "outputs": [
    {
     "data": {
      "text/html": [
       "<style>#sk-da7f969b-443c-4d57-8dc6-120a56c02e2b {color: black;background-color: white;}#sk-da7f969b-443c-4d57-8dc6-120a56c02e2b pre{padding: 0;}#sk-da7f969b-443c-4d57-8dc6-120a56c02e2b div.sk-toggleable {background-color: white;}#sk-da7f969b-443c-4d57-8dc6-120a56c02e2b label.sk-toggleable__label {cursor: pointer;display: block;width: 100%;margin-bottom: 0;padding: 0.3em;box-sizing: border-box;text-align: center;}#sk-da7f969b-443c-4d57-8dc6-120a56c02e2b label.sk-toggleable__label-arrow:before {content: \"▸\";float: left;margin-right: 0.25em;color: #696969;}#sk-da7f969b-443c-4d57-8dc6-120a56c02e2b label.sk-toggleable__label-arrow:hover:before {color: black;}#sk-da7f969b-443c-4d57-8dc6-120a56c02e2b div.sk-estimator:hover label.sk-toggleable__label-arrow:before {color: black;}#sk-da7f969b-443c-4d57-8dc6-120a56c02e2b div.sk-toggleable__content {max-height: 0;max-width: 0;overflow: hidden;text-align: left;background-color: #f0f8ff;}#sk-da7f969b-443c-4d57-8dc6-120a56c02e2b div.sk-toggleable__content pre {margin: 0.2em;color: black;border-radius: 0.25em;background-color: #f0f8ff;}#sk-da7f969b-443c-4d57-8dc6-120a56c02e2b input.sk-toggleable__control:checked~div.sk-toggleable__content {max-height: 200px;max-width: 100%;overflow: auto;}#sk-da7f969b-443c-4d57-8dc6-120a56c02e2b input.sk-toggleable__control:checked~label.sk-toggleable__label-arrow:before {content: \"▾\";}#sk-da7f969b-443c-4d57-8dc6-120a56c02e2b div.sk-estimator input.sk-toggleable__control:checked~label.sk-toggleable__label {background-color: #d4ebff;}#sk-da7f969b-443c-4d57-8dc6-120a56c02e2b div.sk-label input.sk-toggleable__control:checked~label.sk-toggleable__label {background-color: #d4ebff;}#sk-da7f969b-443c-4d57-8dc6-120a56c02e2b input.sk-hidden--visually {border: 0;clip: rect(1px 1px 1px 1px);clip: rect(1px, 1px, 1px, 1px);height: 1px;margin: -1px;overflow: hidden;padding: 0;position: absolute;width: 1px;}#sk-da7f969b-443c-4d57-8dc6-120a56c02e2b div.sk-estimator {font-family: monospace;background-color: #f0f8ff;border: 1px dotted black;border-radius: 0.25em;box-sizing: border-box;margin-bottom: 0.5em;}#sk-da7f969b-443c-4d57-8dc6-120a56c02e2b div.sk-estimator:hover {background-color: #d4ebff;}#sk-da7f969b-443c-4d57-8dc6-120a56c02e2b div.sk-parallel-item::after {content: \"\";width: 100%;border-bottom: 1px solid gray;flex-grow: 1;}#sk-da7f969b-443c-4d57-8dc6-120a56c02e2b div.sk-label:hover label.sk-toggleable__label {background-color: #d4ebff;}#sk-da7f969b-443c-4d57-8dc6-120a56c02e2b div.sk-serial::before {content: \"\";position: absolute;border-left: 1px solid gray;box-sizing: border-box;top: 2em;bottom: 0;left: 50%;}#sk-da7f969b-443c-4d57-8dc6-120a56c02e2b div.sk-serial {display: flex;flex-direction: column;align-items: center;background-color: white;padding-right: 0.2em;padding-left: 0.2em;}#sk-da7f969b-443c-4d57-8dc6-120a56c02e2b div.sk-item {z-index: 1;}#sk-da7f969b-443c-4d57-8dc6-120a56c02e2b div.sk-parallel {display: flex;align-items: stretch;justify-content: center;background-color: white;}#sk-da7f969b-443c-4d57-8dc6-120a56c02e2b div.sk-parallel::before {content: \"\";position: absolute;border-left: 1px solid gray;box-sizing: border-box;top: 2em;bottom: 0;left: 50%;}#sk-da7f969b-443c-4d57-8dc6-120a56c02e2b div.sk-parallel-item {display: flex;flex-direction: column;position: relative;background-color: white;}#sk-da7f969b-443c-4d57-8dc6-120a56c02e2b div.sk-parallel-item:first-child::after {align-self: flex-end;width: 50%;}#sk-da7f969b-443c-4d57-8dc6-120a56c02e2b div.sk-parallel-item:last-child::after {align-self: flex-start;width: 50%;}#sk-da7f969b-443c-4d57-8dc6-120a56c02e2b div.sk-parallel-item:only-child::after {width: 0;}#sk-da7f969b-443c-4d57-8dc6-120a56c02e2b div.sk-dashed-wrapped {border: 1px dashed gray;margin: 0 0.4em 0.5em 0.4em;box-sizing: border-box;padding-bottom: 0.4em;background-color: white;position: relative;}#sk-da7f969b-443c-4d57-8dc6-120a56c02e2b div.sk-label label {font-family: monospace;font-weight: bold;background-color: white;display: inline-block;line-height: 1.2em;}#sk-da7f969b-443c-4d57-8dc6-120a56c02e2b div.sk-label-container {position: relative;z-index: 2;text-align: center;}#sk-da7f969b-443c-4d57-8dc6-120a56c02e2b div.sk-container {/* jupyter's `normalize.less` sets `[hidden] { display: none; }` but bootstrap.min.css set `[hidden] { display: none !important; }` so we also need the `!important` here to be able to override the default hidden behavior on the sphinx rendered scikit-learn.org. See: https://github.com/scikit-learn/scikit-learn/issues/21755 */display: inline-block !important;position: relative;}#sk-da7f969b-443c-4d57-8dc6-120a56c02e2b div.sk-text-repr-fallback {display: none;}</style><div id=\"sk-da7f969b-443c-4d57-8dc6-120a56c02e2b\" class=\"sk-top-container\"><div class=\"sk-text-repr-fallback\"><pre>RandomizedSearchCV(cv=RepeatedStratifiedKFold(n_repeats=10, n_splits=5, random_state=42),\n",
       "                   estimator=Pipeline(steps=[(&#x27;drop_duplicates&#x27;,\n",
       "                                              DropDuplicateFeatures()),\n",
       "                                             (&#x27;cleaning&#x27;,\n",
       "                                              ColumnTransformer(transformers=[(&#x27;num&#x27;,\n",
       "                                                                               Pipeline(steps=[(&#x27;simpleimputer&#x27;,\n",
       "                                                                                                SimpleImputer()),\n",
       "                                                                                               (&#x27;minmaxscaler&#x27;,\n",
       "                                                                                                MinMaxScaler())]),\n",
       "                                                                               Index([&#x27;time&#x27;, &#x27;v1&#x27;, &#x27;v2&#x27;, &#x27;v3&#x27;, &#x27;v4&#x27;, &#x27;v5&#x27;, &#x27;v6&#x27;, &#x27;v7&#x27;, &#x27;v8&#x27;, &#x27;v9&#x27;...\n",
       "                                        &#x27;ensemble__rf__n_estimators&#x27;: [300, 400,\n",
       "                                                                       500,\n",
       "                                                                       600],\n",
       "                                        &#x27;ensemble__xgb__colsample_bytree&#x27;: [0.8,\n",
       "                                                                            0.9,\n",
       "                                                                            1],\n",
       "                                        &#x27;ensemble__xgb__gamma&#x27;: [1, 2, 3],\n",
       "                                        &#x27;ensemble__xgb__learning_rate&#x27;: [0.1],\n",
       "                                        &#x27;ensemble__xgb__max_depth&#x27;: [7, 10, 15,\n",
       "                                                                     20],\n",
       "                                        &#x27;ensemble__xgb__min_child_weight&#x27;: [10,\n",
       "                                                                            15,\n",
       "                                                                            20,\n",
       "                                                                            25],\n",
       "                                        &#x27;ensemble__xgb__n_estimators&#x27;: [300,\n",
       "                                                                        400,\n",
       "                                                                        500,\n",
       "                                                                        600],\n",
       "                                        &#x27;ensemble__xgb__reg_alpha&#x27;: [0.5, 0.2,\n",
       "                                                                     1],\n",
       "                                        &#x27;ensemble__xgb__reg_lambda&#x27;: [2, 3, 5]},\n",
       "                   scoring=&#x27;f1&#x27;)</pre><b>Please rerun this cell to show the HTML repr or trust the notebook.</b></div><div class=\"sk-container\" hidden><div class=\"sk-item sk-dashed-wrapped\"><div class=\"sk-label-container\"><div class=\"sk-label sk-toggleable\"><input class=\"sk-toggleable__control sk-hidden--visually\" id=\"70ad0054-b294-4a99-a09a-29075cdddb57\" type=\"checkbox\" ><label for=\"70ad0054-b294-4a99-a09a-29075cdddb57\" class=\"sk-toggleable__label sk-toggleable__label-arrow\">RandomizedSearchCV</label><div class=\"sk-toggleable__content\"><pre>RandomizedSearchCV(cv=RepeatedStratifiedKFold(n_repeats=10, n_splits=5, random_state=42),\n",
       "                   estimator=Pipeline(steps=[(&#x27;drop_duplicates&#x27;,\n",
       "                                              DropDuplicateFeatures()),\n",
       "                                             (&#x27;cleaning&#x27;,\n",
       "                                              ColumnTransformer(transformers=[(&#x27;num&#x27;,\n",
       "                                                                               Pipeline(steps=[(&#x27;simpleimputer&#x27;,\n",
       "                                                                                                SimpleImputer()),\n",
       "                                                                                               (&#x27;minmaxscaler&#x27;,\n",
       "                                                                                                MinMaxScaler())]),\n",
       "                                                                               Index([&#x27;time&#x27;, &#x27;v1&#x27;, &#x27;v2&#x27;, &#x27;v3&#x27;, &#x27;v4&#x27;, &#x27;v5&#x27;, &#x27;v6&#x27;, &#x27;v7&#x27;, &#x27;v8&#x27;, &#x27;v9&#x27;...\n",
       "                                        &#x27;ensemble__rf__n_estimators&#x27;: [300, 400,\n",
       "                                                                       500,\n",
       "                                                                       600],\n",
       "                                        &#x27;ensemble__xgb__colsample_bytree&#x27;: [0.8,\n",
       "                                                                            0.9,\n",
       "                                                                            1],\n",
       "                                        &#x27;ensemble__xgb__gamma&#x27;: [1, 2, 3],\n",
       "                                        &#x27;ensemble__xgb__learning_rate&#x27;: [0.1],\n",
       "                                        &#x27;ensemble__xgb__max_depth&#x27;: [7, 10, 15,\n",
       "                                                                     20],\n",
       "                                        &#x27;ensemble__xgb__min_child_weight&#x27;: [10,\n",
       "                                                                            15,\n",
       "                                                                            20,\n",
       "                                                                            25],\n",
       "                                        &#x27;ensemble__xgb__n_estimators&#x27;: [300,\n",
       "                                                                        400,\n",
       "                                                                        500,\n",
       "                                                                        600],\n",
       "                                        &#x27;ensemble__xgb__reg_alpha&#x27;: [0.5, 0.2,\n",
       "                                                                     1],\n",
       "                                        &#x27;ensemble__xgb__reg_lambda&#x27;: [2, 3, 5]},\n",
       "                   scoring=&#x27;f1&#x27;)</pre></div></div></div><div class=\"sk-parallel\"><div class=\"sk-parallel-item\"><div class=\"sk-item\"><div class=\"sk-serial\"><div class=\"sk-item\"><div class=\"sk-serial\"><div class=\"sk-item\"><div class=\"sk-estimator sk-toggleable\"><input class=\"sk-toggleable__control sk-hidden--visually\" id=\"a79fe144-6903-4117-a332-113e30fb079b\" type=\"checkbox\" ><label for=\"a79fe144-6903-4117-a332-113e30fb079b\" class=\"sk-toggleable__label sk-toggleable__label-arrow\">DropDuplicateFeatures</label><div class=\"sk-toggleable__content\"><pre>DropDuplicateFeatures()</pre></div></div></div><div class=\"sk-item sk-dashed-wrapped\"><div class=\"sk-label-container\"><div class=\"sk-label sk-toggleable\"><input class=\"sk-toggleable__control sk-hidden--visually\" id=\"8ca0a9ee-7c32-4df1-8980-265ba7b53209\" type=\"checkbox\" ><label for=\"8ca0a9ee-7c32-4df1-8980-265ba7b53209\" class=\"sk-toggleable__label sk-toggleable__label-arrow\">cleaning: ColumnTransformer</label><div class=\"sk-toggleable__content\"><pre>ColumnTransformer(transformers=[(&#x27;num&#x27;,\n",
       "                                 Pipeline(steps=[(&#x27;simpleimputer&#x27;,\n",
       "                                                  SimpleImputer()),\n",
       "                                                 (&#x27;minmaxscaler&#x27;,\n",
       "                                                  MinMaxScaler())]),\n",
       "                                 Index([&#x27;time&#x27;, &#x27;v1&#x27;, &#x27;v2&#x27;, &#x27;v3&#x27;, &#x27;v4&#x27;, &#x27;v5&#x27;, &#x27;v6&#x27;, &#x27;v7&#x27;, &#x27;v8&#x27;, &#x27;v9&#x27;, &#x27;v10&#x27;,\n",
       "       &#x27;v11&#x27;, &#x27;v12&#x27;, &#x27;v13&#x27;, &#x27;v14&#x27;, &#x27;v15&#x27;, &#x27;v16&#x27;, &#x27;v17&#x27;, &#x27;v18&#x27;, &#x27;v19&#x27;, &#x27;v20&#x27;,\n",
       "       &#x27;v21&#x27;, &#x27;v22&#x27;, &#x27;v23&#x27;, &#x27;v24&#x27;, &#x27;v25&#x27;, &#x27;v26&#x27;, &#x27;v27&#x27;, &#x27;v28&#x27;, &#x27;amount&#x27;],\n",
       "      dtype=&#x27;object&#x27;))])</pre></div></div></div><div class=\"sk-parallel\"><div class=\"sk-parallel-item\"><div class=\"sk-item\"><div class=\"sk-label-container\"><div class=\"sk-label sk-toggleable\"><input class=\"sk-toggleable__control sk-hidden--visually\" id=\"be256d51-f886-410a-a06b-b97f7a2a71de\" type=\"checkbox\" ><label for=\"be256d51-f886-410a-a06b-b97f7a2a71de\" class=\"sk-toggleable__label sk-toggleable__label-arrow\">num</label><div class=\"sk-toggleable__content\"><pre>Index([&#x27;time&#x27;, &#x27;v1&#x27;, &#x27;v2&#x27;, &#x27;v3&#x27;, &#x27;v4&#x27;, &#x27;v5&#x27;, &#x27;v6&#x27;, &#x27;v7&#x27;, &#x27;v8&#x27;, &#x27;v9&#x27;, &#x27;v10&#x27;,\n",
       "       &#x27;v11&#x27;, &#x27;v12&#x27;, &#x27;v13&#x27;, &#x27;v14&#x27;, &#x27;v15&#x27;, &#x27;v16&#x27;, &#x27;v17&#x27;, &#x27;v18&#x27;, &#x27;v19&#x27;, &#x27;v20&#x27;,\n",
       "       &#x27;v21&#x27;, &#x27;v22&#x27;, &#x27;v23&#x27;, &#x27;v24&#x27;, &#x27;v25&#x27;, &#x27;v26&#x27;, &#x27;v27&#x27;, &#x27;v28&#x27;, &#x27;amount&#x27;],\n",
       "      dtype=&#x27;object&#x27;)</pre></div></div></div><div class=\"sk-serial\"><div class=\"sk-item\"><div class=\"sk-serial\"><div class=\"sk-item\"><div class=\"sk-estimator sk-toggleable\"><input class=\"sk-toggleable__control sk-hidden--visually\" id=\"2ee958bc-cf15-454e-8833-30f292643597\" type=\"checkbox\" ><label for=\"2ee958bc-cf15-454e-8833-30f292643597\" class=\"sk-toggleable__label sk-toggleable__label-arrow\">SimpleImputer</label><div class=\"sk-toggleable__content\"><pre>SimpleImputer()</pre></div></div></div><div class=\"sk-item\"><div class=\"sk-estimator sk-toggleable\"><input class=\"sk-toggleable__control sk-hidden--visually\" id=\"4d77d56c-0d3f-4957-8dc6-4114dc82cf41\" type=\"checkbox\" ><label for=\"4d77d56c-0d3f-4957-8dc6-4114dc82cf41\" class=\"sk-toggleable__label sk-toggleable__label-arrow\">MinMaxScaler</label><div class=\"sk-toggleable__content\"><pre>MinMaxScaler()</pre></div></div></div></div></div></div></div></div></div></div><div class=\"sk-item\"><div class=\"sk-estimator sk-toggleable\"><input class=\"sk-toggleable__control sk-hidden--visually\" id=\"9c2ee16e-67d5-46e5-8d97-2f56da6d0538\" type=\"checkbox\" ><label for=\"9c2ee16e-67d5-46e5-8d97-2f56da6d0538\" class=\"sk-toggleable__label sk-toggleable__label-arrow\">SMOTE</label><div class=\"sk-toggleable__content\"><pre>SMOTE()</pre></div></div></div><div class=\"sk-item sk-dashed-wrapped\"><div class=\"sk-label-container\"><div class=\"sk-label sk-toggleable\"><input class=\"sk-toggleable__control sk-hidden--visually\" id=\"dc0604e3-5ec6-48fd-83f5-c9039d1b6385\" type=\"checkbox\" ><label for=\"dc0604e3-5ec6-48fd-83f5-c9039d1b6385\" class=\"sk-toggleable__label sk-toggleable__label-arrow\">ensemble: VotingClassifier</label><div class=\"sk-toggleable__content\"><pre>VotingClassifier(estimators=[(&#x27;lr&#x27;,\n",
       "                              LogisticRegression(max_iter=40, warm_start=True)),\n",
       "                             (&#x27;xgb&#x27;,\n",
       "                              XGBClassifier(base_score=None, booster=None,\n",
       "                                            callbacks=None,\n",
       "                                            colsample_bylevel=None,\n",
       "                                            colsample_bynode=None,\n",
       "                                            colsample_bytree=None,\n",
       "                                            early_stopping_rounds=None,\n",
       "                                            enable_categorical=False,\n",
       "                                            eval_metric=None,\n",
       "                                            feature_types=None, gamma=None,\n",
       "                                            gpu_id=None, grow_policy=None,\n",
       "                                            import...\n",
       "                                            interaction_constraints=None,\n",
       "                                            learning_rate=None, max_bin=None,\n",
       "                                            max_cat_threshold=None,\n",
       "                                            max_cat_to_onehot=None,\n",
       "                                            max_delta_step=None, max_depth=None,\n",
       "                                            max_leaves=None,\n",
       "                                            min_child_weight=None, missing=nan,\n",
       "                                            monotone_constraints=None,\n",
       "                                            n_estimators=100, n_jobs=None,\n",
       "                                            num_parallel_tree=None,\n",
       "                                            predictor=None, random_state=None, ...)),\n",
       "                             (&#x27;rf&#x27;, RandomForestClassifier())],\n",
       "                 voting=&#x27;soft&#x27;)</pre></div></div></div><div class=\"sk-parallel\"><div class=\"sk-parallel-item\"><div class=\"sk-item\"><div class=\"sk-label-container\"><div class=\"sk-label sk-toggleable\"><label>lr</label></div></div><div class=\"sk-serial\"><div class=\"sk-item\"><div class=\"sk-estimator sk-toggleable\"><input class=\"sk-toggleable__control sk-hidden--visually\" id=\"fec62d6f-d0ec-4d73-9fa7-716e15091930\" type=\"checkbox\" ><label for=\"fec62d6f-d0ec-4d73-9fa7-716e15091930\" class=\"sk-toggleable__label sk-toggleable__label-arrow\">LogisticRegression</label><div class=\"sk-toggleable__content\"><pre>LogisticRegression(max_iter=40, warm_start=True)</pre></div></div></div></div></div></div><div class=\"sk-parallel-item\"><div class=\"sk-item\"><div class=\"sk-label-container\"><div class=\"sk-label sk-toggleable\"><label>xgb</label></div></div><div class=\"sk-serial\"><div class=\"sk-item\"><div class=\"sk-estimator sk-toggleable\"><input class=\"sk-toggleable__control sk-hidden--visually\" id=\"7a2550d0-e378-45f1-ba98-4c508ea657e6\" type=\"checkbox\" ><label for=\"7a2550d0-e378-45f1-ba98-4c508ea657e6\" class=\"sk-toggleable__label sk-toggleable__label-arrow\">XGBClassifier</label><div class=\"sk-toggleable__content\"><pre>XGBClassifier(base_score=None, booster=None, callbacks=None,\n",
       "              colsample_bylevel=None, colsample_bynode=None,\n",
       "              colsample_bytree=None, early_stopping_rounds=None,\n",
       "              enable_categorical=False, eval_metric=None, feature_types=None,\n",
       "              gamma=None, gpu_id=None, grow_policy=None, importance_type=None,\n",
       "              interaction_constraints=None, learning_rate=None, max_bin=None,\n",
       "              max_cat_threshold=None, max_cat_to_onehot=None,\n",
       "              max_delta_step=None, max_depth=None, max_leaves=None,\n",
       "              min_child_weight=None, missing=nan, monotone_constraints=None,\n",
       "              n_estimators=100, n_jobs=None, num_parallel_tree=None,\n",
       "              predictor=None, random_state=None, ...)</pre></div></div></div></div></div></div><div class=\"sk-parallel-item\"><div class=\"sk-item\"><div class=\"sk-label-container\"><div class=\"sk-label sk-toggleable\"><label>rf</label></div></div><div class=\"sk-serial\"><div class=\"sk-item\"><div class=\"sk-estimator sk-toggleable\"><input class=\"sk-toggleable__control sk-hidden--visually\" id=\"b3720388-46cd-4c61-80aa-c18545cc2cee\" type=\"checkbox\" ><label for=\"b3720388-46cd-4c61-80aa-c18545cc2cee\" class=\"sk-toggleable__label sk-toggleable__label-arrow\">RandomForestClassifier</label><div class=\"sk-toggleable__content\"><pre>RandomForestClassifier()</pre></div></div></div></div></div></div></div></div></div></div></div></div></div></div></div></div></div>"
      ],
      "text/plain": [
       "RandomizedSearchCV(cv=RepeatedStratifiedKFold(n_repeats=10, n_splits=5, random_state=42),\n",
       "                   estimator=Pipeline(steps=[('drop_duplicates',\n",
       "                                              DropDuplicateFeatures()),\n",
       "                                             ('cleaning',\n",
       "                                              ColumnTransformer(transformers=[('num',\n",
       "                                                                               Pipeline(steps=[('simpleimputer',\n",
       "                                                                                                SimpleImputer()),\n",
       "                                                                                               ('minmaxscaler',\n",
       "                                                                                                MinMaxScaler())]),\n",
       "                                                                               Index(['time', 'v1', 'v2', 'v3', 'v4', 'v5', 'v6', 'v7', 'v8', 'v9'...\n",
       "                                        'ensemble__rf__n_estimators': [300, 400,\n",
       "                                                                       500,\n",
       "                                                                       600],\n",
       "                                        'ensemble__xgb__colsample_bytree': [0.8,\n",
       "                                                                            0.9,\n",
       "                                                                            1],\n",
       "                                        'ensemble__xgb__gamma': [1, 2, 3],\n",
       "                                        'ensemble__xgb__learning_rate': [0.1],\n",
       "                                        'ensemble__xgb__max_depth': [7, 10, 15,\n",
       "                                                                     20],\n",
       "                                        'ensemble__xgb__min_child_weight': [10,\n",
       "                                                                            15,\n",
       "                                                                            20,\n",
       "                                                                            25],\n",
       "                                        'ensemble__xgb__n_estimators': [300,\n",
       "                                                                        400,\n",
       "                                                                        500,\n",
       "                                                                        600],\n",
       "                                        'ensemble__xgb__reg_alpha': [0.5, 0.2,\n",
       "                                                                     1],\n",
       "                                        'ensemble__xgb__reg_lambda': [2, 3, 5]},\n",
       "                   scoring='f1')"
      ]
     },
     "execution_count": 16,
     "metadata": {},
     "output_type": "execute_result"
    }
   ],
   "source": [
    "clf.fit(X_train, y_train)"
   ]
  },
  {
   "cell_type": "code",
   "execution_count": 19,
   "id": "404da65c",
   "metadata": {},
   "outputs": [
    {
     "name": "stdout",
     "output_type": "stream",
     "text": [
      "Best Score 0.6755122944419214\n",
      "Best Params Pipeline(steps=[('drop_duplicates', DropDuplicateFeatures()),\n",
      "                ('cleaning',\n",
      "                 ColumnTransformer(transformers=[('num',\n",
      "                                                  Pipeline(steps=[('simpleimputer',\n",
      "                                                                   SimpleImputer()),\n",
      "                                                                  ('minmaxscaler',\n",
      "                                                                   MinMaxScaler())]),\n",
      "                                                  Index(['time', 'v1', 'v2', 'v3', 'v4', 'v5', 'v6', 'v7', 'v8', 'v9', 'v10',\n",
      "       'v11', 'v12', 'v13', 'v14', 'v15', 'v16', 'v17', 'v18', 'v19', 'v20',\n",
      "       'v21', 'v22', 'v23', 'v24', 'v25',...\n",
      "                                                             max_cat_threshold=None,\n",
      "                                                             max_cat_to_onehot=None,\n",
      "                                                             max_delta_step=None,\n",
      "                                                             max_depth=20,\n",
      "                                                             max_leaves=None,\n",
      "                                                             min_child_weight=15,\n",
      "                                                             missing=nan,\n",
      "                                                             monotone_constraints=None,\n",
      "                                                             n_estimators=400,\n",
      "                                                             n_jobs=None,\n",
      "                                                             num_parallel_tree=None,\n",
      "                                                             predictor=None,\n",
      "                                                             random_state=None, ...)),\n",
      "                                              ('rf',\n",
      "                                               RandomForestClassifier(max_depth=10,\n",
      "                                                                      min_samples_leaf=4,\n",
      "                                                                      min_samples_split=5,\n",
      "                                                                      n_estimators=600))],\n",
      "                                  voting='soft'))])\n",
      "AUC: 0.8975\n"
     ]
    }
   ],
   "source": [
    "print('Best Score', clf.best_score_)\n",
    "print('Best Params', clf.best_estimator_)\n",
    "print('AUC:', roc_auc_score(y_test, clf.predict(X_test)))"
   ]
  },
  {
   "cell_type": "code",
   "execution_count": null,
   "id": "c6f87c2a",
   "metadata": {},
   "outputs": [],
   "source": [
    "best_model = clf.best_prams_.predict(X_test)"
   ]
  },
  {
   "cell_type": "code",
   "execution_count": null,
   "id": "813af22a",
   "metadata": {},
   "outputs": [],
   "source": []
  },
  {
   "cell_type": "code",
   "execution_count": null,
   "id": "b5a6f59a",
   "metadata": {},
   "outputs": [],
   "source": []
  },
  {
   "cell_type": "code",
   "execution_count": 136,
   "id": "6a611c6e",
   "metadata": {},
   "outputs": [],
   "source": [
    "import numpy as np\n",
    "from sklearn.model_selection import StratifiedKFold\n",
    "X = np.array([[7, 2, 6], [3, 4, 8], [3, 4, 8],[6, 2, 9], [3, 4, 1]])\n",
    "y = np.array([5, 5, 0, 0, 2])\n",
    "rskf = StratifiedKFold(n_splits=5,random_state=36851234, shuffle=True)\n"
   ]
  },
  {
   "cell_type": "code",
   "execution_count": 134,
   "id": "80d0982a",
   "metadata": {},
   "outputs": [],
   "source": [
    "for i, (train_index, test_index) in enumerate(rskf.split(X, y)):\n",
    "    print(f\"Fold {i}:\")\n",
    "    print(f\"  Train: index={train_index}\")\n",
    "    print(f\"  Test:  index={test_index}\")"
   ]
  },
  {
   "cell_type": "code",
   "execution_count": 137,
   "id": "4f8fea00",
   "metadata": {},
   "outputs": [
    {
     "data": {
      "text/plain": [
       "[(array([1, 2]), array([0, 3, 4])), (array([0, 3, 4]), array([1, 2]))]"
      ]
     },
     "execution_count": 137,
     "metadata": {},
     "output_type": "execute_result"
    }
   ],
   "source": [
    "list(rskf.split(X, y))"
   ]
  },
  {
   "cell_type": "code",
   "execution_count": 123,
   "id": "e3b9711c",
   "metadata": {},
   "outputs": [],
   "source": [
    "import numpy as np\n",
    "from sklearn.model_selection import RepeatedStratifiedKFold\n",
    "X = np.array([[7, 2, 6], [3, 4, 8], [3, 4, 8],[6, 2, 9], [3, 4, 1]])\n",
    "y = np.array([5, 5, 0, 0, 2])\n",
    "rskf = RepeatedStratifiedKFold(n_splits=2,\n",
    "                               random_state=36851234)\n"
   ]
  },
  {
   "cell_type": "code",
   "execution_count": 124,
   "id": "462c6fdb",
   "metadata": {},
   "outputs": [
    {
     "name": "stdout",
     "output_type": "stream",
     "text": [
      "Fold 0:\n",
      "  Train: index=[1 2]\n",
      "  Test:  index=[0 3 4]\n",
      "Fold 1:\n",
      "  Train: index=[0 3 4]\n",
      "  Test:  index=[1 2]\n",
      "Fold 2:\n",
      "  Train: index=[1 3]\n",
      "  Test:  index=[0 2 4]\n",
      "Fold 3:\n",
      "  Train: index=[0 2 4]\n",
      "  Test:  index=[1 3]\n",
      "Fold 4:\n",
      "  Train: index=[1 2]\n",
      "  Test:  index=[0 3 4]\n",
      "Fold 5:\n",
      "  Train: index=[0 3 4]\n",
      "  Test:  index=[1 2]\n",
      "Fold 6:\n",
      "  Train: index=[0 3]\n",
      "  Test:  index=[1 2 4]\n",
      "Fold 7:\n",
      "  Train: index=[1 2 4]\n",
      "  Test:  index=[0 3]\n",
      "Fold 8:\n",
      "  Train: index=[1 3]\n",
      "  Test:  index=[0 2 4]\n",
      "Fold 9:\n",
      "  Train: index=[0 2 4]\n",
      "  Test:  index=[1 3]\n",
      "Fold 10:\n",
      "  Train: index=[0 3]\n",
      "  Test:  index=[1 2 4]\n",
      "Fold 11:\n",
      "  Train: index=[1 2 4]\n",
      "  Test:  index=[0 3]\n",
      "Fold 12:\n",
      "  Train: index=[0 2]\n",
      "  Test:  index=[1 3 4]\n",
      "Fold 13:\n",
      "  Train: index=[1 3 4]\n",
      "  Test:  index=[0 2]\n",
      "Fold 14:\n",
      "  Train: index=[0 3]\n",
      "  Test:  index=[1 2 4]\n",
      "Fold 15:\n",
      "  Train: index=[1 2 4]\n",
      "  Test:  index=[0 3]\n",
      "Fold 16:\n",
      "  Train: index=[0 3]\n",
      "  Test:  index=[1 2 4]\n",
      "Fold 17:\n",
      "  Train: index=[1 2 4]\n",
      "  Test:  index=[0 3]\n",
      "Fold 18:\n",
      "  Train: index=[1 3]\n",
      "  Test:  index=[0 2 4]\n",
      "Fold 19:\n",
      "  Train: index=[0 2 4]\n",
      "  Test:  index=[1 3]\n"
     ]
    }
   ],
   "source": [
    "for i, (train_index, test_index) in enumerate(rskf.split(X, y)):\n",
    "    print(f\"Fold {i}:\")\n",
    "    print(f\"  Train: index={train_index}\")\n",
    "    print(f\"  Test:  index={test_index}\")\n",
    "   "
   ]
  },
  {
   "cell_type": "code",
   "execution_count": 101,
   "id": "9c382ec7",
   "metadata": {},
   "outputs": [
    {
     "data": {
      "text/plain": [
       "array([5, 5, 0, 0])"
      ]
     },
     "execution_count": 101,
     "metadata": {},
     "output_type": "execute_result"
    }
   ],
   "source": [
    "y"
   ]
  },
  {
   "cell_type": "code",
   "execution_count": 102,
   "id": "58c56e8e",
   "metadata": {},
   "outputs": [
    {
     "data": {
      "text/plain": [
       "[(array([1, 2]), array([0, 3])),\n",
       " (array([0, 3]), array([1, 2])),\n",
       " (array([1, 3]), array([0, 2])),\n",
       " (array([0, 2]), array([1, 3])),\n",
       " (array([1, 2]), array([0, 3])),\n",
       " (array([0, 3]), array([1, 2])),\n",
       " (array([0, 3]), array([1, 2])),\n",
       " (array([1, 2]), array([0, 3])),\n",
       " (array([1, 3]), array([0, 2])),\n",
       " (array([0, 2]), array([1, 3])),\n",
       " (array([0, 3]), array([1, 2])),\n",
       " (array([1, 2]), array([0, 3])),\n",
       " (array([0, 2]), array([1, 3])),\n",
       " (array([1, 3]), array([0, 2])),\n",
       " (array([0, 3]), array([1, 2])),\n",
       " (array([1, 2]), array([0, 3])),\n",
       " (array([0, 3]), array([1, 2])),\n",
       " (array([1, 2]), array([0, 3])),\n",
       " (array([1, 3]), array([0, 2])),\n",
       " (array([0, 2]), array([1, 3]))]"
      ]
     },
     "execution_count": 102,
     "metadata": {},
     "output_type": "execute_result"
    }
   ],
   "source": [
    "list(rskf.split(X, y))"
   ]
  },
  {
   "cell_type": "code",
   "execution_count": null,
   "id": "9f0e403f",
   "metadata": {},
   "outputs": [],
   "source": []
  },
  {
   "cell_type": "code",
   "execution_count": null,
   "id": "8c632c6f",
   "metadata": {},
   "outputs": [],
   "source": []
  },
  {
   "cell_type": "code",
   "execution_count": null,
   "id": "1e1f9571",
   "metadata": {},
   "outputs": [],
   "source": []
  },
  {
   "cell_type": "code",
   "execution_count": null,
   "id": "3e712fea",
   "metadata": {},
   "outputs": [],
   "source": []
  },
  {
   "cell_type": "code",
   "execution_count": null,
   "id": "799c6104",
   "metadata": {},
   "outputs": [],
   "source": []
  }
 ],
 "metadata": {
  "kernelspec": {
   "display_name": "Python 3 (ipykernel)",
   "language": "python",
   "name": "python3"
  },
  "language_info": {
   "codemirror_mode": {
    "name": "ipython",
    "version": 3
   },
   "file_extension": ".py",
   "mimetype": "text/x-python",
   "name": "python",
   "nbconvert_exporter": "python",
   "pygments_lexer": "ipython3",
   "version": "3.9.7"
  }
 },
 "nbformat": 4,
 "nbformat_minor": 5
}
