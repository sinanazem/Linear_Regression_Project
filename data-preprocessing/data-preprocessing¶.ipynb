{
 "cells": [
  {
   "cell_type": "markdown",
   "id": "0446cc6f",
   "metadata": {},
   "source": [
    "# Data Preprocessing"
   ]
  },
  {
   "cell_type": "markdown",
   "id": "e062c8f2",
   "metadata": {},
   "source": [
    "<img src=\"https://cdn-blog.scalablepath.com/uploads/2021/11/900-x-615-1.png\" width=550>"
   ]
  },
  {
   "cell_type": "markdown",
   "id": "e491c4f5",
   "metadata": {},
   "source": [
    "# 1. Data preparation on the test data set:"
   ]
  },
  {
   "cell_type": "markdown",
   "id": "4731d05e",
   "metadata": {},
   "source": [
    "### 1.1. Import Necessary Libraries"
   ]
  },
  {
   "cell_type": "code",
   "execution_count": 1,
   "id": "36e32072",
   "metadata": {},
   "outputs": [],
   "source": [
    "import pandas as pd\n",
    "import numpy as np\n",
    "import seaborn as sns\n",
    "import matplotlib.pyplot as plt\n",
    "from sklearn.impute import SimpleImputer\n",
    "from sklearn.preprocessing import LabelEncoder, OneHotEncoder, StandardScaler\n",
    "from sklearn.compose import ColumnTransformer"
   ]
  },
  {
   "cell_type": "markdown",
   "id": "85b3ec7c",
   "metadata": {},
   "source": [
    "### 1.2. Creating a test data set"
   ]
  },
  {
   "cell_type": "code",
   "execution_count": 2,
   "id": "f5aae65d",
   "metadata": {},
   "outputs": [],
   "source": [
    "data = pd.DataFrame(\n",
    "    {\n",
    "        \"Region\": [\"India\", \"Brazil\", \"USA\", \"Brazil\", \"USA\", \"India\", \"Brazil\", \"India\", \"USA\", \"India\"],\n",
    "        \"Age\": [49, 32, 35, 43, 45, 40, np.nan, 53, 55, 42],\n",
    "        \"Income\": [86400, 57600, 64800, 73200, np.nan, 69600, 62400, 94800, 99600, 80400],\n",
    "        \"Online Shopper\": [\"No\", \"Yes\", \"No\", \"No\", \"Yes\", \"Yes\", \"No\", \"Yes\", \"No\", \"Yes\"]\n",
    "    }\n",
    ")"
   ]
  },
  {
   "cell_type": "code",
   "execution_count": 3,
   "id": "812621cb",
   "metadata": {},
   "outputs": [
    {
     "data": {
      "text/html": [
       "<div>\n",
       "<style scoped>\n",
       "    .dataframe tbody tr th:only-of-type {\n",
       "        vertical-align: middle;\n",
       "    }\n",
       "\n",
       "    .dataframe tbody tr th {\n",
       "        vertical-align: top;\n",
       "    }\n",
       "\n",
       "    .dataframe thead th {\n",
       "        text-align: right;\n",
       "    }\n",
       "</style>\n",
       "<table border=\"1\" class=\"dataframe\">\n",
       "  <thead>\n",
       "    <tr style=\"text-align: right;\">\n",
       "      <th></th>\n",
       "      <th>Region</th>\n",
       "      <th>Age</th>\n",
       "      <th>Income</th>\n",
       "      <th>Online Shopper</th>\n",
       "    </tr>\n",
       "  </thead>\n",
       "  <tbody>\n",
       "    <tr>\n",
       "      <th>0</th>\n",
       "      <td>India</td>\n",
       "      <td>49.0</td>\n",
       "      <td>86400.0</td>\n",
       "      <td>No</td>\n",
       "    </tr>\n",
       "    <tr>\n",
       "      <th>1</th>\n",
       "      <td>Brazil</td>\n",
       "      <td>32.0</td>\n",
       "      <td>57600.0</td>\n",
       "      <td>Yes</td>\n",
       "    </tr>\n",
       "    <tr>\n",
       "      <th>2</th>\n",
       "      <td>USA</td>\n",
       "      <td>35.0</td>\n",
       "      <td>64800.0</td>\n",
       "      <td>No</td>\n",
       "    </tr>\n",
       "    <tr>\n",
       "      <th>3</th>\n",
       "      <td>Brazil</td>\n",
       "      <td>43.0</td>\n",
       "      <td>73200.0</td>\n",
       "      <td>No</td>\n",
       "    </tr>\n",
       "    <tr>\n",
       "      <th>4</th>\n",
       "      <td>USA</td>\n",
       "      <td>45.0</td>\n",
       "      <td>NaN</td>\n",
       "      <td>Yes</td>\n",
       "    </tr>\n",
       "    <tr>\n",
       "      <th>5</th>\n",
       "      <td>India</td>\n",
       "      <td>40.0</td>\n",
       "      <td>69600.0</td>\n",
       "      <td>Yes</td>\n",
       "    </tr>\n",
       "    <tr>\n",
       "      <th>6</th>\n",
       "      <td>Brazil</td>\n",
       "      <td>NaN</td>\n",
       "      <td>62400.0</td>\n",
       "      <td>No</td>\n",
       "    </tr>\n",
       "    <tr>\n",
       "      <th>7</th>\n",
       "      <td>India</td>\n",
       "      <td>53.0</td>\n",
       "      <td>94800.0</td>\n",
       "      <td>Yes</td>\n",
       "    </tr>\n",
       "    <tr>\n",
       "      <th>8</th>\n",
       "      <td>USA</td>\n",
       "      <td>55.0</td>\n",
       "      <td>99600.0</td>\n",
       "      <td>No</td>\n",
       "    </tr>\n",
       "    <tr>\n",
       "      <th>9</th>\n",
       "      <td>India</td>\n",
       "      <td>42.0</td>\n",
       "      <td>80400.0</td>\n",
       "      <td>Yes</td>\n",
       "    </tr>\n",
       "  </tbody>\n",
       "</table>\n",
       "</div>"
      ],
      "text/plain": [
       "   Region   Age   Income Online Shopper\n",
       "0   India  49.0  86400.0             No\n",
       "1  Brazil  32.0  57600.0            Yes\n",
       "2     USA  35.0  64800.0             No\n",
       "3  Brazil  43.0  73200.0             No\n",
       "4     USA  45.0      NaN            Yes\n",
       "5   India  40.0  69600.0            Yes\n",
       "6  Brazil   NaN  62400.0             No\n",
       "7   India  53.0  94800.0            Yes\n",
       "8     USA  55.0  99600.0             No\n",
       "9   India  42.0  80400.0            Yes"
      ]
     },
     "execution_count": 3,
     "metadata": {},
     "output_type": "execute_result"
    }
   ],
   "source": [
    "data"
   ]
  },
  {
   "cell_type": "markdown",
   "id": "33a8ece7",
   "metadata": {},
   "source": [
    "### 1.3. separating dependent and independent variables"
   ]
  },
  {
   "cell_type": "code",
   "execution_count": 4,
   "id": "a3007ab2",
   "metadata": {},
   "outputs": [],
   "source": [
    "X = data.iloc[:, :-1].values\n",
    "y = data.iloc[:, -1].values"
   ]
  },
  {
   "cell_type": "markdown",
   "id": "de3bfb02",
   "metadata": {},
   "source": [
    "### 1.4. Handling Missing Values"
   ]
  },
  {
   "cell_type": "code",
   "execution_count": 5,
   "id": "a3800829",
   "metadata": {},
   "outputs": [],
   "source": [
    "si = SimpleImputer(missing_values=np.nan, strategy='mean')\n",
    "si.fit(X[:, 1:])\n",
    "X[:, 1:] = si.transform(X[:, 1:])"
   ]
  },
  {
   "cell_type": "markdown",
   "id": "2139ae62",
   "metadata": {},
   "source": [
    "### 1.5. Encoding Categorical Values"
   ]
  },
  {
   "cell_type": "code",
   "execution_count": 6,
   "id": "a7db0beb",
   "metadata": {},
   "outputs": [],
   "source": [
    "le = LabelEncoder()\n",
    "X[:, 0] = le.fit_transform(X[:, 0])"
   ]
  },
  {
   "cell_type": "code",
   "execution_count": 7,
   "id": "eea08185",
   "metadata": {},
   "outputs": [],
   "source": [
    "ohe = OneHotEncoder()\n",
    "ct = ColumnTransformer(\n",
    "    [('country', OneHotEncoder(), [0])], remainder='passthrough'\n",
    ")"
   ]
  },
  {
   "cell_type": "code",
   "execution_count": 8,
   "id": "367e03dc",
   "metadata": {},
   "outputs": [],
   "source": [
    "X = ct.fit_transform(X)"
   ]
  },
  {
   "cell_type": "markdown",
   "id": "1f757eee",
   "metadata": {},
   "source": [
    "### 1.6. Scaling and standardizaation"
   ]
  },
  {
   "cell_type": "code",
   "execution_count": 9,
   "id": "5f1ccc13",
   "metadata": {},
   "outputs": [],
   "source": [
    "ss = StandardScaler()\n",
    "X = ss.fit_transform(X)"
   ]
  },
  {
   "cell_type": "code",
   "execution_count": 10,
   "id": "7198271c",
   "metadata": {},
   "outputs": [
    {
     "data": {
      "text/plain": [
       "array([[-0.65465367,  1.22474487, -0.65465367,  0.75887436,  0.74947325],\n",
       "       [ 1.52752523, -0.81649658, -0.65465367, -1.71150388, -1.43817841],\n",
       "       [-0.65465367, -0.81649658,  1.52752523, -1.27555478, -0.89126549],\n",
       "       [ 1.52752523, -0.81649658, -0.65465367, -0.11302384, -0.25320042],\n",
       "       [-0.65465367, -0.81649658,  1.52752523,  0.17760889,  0.        ],\n",
       "       [-0.65465367,  1.22474487, -0.65465367, -0.54897294, -0.52665688],\n",
       "       [ 1.52752523, -0.81649658, -0.65465367,  0.        , -1.0735698 ],\n",
       "       [-0.65465367,  1.22474487, -0.65465367,  1.34013983,  1.38753832],\n",
       "       [-0.65465367, -0.81649658,  1.52752523,  1.63077256,  1.75214693],\n",
       "       [-0.65465367,  1.22474487, -0.65465367, -0.25834021,  0.29371249]])"
      ]
     },
     "execution_count": 10,
     "metadata": {},
     "output_type": "execute_result"
    }
   ],
   "source": [
    "X"
   ]
  },
  {
   "cell_type": "markdown",
   "id": "cdb0c381",
   "metadata": {},
   "source": [
    " "
   ]
  },
  {
   "cell_type": "markdown",
   "id": "d9d7615d",
   "metadata": {},
   "source": [
    " "
   ]
  },
  {
   "cell_type": "markdown",
   "id": "ba46db9c",
   "metadata": {},
   "source": [
    " \n",
    "    \n",
    "      "
   ]
  },
  {
   "cell_type": "markdown",
   "id": "8843440c",
   "metadata": {},
   "source": [
    "# 2. Data preparation on the test data set:"
   ]
  },
  {
   "cell_type": "markdown",
   "id": "c00ade7d",
   "metadata": {},
   "source": [
    "### 2.1. Import Necessary Libraries"
   ]
  },
  {
   "cell_type": "code",
   "execution_count": 44,
   "id": "6735c84a",
   "metadata": {},
   "outputs": [],
   "source": [
    "import pandas as pd\n",
    "import numpy as np\n",
    "import seaborn as sns\n",
    "import matplotlib.pyplot as plt\n",
    "from sklearn.impute import KNNImputer\n",
    "from sklearn.preprocessing import LabelEncoder, OneHotEncoder, MinMaxScaler, StandardScaler\n",
    "from sklearn.compose import ColumnTransformer"
   ]
  },
  {
   "cell_type": "markdown",
   "id": "7f9a1f19",
   "metadata": {},
   "source": [
    "### 2.1. Read Data"
   ]
  },
  {
   "cell_type": "markdown",
   "id": "f4d10730",
   "metadata": {},
   "source": [
    "\n",
    "> The datasets consist of several medical predictor (independent) variables and one target (dependent) variable, Outcome. Independent variables include the number of pregnancies the patient has had, their BMI, insulin level, age, and so on.\n",
    "- **Pregnancies**: Number of times pregnant\n",
    "- **Glucose**: Plasma glucose concentration a 2 hours in an oral glucose tolerance test\n",
    "- **BloodPressure**: Diastolic blood pressure (mm Hg)\n",
    "- **SkinThickness**: Triceps skin fold thickness (mm)\n",
    "- **Insulin**: 2-Hour serum insulin (mu U/ml)\n",
    "- **BMI**: Body mass index (weight in kg/(height in m)^2)\n",
    "- **DiabetesPedigreeFunction**: Diabetes pedigree function\n",
    "- **Age**: Age (years)\n",
    "- **Outcome**: Class variable (0 or 1) 268 of 768 are 1, the others are 0"
   ]
  },
  {
   "cell_type": "code",
   "execution_count": 12,
   "id": "d6589999",
   "metadata": {},
   "outputs": [],
   "source": [
    "pima_df = pd.read_csv('diabetes.csv')"
   ]
  },
  {
   "cell_type": "code",
   "execution_count": 13,
   "id": "73707a57",
   "metadata": {},
   "outputs": [
    {
     "data": {
      "text/html": [
       "<div>\n",
       "<style scoped>\n",
       "    .dataframe tbody tr th:only-of-type {\n",
       "        vertical-align: middle;\n",
       "    }\n",
       "\n",
       "    .dataframe tbody tr th {\n",
       "        vertical-align: top;\n",
       "    }\n",
       "\n",
       "    .dataframe thead th {\n",
       "        text-align: right;\n",
       "    }\n",
       "</style>\n",
       "<table border=\"1\" class=\"dataframe\">\n",
       "  <thead>\n",
       "    <tr style=\"text-align: right;\">\n",
       "      <th></th>\n",
       "      <th>Pregnancies</th>\n",
       "      <th>Glucose</th>\n",
       "      <th>BloodPressure</th>\n",
       "      <th>SkinThickness</th>\n",
       "      <th>Insulin</th>\n",
       "      <th>BMI</th>\n",
       "      <th>DiabetesPedigreeFunction</th>\n",
       "      <th>Age</th>\n",
       "      <th>Outcome</th>\n",
       "    </tr>\n",
       "  </thead>\n",
       "  <tbody>\n",
       "    <tr>\n",
       "      <th>382</th>\n",
       "      <td>1</td>\n",
       "      <td>109</td>\n",
       "      <td>60</td>\n",
       "      <td>8</td>\n",
       "      <td>182</td>\n",
       "      <td>25.4</td>\n",
       "      <td>0.947</td>\n",
       "      <td>21</td>\n",
       "      <td>0</td>\n",
       "    </tr>\n",
       "    <tr>\n",
       "      <th>164</th>\n",
       "      <td>0</td>\n",
       "      <td>131</td>\n",
       "      <td>88</td>\n",
       "      <td>0</td>\n",
       "      <td>0</td>\n",
       "      <td>31.6</td>\n",
       "      <td>0.743</td>\n",
       "      <td>32</td>\n",
       "      <td>1</td>\n",
       "    </tr>\n",
       "    <tr>\n",
       "      <th>737</th>\n",
       "      <td>8</td>\n",
       "      <td>65</td>\n",
       "      <td>72</td>\n",
       "      <td>23</td>\n",
       "      <td>0</td>\n",
       "      <td>32.0</td>\n",
       "      <td>0.600</td>\n",
       "      <td>42</td>\n",
       "      <td>0</td>\n",
       "    </tr>\n",
       "  </tbody>\n",
       "</table>\n",
       "</div>"
      ],
      "text/plain": [
       "     Pregnancies  Glucose  BloodPressure  SkinThickness  Insulin   BMI  \\\n",
       "382            1      109             60              8      182  25.4   \n",
       "164            0      131             88              0        0  31.6   \n",
       "737            8       65             72             23        0  32.0   \n",
       "\n",
       "     DiabetesPedigreeFunction  Age  Outcome  \n",
       "382                     0.947   21        0  \n",
       "164                     0.743   32        1  \n",
       "737                     0.600   42        0  "
      ]
     },
     "execution_count": 13,
     "metadata": {},
     "output_type": "execute_result"
    }
   ],
   "source": [
    "pima_df.sample(3)"
   ]
  },
  {
   "cell_type": "markdown",
   "id": "f99fe4ce",
   "metadata": {},
   "source": [
    "### 2.2. Check dtypes"
   ]
  },
  {
   "cell_type": "code",
   "execution_count": 14,
   "id": "ed11ae4d",
   "metadata": {},
   "outputs": [
    {
     "data": {
      "text/plain": [
       "Pregnancies                   int64\n",
       "Glucose                       int64\n",
       "BloodPressure                 int64\n",
       "SkinThickness                 int64\n",
       "Insulin                       int64\n",
       "BMI                         float64\n",
       "DiabetesPedigreeFunction    float64\n",
       "Age                           int64\n",
       "Outcome                       int64\n",
       "dtype: object"
      ]
     },
     "execution_count": 14,
     "metadata": {},
     "output_type": "execute_result"
    }
   ],
   "source": [
    "pima_df.dtypes"
   ]
  },
  {
   "cell_type": "markdown",
   "id": "34e72ae7",
   "metadata": {},
   "source": [
    "### 2.3. Detect and count missing values"
   ]
  },
  {
   "cell_type": "code",
   "execution_count": 15,
   "id": "bb4db90d",
   "metadata": {
    "scrolled": true
   },
   "outputs": [
    {
     "data": {
      "text/plain": [
       "Pregnancies                 0\n",
       "Glucose                     0\n",
       "BloodPressure               0\n",
       "SkinThickness               0\n",
       "Insulin                     0\n",
       "BMI                         0\n",
       "DiabetesPedigreeFunction    0\n",
       "Age                         0\n",
       "Outcome                     0\n",
       "dtype: int64"
      ]
     },
     "execution_count": 15,
     "metadata": {},
     "output_type": "execute_result"
    }
   ],
   "source": [
    "# isna() and DataFrame. isnull()\n",
    "# There is absolutely no difference - \n",
    "# the source code reveals that their implementations are exactly the same.\n",
    "# Both are used to check for missing values ( NaN ).\n",
    "\n",
    "pima_df.isna().sum()\n",
    "pima_df.isnull().sum()"
   ]
  },
  {
   "cell_type": "markdown",
   "id": "7cb71256",
   "metadata": {},
   "source": [
    "### 2.4. Replace zero with specific values"
   ]
  },
  {
   "cell_type": "code",
   "execution_count": 16,
   "id": "6298277a",
   "metadata": {
    "scrolled": true
   },
   "outputs": [
    {
     "data": {
      "text/html": [
       "<style type=\"text/css\">\n",
       "#T_9d68d_row0_col0, #T_9d68d_row0_col1, #T_9d68d_row0_col2, #T_9d68d_row0_col3, #T_9d68d_row0_col5, #T_9d68d_row0_col6, #T_9d68d_row0_col7, #T_9d68d_row0_col8, #T_9d68d_row7_col4 {\n",
       "  background-color: #800026;\n",
       "  color: #f1f1f1;\n",
       "}\n",
       "#T_9d68d_row0_col4 {\n",
       "  background-color: #ac0026;\n",
       "  color: #f1f1f1;\n",
       "}\n",
       "#T_9d68d_row1_col0, #T_9d68d_row2_col0, #T_9d68d_row5_col0 {\n",
       "  background-color: #fffecb;\n",
       "  color: #000000;\n",
       "}\n",
       "#T_9d68d_row1_col1, #T_9d68d_row7_col2 {\n",
       "  background-color: #ffe895;\n",
       "  color: #000000;\n",
       "}\n",
       "#T_9d68d_row1_col2, #T_9d68d_row7_col7 {\n",
       "  background-color: #fff2ac;\n",
       "  color: #000000;\n",
       "}\n",
       "#T_9d68d_row1_col3, #T_9d68d_row2_col2 {\n",
       "  background-color: #fffcc4;\n",
       "  color: #000000;\n",
       "}\n",
       "#T_9d68d_row1_col4, #T_9d68d_row5_col2 {\n",
       "  background-color: #fff1ab;\n",
       "  color: #000000;\n",
       "}\n",
       "#T_9d68d_row1_col5, #T_9d68d_row2_col1, #T_9d68d_row5_col5, #T_9d68d_row6_col3 {\n",
       "  background-color: #fff9be;\n",
       "  color: #000000;\n",
       "}\n",
       "#T_9d68d_row1_col6, #T_9d68d_row1_col8, #T_9d68d_row2_col6, #T_9d68d_row2_col7, #T_9d68d_row2_col8, #T_9d68d_row3_col0, #T_9d68d_row3_col1, #T_9d68d_row3_col2, #T_9d68d_row3_col3, #T_9d68d_row3_col4, #T_9d68d_row3_col5, #T_9d68d_row3_col6, #T_9d68d_row3_col8, #T_9d68d_row4_col0, #T_9d68d_row4_col3, #T_9d68d_row4_col4, #T_9d68d_row4_col6, #T_9d68d_row4_col8, #T_9d68d_row5_col6, #T_9d68d_row5_col8, #T_9d68d_row6_col6, #T_9d68d_row6_col8, #T_9d68d_row7_col6, #T_9d68d_row7_col8 {\n",
       "  background-color: #ffffcc;\n",
       "  color: #000000;\n",
       "}\n",
       "#T_9d68d_row1_col7, #T_9d68d_row5_col3 {\n",
       "  background-color: #fffbc2;\n",
       "  color: #000000;\n",
       "}\n",
       "#T_9d68d_row2_col3, #T_9d68d_row5_col7, #T_9d68d_row7_col0 {\n",
       "  background-color: #fffcc5;\n",
       "  color: #000000;\n",
       "}\n",
       "#T_9d68d_row2_col4 {\n",
       "  background-color: #ffec9d;\n",
       "  color: #000000;\n",
       "}\n",
       "#T_9d68d_row2_col5, #T_9d68d_row6_col0 {\n",
       "  background-color: #fffec9;\n",
       "  color: #000000;\n",
       "}\n",
       "#T_9d68d_row3_col7 {\n",
       "  background-color: #fffdc8;\n",
       "  color: #000000;\n",
       "}\n",
       "#T_9d68d_row4_col1, #T_9d68d_row7_col3 {\n",
       "  background-color: #ffec9f;\n",
       "  color: #000000;\n",
       "}\n",
       "#T_9d68d_row4_col2 {\n",
       "  background-color: #fff4b0;\n",
       "  color: #000000;\n",
       "}\n",
       "#T_9d68d_row4_col5, #T_9d68d_row5_col4, #T_9d68d_row6_col7 {\n",
       "  background-color: #fffac0;\n",
       "  color: #000000;\n",
       "}\n",
       "#T_9d68d_row4_col7 {\n",
       "  background-color: #fffdc6;\n",
       "  color: #000000;\n",
       "}\n",
       "#T_9d68d_row5_col1 {\n",
       "  background-color: #ffe997;\n",
       "  color: #000000;\n",
       "}\n",
       "#T_9d68d_row6_col1 {\n",
       "  background-color: #ffe48d;\n",
       "  color: #000000;\n",
       "}\n",
       "#T_9d68d_row6_col2 {\n",
       "  background-color: #fff0a8;\n",
       "  color: #000000;\n",
       "}\n",
       "#T_9d68d_row6_col4 {\n",
       "  background-color: #ffe998;\n",
       "  color: #000000;\n",
       "}\n",
       "#T_9d68d_row6_col5 {\n",
       "  background-color: #fff8bb;\n",
       "  color: #000000;\n",
       "}\n",
       "#T_9d68d_row7_col1 {\n",
       "  background-color: #fed673;\n",
       "  color: #000000;\n",
       "}\n",
       "#T_9d68d_row7_col5 {\n",
       "  background-color: #fff3ae;\n",
       "  color: #000000;\n",
       "}\n",
       "</style>\n",
       "<table id=\"T_9d68d_\">\n",
       "  <thead>\n",
       "    <tr>\n",
       "      <th class=\"blank level0\" >&nbsp;</th>\n",
       "      <th class=\"col_heading level0 col0\" >Pregnancies</th>\n",
       "      <th class=\"col_heading level0 col1\" >Glucose</th>\n",
       "      <th class=\"col_heading level0 col2\" >BloodPressure</th>\n",
       "      <th class=\"col_heading level0 col3\" >SkinThickness</th>\n",
       "      <th class=\"col_heading level0 col4\" >Insulin</th>\n",
       "      <th class=\"col_heading level0 col5\" >BMI</th>\n",
       "      <th class=\"col_heading level0 col6\" >DiabetesPedigreeFunction</th>\n",
       "      <th class=\"col_heading level0 col7\" >Age</th>\n",
       "      <th class=\"col_heading level0 col8\" >Outcome</th>\n",
       "    </tr>\n",
       "  </thead>\n",
       "  <tbody>\n",
       "    <tr>\n",
       "      <th id=\"T_9d68d_level0_row0\" class=\"row_heading level0 row0\" >count</th>\n",
       "      <td id=\"T_9d68d_row0_col0\" class=\"data row0 col0\" >768.000000</td>\n",
       "      <td id=\"T_9d68d_row0_col1\" class=\"data row0 col1\" >768.000000</td>\n",
       "      <td id=\"T_9d68d_row0_col2\" class=\"data row0 col2\" >768.000000</td>\n",
       "      <td id=\"T_9d68d_row0_col3\" class=\"data row0 col3\" >768.000000</td>\n",
       "      <td id=\"T_9d68d_row0_col4\" class=\"data row0 col4\" >768.000000</td>\n",
       "      <td id=\"T_9d68d_row0_col5\" class=\"data row0 col5\" >768.000000</td>\n",
       "      <td id=\"T_9d68d_row0_col6\" class=\"data row0 col6\" >768.000000</td>\n",
       "      <td id=\"T_9d68d_row0_col7\" class=\"data row0 col7\" >768.000000</td>\n",
       "      <td id=\"T_9d68d_row0_col8\" class=\"data row0 col8\" >768.000000</td>\n",
       "    </tr>\n",
       "    <tr>\n",
       "      <th id=\"T_9d68d_level0_row1\" class=\"row_heading level0 row1\" >mean</th>\n",
       "      <td id=\"T_9d68d_row1_col0\" class=\"data row1 col0\" >3.845052</td>\n",
       "      <td id=\"T_9d68d_row1_col1\" class=\"data row1 col1\" >120.894531</td>\n",
       "      <td id=\"T_9d68d_row1_col2\" class=\"data row1 col2\" >69.105469</td>\n",
       "      <td id=\"T_9d68d_row1_col3\" class=\"data row1 col3\" >20.536458</td>\n",
       "      <td id=\"T_9d68d_row1_col4\" class=\"data row1 col4\" >79.799479</td>\n",
       "      <td id=\"T_9d68d_row1_col5\" class=\"data row1 col5\" >31.992578</td>\n",
       "      <td id=\"T_9d68d_row1_col6\" class=\"data row1 col6\" >0.471876</td>\n",
       "      <td id=\"T_9d68d_row1_col7\" class=\"data row1 col7\" >33.240885</td>\n",
       "      <td id=\"T_9d68d_row1_col8\" class=\"data row1 col8\" >0.348958</td>\n",
       "    </tr>\n",
       "    <tr>\n",
       "      <th id=\"T_9d68d_level0_row2\" class=\"row_heading level0 row2\" >std</th>\n",
       "      <td id=\"T_9d68d_row2_col0\" class=\"data row2 col0\" >3.369578</td>\n",
       "      <td id=\"T_9d68d_row2_col1\" class=\"data row2 col1\" >31.972618</td>\n",
       "      <td id=\"T_9d68d_row2_col2\" class=\"data row2 col2\" >19.355807</td>\n",
       "      <td id=\"T_9d68d_row2_col3\" class=\"data row2 col3\" >15.952218</td>\n",
       "      <td id=\"T_9d68d_row2_col4\" class=\"data row2 col4\" >115.244002</td>\n",
       "      <td id=\"T_9d68d_row2_col5\" class=\"data row2 col5\" >7.884160</td>\n",
       "      <td id=\"T_9d68d_row2_col6\" class=\"data row2 col6\" >0.331329</td>\n",
       "      <td id=\"T_9d68d_row2_col7\" class=\"data row2 col7\" >11.760232</td>\n",
       "      <td id=\"T_9d68d_row2_col8\" class=\"data row2 col8\" >0.476951</td>\n",
       "    </tr>\n",
       "    <tr>\n",
       "      <th id=\"T_9d68d_level0_row3\" class=\"row_heading level0 row3\" >min</th>\n",
       "      <td id=\"T_9d68d_row3_col0\" class=\"data row3 col0\" >0.000000</td>\n",
       "      <td id=\"T_9d68d_row3_col1\" class=\"data row3 col1\" >0.000000</td>\n",
       "      <td id=\"T_9d68d_row3_col2\" class=\"data row3 col2\" >0.000000</td>\n",
       "      <td id=\"T_9d68d_row3_col3\" class=\"data row3 col3\" >0.000000</td>\n",
       "      <td id=\"T_9d68d_row3_col4\" class=\"data row3 col4\" >0.000000</td>\n",
       "      <td id=\"T_9d68d_row3_col5\" class=\"data row3 col5\" >0.000000</td>\n",
       "      <td id=\"T_9d68d_row3_col6\" class=\"data row3 col6\" >0.078000</td>\n",
       "      <td id=\"T_9d68d_row3_col7\" class=\"data row3 col7\" >21.000000</td>\n",
       "      <td id=\"T_9d68d_row3_col8\" class=\"data row3 col8\" >0.000000</td>\n",
       "    </tr>\n",
       "    <tr>\n",
       "      <th id=\"T_9d68d_level0_row4\" class=\"row_heading level0 row4\" >25%</th>\n",
       "      <td id=\"T_9d68d_row4_col0\" class=\"data row4 col0\" >1.000000</td>\n",
       "      <td id=\"T_9d68d_row4_col1\" class=\"data row4 col1\" >99.000000</td>\n",
       "      <td id=\"T_9d68d_row4_col2\" class=\"data row4 col2\" >62.000000</td>\n",
       "      <td id=\"T_9d68d_row4_col3\" class=\"data row4 col3\" >0.000000</td>\n",
       "      <td id=\"T_9d68d_row4_col4\" class=\"data row4 col4\" >0.000000</td>\n",
       "      <td id=\"T_9d68d_row4_col5\" class=\"data row4 col5\" >27.300000</td>\n",
       "      <td id=\"T_9d68d_row4_col6\" class=\"data row4 col6\" >0.243750</td>\n",
       "      <td id=\"T_9d68d_row4_col7\" class=\"data row4 col7\" >24.000000</td>\n",
       "      <td id=\"T_9d68d_row4_col8\" class=\"data row4 col8\" >0.000000</td>\n",
       "    </tr>\n",
       "    <tr>\n",
       "      <th id=\"T_9d68d_level0_row5\" class=\"row_heading level0 row5\" >50%</th>\n",
       "      <td id=\"T_9d68d_row5_col0\" class=\"data row5 col0\" >3.000000</td>\n",
       "      <td id=\"T_9d68d_row5_col1\" class=\"data row5 col1\" >117.000000</td>\n",
       "      <td id=\"T_9d68d_row5_col2\" class=\"data row5 col2\" >72.000000</td>\n",
       "      <td id=\"T_9d68d_row5_col3\" class=\"data row5 col3\" >23.000000</td>\n",
       "      <td id=\"T_9d68d_row5_col4\" class=\"data row5 col4\" >30.500000</td>\n",
       "      <td id=\"T_9d68d_row5_col5\" class=\"data row5 col5\" >32.000000</td>\n",
       "      <td id=\"T_9d68d_row5_col6\" class=\"data row5 col6\" >0.372500</td>\n",
       "      <td id=\"T_9d68d_row5_col7\" class=\"data row5 col7\" >29.000000</td>\n",
       "      <td id=\"T_9d68d_row5_col8\" class=\"data row5 col8\" >0.000000</td>\n",
       "    </tr>\n",
       "    <tr>\n",
       "      <th id=\"T_9d68d_level0_row6\" class=\"row_heading level0 row6\" >75%</th>\n",
       "      <td id=\"T_9d68d_row6_col0\" class=\"data row6 col0\" >6.000000</td>\n",
       "      <td id=\"T_9d68d_row6_col1\" class=\"data row6 col1\" >140.250000</td>\n",
       "      <td id=\"T_9d68d_row6_col2\" class=\"data row6 col2\" >80.000000</td>\n",
       "      <td id=\"T_9d68d_row6_col3\" class=\"data row6 col3\" >32.000000</td>\n",
       "      <td id=\"T_9d68d_row6_col4\" class=\"data row6 col4\" >127.250000</td>\n",
       "      <td id=\"T_9d68d_row6_col5\" class=\"data row6 col5\" >36.600000</td>\n",
       "      <td id=\"T_9d68d_row6_col6\" class=\"data row6 col6\" >0.626250</td>\n",
       "      <td id=\"T_9d68d_row6_col7\" class=\"data row6 col7\" >41.000000</td>\n",
       "      <td id=\"T_9d68d_row6_col8\" class=\"data row6 col8\" >1.000000</td>\n",
       "    </tr>\n",
       "    <tr>\n",
       "      <th id=\"T_9d68d_level0_row7\" class=\"row_heading level0 row7\" >max</th>\n",
       "      <td id=\"T_9d68d_row7_col0\" class=\"data row7 col0\" >17.000000</td>\n",
       "      <td id=\"T_9d68d_row7_col1\" class=\"data row7 col1\" >199.000000</td>\n",
       "      <td id=\"T_9d68d_row7_col2\" class=\"data row7 col2\" >122.000000</td>\n",
       "      <td id=\"T_9d68d_row7_col3\" class=\"data row7 col3\" >99.000000</td>\n",
       "      <td id=\"T_9d68d_row7_col4\" class=\"data row7 col4\" >846.000000</td>\n",
       "      <td id=\"T_9d68d_row7_col5\" class=\"data row7 col5\" >67.100000</td>\n",
       "      <td id=\"T_9d68d_row7_col6\" class=\"data row7 col6\" >2.420000</td>\n",
       "      <td id=\"T_9d68d_row7_col7\" class=\"data row7 col7\" >81.000000</td>\n",
       "      <td id=\"T_9d68d_row7_col8\" class=\"data row7 col8\" >1.000000</td>\n",
       "    </tr>\n",
       "  </tbody>\n",
       "</table>\n"
      ],
      "text/plain": [
       "<pandas.io.formats.style.Styler at 0x7fd9ccad8df0>"
      ]
     },
     "execution_count": 16,
     "metadata": {},
     "output_type": "execute_result"
    }
   ],
   "source": [
    "pima_df.describe().style.background_gradient(cmap='YlOrRd')"
   ]
  },
  {
   "cell_type": "markdown",
   "id": "4a07e337",
   "metadata": {},
   "source": [
    "#### 2.4.1. Mean"
   ]
  },
  {
   "cell_type": "code",
   "execution_count": 17,
   "id": "3e90827c",
   "metadata": {},
   "outputs": [
    {
     "data": {
      "text/html": [
       "<div>\n",
       "<style scoped>\n",
       "    .dataframe tbody tr th:only-of-type {\n",
       "        vertical-align: middle;\n",
       "    }\n",
       "\n",
       "    .dataframe tbody tr th {\n",
       "        vertical-align: top;\n",
       "    }\n",
       "\n",
       "    .dataframe thead th {\n",
       "        text-align: right;\n",
       "    }\n",
       "</style>\n",
       "<table border=\"1\" class=\"dataframe\">\n",
       "  <thead>\n",
       "    <tr style=\"text-align: right;\">\n",
       "      <th></th>\n",
       "      <th>Pregnancies</th>\n",
       "      <th>Glucose</th>\n",
       "      <th>BloodPressure</th>\n",
       "      <th>SkinThickness</th>\n",
       "      <th>Insulin</th>\n",
       "      <th>BMI</th>\n",
       "      <th>DiabetesPedigreeFunction</th>\n",
       "      <th>Age</th>\n",
       "      <th>Outcome</th>\n",
       "    </tr>\n",
       "  </thead>\n",
       "  <tbody>\n",
       "    <tr>\n",
       "      <th>2</th>\n",
       "      <td>8</td>\n",
       "      <td>183</td>\n",
       "      <td>64</td>\n",
       "      <td>0</td>\n",
       "      <td>0</td>\n",
       "      <td>23.3</td>\n",
       "      <td>0.672</td>\n",
       "      <td>32</td>\n",
       "      <td>1</td>\n",
       "    </tr>\n",
       "    <tr>\n",
       "      <th>5</th>\n",
       "      <td>5</td>\n",
       "      <td>116</td>\n",
       "      <td>74</td>\n",
       "      <td>0</td>\n",
       "      <td>0</td>\n",
       "      <td>25.6</td>\n",
       "      <td>0.201</td>\n",
       "      <td>30</td>\n",
       "      <td>0</td>\n",
       "    </tr>\n",
       "    <tr>\n",
       "      <th>7</th>\n",
       "      <td>10</td>\n",
       "      <td>115</td>\n",
       "      <td>0</td>\n",
       "      <td>0</td>\n",
       "      <td>0</td>\n",
       "      <td>35.3</td>\n",
       "      <td>0.134</td>\n",
       "      <td>29</td>\n",
       "      <td>0</td>\n",
       "    </tr>\n",
       "  </tbody>\n",
       "</table>\n",
       "</div>"
      ],
      "text/plain": [
       "   Pregnancies  Glucose  BloodPressure  SkinThickness  Insulin   BMI  \\\n",
       "2            8      183             64              0        0  23.3   \n",
       "5            5      116             74              0        0  25.6   \n",
       "7           10      115              0              0        0  35.3   \n",
       "\n",
       "   DiabetesPedigreeFunction  Age  Outcome  \n",
       "2                     0.672   32        1  \n",
       "5                     0.201   30        0  \n",
       "7                     0.134   29        0  "
      ]
     },
     "execution_count": 17,
     "metadata": {},
     "output_type": "execute_result"
    }
   ],
   "source": [
    "pima_df[pima_df['SkinThickness'] == 0].head(3)"
   ]
  },
  {
   "cell_type": "code",
   "execution_count": 18,
   "id": "ad283b32",
   "metadata": {},
   "outputs": [
    {
     "data": {
      "text/plain": [
       "(227, 9)"
      ]
     },
     "execution_count": 18,
     "metadata": {},
     "output_type": "execute_result"
    }
   ],
   "source": [
    "pima_df[pima_df['SkinThickness'] == 0].shape"
   ]
  },
  {
   "cell_type": "code",
   "execution_count": 19,
   "id": "e272f987",
   "metadata": {},
   "outputs": [
    {
     "data": {
      "text/plain": [
       "29.153419593345657"
      ]
     },
     "execution_count": 19,
     "metadata": {},
     "output_type": "execute_result"
    }
   ],
   "source": [
    "skin_thickness_mean = pima_df[pima_df['SkinThickness'] != 0]['SkinThickness'].mean()\n",
    "skin_thickness_mean"
   ]
  },
  {
   "cell_type": "code",
   "execution_count": 20,
   "id": "e4e9793b",
   "metadata": {},
   "outputs": [],
   "source": [
    "pima_df.replace({'SkinThickness': 0}, skin_thickness_mean, inplace=True)"
   ]
  },
  {
   "cell_type": "code",
   "execution_count": 21,
   "id": "9c3338ae",
   "metadata": {},
   "outputs": [
    {
     "data": {
      "text/html": [
       "<div>\n",
       "<style scoped>\n",
       "    .dataframe tbody tr th:only-of-type {\n",
       "        vertical-align: middle;\n",
       "    }\n",
       "\n",
       "    .dataframe tbody tr th {\n",
       "        vertical-align: top;\n",
       "    }\n",
       "\n",
       "    .dataframe thead th {\n",
       "        text-align: right;\n",
       "    }\n",
       "</style>\n",
       "<table border=\"1\" class=\"dataframe\">\n",
       "  <thead>\n",
       "    <tr style=\"text-align: right;\">\n",
       "      <th></th>\n",
       "      <th>Pregnancies</th>\n",
       "      <th>Glucose</th>\n",
       "      <th>BloodPressure</th>\n",
       "      <th>SkinThickness</th>\n",
       "      <th>Insulin</th>\n",
       "      <th>BMI</th>\n",
       "      <th>DiabetesPedigreeFunction</th>\n",
       "      <th>Age</th>\n",
       "      <th>Outcome</th>\n",
       "    </tr>\n",
       "  </thead>\n",
       "  <tbody>\n",
       "    <tr>\n",
       "      <th>0</th>\n",
       "      <td>6</td>\n",
       "      <td>148</td>\n",
       "      <td>72</td>\n",
       "      <td>35.00000</td>\n",
       "      <td>0</td>\n",
       "      <td>33.6</td>\n",
       "      <td>0.627</td>\n",
       "      <td>50</td>\n",
       "      <td>1</td>\n",
       "    </tr>\n",
       "    <tr>\n",
       "      <th>1</th>\n",
       "      <td>1</td>\n",
       "      <td>85</td>\n",
       "      <td>66</td>\n",
       "      <td>29.00000</td>\n",
       "      <td>0</td>\n",
       "      <td>26.6</td>\n",
       "      <td>0.351</td>\n",
       "      <td>31</td>\n",
       "      <td>0</td>\n",
       "    </tr>\n",
       "    <tr>\n",
       "      <th>2</th>\n",
       "      <td>8</td>\n",
       "      <td>183</td>\n",
       "      <td>64</td>\n",
       "      <td>29.15342</td>\n",
       "      <td>0</td>\n",
       "      <td>23.3</td>\n",
       "      <td>0.672</td>\n",
       "      <td>32</td>\n",
       "      <td>1</td>\n",
       "    </tr>\n",
       "  </tbody>\n",
       "</table>\n",
       "</div>"
      ],
      "text/plain": [
       "   Pregnancies  Glucose  BloodPressure  SkinThickness  Insulin   BMI  \\\n",
       "0            6      148             72       35.00000        0  33.6   \n",
       "1            1       85             66       29.00000        0  26.6   \n",
       "2            8      183             64       29.15342        0  23.3   \n",
       "\n",
       "   DiabetesPedigreeFunction  Age  Outcome  \n",
       "0                     0.627   50        1  \n",
       "1                     0.351   31        0  \n",
       "2                     0.672   32        1  "
      ]
     },
     "execution_count": 21,
     "metadata": {},
     "output_type": "execute_result"
    }
   ],
   "source": [
    "pima_df[pima_df['Insulin'] == 0].head(3)"
   ]
  },
  {
   "cell_type": "code",
   "execution_count": 22,
   "id": "0272fc19",
   "metadata": {},
   "outputs": [
    {
     "data": {
      "text/plain": [
       "(374, 9)"
      ]
     },
     "execution_count": 22,
     "metadata": {},
     "output_type": "execute_result"
    }
   ],
   "source": [
    "pima_df[pima_df['Insulin'] == 0].shape"
   ]
  },
  {
   "cell_type": "code",
   "execution_count": 24,
   "id": "a937dbf3",
   "metadata": {},
   "outputs": [
    {
     "data": {
      "text/plain": [
       "155.5482233502538"
      ]
     },
     "execution_count": 24,
     "metadata": {},
     "output_type": "execute_result"
    }
   ],
   "source": [
    "insulin_mean = pima_df[pima_df['Insulin'] != 0]['Insulin'].mean()\n",
    "insulin_mean"
   ]
  },
  {
   "cell_type": "code",
   "execution_count": 27,
   "id": "2241a451",
   "metadata": {},
   "outputs": [],
   "source": [
    "pima_df.replace({'Insulin': 0}, insulin_mean, inplace=True)"
   ]
  },
  {
   "cell_type": "code",
   "execution_count": 28,
   "id": "fff53ee8",
   "metadata": {},
   "outputs": [
    {
     "data": {
      "text/html": [
       "<style type=\"text/css\">\n",
       "#T_09710_row0_col0, #T_09710_row7_col1 {\n",
       "  background-color: #800026;\n",
       "  color: #f1f1f1;\n",
       "}\n",
       "#T_09710_row0_col1 {\n",
       "  background-color: #ac0026;\n",
       "  color: #f1f1f1;\n",
       "}\n",
       "#T_09710_row1_col0, #T_09710_row5_col0 {\n",
       "  background-color: #fffbc2;\n",
       "  color: #000000;\n",
       "}\n",
       "#T_09710_row1_col1, #T_09710_row5_col1, #T_09710_row6_col1 {\n",
       "  background-color: #ffe691;\n",
       "  color: #000000;\n",
       "}\n",
       "#T_09710_row2_col0, #T_09710_row3_col0, #T_09710_row3_col1 {\n",
       "  background-color: #ffffcc;\n",
       "  color: #000000;\n",
       "}\n",
       "#T_09710_row2_col1 {\n",
       "  background-color: #fff3af;\n",
       "  color: #000000;\n",
       "}\n",
       "#T_09710_row4_col0 {\n",
       "  background-color: #fffcc4;\n",
       "  color: #000000;\n",
       "}\n",
       "#T_09710_row4_col1 {\n",
       "  background-color: #ffec9f;\n",
       "  color: #000000;\n",
       "}\n",
       "#T_09710_row6_col0 {\n",
       "  background-color: #fffac1;\n",
       "  color: #000000;\n",
       "}\n",
       "#T_09710_row7_col0 {\n",
       "  background-color: #ffeea3;\n",
       "  color: #000000;\n",
       "}\n",
       "</style>\n",
       "<table id=\"T_09710_\">\n",
       "  <thead>\n",
       "    <tr>\n",
       "      <th class=\"blank level0\" >&nbsp;</th>\n",
       "      <th class=\"col_heading level0 col0\" >SkinThickness</th>\n",
       "      <th class=\"col_heading level0 col1\" >Insulin</th>\n",
       "    </tr>\n",
       "  </thead>\n",
       "  <tbody>\n",
       "    <tr>\n",
       "      <th id=\"T_09710_level0_row0\" class=\"row_heading level0 row0\" >count</th>\n",
       "      <td id=\"T_09710_row0_col0\" class=\"data row0 col0\" >768.000000</td>\n",
       "      <td id=\"T_09710_row0_col1\" class=\"data row0 col1\" >768.000000</td>\n",
       "    </tr>\n",
       "    <tr>\n",
       "      <th id=\"T_09710_level0_row1\" class=\"row_heading level0 row1\" >mean</th>\n",
       "      <td id=\"T_09710_row1_col0\" class=\"data row1 col0\" >29.153420</td>\n",
       "      <td id=\"T_09710_row1_col1\" class=\"data row1 col1\" >155.548223</td>\n",
       "    </tr>\n",
       "    <tr>\n",
       "      <th id=\"T_09710_level0_row2\" class=\"row_heading level0 row2\" >std</th>\n",
       "      <td id=\"T_09710_row2_col0\" class=\"data row2 col0\" >8.790942</td>\n",
       "      <td id=\"T_09710_row2_col1\" class=\"data row2 col1\" >85.021108</td>\n",
       "    </tr>\n",
       "    <tr>\n",
       "      <th id=\"T_09710_level0_row3\" class=\"row_heading level0 row3\" >min</th>\n",
       "      <td id=\"T_09710_row3_col0\" class=\"data row3 col0\" >7.000000</td>\n",
       "      <td id=\"T_09710_row3_col1\" class=\"data row3 col1\" >14.000000</td>\n",
       "    </tr>\n",
       "    <tr>\n",
       "      <th id=\"T_09710_level0_row4\" class=\"row_heading level0 row4\" >25%</th>\n",
       "      <td id=\"T_09710_row4_col0\" class=\"data row4 col0\" >25.000000</td>\n",
       "      <td id=\"T_09710_row4_col1\" class=\"data row4 col1\" >121.500000</td>\n",
       "    </tr>\n",
       "    <tr>\n",
       "      <th id=\"T_09710_level0_row5\" class=\"row_heading level0 row5\" >50%</th>\n",
       "      <td id=\"T_09710_row5_col0\" class=\"data row5 col0\" >29.153420</td>\n",
       "      <td id=\"T_09710_row5_col1\" class=\"data row5 col1\" >155.548223</td>\n",
       "    </tr>\n",
       "    <tr>\n",
       "      <th id=\"T_09710_level0_row6\" class=\"row_heading level0 row6\" >75%</th>\n",
       "      <td id=\"T_09710_row6_col0\" class=\"data row6 col0\" >32.000000</td>\n",
       "      <td id=\"T_09710_row6_col1\" class=\"data row6 col1\" >155.548223</td>\n",
       "    </tr>\n",
       "    <tr>\n",
       "      <th id=\"T_09710_level0_row7\" class=\"row_heading level0 row7\" >max</th>\n",
       "      <td id=\"T_09710_row7_col0\" class=\"data row7 col0\" >99.000000</td>\n",
       "      <td id=\"T_09710_row7_col1\" class=\"data row7 col1\" >846.000000</td>\n",
       "    </tr>\n",
       "  </tbody>\n",
       "</table>\n"
      ],
      "text/plain": [
       "<pandas.io.formats.style.Styler at 0x7fd9cc97bd30>"
      ]
     },
     "execution_count": 28,
     "metadata": {},
     "output_type": "execute_result"
    }
   ],
   "source": [
    "pima_df[['SkinThickness', 'Insulin']].describe().style.background_gradient(cmap='YlOrRd')"
   ]
  },
  {
   "cell_type": "markdown",
   "id": "8478c8db",
   "metadata": {},
   "source": [
    "### 2.5. KNNImputer"
   ]
  },
  {
   "cell_type": "code",
   "execution_count": 50,
   "id": "2b82d33c",
   "metadata": {},
   "outputs": [],
   "source": [
    "pima_df = pd.read_csv('diabetes.csv')"
   ]
  },
  {
   "cell_type": "code",
   "execution_count": 51,
   "id": "83e28f1e",
   "metadata": {},
   "outputs": [
    {
     "data": {
      "text/html": [
       "<div>\n",
       "<style scoped>\n",
       "    .dataframe tbody tr th:only-of-type {\n",
       "        vertical-align: middle;\n",
       "    }\n",
       "\n",
       "    .dataframe tbody tr th {\n",
       "        vertical-align: top;\n",
       "    }\n",
       "\n",
       "    .dataframe thead th {\n",
       "        text-align: right;\n",
       "    }\n",
       "</style>\n",
       "<table border=\"1\" class=\"dataframe\">\n",
       "  <thead>\n",
       "    <tr style=\"text-align: right;\">\n",
       "      <th></th>\n",
       "      <th>Pregnancies</th>\n",
       "      <th>Glucose</th>\n",
       "      <th>BloodPressure</th>\n",
       "      <th>SkinThickness</th>\n",
       "      <th>Insulin</th>\n",
       "      <th>BMI</th>\n",
       "      <th>DiabetesPedigreeFunction</th>\n",
       "      <th>Age</th>\n",
       "      <th>Outcome</th>\n",
       "    </tr>\n",
       "  </thead>\n",
       "  <tbody>\n",
       "    <tr>\n",
       "      <th>310</th>\n",
       "      <td>6</td>\n",
       "      <td>80</td>\n",
       "      <td>66</td>\n",
       "      <td>30</td>\n",
       "      <td>0</td>\n",
       "      <td>26.2</td>\n",
       "      <td>0.313</td>\n",
       "      <td>41</td>\n",
       "      <td>0</td>\n",
       "    </tr>\n",
       "    <tr>\n",
       "      <th>109</th>\n",
       "      <td>0</td>\n",
       "      <td>95</td>\n",
       "      <td>85</td>\n",
       "      <td>25</td>\n",
       "      <td>36</td>\n",
       "      <td>37.4</td>\n",
       "      <td>0.247</td>\n",
       "      <td>24</td>\n",
       "      <td>1</td>\n",
       "    </tr>\n",
       "    <tr>\n",
       "      <th>181</th>\n",
       "      <td>0</td>\n",
       "      <td>119</td>\n",
       "      <td>64</td>\n",
       "      <td>18</td>\n",
       "      <td>92</td>\n",
       "      <td>34.9</td>\n",
       "      <td>0.725</td>\n",
       "      <td>23</td>\n",
       "      <td>0</td>\n",
       "    </tr>\n",
       "  </tbody>\n",
       "</table>\n",
       "</div>"
      ],
      "text/plain": [
       "     Pregnancies  Glucose  BloodPressure  SkinThickness  Insulin   BMI  \\\n",
       "310            6       80             66             30        0  26.2   \n",
       "109            0       95             85             25       36  37.4   \n",
       "181            0      119             64             18       92  34.9   \n",
       "\n",
       "     DiabetesPedigreeFunction  Age  Outcome  \n",
       "310                     0.313   41        0  \n",
       "109                     0.247   24        1  \n",
       "181                     0.725   23        0  "
      ]
     },
     "execution_count": 51,
     "metadata": {},
     "output_type": "execute_result"
    }
   ],
   "source": [
    "pima_df.sample(3)"
   ]
  },
  {
   "cell_type": "code",
   "execution_count": 52,
   "id": "55b3326d",
   "metadata": {},
   "outputs": [],
   "source": [
    "pima_df.replace({'SkinThickness': 0, 'Insulin': 0}, np.nan, inplace=True)"
   ]
  },
  {
   "cell_type": "code",
   "execution_count": 53,
   "id": "6a21904d",
   "metadata": {},
   "outputs": [
    {
     "data": {
      "text/html": [
       "<div>\n",
       "<style scoped>\n",
       "    .dataframe tbody tr th:only-of-type {\n",
       "        vertical-align: middle;\n",
       "    }\n",
       "\n",
       "    .dataframe tbody tr th {\n",
       "        vertical-align: top;\n",
       "    }\n",
       "\n",
       "    .dataframe thead th {\n",
       "        text-align: right;\n",
       "    }\n",
       "</style>\n",
       "<table border=\"1\" class=\"dataframe\">\n",
       "  <thead>\n",
       "    <tr style=\"text-align: right;\">\n",
       "      <th></th>\n",
       "      <th>Pregnancies</th>\n",
       "      <th>Glucose</th>\n",
       "      <th>BloodPressure</th>\n",
       "      <th>SkinThickness</th>\n",
       "      <th>Insulin</th>\n",
       "      <th>BMI</th>\n",
       "      <th>DiabetesPedigreeFunction</th>\n",
       "      <th>Age</th>\n",
       "      <th>Outcome</th>\n",
       "    </tr>\n",
       "  </thead>\n",
       "  <tbody>\n",
       "    <tr>\n",
       "      <th>459</th>\n",
       "      <td>9</td>\n",
       "      <td>134</td>\n",
       "      <td>74</td>\n",
       "      <td>33.0</td>\n",
       "      <td>60.0</td>\n",
       "      <td>25.9</td>\n",
       "      <td>0.460</td>\n",
       "      <td>81</td>\n",
       "      <td>0</td>\n",
       "    </tr>\n",
       "    <tr>\n",
       "      <th>179</th>\n",
       "      <td>5</td>\n",
       "      <td>130</td>\n",
       "      <td>82</td>\n",
       "      <td>NaN</td>\n",
       "      <td>NaN</td>\n",
       "      <td>39.1</td>\n",
       "      <td>0.956</td>\n",
       "      <td>37</td>\n",
       "      <td>1</td>\n",
       "    </tr>\n",
       "    <tr>\n",
       "      <th>494</th>\n",
       "      <td>3</td>\n",
       "      <td>80</td>\n",
       "      <td>0</td>\n",
       "      <td>NaN</td>\n",
       "      <td>NaN</td>\n",
       "      <td>0.0</td>\n",
       "      <td>0.174</td>\n",
       "      <td>22</td>\n",
       "      <td>0</td>\n",
       "    </tr>\n",
       "  </tbody>\n",
       "</table>\n",
       "</div>"
      ],
      "text/plain": [
       "     Pregnancies  Glucose  BloodPressure  SkinThickness  Insulin   BMI  \\\n",
       "459            9      134             74           33.0     60.0  25.9   \n",
       "179            5      130             82            NaN      NaN  39.1   \n",
       "494            3       80              0            NaN      NaN   0.0   \n",
       "\n",
       "     DiabetesPedigreeFunction  Age  Outcome  \n",
       "459                     0.460   81        0  \n",
       "179                     0.956   37        1  \n",
       "494                     0.174   22        0  "
      ]
     },
     "execution_count": 53,
     "metadata": {},
     "output_type": "execute_result"
    }
   ],
   "source": [
    "pima_df.sample(3)"
   ]
  },
  {
   "cell_type": "code",
   "execution_count": 54,
   "id": "c2e3836b",
   "metadata": {},
   "outputs": [],
   "source": [
    "imputer = KNNImputer(n_neighbors=3)\n",
    "pima_arr = imputer.fit_transform(pima_df)"
   ]
  },
  {
   "cell_type": "markdown",
   "id": "ca3f74d5",
   "metadata": {},
   "source": [
    "> #### result not pandas Data Frame, result is numpy ndarray:"
   ]
  },
  {
   "cell_type": "code",
   "execution_count": 55,
   "id": "0a7deaed",
   "metadata": {},
   "outputs": [
    {
     "data": {
      "text/plain": [
       "array([[  6.   , 148.   ,  72.   , ...,   0.627,  50.   ,   1.   ],\n",
       "       [  1.   ,  85.   ,  66.   , ...,   0.351,  31.   ,   0.   ],\n",
       "       [  8.   , 183.   ,  64.   , ...,   0.672,  32.   ,   1.   ],\n",
       "       ...,\n",
       "       [  5.   , 121.   ,  72.   , ...,   0.245,  30.   ,   0.   ],\n",
       "       [  1.   , 126.   ,  60.   , ...,   0.349,  47.   ,   1.   ],\n",
       "       [  1.   ,  93.   ,  70.   , ...,   0.315,  23.   ,   0.   ]])"
      ]
     },
     "execution_count": 55,
     "metadata": {},
     "output_type": "execute_result"
    }
   ],
   "source": [
    "pima_arr"
   ]
  },
  {
   "cell_type": "markdown",
   "id": "769bc05d",
   "metadata": {},
   "source": [
    "#### To see the complete array, we can run the following command:\n",
    "```\n",
    "import sys\n",
    "np.set_printoptions(threshhold=sys.max)\n",
    "\n",
    "```"
   ]
  },
  {
   "cell_type": "code",
   "execution_count": 56,
   "id": "fdaa97ab",
   "metadata": {},
   "outputs": [],
   "source": [
    "# import sys\n",
    "# np.set_printoptions(threshold=sys.maxsize)"
   ]
  },
  {
   "cell_type": "code",
   "execution_count": 57,
   "id": "c8f6ec88",
   "metadata": {},
   "outputs": [],
   "source": [
    "# pima_arr"
   ]
  },
  {
   "cell_type": "markdown",
   "id": "9d390c1b",
   "metadata": {},
   "source": [
    "### 2.6. Scaling and standardizaation"
   ]
  },
  {
   "cell_type": "code",
   "execution_count": 58,
   "id": "48981f9b",
   "metadata": {},
   "outputs": [],
   "source": [
    "scaler = MinMaxScaler(feature_range=(0,1))\n",
    "pima_arr = scaler.fit_transform(pima_arr)"
   ]
  },
  {
   "cell_type": "code",
   "execution_count": 59,
   "id": "bcbc13b9",
   "metadata": {},
   "outputs": [
    {
     "data": {
      "text/plain": [
       "array([[0.35294118, 0.74371859, 0.59016393, ..., 0.23441503, 0.48333333,\n",
       "        1.        ],\n",
       "       [0.05882353, 0.42713568, 0.54098361, ..., 0.11656704, 0.16666667,\n",
       "        0.        ],\n",
       "       [0.47058824, 0.91959799, 0.52459016, ..., 0.25362938, 0.18333333,\n",
       "        1.        ],\n",
       "       ...,\n",
       "       [0.29411765, 0.6080402 , 0.59016393, ..., 0.07130658, 0.15      ,\n",
       "        0.        ],\n",
       "       [0.05882353, 0.63316583, 0.49180328, ..., 0.11571307, 0.43333333,\n",
       "        1.        ],\n",
       "       [0.05882353, 0.46733668, 0.57377049, ..., 0.10119556, 0.03333333,\n",
       "        0.        ]])"
      ]
     },
     "execution_count": 59,
     "metadata": {},
     "output_type": "execute_result"
    }
   ],
   "source": [
    "pima_arr"
   ]
  },
  {
   "cell_type": "code",
   "execution_count": 60,
   "id": "dfe7af99",
   "metadata": {},
   "outputs": [],
   "source": [
    "# s_scaler = StandardScaler()\n",
    "# pima_arr = s_scaler.fit_transform(pima_arr)"
   ]
  },
  {
   "cell_type": "code",
   "execution_count": null,
   "id": "a2e7c056",
   "metadata": {},
   "outputs": [],
   "source": []
  },
  {
   "cell_type": "code",
   "execution_count": null,
   "id": "8bcb9b86",
   "metadata": {},
   "outputs": [],
   "source": []
  }
 ],
 "metadata": {
  "kernelspec": {
   "display_name": "Python 3 (ipykernel)",
   "language": "python",
   "name": "python3"
  },
  "language_info": {
   "codemirror_mode": {
    "name": "ipython",
    "version": 3
   },
   "file_extension": ".py",
   "mimetype": "text/x-python",
   "name": "python",
   "nbconvert_exporter": "python",
   "pygments_lexer": "ipython3",
   "version": "3.8.12"
  }
 },
 "nbformat": 4,
 "nbformat_minor": 5
}
